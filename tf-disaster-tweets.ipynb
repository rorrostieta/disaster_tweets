{
 "cells": [
  {
   "cell_type": "code",
   "execution_count": 1,
   "id": "de21b809",
   "metadata": {
    "execution": {
     "iopub.execute_input": "2022-09-26T02:14:27.141940Z",
     "iopub.status.busy": "2022-09-26T02:14:27.141316Z",
     "iopub.status.idle": "2022-09-26T02:14:35.734219Z",
     "shell.execute_reply": "2022-09-26T02:14:35.732595Z"
    },
    "papermill": {
     "duration": 8.606064,
     "end_time": "2022-09-26T02:14:35.738182",
     "exception": false,
     "start_time": "2022-09-26T02:14:27.132118",
     "status": "completed"
    },
    "tags": []
   },
   "outputs": [],
   "source": [
    "import pandas as pd\n",
    "import numpy as np\n",
    "import matplotlib.pyplot as plt\n",
    "from sklearn.model_selection import train_test_split\n",
    "from sklearn.metrics import accuracy_score\n",
    "\n",
    "import tensorflow as tf\n",
    "from tensorflow.keras import layers\n",
    "from tensorflow.keras.layers import TextVectorization\n",
    "from tensorflow.keras import losses"
   ]
  },
  {
   "cell_type": "markdown",
   "id": "65dfa106",
   "metadata": {
    "papermill": {
     "duration": 0.005253,
     "end_time": "2022-09-26T02:14:35.749336",
     "exception": false,
     "start_time": "2022-09-26T02:14:35.744083",
     "status": "completed"
    },
    "tags": []
   },
   "source": [
    "# EDA"
   ]
  },
  {
   "cell_type": "code",
   "execution_count": 2,
   "id": "327d329c",
   "metadata": {
    "execution": {
     "iopub.execute_input": "2022-09-26T02:14:35.762550Z",
     "iopub.status.busy": "2022-09-26T02:14:35.761855Z",
     "iopub.status.idle": "2022-09-26T02:14:35.870993Z",
     "shell.execute_reply": "2022-09-26T02:14:35.870001Z"
    },
    "papermill": {
     "duration": 0.118612,
     "end_time": "2022-09-26T02:14:35.873516",
     "exception": false,
     "start_time": "2022-09-26T02:14:35.754904",
     "status": "completed"
    },
    "tags": []
   },
   "outputs": [
    {
     "data": {
      "text/html": [
       "<div>\n",
       "<style scoped>\n",
       "    .dataframe tbody tr th:only-of-type {\n",
       "        vertical-align: middle;\n",
       "    }\n",
       "\n",
       "    .dataframe tbody tr th {\n",
       "        vertical-align: top;\n",
       "    }\n",
       "\n",
       "    .dataframe thead th {\n",
       "        text-align: right;\n",
       "    }\n",
       "</style>\n",
       "<table border=\"1\" class=\"dataframe\">\n",
       "  <thead>\n",
       "    <tr style=\"text-align: right;\">\n",
       "      <th></th>\n",
       "      <th>id</th>\n",
       "      <th>keyword</th>\n",
       "      <th>location</th>\n",
       "      <th>text</th>\n",
       "      <th>target</th>\n",
       "    </tr>\n",
       "  </thead>\n",
       "  <tbody>\n",
       "    <tr>\n",
       "      <th>0</th>\n",
       "      <td>1</td>\n",
       "      <td>NaN</td>\n",
       "      <td>NaN</td>\n",
       "      <td>Our Deeds are the Reason of this #earthquake M...</td>\n",
       "      <td>1</td>\n",
       "    </tr>\n",
       "    <tr>\n",
       "      <th>1</th>\n",
       "      <td>4</td>\n",
       "      <td>NaN</td>\n",
       "      <td>NaN</td>\n",
       "      <td>Forest fire near La Ronge Sask. Canada</td>\n",
       "      <td>1</td>\n",
       "    </tr>\n",
       "    <tr>\n",
       "      <th>2</th>\n",
       "      <td>5</td>\n",
       "      <td>NaN</td>\n",
       "      <td>NaN</td>\n",
       "      <td>All residents asked to 'shelter in place' are ...</td>\n",
       "      <td>1</td>\n",
       "    </tr>\n",
       "    <tr>\n",
       "      <th>3</th>\n",
       "      <td>6</td>\n",
       "      <td>NaN</td>\n",
       "      <td>NaN</td>\n",
       "      <td>13,000 people receive #wildfires evacuation or...</td>\n",
       "      <td>1</td>\n",
       "    </tr>\n",
       "    <tr>\n",
       "      <th>4</th>\n",
       "      <td>7</td>\n",
       "      <td>NaN</td>\n",
       "      <td>NaN</td>\n",
       "      <td>Just got sent this photo from Ruby #Alaska as ...</td>\n",
       "      <td>1</td>\n",
       "    </tr>\n",
       "  </tbody>\n",
       "</table>\n",
       "</div>"
      ],
      "text/plain": [
       "   id keyword location                                               text  \\\n",
       "0   1     NaN      NaN  Our Deeds are the Reason of this #earthquake M...   \n",
       "1   4     NaN      NaN             Forest fire near La Ronge Sask. Canada   \n",
       "2   5     NaN      NaN  All residents asked to 'shelter in place' are ...   \n",
       "3   6     NaN      NaN  13,000 people receive #wildfires evacuation or...   \n",
       "4   7     NaN      NaN  Just got sent this photo from Ruby #Alaska as ...   \n",
       "\n",
       "   target  \n",
       "0       1  \n",
       "1       1  \n",
       "2       1  \n",
       "3       1  \n",
       "4       1  "
      ]
     },
     "execution_count": 2,
     "metadata": {},
     "output_type": "execute_result"
    }
   ],
   "source": [
    "train_data = pd.read_csv('../input/nlp-getting-started/train.csv')\n",
    "test_data = pd.read_csv('../input/nlp-getting-started/test.csv')\n",
    "train_data.head()"
   ]
  },
  {
   "cell_type": "code",
   "execution_count": 3,
   "id": "c82beda4",
   "metadata": {
    "execution": {
     "iopub.execute_input": "2022-09-26T02:14:35.887896Z",
     "iopub.status.busy": "2022-09-26T02:14:35.887136Z",
     "iopub.status.idle": "2022-09-26T02:14:35.898835Z",
     "shell.execute_reply": "2022-09-26T02:14:35.897546Z"
    },
    "papermill": {
     "duration": 0.021803,
     "end_time": "2022-09-26T02:14:35.901725",
     "exception": false,
     "start_time": "2022-09-26T02:14:35.879922",
     "status": "completed"
    },
    "tags": []
   },
   "outputs": [
    {
     "data": {
      "text/html": [
       "<div>\n",
       "<style scoped>\n",
       "    .dataframe tbody tr th:only-of-type {\n",
       "        vertical-align: middle;\n",
       "    }\n",
       "\n",
       "    .dataframe tbody tr th {\n",
       "        vertical-align: top;\n",
       "    }\n",
       "\n",
       "    .dataframe thead th {\n",
       "        text-align: right;\n",
       "    }\n",
       "</style>\n",
       "<table border=\"1\" class=\"dataframe\">\n",
       "  <thead>\n",
       "    <tr style=\"text-align: right;\">\n",
       "      <th></th>\n",
       "      <th>id</th>\n",
       "      <th>keyword</th>\n",
       "      <th>location</th>\n",
       "      <th>text</th>\n",
       "    </tr>\n",
       "  </thead>\n",
       "  <tbody>\n",
       "    <tr>\n",
       "      <th>0</th>\n",
       "      <td>0</td>\n",
       "      <td>NaN</td>\n",
       "      <td>NaN</td>\n",
       "      <td>Just happened a terrible car crash</td>\n",
       "    </tr>\n",
       "    <tr>\n",
       "      <th>1</th>\n",
       "      <td>2</td>\n",
       "      <td>NaN</td>\n",
       "      <td>NaN</td>\n",
       "      <td>Heard about #earthquake is different cities, s...</td>\n",
       "    </tr>\n",
       "    <tr>\n",
       "      <th>2</th>\n",
       "      <td>3</td>\n",
       "      <td>NaN</td>\n",
       "      <td>NaN</td>\n",
       "      <td>there is a forest fire at spot pond, geese are...</td>\n",
       "    </tr>\n",
       "    <tr>\n",
       "      <th>3</th>\n",
       "      <td>9</td>\n",
       "      <td>NaN</td>\n",
       "      <td>NaN</td>\n",
       "      <td>Apocalypse lighting. #Spokane #wildfires</td>\n",
       "    </tr>\n",
       "    <tr>\n",
       "      <th>4</th>\n",
       "      <td>11</td>\n",
       "      <td>NaN</td>\n",
       "      <td>NaN</td>\n",
       "      <td>Typhoon Soudelor kills 28 in China and Taiwan</td>\n",
       "    </tr>\n",
       "  </tbody>\n",
       "</table>\n",
       "</div>"
      ],
      "text/plain": [
       "   id keyword location                                               text\n",
       "0   0     NaN      NaN                 Just happened a terrible car crash\n",
       "1   2     NaN      NaN  Heard about #earthquake is different cities, s...\n",
       "2   3     NaN      NaN  there is a forest fire at spot pond, geese are...\n",
       "3   9     NaN      NaN           Apocalypse lighting. #Spokane #wildfires\n",
       "4  11     NaN      NaN      Typhoon Soudelor kills 28 in China and Taiwan"
      ]
     },
     "execution_count": 3,
     "metadata": {},
     "output_type": "execute_result"
    }
   ],
   "source": [
    "test_data.head()"
   ]
  },
  {
   "cell_type": "code",
   "execution_count": 4,
   "id": "e4772980",
   "metadata": {
    "execution": {
     "iopub.execute_input": "2022-09-26T02:14:35.915254Z",
     "iopub.status.busy": "2022-09-26T02:14:35.914822Z",
     "iopub.status.idle": "2022-09-26T02:14:35.930641Z",
     "shell.execute_reply": "2022-09-26T02:14:35.929154Z"
    },
    "papermill": {
     "duration": 0.025634,
     "end_time": "2022-09-26T02:14:35.933077",
     "exception": false,
     "start_time": "2022-09-26T02:14:35.907443",
     "status": "completed"
    },
    "tags": []
   },
   "outputs": [
    {
     "data": {
      "text/plain": [
       "<bound method DataFrame.info of          id keyword location  \\\n",
       "0         1     NaN      NaN   \n",
       "1         4     NaN      NaN   \n",
       "2         5     NaN      NaN   \n",
       "3         6     NaN      NaN   \n",
       "4         7     NaN      NaN   \n",
       "...     ...     ...      ...   \n",
       "7608  10869     NaN      NaN   \n",
       "7609  10870     NaN      NaN   \n",
       "7610  10871     NaN      NaN   \n",
       "7611  10872     NaN      NaN   \n",
       "7612  10873     NaN      NaN   \n",
       "\n",
       "                                                   text  target  \n",
       "0     Our Deeds are the Reason of this #earthquake M...       1  \n",
       "1                Forest fire near La Ronge Sask. Canada       1  \n",
       "2     All residents asked to 'shelter in place' are ...       1  \n",
       "3     13,000 people receive #wildfires evacuation or...       1  \n",
       "4     Just got sent this photo from Ruby #Alaska as ...       1  \n",
       "...                                                 ...     ...  \n",
       "7608  Two giant cranes holding a bridge collapse int...       1  \n",
       "7609  @aria_ahrary @TheTawniest The out of control w...       1  \n",
       "7610  M1.94 [01:04 UTC]?5km S of Volcano Hawaii. htt...       1  \n",
       "7611  Police investigating after an e-bike collided ...       1  \n",
       "7612  The Latest: More Homes Razed by Northern Calif...       1  \n",
       "\n",
       "[7613 rows x 5 columns]>"
      ]
     },
     "execution_count": 4,
     "metadata": {},
     "output_type": "execute_result"
    }
   ],
   "source": [
    "train_data.info"
   ]
  },
  {
   "cell_type": "code",
   "execution_count": 5,
   "id": "91b7b905",
   "metadata": {
    "execution": {
     "iopub.execute_input": "2022-09-26T02:14:35.947292Z",
     "iopub.status.busy": "2022-09-26T02:14:35.946880Z",
     "iopub.status.idle": "2022-09-26T02:14:35.956695Z",
     "shell.execute_reply": "2022-09-26T02:14:35.955039Z"
    },
    "papermill": {
     "duration": 0.020279,
     "end_time": "2022-09-26T02:14:35.959351",
     "exception": false,
     "start_time": "2022-09-26T02:14:35.939072",
     "status": "completed"
    },
    "tags": []
   },
   "outputs": [
    {
     "data": {
      "text/plain": [
       "id           int64\n",
       "keyword     object\n",
       "location    object\n",
       "text        object\n",
       "target       int64\n",
       "dtype: object"
      ]
     },
     "execution_count": 5,
     "metadata": {},
     "output_type": "execute_result"
    }
   ],
   "source": [
    "train_data.dtypes"
   ]
  },
  {
   "cell_type": "markdown",
   "id": "646b53cf",
   "metadata": {
    "papermill": {
     "duration": 0.006976,
     "end_time": "2022-09-26T02:14:35.972852",
     "exception": false,
     "start_time": "2022-09-26T02:14:35.965876",
     "status": "completed"
    },
    "tags": []
   },
   "source": [
    "# PreProcessing"
   ]
  },
  {
   "cell_type": "code",
   "execution_count": 6,
   "id": "b5e94e3f",
   "metadata": {
    "execution": {
     "iopub.execute_input": "2022-09-26T02:14:35.987863Z",
     "iopub.status.busy": "2022-09-26T02:14:35.987417Z",
     "iopub.status.idle": "2022-09-26T02:14:35.998744Z",
     "shell.execute_reply": "2022-09-26T02:14:35.997819Z"
    },
    "papermill": {
     "duration": 0.021668,
     "end_time": "2022-09-26T02:14:36.001287",
     "exception": false,
     "start_time": "2022-09-26T02:14:35.979619",
     "status": "completed"
    },
    "tags": []
   },
   "outputs": [],
   "source": [
    "tweets = train_data['text'].to_numpy()\n",
    "labels = train_data['target'].to_numpy()\n",
    "tst_tweets = test_data['text']\n",
    "trn_tweets, val_tweets, trn_labels, val_labels = train_test_split(tweets, labels, test_size=0.2, random_state=42, shuffle=True)"
   ]
  },
  {
   "cell_type": "code",
   "execution_count": 7,
   "id": "028d3384",
   "metadata": {
    "execution": {
     "iopub.execute_input": "2022-09-26T02:14:36.017231Z",
     "iopub.status.busy": "2022-09-26T02:14:36.016087Z",
     "iopub.status.idle": "2022-09-26T02:14:36.104356Z",
     "shell.execute_reply": "2022-09-26T02:14:36.102693Z"
    },
    "papermill": {
     "duration": 0.099871,
     "end_time": "2022-09-26T02:14:36.107230",
     "exception": false,
     "start_time": "2022-09-26T02:14:36.007359",
     "status": "completed"
    },
    "tags": []
   },
   "outputs": [
    {
     "name": "stderr",
     "output_type": "stream",
     "text": [
      "2022-09-26 02:14:36.068425: I tensorflow/core/common_runtime/process_util.cc:146] Creating new thread pool with default inter op setting: 2. Tune using inter_op_parallelism_threads for best performance.\n"
     ]
    }
   ],
   "source": [
    "max_features = 20000\n",
    "sequence_length = 200\n",
    "\n",
    "vectorize_layer = TextVectorization(\n",
    "    standardize='lower_and_strip_punctuation',\n",
    "    max_tokens=max_features,\n",
    "    output_mode='int',\n",
    "    output_sequence_length=sequence_length)"
   ]
  },
  {
   "cell_type": "code",
   "execution_count": 8,
   "id": "be016fc2",
   "metadata": {
    "execution": {
     "iopub.execute_input": "2022-09-26T02:14:36.122521Z",
     "iopub.status.busy": "2022-09-26T02:14:36.121823Z",
     "iopub.status.idle": "2022-09-26T02:14:36.669560Z",
     "shell.execute_reply": "2022-09-26T02:14:36.667789Z"
    },
    "papermill": {
     "duration": 0.559401,
     "end_time": "2022-09-26T02:14:36.672851",
     "exception": false,
     "start_time": "2022-09-26T02:14:36.113450",
     "status": "completed"
    },
    "tags": []
   },
   "outputs": [
    {
     "name": "stderr",
     "output_type": "stream",
     "text": [
      "2022-09-26 02:14:36.226791: I tensorflow/compiler/mlir/mlir_graph_optimization_pass.cc:185] None of the MLIR Optimization Passes are enabled (registered 2)\n"
     ]
    }
   ],
   "source": [
    "vectorize_layer.adapt(trn_tweets)"
   ]
  },
  {
   "cell_type": "code",
   "execution_count": 9,
   "id": "14493a61",
   "metadata": {
    "execution": {
     "iopub.execute_input": "2022-09-26T02:14:36.693470Z",
     "iopub.status.busy": "2022-09-26T02:14:36.691616Z",
     "iopub.status.idle": "2022-09-26T02:14:36.797587Z",
     "shell.execute_reply": "2022-09-26T02:14:36.796333Z"
    },
    "papermill": {
     "duration": 0.118736,
     "end_time": "2022-09-26T02:14:36.800613",
     "exception": false,
     "start_time": "2022-09-26T02:14:36.681877",
     "status": "completed"
    },
    "tags": []
   },
   "outputs": [
    {
     "name": "stdout",
     "output_type": "stream",
     "text": [
      "Tweet Courageous and honest analysis of need to use Atomic Bomb in 1945. #Hiroshima70 Japanese military refused surrender. https://t.co/VhmtyTptGR\n",
      "Label 1\n",
      "Vectorized Tweet tf.Tensor(\n",
      "[17198     8  4962  2917     6   156     5   438   216   118     4  2377\n",
      "  4973  1177   240  4381  4119 14803     0     0     0     0     0     0\n",
      "     0     0     0     0     0     0     0     0     0     0     0     0\n",
      "     0     0     0     0     0     0     0     0     0     0     0     0\n",
      "     0     0     0     0     0     0     0     0     0     0     0     0\n",
      "     0     0     0     0     0     0     0     0     0     0     0     0\n",
      "     0     0     0     0     0     0     0     0     0     0     0     0\n",
      "     0     0     0     0     0     0     0     0     0     0     0     0\n",
      "     0     0     0     0     0     0     0     0     0     0     0     0\n",
      "     0     0     0     0     0     0     0     0     0     0     0     0\n",
      "     0     0     0     0     0     0     0     0     0     0     0     0\n",
      "     0     0     0     0     0     0     0     0     0     0     0     0\n",
      "     0     0     0     0     0     0     0     0     0     0     0     0\n",
      "     0     0     0     0     0     0     0     0     0     0     0     0\n",
      "     0     0     0     0     0     0     0     0     0     0     0     0\n",
      "     0     0     0     0     0     0     0     0     0     0     0     0\n",
      "     0     0     0     0     0     0     0     0], shape=(200,), dtype=int64)\n"
     ]
    }
   ],
   "source": [
    "first_tweet = trn_tweets[0]\n",
    "first_label = trn_labels[0]\n",
    "print('Tweet', first_tweet)\n",
    "print('Label', first_label)\n",
    "print('Vectorized Tweet', vectorize_layer(trn_tweets[0]))"
   ]
  },
  {
   "cell_type": "code",
   "execution_count": 10,
   "id": "324ca452",
   "metadata": {
    "execution": {
     "iopub.execute_input": "2022-09-26T02:14:36.816066Z",
     "iopub.status.busy": "2022-09-26T02:14:36.814771Z",
     "iopub.status.idle": "2022-09-26T02:14:37.056357Z",
     "shell.execute_reply": "2022-09-26T02:14:37.054783Z"
    },
    "papermill": {
     "duration": 0.253978,
     "end_time": "2022-09-26T02:14:37.060929",
     "exception": false,
     "start_time": "2022-09-26T02:14:36.806951",
     "status": "completed"
    },
    "tags": []
   },
   "outputs": [
    {
     "name": "stdout",
     "output_type": "stream",
     "text": [
      "Word #17198 --> courageous\n",
      "Word #8 --> and\n",
      "Word #4962 --> honest\n",
      "Total words in training vocabulary: 19422\n"
     ]
    }
   ],
   "source": [
    "print('Word #17198 -->', vectorize_layer.get_vocabulary()[17198])\n",
    "print('Word #8 -->', vectorize_layer.get_vocabulary()[8])\n",
    "print('Word #4962 -->', vectorize_layer.get_vocabulary()[4962])\n",
    "print('Total words in training vocabulary:', len(vectorize_layer.get_vocabulary()))"
   ]
  },
  {
   "cell_type": "code",
   "execution_count": 11,
   "id": "dc8d7a0a",
   "metadata": {
    "execution": {
     "iopub.execute_input": "2022-09-26T02:14:37.086163Z",
     "iopub.status.busy": "2022-09-26T02:14:37.084408Z",
     "iopub.status.idle": "2022-09-26T02:14:37.095204Z",
     "shell.execute_reply": "2022-09-26T02:14:37.092916Z"
    },
    "papermill": {
     "duration": 0.027943,
     "end_time": "2022-09-26T02:14:37.098698",
     "exception": false,
     "start_time": "2022-09-26T02:14:37.070755",
     "status": "completed"
    },
    "tags": []
   },
   "outputs": [],
   "source": [
    "embedding_layer = layers.Embedding(\n",
    "    input_dim = max_features,\n",
    "    output_dim=128,\n",
    "    embeddings_initializer='uniform',\n",
    "    input_length=sequence_length,\n",
    "    name='mbedding_1')"
   ]
  },
  {
   "cell_type": "code",
   "execution_count": 12,
   "id": "f9a8119f",
   "metadata": {
    "execution": {
     "iopub.execute_input": "2022-09-26T02:14:37.121429Z",
     "iopub.status.busy": "2022-09-26T02:14:37.120981Z",
     "iopub.status.idle": "2022-09-26T02:14:37.249993Z",
     "shell.execute_reply": "2022-09-26T02:14:37.248009Z"
    },
    "papermill": {
     "duration": 0.144621,
     "end_time": "2022-09-26T02:14:37.253613",
     "exception": false,
     "start_time": "2022-09-26T02:14:37.108992",
     "status": "completed"
    },
    "tags": []
   },
   "outputs": [
    {
     "name": "stdout",
     "output_type": "stream",
     "text": [
      "Model: \"Dense_Model\"\n",
      "_________________________________________________________________\n",
      "Layer (type)                 Output Shape              Param #   \n",
      "=================================================================\n",
      "input_1 (InputLayer)         [(None, 1)]               0         \n",
      "_________________________________________________________________\n",
      "text_vectorization (TextVect (None, 200)               0         \n",
      "_________________________________________________________________\n",
      "mbedding_1 (Embedding)       (None, 200, 128)          2560000   \n",
      "_________________________________________________________________\n",
      "global_average_pooling1d (Gl (None, 128)               0         \n",
      "_________________________________________________________________\n",
      "dense (Dense)                (None, 1)                 129       \n",
      "=================================================================\n",
      "Total params: 2,560,129\n",
      "Trainable params: 2,560,129\n",
      "Non-trainable params: 0\n",
      "_________________________________________________________________\n"
     ]
    }
   ],
   "source": [
    "Is = layers.Input(shape = (1,), dtype = tf.string)\n",
    "L1 = vectorize_layer(Is)\n",
    "L2 = embedding_layer(L1)\n",
    "L3 = layers.GlobalAveragePooling1D()(L2)\n",
    "Os = layers.Dense(1, activation = 'sigmoid')(L3)\n",
    "\n",
    "model = tf.keras.Model(Is, Os, name = 'Dense_Model')\n",
    "model.summary()"
   ]
  },
  {
   "cell_type": "code",
   "execution_count": 13,
   "id": "8f235cd5",
   "metadata": {
    "execution": {
     "iopub.execute_input": "2022-09-26T02:14:37.272058Z",
     "iopub.status.busy": "2022-09-26T02:14:37.271431Z",
     "iopub.status.idle": "2022-09-26T02:15:40.228230Z",
     "shell.execute_reply": "2022-09-26T02:15:40.226874Z"
    },
    "papermill": {
     "duration": 62.970531,
     "end_time": "2022-09-26T02:15:40.231855",
     "exception": false,
     "start_time": "2022-09-26T02:14:37.261324",
     "status": "completed"
    },
    "tags": []
   },
   "outputs": [
    {
     "name": "stdout",
     "output_type": "stream",
     "text": [
      "Epoch 1/15\n",
      "191/191 [==============================] - 6s 24ms/step - loss: 0.6814 - accuracy: 0.5695 - val_loss: 0.6755 - val_accuracy: 0.5739\n",
      "Epoch 2/15\n",
      "191/191 [==============================] - 4s 21ms/step - loss: 0.6675 - accuracy: 0.5739 - val_loss: 0.6662 - val_accuracy: 0.7768\n",
      "Epoch 3/15\n",
      "191/191 [==============================] - 4s 21ms/step - loss: 0.6366 - accuracy: 0.6598 - val_loss: 0.6269 - val_accuracy: 0.7610\n",
      "Epoch 4/15\n",
      "191/191 [==============================] - 4s 21ms/step - loss: 0.5849 - accuracy: 0.7568 - val_loss: 0.5837 - val_accuracy: 0.7879\n",
      "Epoch 5/15\n",
      "191/191 [==============================] - 4s 21ms/step - loss: 0.5253 - accuracy: 0.8130 - val_loss: 0.5441 - val_accuracy: 0.7899\n",
      "Epoch 6/15\n",
      "191/191 [==============================] - 4s 20ms/step - loss: 0.4706 - accuracy: 0.8425 - val_loss: 0.5181 - val_accuracy: 0.7925\n",
      "Epoch 7/15\n",
      "191/191 [==============================] - 4s 20ms/step - loss: 0.4263 - accuracy: 0.8565 - val_loss: 0.4964 - val_accuracy: 0.7965\n",
      "Epoch 8/15\n",
      "191/191 [==============================] - 4s 21ms/step - loss: 0.3887 - accuracy: 0.8681 - val_loss: 0.4825 - val_accuracy: 0.7951\n",
      "Epoch 9/15\n",
      "191/191 [==============================] - 4s 22ms/step - loss: 0.3568 - accuracy: 0.8788 - val_loss: 0.4729 - val_accuracy: 0.8037\n",
      "Epoch 10/15\n",
      "191/191 [==============================] - 4s 23ms/step - loss: 0.3275 - accuracy: 0.8874 - val_loss: 0.4644 - val_accuracy: 0.8037\n",
      "Epoch 11/15\n",
      "191/191 [==============================] - 4s 22ms/step - loss: 0.3023 - accuracy: 0.8977 - val_loss: 0.4582 - val_accuracy: 0.8102\n",
      "Epoch 12/15\n",
      "191/191 [==============================] - 4s 23ms/step - loss: 0.2792 - accuracy: 0.9084 - val_loss: 0.4586 - val_accuracy: 0.7997\n",
      "Epoch 13/15\n",
      "191/191 [==============================] - 4s 21ms/step - loss: 0.2579 - accuracy: 0.9159 - val_loss: 0.4542 - val_accuracy: 0.8030\n",
      "Epoch 14/15\n",
      "191/191 [==============================] - 4s 22ms/step - loss: 0.2398 - accuracy: 0.9205 - val_loss: 0.4606 - val_accuracy: 0.7984\n",
      "Epoch 15/15\n",
      "191/191 [==============================] - 4s 22ms/step - loss: 0.2218 - accuracy: 0.9296 - val_loss: 0.4583 - val_accuracy: 0.7978\n"
     ]
    }
   ],
   "source": [
    "model.compile(\n",
    "    optimizer='adam',\n",
    "    loss='binary_crossentropy',\n",
    "    metrics='accuracy'\n",
    ")\n",
    "history = model.fit(\n",
    "    x=trn_tweets,\n",
    "    y=trn_labels,\n",
    "    epochs=15,\n",
    "    validation_data=(val_tweets, val_labels)\n",
    ")"
   ]
  },
  {
   "cell_type": "code",
   "execution_count": 14,
   "id": "2bb02652",
   "metadata": {
    "execution": {
     "iopub.execute_input": "2022-09-26T02:15:40.375477Z",
     "iopub.status.busy": "2022-09-26T02:15:40.374558Z",
     "iopub.status.idle": "2022-09-26T02:15:40.587160Z",
     "shell.execute_reply": "2022-09-26T02:15:40.585992Z"
    },
    "papermill": {
     "duration": 0.288177,
     "end_time": "2022-09-26T02:15:40.589594",
     "exception": false,
     "start_time": "2022-09-26T02:15:40.301417",
     "status": "completed"
    },
    "tags": []
   },
   "outputs": [
    {
     "name": "stdout",
     "output_type": "stream",
     "text": [
      "48/48 [==============================] - 0s 3ms/step - loss: 0.4583 - accuracy: 0.7978\n"
     ]
    },
    {
     "data": {
      "text/plain": [
       "[0.4583060145378113, 0.7977675795555115]"
      ]
     },
     "execution_count": 14,
     "metadata": {},
     "output_type": "execute_result"
    }
   ],
   "source": [
    "model.evaluate(val_tweets, val_labels)"
   ]
  },
  {
   "cell_type": "code",
   "execution_count": 15,
   "id": "2c873b3a",
   "metadata": {
    "execution": {
     "iopub.execute_input": "2022-09-26T02:15:40.733840Z",
     "iopub.status.busy": "2022-09-26T02:15:40.733028Z",
     "iopub.status.idle": "2022-09-26T02:15:41.044247Z",
     "shell.execute_reply": "2022-09-26T02:15:41.042980Z"
    },
    "papermill": {
     "duration": 0.386949,
     "end_time": "2022-09-26T02:15:41.046980",
     "exception": false,
     "start_time": "2022-09-26T02:15:40.660031",
     "status": "completed"
    },
    "tags": []
   },
   "outputs": [
    {
     "name": "stdout",
     "output_type": "stream",
     "text": [
      "[0. 0. 1. 0. 1. 0. 0. 0. 0. 1.]\n"
     ]
    }
   ],
   "source": [
    "predictions = model.predict(val_tweets)\n",
    "predictions = np.round(predictions).flatten()\n",
    "print(predictions[:10])"
   ]
  },
  {
   "cell_type": "code",
   "execution_count": 16,
   "id": "5f79d78e",
   "metadata": {
    "execution": {
     "iopub.execute_input": "2022-09-26T02:15:41.186078Z",
     "iopub.status.busy": "2022-09-26T02:15:41.185312Z",
     "iopub.status.idle": "2022-09-26T02:15:41.193106Z",
     "shell.execute_reply": "2022-09-26T02:15:41.192174Z"
    },
    "papermill": {
     "duration": 0.078729,
     "end_time": "2022-09-26T02:15:41.195503",
     "exception": false,
     "start_time": "2022-09-26T02:15:41.116774",
     "status": "completed"
    },
    "tags": []
   },
   "outputs": [
    {
     "data": {
      "text/plain": [
       "0.7977675640183848"
      ]
     },
     "execution_count": 16,
     "metadata": {},
     "output_type": "execute_result"
    }
   ],
   "source": [
    "accuracy_score(y_true=val_labels, y_pred=predictions)"
   ]
  },
  {
   "cell_type": "code",
   "execution_count": 17,
   "id": "7e619fcf",
   "metadata": {
    "execution": {
     "iopub.execute_input": "2022-09-26T02:15:41.339394Z",
     "iopub.status.busy": "2022-09-26T02:15:41.337931Z",
     "iopub.status.idle": "2022-09-26T02:15:41.348544Z",
     "shell.execute_reply": "2022-09-26T02:15:41.346793Z"
    },
    "papermill": {
     "duration": 0.087838,
     "end_time": "2022-09-26T02:15:41.351653",
     "exception": false,
     "start_time": "2022-09-26T02:15:41.263815",
     "status": "completed"
    },
    "tags": []
   },
   "outputs": [
    {
     "data": {
      "text/plain": [
       "dict_keys(['loss', 'accuracy', 'val_loss', 'val_accuracy'])"
      ]
     },
     "execution_count": 17,
     "metadata": {},
     "output_type": "execute_result"
    }
   ],
   "source": [
    "history_dict = history.history\n",
    "history_dict.keys()"
   ]
  },
  {
   "cell_type": "code",
   "execution_count": 18,
   "id": "19837070",
   "metadata": {
    "execution": {
     "iopub.execute_input": "2022-09-26T02:15:41.490793Z",
     "iopub.status.busy": "2022-09-26T02:15:41.490312Z",
     "iopub.status.idle": "2022-09-26T02:15:41.707840Z",
     "shell.execute_reply": "2022-09-26T02:15:41.706622Z"
    },
    "papermill": {
     "duration": 0.289782,
     "end_time": "2022-09-26T02:15:41.710476",
     "exception": false,
     "start_time": "2022-09-26T02:15:41.420694",
     "status": "completed"
    },
    "tags": []
   },
   "outputs": [
    {
     "data": {
      "image/png": "[encoded data removed]",
      "text/plain": [
       "<Figure size 432x288 with 1 Axes>"
      ]
     },
     "metadata": {
      "needs_background": "light"
     },
     "output_type": "display_data"
    }
   ],
   "source": [
    "acc = history_dict['accuracy']\n",
    "val_acc = history_dict['val_accuracy']\n",
    "loss = history_dict['loss']\n",
    "val_loss = history_dict['val_loss']\n",
    "\n",
    "epochs = range(1, len(acc) + 1)\n",
    "\n",
    "plt.plot(epochs, loss, 'bo', label='Training loss')\n",
    "plt.plot(epochs, val_loss, 'b', label='Validation loss')\n",
    "plt.title('Training and validation loss')\n",
    "plt.xlabel('Epochs')\n",
    "plt.ylabel('Loss')\n",
    "plt.legend()\n",
    "\n",
    "plt.show()"
   ]
  }
 ],
 "metadata": {
  "kernelspec": {
   "display_name": "Python 3",
   "language": "python",
   "name": "python3"
  },
  "language_info": {
   "codemirror_mode": {
    "name": "ipython",
    "version": 3
   },
   "file_extension": ".py",
   "mimetype": "text/x-python",
   "name": "python",
   "nbconvert_exporter": "python",
   "pygments_lexer": "ipython3",
   "version": "3.7.12"
  },
  "papermill": {
   "default_parameters": {},
   "duration": 88.316679,
   "end_time": "2022-09-26T02:15:44.747273",
   "environment_variables": {},
   "exception": null,
   "input_path": "__notebook__.ipynb",
   "output_path": "__notebook__.ipynb",
   "parameters": {},
   "start_time": "2022-09-26T02:14:16.430594",
   "version": "2.3.4"
  }
 },
 "nbformat": 4,
 "nbformat_minor": 5
}
