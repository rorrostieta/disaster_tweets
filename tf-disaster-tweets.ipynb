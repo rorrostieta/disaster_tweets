{
 "cells": [
  {
   "cell_type": "code",
   "execution_count": 1,
   "id": "97d2d7f3",
   "metadata": {
    "execution": {
     "iopub.execute_input": "2022-09-26T01:14:22.742436Z",
     "iopub.status.busy": "2022-09-26T01:14:22.741480Z",
     "iopub.status.idle": "2022-09-26T01:14:30.270865Z",
     "shell.execute_reply": "2022-09-26T01:14:30.269703Z"
    },
    "papermill": {
     "duration": 7.543317,
     "end_time": "2022-09-26T01:14:30.273699",
     "exception": false,
     "start_time": "2022-09-26T01:14:22.730382",
     "status": "completed"
    },
    "tags": []
   },
   "outputs": [],
   "source": [
    "import pandas as pd\n",
    "from sklearn.model_selection import train_test_split\n",
    "\n",
    "import tensorflow as tf\n",
    "from tensorflow.keras import layers\n",
    "from tensorflow.keras.layers import TextVectorization\n",
    "from tensorflow.keras import losses"
   ]
  },
  {
   "cell_type": "markdown",
   "id": "080126ee",
   "metadata": {
    "papermill": {
     "duration": 0.004155,
     "end_time": "2022-09-26T01:14:30.282510",
     "exception": false,
     "start_time": "2022-09-26T01:14:30.278355",
     "status": "completed"
    },
    "tags": []
   },
   "source": [
    "# EDA"
   ]
  },
  {
   "cell_type": "code",
   "execution_count": 2,
   "id": "cb00c28f",
   "metadata": {
    "execution": {
     "iopub.execute_input": "2022-09-26T01:14:30.293286Z",
     "iopub.status.busy": "2022-09-26T01:14:30.292655Z",
     "iopub.status.idle": "2022-09-26T01:14:30.377381Z",
     "shell.execute_reply": "2022-09-26T01:14:30.376219Z"
    },
    "papermill": {
     "duration": 0.093873,
     "end_time": "2022-09-26T01:14:30.380824",
     "exception": false,
     "start_time": "2022-09-26T01:14:30.286951",
     "status": "completed"
    },
    "tags": []
   },
   "outputs": [
    {
     "data": {
      "text/html": [
       "<div>\n",
       "<style scoped>\n",
       "    .dataframe tbody tr th:only-of-type {\n",
       "        vertical-align: middle;\n",
       "    }\n",
       "\n",
       "    .dataframe tbody tr th {\n",
       "        vertical-align: top;\n",
       "    }\n",
       "\n",
       "    .dataframe thead th {\n",
       "        text-align: right;\n",
       "    }\n",
       "</style>\n",
       "<table border=\"1\" class=\"dataframe\">\n",
       "  <thead>\n",
       "    <tr style=\"text-align: right;\">\n",
       "      <th></th>\n",
       "      <th>id</th>\n",
       "      <th>keyword</th>\n",
       "      <th>location</th>\n",
       "      <th>text</th>\n",
       "      <th>target</th>\n",
       "    </tr>\n",
       "  </thead>\n",
       "  <tbody>\n",
       "    <tr>\n",
       "      <th>0</th>\n",
       "      <td>1</td>\n",
       "      <td>NaN</td>\n",
       "      <td>NaN</td>\n",
       "      <td>Our Deeds are the Reason of this #earthquake M...</td>\n",
       "      <td>1</td>\n",
       "    </tr>\n",
       "    <tr>\n",
       "      <th>1</th>\n",
       "      <td>4</td>\n",
       "      <td>NaN</td>\n",
       "      <td>NaN</td>\n",
       "      <td>Forest fire near La Ronge Sask. Canada</td>\n",
       "      <td>1</td>\n",
       "    </tr>\n",
       "    <tr>\n",
       "      <th>2</th>\n",
       "      <td>5</td>\n",
       "      <td>NaN</td>\n",
       "      <td>NaN</td>\n",
       "      <td>All residents asked to 'shelter in place' are ...</td>\n",
       "      <td>1</td>\n",
       "    </tr>\n",
       "    <tr>\n",
       "      <th>3</th>\n",
       "      <td>6</td>\n",
       "      <td>NaN</td>\n",
       "      <td>NaN</td>\n",
       "      <td>13,000 people receive #wildfires evacuation or...</td>\n",
       "      <td>1</td>\n",
       "    </tr>\n",
       "    <tr>\n",
       "      <th>4</th>\n",
       "      <td>7</td>\n",
       "      <td>NaN</td>\n",
       "      <td>NaN</td>\n",
       "      <td>Just got sent this photo from Ruby #Alaska as ...</td>\n",
       "      <td>1</td>\n",
       "    </tr>\n",
       "  </tbody>\n",
       "</table>\n",
       "</div>"
      ],
      "text/plain": [
       "   id keyword location                                               text  \\\n",
       "0   1     NaN      NaN  Our Deeds are the Reason of this #earthquake M...   \n",
       "1   4     NaN      NaN             Forest fire near La Ronge Sask. Canada   \n",
       "2   5     NaN      NaN  All residents asked to 'shelter in place' are ...   \n",
       "3   6     NaN      NaN  13,000 people receive #wildfires evacuation or...   \n",
       "4   7     NaN      NaN  Just got sent this photo from Ruby #Alaska as ...   \n",
       "\n",
       "   target  \n",
       "0       1  \n",
       "1       1  \n",
       "2       1  \n",
       "3       1  \n",
       "4       1  "
      ]
     },
     "execution_count": 2,
     "metadata": {},
     "output_type": "execute_result"
    }
   ],
   "source": [
    "train_data = pd.read_csv('../input/nlp-getting-started/train.csv')\n",
    "test_data = pd.read_csv('../input/nlp-getting-started/test.csv')\n",
    "train_data.head()"
   ]
  },
  {
   "cell_type": "code",
   "execution_count": 3,
   "id": "ca9e173b",
   "metadata": {
    "execution": {
     "iopub.execute_input": "2022-09-26T01:14:30.391762Z",
     "iopub.status.busy": "2022-09-26T01:14:30.391366Z",
     "iopub.status.idle": "2022-09-26T01:14:30.403605Z",
     "shell.execute_reply": "2022-09-26T01:14:30.402173Z"
    },
    "papermill": {
     "duration": 0.020573,
     "end_time": "2022-09-26T01:14:30.406194",
     "exception": false,
     "start_time": "2022-09-26T01:14:30.385621",
     "status": "completed"
    },
    "tags": []
   },
   "outputs": [
    {
     "data": {
      "text/html": [
       "<div>\n",
       "<style scoped>\n",
       "    .dataframe tbody tr th:only-of-type {\n",
       "        vertical-align: middle;\n",
       "    }\n",
       "\n",
       "    .dataframe tbody tr th {\n",
       "        vertical-align: top;\n",
       "    }\n",
       "\n",
       "    .dataframe thead th {\n",
       "        text-align: right;\n",
       "    }\n",
       "</style>\n",
       "<table border=\"1\" class=\"dataframe\">\n",
       "  <thead>\n",
       "    <tr style=\"text-align: right;\">\n",
       "      <th></th>\n",
       "      <th>id</th>\n",
       "      <th>keyword</th>\n",
       "      <th>location</th>\n",
       "      <th>text</th>\n",
       "    </tr>\n",
       "  </thead>\n",
       "  <tbody>\n",
       "    <tr>\n",
       "      <th>0</th>\n",
       "      <td>0</td>\n",
       "      <td>NaN</td>\n",
       "      <td>NaN</td>\n",
       "      <td>Just happened a terrible car crash</td>\n",
       "    </tr>\n",
       "    <tr>\n",
       "      <th>1</th>\n",
       "      <td>2</td>\n",
       "      <td>NaN</td>\n",
       "      <td>NaN</td>\n",
       "      <td>Heard about #earthquake is different cities, s...</td>\n",
       "    </tr>\n",
       "    <tr>\n",
       "      <th>2</th>\n",
       "      <td>3</td>\n",
       "      <td>NaN</td>\n",
       "      <td>NaN</td>\n",
       "      <td>there is a forest fire at spot pond, geese are...</td>\n",
       "    </tr>\n",
       "    <tr>\n",
       "      <th>3</th>\n",
       "      <td>9</td>\n",
       "      <td>NaN</td>\n",
       "      <td>NaN</td>\n",
       "      <td>Apocalypse lighting. #Spokane #wildfires</td>\n",
       "    </tr>\n",
       "    <tr>\n",
       "      <th>4</th>\n",
       "      <td>11</td>\n",
       "      <td>NaN</td>\n",
       "      <td>NaN</td>\n",
       "      <td>Typhoon Soudelor kills 28 in China and Taiwan</td>\n",
       "    </tr>\n",
       "  </tbody>\n",
       "</table>\n",
       "</div>"
      ],
      "text/plain": [
       "   id keyword location                                               text\n",
       "0   0     NaN      NaN                 Just happened a terrible car crash\n",
       "1   2     NaN      NaN  Heard about #earthquake is different cities, s...\n",
       "2   3     NaN      NaN  there is a forest fire at spot pond, geese are...\n",
       "3   9     NaN      NaN           Apocalypse lighting. #Spokane #wildfires\n",
       "4  11     NaN      NaN      Typhoon Soudelor kills 28 in China and Taiwan"
      ]
     },
     "execution_count": 3,
     "metadata": {},
     "output_type": "execute_result"
    }
   ],
   "source": [
    "test_data.head()"
   ]
  },
  {
   "cell_type": "code",
   "execution_count": 4,
   "id": "c5e9613d",
   "metadata": {
    "execution": {
     "iopub.execute_input": "2022-09-26T01:14:30.418896Z",
     "iopub.status.busy": "2022-09-26T01:14:30.418487Z",
     "iopub.status.idle": "2022-09-26T01:14:30.431774Z",
     "shell.execute_reply": "2022-09-26T01:14:30.430661Z"
    },
    "papermill": {
     "duration": 0.022669,
     "end_time": "2022-09-26T01:14:30.433979",
     "exception": false,
     "start_time": "2022-09-26T01:14:30.411310",
     "status": "completed"
    },
    "tags": []
   },
   "outputs": [
    {
     "data": {
      "text/plain": [
       "<bound method DataFrame.info of          id keyword location  \\\n",
       "0         1     NaN      NaN   \n",
       "1         4     NaN      NaN   \n",
       "2         5     NaN      NaN   \n",
       "3         6     NaN      NaN   \n",
       "4         7     NaN      NaN   \n",
       "...     ...     ...      ...   \n",
       "7608  10869     NaN      NaN   \n",
       "7609  10870     NaN      NaN   \n",
       "7610  10871     NaN      NaN   \n",
       "7611  10872     NaN      NaN   \n",
       "7612  10873     NaN      NaN   \n",
       "\n",
       "                                                   text  target  \n",
       "0     Our Deeds are the Reason of this #earthquake M...       1  \n",
       "1                Forest fire near La Ronge Sask. Canada       1  \n",
       "2     All residents asked to 'shelter in place' are ...       1  \n",
       "3     13,000 people receive #wildfires evacuation or...       1  \n",
       "4     Just got sent this photo from Ruby #Alaska as ...       1  \n",
       "...                                                 ...     ...  \n",
       "7608  Two giant cranes holding a bridge collapse int...       1  \n",
       "7609  @aria_ahrary @TheTawniest The out of control w...       1  \n",
       "7610  M1.94 [01:04 UTC]?5km S of Volcano Hawaii. htt...       1  \n",
       "7611  Police investigating after an e-bike collided ...       1  \n",
       "7612  The Latest: More Homes Razed by Northern Calif...       1  \n",
       "\n",
       "[7613 rows x 5 columns]>"
      ]
     },
     "execution_count": 4,
     "metadata": {},
     "output_type": "execute_result"
    }
   ],
   "source": [
    "train_data.info"
   ]
  },
  {
   "cell_type": "code",
   "execution_count": 5,
   "id": "c8831c6b",
   "metadata": {
    "execution": {
     "iopub.execute_input": "2022-09-26T01:14:30.445627Z",
     "iopub.status.busy": "2022-09-26T01:14:30.445233Z",
     "iopub.status.idle": "2022-09-26T01:14:30.452991Z",
     "shell.execute_reply": "2022-09-26T01:14:30.452102Z"
    },
    "papermill": {
     "duration": 0.01606,
     "end_time": "2022-09-26T01:14:30.455056",
     "exception": false,
     "start_time": "2022-09-26T01:14:30.438996",
     "status": "completed"
    },
    "tags": []
   },
   "outputs": [
    {
     "data": {
      "text/plain": [
       "id           int64\n",
       "keyword     object\n",
       "location    object\n",
       "text        object\n",
       "target       int64\n",
       "dtype: object"
      ]
     },
     "execution_count": 5,
     "metadata": {},
     "output_type": "execute_result"
    }
   ],
   "source": [
    "train_data.dtypes"
   ]
  },
  {
   "cell_type": "markdown",
   "id": "b1a5c3ce",
   "metadata": {
    "papermill": {
     "duration": 0.004814,
     "end_time": "2022-09-26T01:14:30.464996",
     "exception": false,
     "start_time": "2022-09-26T01:14:30.460182",
     "status": "completed"
    },
    "tags": []
   },
   "source": [
    "# PreProcessing"
   ]
  },
  {
   "cell_type": "code",
   "execution_count": 6,
   "id": "8935464b",
   "metadata": {
    "execution": {
     "iopub.execute_input": "2022-09-26T01:14:30.476694Z",
     "iopub.status.busy": "2022-09-26T01:14:30.476277Z",
     "iopub.status.idle": "2022-09-26T01:14:30.486935Z",
     "shell.execute_reply": "2022-09-26T01:14:30.485722Z"
    },
    "papermill": {
     "duration": 0.019297,
     "end_time": "2022-09-26T01:14:30.489378",
     "exception": false,
     "start_time": "2022-09-26T01:14:30.470081",
     "status": "completed"
    },
    "tags": []
   },
   "outputs": [],
   "source": [
    "tweets = train_data['text'].to_numpy()\n",
    "labels = train_data['target'].to_numpy()\n",
    "tst_tweets = test_data['text']\n",
    "trn_tweets, val_tweets, trn_labels, val_labels = train_test_split(tweets, labels, test_size=0.2, random_state=42, shuffle=True)"
   ]
  },
  {
   "cell_type": "code",
   "execution_count": 7,
   "id": "18f9916d",
   "metadata": {
    "execution": {
     "iopub.execute_input": "2022-09-26T01:14:30.501325Z",
     "iopub.status.busy": "2022-09-26T01:14:30.500593Z",
     "iopub.status.idle": "2022-09-26T01:14:30.571755Z",
     "shell.execute_reply": "2022-09-26T01:14:30.570499Z"
    },
    "papermill": {
     "duration": 0.079874,
     "end_time": "2022-09-26T01:14:30.574345",
     "exception": false,
     "start_time": "2022-09-26T01:14:30.494471",
     "status": "completed"
    },
    "tags": []
   },
   "outputs": [
    {
     "name": "stderr",
     "output_type": "stream",
     "text": [
      "2022-09-26 01:14:30.541805: I tensorflow/core/common_runtime/process_util.cc:146] Creating new thread pool with default inter op setting: 2. Tune using inter_op_parallelism_threads for best performance.\n"
     ]
    }
   ],
   "source": [
    "max_features = 20000\n",
    "sequence_length = 300\n",
    "\n",
    "vectorize_layer = TextVectorization(\n",
    "    standardize='lower_and_strip_punctuation',\n",
    "    max_tokens=max_features,\n",
    "    output_mode='int',\n",
    "    output_sequence_length=sequence_length)"
   ]
  },
  {
   "cell_type": "code",
   "execution_count": 8,
   "id": "e7fa9901",
   "metadata": {
    "execution": {
     "iopub.execute_input": "2022-09-26T01:14:30.586138Z",
     "iopub.status.busy": "2022-09-26T01:14:30.585766Z",
     "iopub.status.idle": "2022-09-26T01:14:31.044791Z",
     "shell.execute_reply": "2022-09-26T01:14:31.043431Z"
    },
    "papermill": {
     "duration": 0.468177,
     "end_time": "2022-09-26T01:14:31.047674",
     "exception": false,
     "start_time": "2022-09-26T01:14:30.579497",
     "status": "completed"
    },
    "tags": []
   },
   "outputs": [
    {
     "name": "stderr",
     "output_type": "stream",
     "text": [
      "2022-09-26 01:14:30.675540: I tensorflow/compiler/mlir/mlir_graph_optimization_pass.cc:185] None of the MLIR Optimization Passes are enabled (registered 2)\n"
     ]
    }
   ],
   "source": [
    "vectorize_layer.adapt(trn_tweets)"
   ]
  },
  {
   "cell_type": "code",
   "execution_count": 9,
   "id": "fc8320ab",
   "metadata": {
    "execution": {
     "iopub.execute_input": "2022-09-26T01:14:31.059884Z",
     "iopub.status.busy": "2022-09-26T01:14:31.059461Z",
     "iopub.status.idle": "2022-09-26T01:14:31.135534Z",
     "shell.execute_reply": "2022-09-26T01:14:31.134212Z"
    },
    "papermill": {
     "duration": 0.085306,
     "end_time": "2022-09-26T01:14:31.138262",
     "exception": false,
     "start_time": "2022-09-26T01:14:31.052956",
     "status": "completed"
    },
    "tags": []
   },
   "outputs": [
    {
     "name": "stdout",
     "output_type": "stream",
     "text": [
      "Tweet Courageous and honest analysis of need to use Atomic Bomb in 1945. #Hiroshima70 Japanese military refused surrender. https://t.co/VhmtyTptGR\n",
      "Label 1\n",
      "Vectorized Tweet tf.Tensor(\n",
      "[17198     8  4962  2917     6   156     5   438   216   118     4  2377\n",
      "  4973  1177   240  4381  4119 14803     0     0     0     0     0     0\n",
      "     0     0     0     0     0     0     0     0     0     0     0     0\n",
      "     0     0     0     0     0     0     0     0     0     0     0     0\n",
      "     0     0     0     0     0     0     0     0     0     0     0     0\n",
      "     0     0     0     0     0     0     0     0     0     0     0     0\n",
      "     0     0     0     0     0     0     0     0     0     0     0     0\n",
      "     0     0     0     0     0     0     0     0     0     0     0     0\n",
      "     0     0     0     0     0     0     0     0     0     0     0     0\n",
      "     0     0     0     0     0     0     0     0     0     0     0     0\n",
      "     0     0     0     0     0     0     0     0     0     0     0     0\n",
      "     0     0     0     0     0     0     0     0     0     0     0     0\n",
      "     0     0     0     0     0     0     0     0     0     0     0     0\n",
      "     0     0     0     0     0     0     0     0     0     0     0     0\n",
      "     0     0     0     0     0     0     0     0     0     0     0     0\n",
      "     0     0     0     0     0     0     0     0     0     0     0     0\n",
      "     0     0     0     0     0     0     0     0     0     0     0     0\n",
      "     0     0     0     0     0     0     0     0     0     0     0     0\n",
      "     0     0     0     0     0     0     0     0     0     0     0     0\n",
      "     0     0     0     0     0     0     0     0     0     0     0     0\n",
      "     0     0     0     0     0     0     0     0     0     0     0     0\n",
      "     0     0     0     0     0     0     0     0     0     0     0     0\n",
      "     0     0     0     0     0     0     0     0     0     0     0     0\n",
      "     0     0     0     0     0     0     0     0     0     0     0     0\n",
      "     0     0     0     0     0     0     0     0     0     0     0     0], shape=(300,), dtype=int64)\n"
     ]
    }
   ],
   "source": [
    "first_tweet = trn_tweets[0]\n",
    "first_label = trn_labels[0]\n",
    "print('Tweet', first_tweet)\n",
    "print('Label', first_label)\n",
    "print('Vectorized Tweet', vectorize_layer(trn_tweets[0]))"
   ]
  },
  {
   "cell_type": "code",
   "execution_count": 10,
   "id": "90847507",
   "metadata": {
    "execution": {
     "iopub.execute_input": "2022-09-26T01:14:31.151202Z",
     "iopub.status.busy": "2022-09-26T01:14:31.150305Z",
     "iopub.status.idle": "2022-09-26T01:14:31.339466Z",
     "shell.execute_reply": "2022-09-26T01:14:31.337753Z"
    },
    "papermill": {
     "duration": 0.198325,
     "end_time": "2022-09-26T01:14:31.342069",
     "exception": false,
     "start_time": "2022-09-26T01:14:31.143744",
     "status": "completed"
    },
    "tags": []
   },
   "outputs": [
    {
     "name": "stdout",
     "output_type": "stream",
     "text": [
      "Word #17198 --> courageous\n",
      "Word #8 --> and\n",
      "Word #4962 --> honest\n",
      "Total words in training vocabulary: 19422\n"
     ]
    }
   ],
   "source": [
    "print('Word #17198 -->', vectorize_layer.get_vocabulary()[17198])\n",
    "print('Word #8 -->', vectorize_layer.get_vocabulary()[8])\n",
    "print('Word #4962 -->', vectorize_layer.get_vocabulary()[4962])\n",
    "print('Total words in training vocabulary:', len(vectorize_layer.get_vocabulary()))"
   ]
  },
  {
   "cell_type": "code",
   "execution_count": 11,
   "id": "9d4855d7",
   "metadata": {
    "execution": {
     "iopub.execute_input": "2022-09-26T01:14:31.354862Z",
     "iopub.status.busy": "2022-09-26T01:14:31.354440Z",
     "iopub.status.idle": "2022-09-26T01:14:31.361825Z",
     "shell.execute_reply": "2022-09-26T01:14:31.360603Z"
    },
    "papermill": {
     "duration": 0.016415,
     "end_time": "2022-09-26T01:14:31.364079",
     "exception": false,
     "start_time": "2022-09-26T01:14:31.347664",
     "status": "completed"
    },
    "tags": []
   },
   "outputs": [],
   "source": [
    "embedding_layer = layers.Embedding(\n",
    "    input_dim = max_features,\n",
    "    output_dim=128,\n",
    "    embeddings_initializer='uniform',\n",
    "    input_length=sequence_length,\n",
    "    name='mbedding_1')"
   ]
  },
  {
   "cell_type": "code",
   "execution_count": 12,
   "id": "469d4a51",
   "metadata": {
    "execution": {
     "iopub.execute_input": "2022-09-26T01:14:31.376480Z",
     "iopub.status.busy": "2022-09-26T01:14:31.376108Z",
     "iopub.status.idle": "2022-09-26T01:14:31.466529Z",
     "shell.execute_reply": "2022-09-26T01:14:31.465332Z"
    },
    "papermill": {
     "duration": 0.099836,
     "end_time": "2022-09-26T01:14:31.469339",
     "exception": false,
     "start_time": "2022-09-26T01:14:31.369503",
     "status": "completed"
    },
    "tags": []
   },
   "outputs": [
    {
     "name": "stdout",
     "output_type": "stream",
     "text": [
      "Model: \"Dense_Model\"\n",
      "_________________________________________________________________\n",
      "Layer (type)                 Output Shape              Param #   \n",
      "=================================================================\n",
      "input_1 (InputLayer)         [(None, 1)]               0         \n",
      "_________________________________________________________________\n",
      "text_vectorization (TextVect (None, 300)               0         \n",
      "_________________________________________________________________\n",
      "mbedding_1 (Embedding)       (None, 300, 128)          2560000   \n",
      "_________________________________________________________________\n",
      "global_average_pooling1d (Gl (None, 128)               0         \n",
      "_________________________________________________________________\n",
      "dense (Dense)                (None, 1)                 129       \n",
      "=================================================================\n",
      "Total params: 2,560,129\n",
      "Trainable params: 2,560,129\n",
      "Non-trainable params: 0\n",
      "_________________________________________________________________\n"
     ]
    }
   ],
   "source": [
    "Is = layers.Input(shape = (1,), dtype = tf.string)\n",
    "L1 = vectorize_layer(Is)\n",
    "L2 = embedding_layer(L1)\n",
    "L3 = layers.GlobalAveragePooling1D()(L2)\n",
    "Os = layers.Dense(1, activation = 'sigmoid')(L3)\n",
    "\n",
    "model = tf.keras.Model(Is, Os, name = 'Dense_Model')\n",
    "model.summary()"
   ]
  },
  {
   "cell_type": "code",
   "execution_count": 13,
   "id": "758cb639",
   "metadata": {
    "execution": {
     "iopub.execute_input": "2022-09-26T01:14:31.482390Z",
     "iopub.status.busy": "2022-09-26T01:14:31.482009Z",
     "iopub.status.idle": "2022-09-26T01:14:31.494905Z",
     "shell.execute_reply": "2022-09-26T01:14:31.493949Z"
    },
    "papermill": {
     "duration": 0.021843,
     "end_time": "2022-09-26T01:14:31.497168",
     "exception": false,
     "start_time": "2022-09-26T01:14:31.475325",
     "status": "completed"
    },
    "tags": []
   },
   "outputs": [],
   "source": [
    "model.compile(\n",
    "    optimizer=tf.keras.optimizers.Adam(),\n",
    "    loss='binary_crossentropy',\n",
    "    metrics=['accuracy']\n",
    ")"
   ]
  },
  {
   "cell_type": "code",
   "execution_count": 14,
   "id": "132bdf78",
   "metadata": {
    "execution": {
     "iopub.execute_input": "2022-09-26T01:14:31.510887Z",
     "iopub.status.busy": "2022-09-26T01:14:31.509895Z",
     "iopub.status.idle": "2022-09-26T01:14:32.070503Z",
     "shell.execute_reply": "2022-09-26T01:14:32.069685Z"
    },
    "papermill": {
     "duration": 0.569192,
     "end_time": "2022-09-26T01:14:32.072881",
     "exception": false,
     "start_time": "2022-09-26T01:14:31.503689",
     "status": "completed"
    },
    "tags": []
   },
   "outputs": [
    {
     "name": "stdout",
     "output_type": "stream",
     "text": [
      "48/48 [==============================] - 1s 2ms/step - loss: 0.6908 - accuracy: 0.5739\n"
     ]
    },
    {
     "data": {
      "text/plain": [
       "[0.69077467918396, 0.5738673806190491]"
      ]
     },
     "execution_count": 14,
     "metadata": {},
     "output_type": "execute_result"
    }
   ],
   "source": [
    "model.evaluate(val_tweets, val_labels)"
   ]
  }
 ],
 "metadata": {
  "kernelspec": {
   "display_name": "Python 3",
   "language": "python",
   "name": "python3"
  },
  "language_info": {
   "codemirror_mode": {
    "name": "ipython",
    "version": 3
   },
   "file_extension": ".py",
   "mimetype": "text/x-python",
   "name": "python",
   "nbconvert_exporter": "python",
   "pygments_lexer": "ipython3",
   "version": "3.7.12"
  },
  "papermill": {
   "default_parameters": {},
   "duration": 21.141854,
   "end_time": "2022-09-26T01:14:34.730461",
   "environment_variables": {},
   "exception": null,
   "input_path": "__notebook__.ipynb",
   "output_path": "__notebook__.ipynb",
   "parameters": {},
   "start_time": "2022-09-26T01:14:13.588607",
   "version": "2.3.4"
  }
 },
 "nbformat": 4,
 "nbformat_minor": 5
}
