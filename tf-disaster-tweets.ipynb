{
 "cells": [
  {
   "cell_type": "code",
   "execution_count": 1,
   "id": "b700b972",
   "metadata": {
    "execution": {
     "iopub.execute_input": "2022-09-24T17:22:58.734810Z",
     "iopub.status.busy": "2022-09-24T17:22:58.734021Z",
     "iopub.status.idle": "2022-09-24T17:23:06.305919Z",
     "shell.execute_reply": "2022-09-24T17:23:06.304749Z"
    },
    "papermill": {
     "duration": 7.582221,
     "end_time": "2022-09-24T17:23:06.308744",
     "exception": false,
     "start_time": "2022-09-24T17:22:58.726523",
     "status": "completed"
    },
    "tags": []
   },
   "outputs": [],
   "source": [
    "import pandas as pd\n",
    "import numpy as np\n",
    "import matplotlib.pyplot as plt\n",
    "import os\n",
    "import re\n",
    "import shutil\n",
    "import string\n",
    "import tensorflow as tf\n",
    "from itertools import starmap\n",
    "\n",
    "from tensorflow.keras import layers\n",
    "from tensorflow.keras import losses\n",
    "\n",
    "from sklearn.model_selection import train_test_split"
   ]
  },
  {
   "cell_type": "code",
   "execution_count": 2,
   "id": "c0c2ce62",
   "metadata": {
    "execution": {
     "iopub.execute_input": "2022-09-24T17:23:06.319706Z",
     "iopub.status.busy": "2022-09-24T17:23:06.319005Z",
     "iopub.status.idle": "2022-09-24T17:23:06.394466Z",
     "shell.execute_reply": "2022-09-24T17:23:06.393684Z"
    },
    "papermill": {
     "duration": 0.083484,
     "end_time": "2022-09-24T17:23:06.396910",
     "exception": false,
     "start_time": "2022-09-24T17:23:06.313426",
     "status": "completed"
    },
    "tags": []
   },
   "outputs": [
    {
     "data": {
      "text/plain": [
       "<bound method DataFrame.info of          id keyword location  \\\n",
       "0         1     NaN      NaN   \n",
       "1         4     NaN      NaN   \n",
       "2         5     NaN      NaN   \n",
       "3         6     NaN      NaN   \n",
       "4         7     NaN      NaN   \n",
       "...     ...     ...      ...   \n",
       "7608  10869     NaN      NaN   \n",
       "7609  10870     NaN      NaN   \n",
       "7610  10871     NaN      NaN   \n",
       "7611  10872     NaN      NaN   \n",
       "7612  10873     NaN      NaN   \n",
       "\n",
       "                                                   text  target  \n",
       "0     Our Deeds are the Reason of this #earthquake M...       1  \n",
       "1                Forest fire near La Ronge Sask. Canada       1  \n",
       "2     All residents asked to 'shelter in place' are ...       1  \n",
       "3     13,000 people receive #wildfires evacuation or...       1  \n",
       "4     Just got sent this photo from Ruby #Alaska as ...       1  \n",
       "...                                                 ...     ...  \n",
       "7608  Two giant cranes holding a bridge collapse int...       1  \n",
       "7609  @aria_ahrary @TheTawniest The out of control w...       1  \n",
       "7610  M1.94 [01:04 UTC]?5km S of Volcano Hawaii. htt...       1  \n",
       "7611  Police investigating after an e-bike collided ...       1  \n",
       "7612  The Latest: More Homes Razed by Northern Calif...       1  \n",
       "\n",
       "[7613 rows x 5 columns]>"
      ]
     },
     "execution_count": 2,
     "metadata": {},
     "output_type": "execute_result"
    }
   ],
   "source": [
    "data = pd.read_csv('../input/nlp-getting-started/train.csv')\n",
    "data.info"
   ]
  },
  {
   "cell_type": "code",
   "execution_count": 3,
   "id": "262d0225",
   "metadata": {
    "execution": {
     "iopub.execute_input": "2022-09-24T17:23:06.408128Z",
     "iopub.status.busy": "2022-09-24T17:23:06.407500Z",
     "iopub.status.idle": "2022-09-24T17:23:06.421089Z",
     "shell.execute_reply": "2022-09-24T17:23:06.420052Z"
    },
    "papermill": {
     "duration": 0.02171,
     "end_time": "2022-09-24T17:23:06.423391",
     "exception": false,
     "start_time": "2022-09-24T17:23:06.401681",
     "status": "completed"
    },
    "tags": []
   },
   "outputs": [
    {
     "data": {
      "text/html": [
       "<div>\n",
       "<style scoped>\n",
       "    .dataframe tbody tr th:only-of-type {\n",
       "        vertical-align: middle;\n",
       "    }\n",
       "\n",
       "    .dataframe tbody tr th {\n",
       "        vertical-align: top;\n",
       "    }\n",
       "\n",
       "    .dataframe thead th {\n",
       "        text-align: right;\n",
       "    }\n",
       "</style>\n",
       "<table border=\"1\" class=\"dataframe\">\n",
       "  <thead>\n",
       "    <tr style=\"text-align: right;\">\n",
       "      <th></th>\n",
       "      <th>id</th>\n",
       "      <th>keyword</th>\n",
       "      <th>location</th>\n",
       "      <th>text</th>\n",
       "      <th>target</th>\n",
       "    </tr>\n",
       "  </thead>\n",
       "  <tbody>\n",
       "    <tr>\n",
       "      <th>0</th>\n",
       "      <td>1</td>\n",
       "      <td>NaN</td>\n",
       "      <td>NaN</td>\n",
       "      <td>Our Deeds are the Reason of this #earthquake M...</td>\n",
       "      <td>1</td>\n",
       "    </tr>\n",
       "    <tr>\n",
       "      <th>1</th>\n",
       "      <td>4</td>\n",
       "      <td>NaN</td>\n",
       "      <td>NaN</td>\n",
       "      <td>Forest fire near La Ronge Sask. Canada</td>\n",
       "      <td>1</td>\n",
       "    </tr>\n",
       "    <tr>\n",
       "      <th>2</th>\n",
       "      <td>5</td>\n",
       "      <td>NaN</td>\n",
       "      <td>NaN</td>\n",
       "      <td>All residents asked to 'shelter in place' are ...</td>\n",
       "      <td>1</td>\n",
       "    </tr>\n",
       "    <tr>\n",
       "      <th>3</th>\n",
       "      <td>6</td>\n",
       "      <td>NaN</td>\n",
       "      <td>NaN</td>\n",
       "      <td>13,000 people receive #wildfires evacuation or...</td>\n",
       "      <td>1</td>\n",
       "    </tr>\n",
       "    <tr>\n",
       "      <th>4</th>\n",
       "      <td>7</td>\n",
       "      <td>NaN</td>\n",
       "      <td>NaN</td>\n",
       "      <td>Just got sent this photo from Ruby #Alaska as ...</td>\n",
       "      <td>1</td>\n",
       "    </tr>\n",
       "  </tbody>\n",
       "</table>\n",
       "</div>"
      ],
      "text/plain": [
       "   id keyword location                                               text  \\\n",
       "0   1     NaN      NaN  Our Deeds are the Reason of this #earthquake M...   \n",
       "1   4     NaN      NaN             Forest fire near La Ronge Sask. Canada   \n",
       "2   5     NaN      NaN  All residents asked to 'shelter in place' are ...   \n",
       "3   6     NaN      NaN  13,000 people receive #wildfires evacuation or...   \n",
       "4   7     NaN      NaN  Just got sent this photo from Ruby #Alaska as ...   \n",
       "\n",
       "   target  \n",
       "0       1  \n",
       "1       1  \n",
       "2       1  \n",
       "3       1  \n",
       "4       1  "
      ]
     },
     "execution_count": 3,
     "metadata": {},
     "output_type": "execute_result"
    }
   ],
   "source": [
    "data.head()"
   ]
  },
  {
   "cell_type": "code",
   "execution_count": 4,
   "id": "1d97cb27",
   "metadata": {
    "execution": {
     "iopub.execute_input": "2022-09-24T17:23:06.434672Z",
     "iopub.status.busy": "2022-09-24T17:23:06.434295Z",
     "iopub.status.idle": "2022-09-24T17:23:07.001862Z",
     "shell.execute_reply": "2022-09-24T17:23:07.000769Z"
    },
    "papermill": {
     "duration": 0.575958,
     "end_time": "2022-09-24T17:23:07.004301",
     "exception": false,
     "start_time": "2022-09-24T17:23:06.428343",
     "status": "completed"
    },
    "tags": []
   },
   "outputs": [
    {
     "data": {
      "image/png": "[encoded data removed]",
      "text/plain": [
       "<Figure size 432x288 with 2 Axes>"
      ]
     },
     "metadata": {
      "needs_background": "light"
     },
     "output_type": "display_data"
    },
    {
     "data": {
      "image/png": "[encoded data removed]",
      "text/plain": [
       "<Figure size 432x288 with 1 Axes>"
      ]
     },
     "metadata": {
      "needs_background": "light"
     },
     "output_type": "display_data"
    }
   ],
   "source": [
    "data[['keyword', 'location']].notnull().astype(int).hist()\n",
    "plt.show()\n",
    "data['target'].hist()\n",
    "plt.show()"
   ]
  },
  {
   "cell_type": "code",
   "execution_count": 5,
   "id": "b217f5b9",
   "metadata": {
    "execution": {
     "iopub.execute_input": "2022-09-24T17:23:07.017286Z",
     "iopub.status.busy": "2022-09-24T17:23:07.016877Z",
     "iopub.status.idle": "2022-09-24T17:23:07.028026Z",
     "shell.execute_reply": "2022-09-24T17:23:07.026880Z"
    },
    "papermill": {
     "duration": 0.020438,
     "end_time": "2022-09-24T17:23:07.030256",
     "exception": false,
     "start_time": "2022-09-24T17:23:07.009818",
     "status": "completed"
    },
    "tags": []
   },
   "outputs": [
    {
     "data": {
      "text/plain": [
       "222"
      ]
     },
     "execution_count": 5,
     "metadata": {},
     "output_type": "execute_result"
    }
   ],
   "source": [
    "len(np.unique(data['keyword'].astype(str)))"
   ]
  },
  {
   "cell_type": "code",
   "execution_count": 6,
   "id": "a334add7",
   "metadata": {
    "execution": {
     "iopub.execute_input": "2022-09-24T17:23:07.043061Z",
     "iopub.status.busy": "2022-09-24T17:23:07.042660Z",
     "iopub.status.idle": "2022-09-24T17:23:07.047948Z",
     "shell.execute_reply": "2022-09-24T17:23:07.047155Z"
    },
    "papermill": {
     "duration": 0.014625,
     "end_time": "2022-09-24T17:23:07.050469",
     "exception": false,
     "start_time": "2022-09-24T17:23:07.035844",
     "status": "completed"
    },
    "tags": []
   },
   "outputs": [
    {
     "name": "stdout",
     "output_type": "stream",
     "text": [
      "Forest fire near La Ronge Sask. Canada\n"
     ]
    }
   ],
   "source": [
    "print(data['text'][1])"
   ]
  },
  {
   "cell_type": "code",
   "execution_count": 7,
   "id": "a700e827",
   "metadata": {
    "execution": {
     "iopub.execute_input": "2022-09-24T17:23:07.063317Z",
     "iopub.status.busy": "2022-09-24T17:23:07.062909Z",
     "iopub.status.idle": "2022-09-24T17:23:07.070969Z",
     "shell.execute_reply": "2022-09-24T17:23:07.070061Z"
    },
    "papermill": {
     "duration": 0.017232,
     "end_time": "2022-09-24T17:23:07.073226",
     "exception": false,
     "start_time": "2022-09-24T17:23:07.055994",
     "status": "completed"
    },
    "tags": []
   },
   "outputs": [],
   "source": [
    "df_train, df_test, tar_train, tar_test = train_test_split(data['text'], data['target'], test_size=0.20, random_state=42)"
   ]
  },
  {
   "cell_type": "code",
   "execution_count": 8,
   "id": "12f2cd3d",
   "metadata": {
    "execution": {
     "iopub.execute_input": "2022-09-24T17:23:07.085300Z",
     "iopub.status.busy": "2022-09-24T17:23:07.084917Z",
     "iopub.status.idle": "2022-09-24T17:23:07.093158Z",
     "shell.execute_reply": "2022-09-24T17:23:07.092163Z"
    },
    "papermill": {
     "duration": 0.016808,
     "end_time": "2022-09-24T17:23:07.095393",
     "exception": false,
     "start_time": "2022-09-24T17:23:07.078585",
     "status": "completed"
    },
    "tags": []
   },
   "outputs": [
    {
     "data": {
      "text/plain": [
       "4996    Courageous and honest analysis of need to use ...\n",
       "3263    @ZachZaidman @670TheScore wld b a shame if tha...\n",
       "4907    Tell @BarackObama to rescind medals of 'honor'...\n",
       "2855    Worried about how the CA drought might affect ...\n",
       "4716    @YoungHeroesID Lava Blast &amp; Power Red #Pan...\n",
       "                              ...                        \n",
       "5226    @Eganator2000 There aren't many Obliteration s...\n",
       "5390    just had a panic attack bc I don't have enough...\n",
       "860     Omron HEM-712C Automatic Blood Pressure Monito...\n",
       "7603    Officials say a quarantine is in place at an A...\n",
       "7270    I moved to England five years ago today. What ...\n",
       "Name: text, Length: 6090, dtype: object"
      ]
     },
     "execution_count": 8,
     "metadata": {},
     "output_type": "execute_result"
    }
   ],
   "source": [
    "df_train"
   ]
  },
  {
   "cell_type": "code",
   "execution_count": 9,
   "id": "b43dee9a",
   "metadata": {
    "execution": {
     "iopub.execute_input": "2022-09-24T17:23:07.108683Z",
     "iopub.status.busy": "2022-09-24T17:23:07.107763Z",
     "iopub.status.idle": "2022-09-24T17:23:07.190554Z",
     "shell.execute_reply": "2022-09-24T17:23:07.189314Z"
    },
    "papermill": {
     "duration": 0.091773,
     "end_time": "2022-09-24T17:23:07.192984",
     "exception": false,
     "start_time": "2022-09-24T17:23:07.101211",
     "status": "completed"
    },
    "tags": []
   },
   "outputs": [
    {
     "name": "stderr",
     "output_type": "stream",
     "text": [
      "2022-09-24 17:23:07.156579: I tensorflow/core/common_runtime/process_util.cc:146] Creating new thread pool with default inter op setting: 2. Tune using inter_op_parallelism_threads for best performance.\n"
     ]
    }
   ],
   "source": [
    "max_features = 20000\n",
    "sequence_length = 300\n",
    "\n",
    "vectorize_layer = layers.TextVectorization(\n",
    "    standardize='lower_and_strip_punctuation',\n",
    "    max_tokens = max_features,\n",
    "    output_mode = 'int',\n",
    "    output_sequence_length = sequence_length\n",
    ")"
   ]
  },
  {
   "cell_type": "code",
   "execution_count": 10,
   "id": "edb08d86",
   "metadata": {
    "execution": {
     "iopub.execute_input": "2022-09-24T17:23:07.206400Z",
     "iopub.status.busy": "2022-09-24T17:23:07.205075Z",
     "iopub.status.idle": "2022-09-24T17:23:07.692592Z",
     "shell.execute_reply": "2022-09-24T17:23:07.691584Z"
    },
    "papermill": {
     "duration": 0.496726,
     "end_time": "2022-09-24T17:23:07.695229",
     "exception": false,
     "start_time": "2022-09-24T17:23:07.198503",
     "status": "completed"
    },
    "tags": []
   },
   "outputs": [
    {
     "name": "stderr",
     "output_type": "stream",
     "text": [
      "2022-09-24 17:23:07.298946: I tensorflow/compiler/mlir/mlir_graph_optimization_pass.cc:185] None of the MLIR Optimization Passes are enabled (registered 2)\n"
     ]
    }
   ],
   "source": [
    "vectorize_layer.adapt(df_train)"
   ]
  },
  {
   "cell_type": "code",
   "execution_count": 11,
   "id": "979450c0",
   "metadata": {
    "execution": {
     "iopub.execute_input": "2022-09-24T17:23:07.708439Z",
     "iopub.status.busy": "2022-09-24T17:23:07.707978Z",
     "iopub.status.idle": "2022-09-24T17:23:07.713837Z",
     "shell.execute_reply": "2022-09-24T17:23:07.712586Z"
    },
    "papermill": {
     "duration": 0.015018,
     "end_time": "2022-09-24T17:23:07.716108",
     "exception": false,
     "start_time": "2022-09-24T17:23:07.701090",
     "status": "completed"
    },
    "tags": []
   },
   "outputs": [],
   "source": [
    "def vectorize_text(text, label):\n",
    "  text = tf.expand_dims(text, -1)\n",
    "  return vectorize_layer(text), label"
   ]
  },
  {
   "cell_type": "code",
   "execution_count": 12,
   "id": "54fc8fb8",
   "metadata": {
    "execution": {
     "iopub.execute_input": "2022-09-24T17:23:07.729548Z",
     "iopub.status.busy": "2022-09-24T17:23:07.729067Z",
     "iopub.status.idle": "2022-09-24T17:23:07.815412Z",
     "shell.execute_reply": "2022-09-24T17:23:07.814286Z"
    },
    "papermill": {
     "duration": 0.09684,
     "end_time": "2022-09-24T17:23:07.818687",
     "exception": false,
     "start_time": "2022-09-24T17:23:07.721847",
     "status": "completed"
    },
    "tags": []
   },
   "outputs": [
    {
     "name": "stdout",
     "output_type": "stream",
     "text": [
      "Tweet Courageous and honest analysis of need to use Atomic Bomb in 1945. #Hiroshima70 Japanese military refused surrender. https://t.co/VhmtyTptGR\n",
      "Target 1\n",
      "Vectorized Tweet (<tf.Tensor: shape=(1, 300), dtype=int64, numpy=\n",
      "array([[17198,     8,  4962,  2917,     6,   156,     5,   438,   216,\n",
      "          118,     4,  2377,  4973,  1177,   240,  4381,  4119, 14803,\n",
      "            0,     0,     0,     0,     0,     0,     0,     0,     0,\n",
      "            0,     0,     0,     0,     0,     0,     0,     0,     0,\n",
      "            0,     0,     0,     0,     0,     0,     0,     0,     0,\n",
      "            0,     0,     0,     0,     0,     0,     0,     0,     0,\n",
      "            0,     0,     0,     0,     0,     0,     0,     0,     0,\n",
      "            0,     0,     0,     0,     0,     0,     0,     0,     0,\n",
      "            0,     0,     0,     0,     0,     0,     0,     0,     0,\n",
      "            0,     0,     0,     0,     0,     0,     0,     0,     0,\n",
      "            0,     0,     0,     0,     0,     0,     0,     0,     0,\n",
      "            0,     0,     0,     0,     0,     0,     0,     0,     0,\n",
      "            0,     0,     0,     0,     0,     0,     0,     0,     0,\n",
      "            0,     0,     0,     0,     0,     0,     0,     0,     0,\n",
      "            0,     0,     0,     0,     0,     0,     0,     0,     0,\n",
      "            0,     0,     0,     0,     0,     0,     0,     0,     0,\n",
      "            0,     0,     0,     0,     0,     0,     0,     0,     0,\n",
      "            0,     0,     0,     0,     0,     0,     0,     0,     0,\n",
      "            0,     0,     0,     0,     0,     0,     0,     0,     0,\n",
      "            0,     0,     0,     0,     0,     0,     0,     0,     0,\n",
      "            0,     0,     0,     0,     0,     0,     0,     0,     0,\n",
      "            0,     0,     0,     0,     0,     0,     0,     0,     0,\n",
      "            0,     0,     0,     0,     0,     0,     0,     0,     0,\n",
      "            0,     0,     0,     0,     0,     0,     0,     0,     0,\n",
      "            0,     0,     0,     0,     0,     0,     0,     0,     0,\n",
      "            0,     0,     0,     0,     0,     0,     0,     0,     0,\n",
      "            0,     0,     0,     0,     0,     0,     0,     0,     0,\n",
      "            0,     0,     0,     0,     0,     0,     0,     0,     0,\n",
      "            0,     0,     0,     0,     0,     0,     0,     0,     0,\n",
      "            0,     0,     0,     0,     0,     0,     0,     0,     0,\n",
      "            0,     0,     0,     0,     0,     0,     0,     0,     0,\n",
      "            0,     0,     0,     0,     0,     0,     0,     0,     0,\n",
      "            0,     0,     0,     0,     0,     0,     0,     0,     0,\n",
      "            0,     0,     0]])>, 1)\n"
     ]
    }
   ],
   "source": [
    "first_tweet = df_train.iloc[0]\n",
    "first_target = tar_train.iloc[0]\n",
    "print('Tweet', first_tweet)\n",
    "print('Target', first_target)\n",
    "print('Vectorized Tweet', vectorize_text(first_tweet, first_target))"
   ]
  },
  {
   "cell_type": "code",
   "execution_count": 13,
   "id": "666c35ad",
   "metadata": {
    "execution": {
     "iopub.execute_input": "2022-09-24T17:23:07.833104Z",
     "iopub.status.busy": "2022-09-24T17:23:07.832356Z",
     "iopub.status.idle": "2022-09-24T17:23:07.980676Z",
     "shell.execute_reply": "2022-09-24T17:23:07.979042Z"
    },
    "papermill": {
     "duration": 0.157913,
     "end_time": "2022-09-24T17:23:07.983309",
     "exception": false,
     "start_time": "2022-09-24T17:23:07.825396",
     "status": "completed"
    },
    "tags": []
   },
   "outputs": [
    {
     "name": "stdout",
     "output_type": "stream",
     "text": [
      "Word 110 =  courageous\n",
      "Word 6241 =  and\n",
      "Vocabulary size: 19422\n"
     ]
    }
   ],
   "source": [
    "print('Word 110 = ', vectorize_layer.get_vocabulary()[17198])\n",
    "print('Word 6241 = ', vectorize_layer.get_vocabulary()[8])\n",
    "print('Vocabulary size: {}'.format(len(vectorize_layer.get_vocabulary())))"
   ]
  },
  {
   "cell_type": "code",
   "execution_count": 14,
   "id": "25063882",
   "metadata": {
    "execution": {
     "iopub.execute_input": "2022-09-24T17:23:07.996594Z",
     "iopub.status.busy": "2022-09-24T17:23:07.996211Z",
     "iopub.status.idle": "2022-09-24T17:23:08.000984Z",
     "shell.execute_reply": "2022-09-24T17:23:08.000174Z"
    },
    "papermill": {
     "duration": 0.013907,
     "end_time": "2022-09-24T17:23:08.003008",
     "exception": false,
     "start_time": "2022-09-24T17:23:07.989101",
     "status": "completed"
    },
    "tags": []
   },
   "outputs": [],
   "source": [
    "raw_train_ds = zip(df_train, tar_train)\n",
    "raw_test_ds = zip(df_test, tar_test)"
   ]
  },
  {
   "cell_type": "code",
   "execution_count": 15,
   "id": "1ccb789a",
   "metadata": {
    "execution": {
     "iopub.execute_input": "2022-09-24T17:23:08.016791Z",
     "iopub.status.busy": "2022-09-24T17:23:08.015677Z",
     "iopub.status.idle": "2022-09-24T17:23:24.237934Z",
     "shell.execute_reply": "2022-09-24T17:23:24.236721Z"
    },
    "papermill": {
     "duration": 16.232042,
     "end_time": "2022-09-24T17:23:24.240804",
     "exception": false,
     "start_time": "2022-09-24T17:23:08.008762",
     "status": "completed"
    },
    "tags": []
   },
   "outputs": [],
   "source": [
    "train_ds = list(starmap(vectorize_text, raw_train_ds))\n",
    "test_ds = list(starmap(vectorize_text, raw_test_ds))"
   ]
  },
  {
   "cell_type": "code",
   "execution_count": 16,
   "id": "4af0a6f5",
   "metadata": {
    "execution": {
     "iopub.execute_input": "2022-09-24T17:23:24.255585Z",
     "iopub.status.busy": "2022-09-24T17:23:24.255194Z",
     "iopub.status.idle": "2022-09-24T17:23:24.263289Z",
     "shell.execute_reply": "2022-09-24T17:23:24.262162Z"
    },
    "papermill": {
     "duration": 0.017381,
     "end_time": "2022-09-24T17:23:24.265557",
     "exception": false,
     "start_time": "2022-09-24T17:23:24.248176",
     "status": "completed"
    },
    "tags": []
   },
   "outputs": [
    {
     "data": {
      "text/plain": [
       "(<tf.Tensor: shape=(1, 300), dtype=int64, numpy=\n",
       " array([[17198,     8,  4962,  2917,     6,   156,     5,   438,   216,\n",
       "           118,     4,  2377,  4973,  1177,   240,  4381,  4119, 14803,\n",
       "             0,     0,     0,     0,     0,     0,     0,     0,     0,\n",
       "             0,     0,     0,     0,     0,     0,     0,     0,     0,\n",
       "             0,     0,     0,     0,     0,     0,     0,     0,     0,\n",
       "             0,     0,     0,     0,     0,     0,     0,     0,     0,\n",
       "             0,     0,     0,     0,     0,     0,     0,     0,     0,\n",
       "             0,     0,     0,     0,     0,     0,     0,     0,     0,\n",
       "             0,     0,     0,     0,     0,     0,     0,     0,     0,\n",
       "             0,     0,     0,     0,     0,     0,     0,     0,     0,\n",
       "             0,     0,     0,     0,     0,     0,     0,     0,     0,\n",
       "             0,     0,     0,     0,     0,     0,     0,     0,     0,\n",
       "             0,     0,     0,     0,     0,     0,     0,     0,     0,\n",
       "             0,     0,     0,     0,     0,     0,     0,     0,     0,\n",
       "             0,     0,     0,     0,     0,     0,     0,     0,     0,\n",
       "             0,     0,     0,     0,     0,     0,     0,     0,     0,\n",
       "             0,     0,     0,     0,     0,     0,     0,     0,     0,\n",
       "             0,     0,     0,     0,     0,     0,     0,     0,     0,\n",
       "             0,     0,     0,     0,     0,     0,     0,     0,     0,\n",
       "             0,     0,     0,     0,     0,     0,     0,     0,     0,\n",
       "             0,     0,     0,     0,     0,     0,     0,     0,     0,\n",
       "             0,     0,     0,     0,     0,     0,     0,     0,     0,\n",
       "             0,     0,     0,     0,     0,     0,     0,     0,     0,\n",
       "             0,     0,     0,     0,     0,     0,     0,     0,     0,\n",
       "             0,     0,     0,     0,     0,     0,     0,     0,     0,\n",
       "             0,     0,     0,     0,     0,     0,     0,     0,     0,\n",
       "             0,     0,     0,     0,     0,     0,     0,     0,     0,\n",
       "             0,     0,     0,     0,     0,     0,     0,     0,     0,\n",
       "             0,     0,     0,     0,     0,     0,     0,     0,     0,\n",
       "             0,     0,     0,     0,     0,     0,     0,     0,     0,\n",
       "             0,     0,     0,     0,     0,     0,     0,     0,     0,\n",
       "             0,     0,     0,     0,     0,     0,     0,     0,     0,\n",
       "             0,     0,     0,     0,     0,     0,     0,     0,     0,\n",
       "             0,     0,     0]])>,\n",
       " 1)"
      ]
     },
     "execution_count": 16,
     "metadata": {},
     "output_type": "execute_result"
    }
   ],
   "source": [
    "train_ds[0]"
   ]
  }
 ],
 "metadata": {
  "kernelspec": {
   "display_name": "Python 3",
   "language": "python",
   "name": "python3"
  },
  "language_info": {
   "codemirror_mode": {
    "name": "ipython",
    "version": 3
   },
   "file_extension": ".py",
   "mimetype": "text/x-python",
   "name": "python",
   "nbconvert_exporter": "python",
   "pygments_lexer": "ipython3",
   "version": "3.7.12"
  },
  "papermill": {
   "default_parameters": {},
   "duration": 38.16905,
   "end_time": "2022-09-24T17:23:27.885834",
   "environment_variables": {},
   "exception": null,
   "input_path": "__notebook__.ipynb",
   "output_path": "__notebook__.ipynb",
   "parameters": {},
   "start_time": "2022-09-24T17:22:49.716784",
   "version": "2.3.4"
  }
 },
 "nbformat": 4,
 "nbformat_minor": 5
}
