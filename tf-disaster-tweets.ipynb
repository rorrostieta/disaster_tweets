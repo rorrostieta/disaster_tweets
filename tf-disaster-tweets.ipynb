{
 "cells": [
  {
   "cell_type": "code",
   "execution_count": 1,
   "id": "c43c09dd",
   "metadata": {
    "execution": {
     "iopub.execute_input": "2022-09-27T01:45:36.825133Z",
     "iopub.status.busy": "2022-09-27T01:45:36.824527Z",
     "iopub.status.idle": "2022-09-27T01:45:42.761000Z",
     "shell.execute_reply": "2022-09-27T01:45:42.759938Z"
    },
    "papermill": {
     "duration": 5.949845,
     "end_time": "2022-09-27T01:45:42.763700",
     "exception": false,
     "start_time": "2022-09-27T01:45:36.813855",
     "status": "completed"
    },
    "tags": []
   },
   "outputs": [],
   "source": [
    "import pandas as pd\n",
    "import numpy as np\n",
    "import matplotlib.pyplot as plt\n",
    "from sklearn.model_selection import train_test_split\n",
    "from sklearn.metrics import accuracy_score\n",
    "\n",
    "import tensorflow as tf\n",
    "from tensorflow.keras import layers\n",
    "from tensorflow.keras.layers import TextVectorization\n",
    "from tensorflow.keras import losses"
   ]
  },
  {
   "cell_type": "markdown",
   "id": "accd7693",
   "metadata": {
    "papermill": {
     "duration": 0.005435,
     "end_time": "2022-09-27T01:45:42.775073",
     "exception": false,
     "start_time": "2022-09-27T01:45:42.769638",
     "status": "completed"
    },
    "tags": []
   },
   "source": [
    "# EDA"
   ]
  },
  {
   "cell_type": "code",
   "execution_count": 2,
   "id": "5253e875",
   "metadata": {
    "execution": {
     "iopub.execute_input": "2022-09-27T01:45:42.787821Z",
     "iopub.status.busy": "2022-09-27T01:45:42.787279Z",
     "iopub.status.idle": "2022-09-27T01:45:42.864857Z",
     "shell.execute_reply": "2022-09-27T01:45:42.863981Z"
    },
    "papermill": {
     "duration": 0.086311,
     "end_time": "2022-09-27T01:45:42.866945",
     "exception": false,
     "start_time": "2022-09-27T01:45:42.780634",
     "status": "completed"
    },
    "tags": []
   },
   "outputs": [
    {
     "data": {
      "text/html": [
       "<div>\n",
       "<style scoped>\n",
       "    .dataframe tbody tr th:only-of-type {\n",
       "        vertical-align: middle;\n",
       "    }\n",
       "\n",
       "    .dataframe tbody tr th {\n",
       "        vertical-align: top;\n",
       "    }\n",
       "\n",
       "    .dataframe thead th {\n",
       "        text-align: right;\n",
       "    }\n",
       "</style>\n",
       "<table border=\"1\" class=\"dataframe\">\n",
       "  <thead>\n",
       "    <tr style=\"text-align: right;\">\n",
       "      <th></th>\n",
       "      <th>id</th>\n",
       "      <th>keyword</th>\n",
       "      <th>location</th>\n",
       "      <th>text</th>\n",
       "      <th>target</th>\n",
       "    </tr>\n",
       "  </thead>\n",
       "  <tbody>\n",
       "    <tr>\n",
       "      <th>0</th>\n",
       "      <td>1</td>\n",
       "      <td>NaN</td>\n",
       "      <td>NaN</td>\n",
       "      <td>Our Deeds are the Reason of this #earthquake M...</td>\n",
       "      <td>1</td>\n",
       "    </tr>\n",
       "    <tr>\n",
       "      <th>1</th>\n",
       "      <td>4</td>\n",
       "      <td>NaN</td>\n",
       "      <td>NaN</td>\n",
       "      <td>Forest fire near La Ronge Sask. Canada</td>\n",
       "      <td>1</td>\n",
       "    </tr>\n",
       "    <tr>\n",
       "      <th>2</th>\n",
       "      <td>5</td>\n",
       "      <td>NaN</td>\n",
       "      <td>NaN</td>\n",
       "      <td>All residents asked to 'shelter in place' are ...</td>\n",
       "      <td>1</td>\n",
       "    </tr>\n",
       "    <tr>\n",
       "      <th>3</th>\n",
       "      <td>6</td>\n",
       "      <td>NaN</td>\n",
       "      <td>NaN</td>\n",
       "      <td>13,000 people receive #wildfires evacuation or...</td>\n",
       "      <td>1</td>\n",
       "    </tr>\n",
       "    <tr>\n",
       "      <th>4</th>\n",
       "      <td>7</td>\n",
       "      <td>NaN</td>\n",
       "      <td>NaN</td>\n",
       "      <td>Just got sent this photo from Ruby #Alaska as ...</td>\n",
       "      <td>1</td>\n",
       "    </tr>\n",
       "  </tbody>\n",
       "</table>\n",
       "</div>"
      ],
      "text/plain": [
       "   id keyword location                                               text  \\\n",
       "0   1     NaN      NaN  Our Deeds are the Reason of this #earthquake M...   \n",
       "1   4     NaN      NaN             Forest fire near La Ronge Sask. Canada   \n",
       "2   5     NaN      NaN  All residents asked to 'shelter in place' are ...   \n",
       "3   6     NaN      NaN  13,000 people receive #wildfires evacuation or...   \n",
       "4   7     NaN      NaN  Just got sent this photo from Ruby #Alaska as ...   \n",
       "\n",
       "   target  \n",
       "0       1  \n",
       "1       1  \n",
       "2       1  \n",
       "3       1  \n",
       "4       1  "
      ]
     },
     "execution_count": 2,
     "metadata": {},
     "output_type": "execute_result"
    }
   ],
   "source": [
    "train_data = pd.read_csv('../input/nlp-getting-started/train.csv')\n",
    "test_data = pd.read_csv('../input/nlp-getting-started/test.csv')\n",
    "train_data.head()"
   ]
  },
  {
   "cell_type": "code",
   "execution_count": 3,
   "id": "84ab4289",
   "metadata": {
    "execution": {
     "iopub.execute_input": "2022-09-27T01:45:42.880612Z",
     "iopub.status.busy": "2022-09-27T01:45:42.879744Z",
     "iopub.status.idle": "2022-09-27T01:45:42.889556Z",
     "shell.execute_reply": "2022-09-27T01:45:42.888580Z"
    },
    "papermill": {
     "duration": 0.018674,
     "end_time": "2022-09-27T01:45:42.891574",
     "exception": false,
     "start_time": "2022-09-27T01:45:42.872900",
     "status": "completed"
    },
    "tags": []
   },
   "outputs": [
    {
     "data": {
      "text/html": [
       "<div>\n",
       "<style scoped>\n",
       "    .dataframe tbody tr th:only-of-type {\n",
       "        vertical-align: middle;\n",
       "    }\n",
       "\n",
       "    .dataframe tbody tr th {\n",
       "        vertical-align: top;\n",
       "    }\n",
       "\n",
       "    .dataframe thead th {\n",
       "        text-align: right;\n",
       "    }\n",
       "</style>\n",
       "<table border=\"1\" class=\"dataframe\">\n",
       "  <thead>\n",
       "    <tr style=\"text-align: right;\">\n",
       "      <th></th>\n",
       "      <th>id</th>\n",
       "      <th>keyword</th>\n",
       "      <th>location</th>\n",
       "      <th>text</th>\n",
       "    </tr>\n",
       "  </thead>\n",
       "  <tbody>\n",
       "    <tr>\n",
       "      <th>0</th>\n",
       "      <td>0</td>\n",
       "      <td>NaN</td>\n",
       "      <td>NaN</td>\n",
       "      <td>Just happened a terrible car crash</td>\n",
       "    </tr>\n",
       "    <tr>\n",
       "      <th>1</th>\n",
       "      <td>2</td>\n",
       "      <td>NaN</td>\n",
       "      <td>NaN</td>\n",
       "      <td>Heard about #earthquake is different cities, s...</td>\n",
       "    </tr>\n",
       "    <tr>\n",
       "      <th>2</th>\n",
       "      <td>3</td>\n",
       "      <td>NaN</td>\n",
       "      <td>NaN</td>\n",
       "      <td>there is a forest fire at spot pond, geese are...</td>\n",
       "    </tr>\n",
       "    <tr>\n",
       "      <th>3</th>\n",
       "      <td>9</td>\n",
       "      <td>NaN</td>\n",
       "      <td>NaN</td>\n",
       "      <td>Apocalypse lighting. #Spokane #wildfires</td>\n",
       "    </tr>\n",
       "    <tr>\n",
       "      <th>4</th>\n",
       "      <td>11</td>\n",
       "      <td>NaN</td>\n",
       "      <td>NaN</td>\n",
       "      <td>Typhoon Soudelor kills 28 in China and Taiwan</td>\n",
       "    </tr>\n",
       "  </tbody>\n",
       "</table>\n",
       "</div>"
      ],
      "text/plain": [
       "   id keyword location                                               text\n",
       "0   0     NaN      NaN                 Just happened a terrible car crash\n",
       "1   2     NaN      NaN  Heard about #earthquake is different cities, s...\n",
       "2   3     NaN      NaN  there is a forest fire at spot pond, geese are...\n",
       "3   9     NaN      NaN           Apocalypse lighting. #Spokane #wildfires\n",
       "4  11     NaN      NaN      Typhoon Soudelor kills 28 in China and Taiwan"
      ]
     },
     "execution_count": 3,
     "metadata": {},
     "output_type": "execute_result"
    }
   ],
   "source": [
    "test_data.head()"
   ]
  },
  {
   "cell_type": "code",
   "execution_count": 4,
   "id": "beac5b22",
   "metadata": {
    "execution": {
     "iopub.execute_input": "2022-09-27T01:45:42.905041Z",
     "iopub.status.busy": "2022-09-27T01:45:42.904359Z",
     "iopub.status.idle": "2022-09-27T01:45:42.917014Z",
     "shell.execute_reply": "2022-09-27T01:45:42.915847Z"
    },
    "papermill": {
     "duration": 0.022148,
     "end_time": "2022-09-27T01:45:42.919628",
     "exception": false,
     "start_time": "2022-09-27T01:45:42.897480",
     "status": "completed"
    },
    "tags": []
   },
   "outputs": [
    {
     "data": {
      "text/plain": [
       "<bound method DataFrame.info of          id keyword location  \\\n",
       "0         1     NaN      NaN   \n",
       "1         4     NaN      NaN   \n",
       "2         5     NaN      NaN   \n",
       "3         6     NaN      NaN   \n",
       "4         7     NaN      NaN   \n",
       "...     ...     ...      ...   \n",
       "7608  10869     NaN      NaN   \n",
       "7609  10870     NaN      NaN   \n",
       "7610  10871     NaN      NaN   \n",
       "7611  10872     NaN      NaN   \n",
       "7612  10873     NaN      NaN   \n",
       "\n",
       "                                                   text  target  \n",
       "0     Our Deeds are the Reason of this #earthquake M...       1  \n",
       "1                Forest fire near La Ronge Sask. Canada       1  \n",
       "2     All residents asked to 'shelter in place' are ...       1  \n",
       "3     13,000 people receive #wildfires evacuation or...       1  \n",
       "4     Just got sent this photo from Ruby #Alaska as ...       1  \n",
       "...                                                 ...     ...  \n",
       "7608  Two giant cranes holding a bridge collapse int...       1  \n",
       "7609  @aria_ahrary @TheTawniest The out of control w...       1  \n",
       "7610  M1.94 [01:04 UTC]?5km S of Volcano Hawaii. htt...       1  \n",
       "7611  Police investigating after an e-bike collided ...       1  \n",
       "7612  The Latest: More Homes Razed by Northern Calif...       1  \n",
       "\n",
       "[7613 rows x 5 columns]>"
      ]
     },
     "execution_count": 4,
     "metadata": {},
     "output_type": "execute_result"
    }
   ],
   "source": [
    "train_data.info"
   ]
  },
  {
   "cell_type": "code",
   "execution_count": 5,
   "id": "ada1b1e4",
   "metadata": {
    "execution": {
     "iopub.execute_input": "2022-09-27T01:45:42.933441Z",
     "iopub.status.busy": "2022-09-27T01:45:42.932767Z",
     "iopub.status.idle": "2022-09-27T01:45:42.939354Z",
     "shell.execute_reply": "2022-09-27T01:45:42.938457Z"
    },
    "papermill": {
     "duration": 0.015205,
     "end_time": "2022-09-27T01:45:42.941230",
     "exception": false,
     "start_time": "2022-09-27T01:45:42.926025",
     "status": "completed"
    },
    "tags": []
   },
   "outputs": [
    {
     "data": {
      "text/plain": [
       "id           int64\n",
       "keyword     object\n",
       "location    object\n",
       "text        object\n",
       "target       int64\n",
       "dtype: object"
      ]
     },
     "execution_count": 5,
     "metadata": {},
     "output_type": "execute_result"
    }
   ],
   "source": [
    "train_data.dtypes"
   ]
  },
  {
   "cell_type": "markdown",
   "id": "0cf7b556",
   "metadata": {
    "papermill": {
     "duration": 0.005661,
     "end_time": "2022-09-27T01:45:42.952899",
     "exception": false,
     "start_time": "2022-09-27T01:45:42.947238",
     "status": "completed"
    },
    "tags": []
   },
   "source": [
    "# PreProcessing"
   ]
  },
  {
   "cell_type": "code",
   "execution_count": 6,
   "id": "ef8388dd",
   "metadata": {
    "execution": {
     "iopub.execute_input": "2022-09-27T01:45:42.966429Z",
     "iopub.status.busy": "2022-09-27T01:45:42.965805Z",
     "iopub.status.idle": "2022-09-27T01:45:42.975356Z",
     "shell.execute_reply": "2022-09-27T01:45:42.974539Z"
    },
    "papermill": {
     "duration": 0.018466,
     "end_time": "2022-09-27T01:45:42.977420",
     "exception": false,
     "start_time": "2022-09-27T01:45:42.958954",
     "status": "completed"
    },
    "tags": []
   },
   "outputs": [],
   "source": [
    "tweets = train_data['text'].to_numpy()\n",
    "labels = train_data['target'].to_numpy()\n",
    "tst_tweets = test_data['text']\n",
    "trn_tweets, val_tweets, trn_labels, val_labels = train_test_split(tweets, labels, test_size=0.2, random_state=42, shuffle=True)"
   ]
  },
  {
   "cell_type": "code",
   "execution_count": 7,
   "id": "aa7d0664",
   "metadata": {
    "execution": {
     "iopub.execute_input": "2022-09-27T01:45:42.991983Z",
     "iopub.status.busy": "2022-09-27T01:45:42.991088Z",
     "iopub.status.idle": "2022-09-27T01:45:45.647832Z",
     "shell.execute_reply": "2022-09-27T01:45:45.646790Z"
    },
    "papermill": {
     "duration": 2.665745,
     "end_time": "2022-09-27T01:45:45.649997",
     "exception": false,
     "start_time": "2022-09-27T01:45:42.984252",
     "status": "completed"
    },
    "tags": []
   },
   "outputs": [
    {
     "name": "stderr",
     "output_type": "stream",
     "text": [
      "2022-09-27 01:45:43.099351: I tensorflow/stream_executor/cuda/cuda_gpu_executor.cc:937] successful NUMA node read from SysFS had negative value (-1), but there must be at least one NUMA node, so returning NUMA node zero\n",
      "2022-09-27 01:45:43.196481: I tensorflow/stream_executor/cuda/cuda_gpu_executor.cc:937] successful NUMA node read from SysFS had negative value (-1), but there must be at least one NUMA node, so returning NUMA node zero\n",
      "2022-09-27 01:45:43.197305: I tensorflow/stream_executor/cuda/cuda_gpu_executor.cc:937] successful NUMA node read from SysFS had negative value (-1), but there must be at least one NUMA node, so returning NUMA node zero\n",
      "2022-09-27 01:45:43.198805: I tensorflow/core/platform/cpu_feature_guard.cc:142] This TensorFlow binary is optimized with oneAPI Deep Neural Network Library (oneDNN) to use the following CPU instructions in performance-critical operations:  AVX2 AVX512F FMA\n",
      "To enable them in other operations, rebuild TensorFlow with the appropriate compiler flags.\n",
      "2022-09-27 01:45:43.206257: I tensorflow/stream_executor/cuda/cuda_gpu_executor.cc:937] successful NUMA node read from SysFS had negative value (-1), but there must be at least one NUMA node, so returning NUMA node zero\n",
      "2022-09-27 01:45:43.206974: I tensorflow/stream_executor/cuda/cuda_gpu_executor.cc:937] successful NUMA node read from SysFS had negative value (-1), but there must be at least one NUMA node, so returning NUMA node zero\n",
      "2022-09-27 01:45:43.207647: I tensorflow/stream_executor/cuda/cuda_gpu_executor.cc:937] successful NUMA node read from SysFS had negative value (-1), but there must be at least one NUMA node, so returning NUMA node zero\n",
      "2022-09-27 01:45:45.270048: I tensorflow/stream_executor/cuda/cuda_gpu_executor.cc:937] successful NUMA node read from SysFS had negative value (-1), but there must be at least one NUMA node, so returning NUMA node zero\n",
      "2022-09-27 01:45:45.270956: I tensorflow/stream_executor/cuda/cuda_gpu_executor.cc:937] successful NUMA node read from SysFS had negative value (-1), but there must be at least one NUMA node, so returning NUMA node zero\n",
      "2022-09-27 01:45:45.271720: I tensorflow/stream_executor/cuda/cuda_gpu_executor.cc:937] successful NUMA node read from SysFS had negative value (-1), but there must be at least one NUMA node, so returning NUMA node zero\n",
      "2022-09-27 01:45:45.272363: I tensorflow/core/common_runtime/gpu/gpu_device.cc:1510] Created device /job:localhost/replica:0/task:0/device:GPU:0 with 15401 MB memory:  -> device: 0, name: Tesla P100-PCIE-16GB, pci bus id: 0000:00:04.0, compute capability: 6.0\n"
     ]
    }
   ],
   "source": [
    "max_features = 15000\n",
    "sequence_length = 150\n",
    "\n",
    "vectorize_layer = TextVectorization(\n",
    "    standardize='lower_and_strip_punctuation',\n",
    "    max_tokens=max_features,\n",
    "    output_mode='int',\n",
    "    output_sequence_length=sequence_length)"
   ]
  },
  {
   "cell_type": "code",
   "execution_count": 8,
   "id": "01dfd812",
   "metadata": {
    "execution": {
     "iopub.execute_input": "2022-09-27T01:45:45.664439Z",
     "iopub.status.busy": "2022-09-27T01:45:45.663665Z",
     "iopub.status.idle": "2022-09-27T01:45:46.085800Z",
     "shell.execute_reply": "2022-09-27T01:45:46.084811Z"
    },
    "papermill": {
     "duration": 0.431993,
     "end_time": "2022-09-27T01:45:46.088399",
     "exception": false,
     "start_time": "2022-09-27T01:45:45.656406",
     "status": "completed"
    },
    "tags": []
   },
   "outputs": [
    {
     "name": "stderr",
     "output_type": "stream",
     "text": [
      "2022-09-27 01:45:45.729648: I tensorflow/compiler/mlir/mlir_graph_optimization_pass.cc:185] None of the MLIR Optimization Passes are enabled (registered 2)\n"
     ]
    }
   ],
   "source": [
    "vectorize_layer.adapt(trn_tweets)"
   ]
  },
  {
   "cell_type": "code",
   "execution_count": 9,
   "id": "7f7f2957",
   "metadata": {
    "execution": {
     "iopub.execute_input": "2022-09-27T01:45:46.104151Z",
     "iopub.status.busy": "2022-09-27T01:45:46.102573Z",
     "iopub.status.idle": "2022-09-27T01:45:46.165103Z",
     "shell.execute_reply": "2022-09-27T01:45:46.163595Z"
    },
    "papermill": {
     "duration": 0.072198,
     "end_time": "2022-09-27T01:45:46.167155",
     "exception": false,
     "start_time": "2022-09-27T01:45:46.094957",
     "status": "completed"
    },
    "tags": []
   },
   "outputs": [
    {
     "name": "stdout",
     "output_type": "stream",
     "text": [
      "Tweet Courageous and honest analysis of need to use Atomic Bomb in 1945. #Hiroshima70 Japanese military refused surrender. https://t.co/VhmtyTptGR\n",
      "Label 1\n",
      "Vectorized Tweet tf.Tensor(\n",
      "[    1     8  4962  2917     6   156     5   438   216   118     4  2377\n",
      "  4973  1177   240  4381  4119 14803     0     0     0     0     0     0\n",
      "     0     0     0     0     0     0     0     0     0     0     0     0\n",
      "     0     0     0     0     0     0     0     0     0     0     0     0\n",
      "     0     0     0     0     0     0     0     0     0     0     0     0\n",
      "     0     0     0     0     0     0     0     0     0     0     0     0\n",
      "     0     0     0     0     0     0     0     0     0     0     0     0\n",
      "     0     0     0     0     0     0     0     0     0     0     0     0\n",
      "     0     0     0     0     0     0     0     0     0     0     0     0\n",
      "     0     0     0     0     0     0     0     0     0     0     0     0\n",
      "     0     0     0     0     0     0     0     0     0     0     0     0\n",
      "     0     0     0     0     0     0     0     0     0     0     0     0\n",
      "     0     0     0     0     0     0], shape=(150,), dtype=int64)\n"
     ]
    }
   ],
   "source": [
    "first_tweet = trn_tweets[0]\n",
    "first_label = trn_labels[0]\n",
    "print('Tweet', first_tweet)\n",
    "print('Label', first_label)\n",
    "print('Vectorized Tweet', vectorize_layer(trn_tweets[0]))"
   ]
  },
  {
   "cell_type": "code",
   "execution_count": 10,
   "id": "f4eabcc2",
   "metadata": {
    "execution": {
     "iopub.execute_input": "2022-09-27T01:45:46.182370Z",
     "iopub.status.busy": "2022-09-27T01:45:46.180877Z",
     "iopub.status.idle": "2022-09-27T01:45:46.294268Z",
     "shell.execute_reply": "2022-09-27T01:45:46.292772Z"
    },
    "papermill": {
     "duration": 0.123084,
     "end_time": "2022-09-27T01:45:46.296681",
     "exception": false,
     "start_time": "2022-09-27T01:45:46.173597",
     "status": "completed"
    },
    "tags": []
   },
   "outputs": [
    {
     "name": "stdout",
     "output_type": "stream",
     "text": [
      "Word #1 --> [UNK]\n",
      "Word #8 --> and\n",
      "Word #4962 --> honest\n",
      "Total words in training vocabulary: 15000\n"
     ]
    }
   ],
   "source": [
    "print('Word #1 -->', vectorize_layer.get_vocabulary()[1])\n",
    "print('Word #8 -->', vectorize_layer.get_vocabulary()[8])\n",
    "print('Word #4962 -->', vectorize_layer.get_vocabulary()[4962])\n",
    "print('Total words in training vocabulary:', len(vectorize_layer.get_vocabulary()))"
   ]
  },
  {
   "cell_type": "code",
   "execution_count": 11,
   "id": "42735935",
   "metadata": {
    "execution": {
     "iopub.execute_input": "2022-09-27T01:45:46.311726Z",
     "iopub.status.busy": "2022-09-27T01:45:46.310817Z",
     "iopub.status.idle": "2022-09-27T01:45:46.317792Z",
     "shell.execute_reply": "2022-09-27T01:45:46.316733Z"
    },
    "papermill": {
     "duration": 0.016608,
     "end_time": "2022-09-27T01:45:46.319991",
     "exception": false,
     "start_time": "2022-09-27T01:45:46.303383",
     "status": "completed"
    },
    "tags": []
   },
   "outputs": [],
   "source": [
    "embedding_layer = layers.Embedding(\n",
    "    input_dim = max_features,\n",
    "    output_dim=128,\n",
    "    embeddings_initializer='uniform',\n",
    "    input_length=sequence_length,\n",
    "    name='mbedding_1')"
   ]
  },
  {
   "cell_type": "code",
   "execution_count": 12,
   "id": "71bfa048",
   "metadata": {
    "execution": {
     "iopub.execute_input": "2022-09-27T01:45:46.333746Z",
     "iopub.status.busy": "2022-09-27T01:45:46.333467Z",
     "iopub.status.idle": "2022-09-27T01:45:46.394424Z",
     "shell.execute_reply": "2022-09-27T01:45:46.393271Z"
    },
    "papermill": {
     "duration": 0.070802,
     "end_time": "2022-09-27T01:45:46.397106",
     "exception": false,
     "start_time": "2022-09-27T01:45:46.326304",
     "status": "completed"
    },
    "tags": []
   },
   "outputs": [
    {
     "name": "stdout",
     "output_type": "stream",
     "text": [
      "Model: \"Dense_Model\"\n",
      "_________________________________________________________________\n",
      "Layer (type)                 Output Shape              Param #   \n",
      "=================================================================\n",
      "input_1 (InputLayer)         [(None, 1)]               0         \n",
      "_________________________________________________________________\n",
      "text_vectorization (TextVect (None, 150)               0         \n",
      "_________________________________________________________________\n",
      "mbedding_1 (Embedding)       (None, 150, 128)          1920000   \n",
      "_________________________________________________________________\n",
      "global_average_pooling1d (Gl (None, 128)               0         \n",
      "_________________________________________________________________\n",
      "dense (Dense)                (None, 1)                 129       \n",
      "=================================================================\n",
      "Total params: 1,920,129\n",
      "Trainable params: 1,920,129\n",
      "Non-trainable params: 0\n",
      "_________________________________________________________________\n"
     ]
    }
   ],
   "source": [
    "Is = layers.Input(shape = (1,), dtype = tf.string)\n",
    "L1 = vectorize_layer(Is)\n",
    "L2 = embedding_layer(L1)\n",
    "L3 = layers.GlobalAveragePooling1D()(L2)\n",
    "Os = layers.Dense(1, activation = 'sigmoid')(L3)\n",
    "\n",
    "model = tf.keras.Model(Is, Os, name = 'Dense_Model')\n",
    "model.summary()"
   ]
  },
  {
   "cell_type": "code",
   "execution_count": 13,
   "id": "f43e4250",
   "metadata": {
    "execution": {
     "iopub.execute_input": "2022-09-27T01:45:46.412180Z",
     "iopub.status.busy": "2022-09-27T01:45:46.411343Z",
     "iopub.status.idle": "2022-09-27T01:46:02.689612Z",
     "shell.execute_reply": "2022-09-27T01:46:02.688028Z"
    },
    "papermill": {
     "duration": 16.288693,
     "end_time": "2022-09-27T01:46:02.692518",
     "exception": false,
     "start_time": "2022-09-27T01:45:46.403825",
     "status": "completed"
    },
    "tags": []
   },
   "outputs": [
    {
     "name": "stdout",
     "output_type": "stream",
     "text": [
      "Epoch 1/15\n",
      "191/191 [==============================] - 3s 6ms/step - loss: 0.6800 - accuracy: 0.5678 - val_loss: 0.6723 - val_accuracy: 0.5739\n",
      "Epoch 2/15\n",
      "191/191 [==============================] - 1s 5ms/step - loss: 0.6588 - accuracy: 0.5910 - val_loss: 0.6452 - val_accuracy: 0.6060\n",
      "Epoch 3/15\n",
      "191/191 [==============================] - 1s 5ms/step - loss: 0.6115 - accuracy: 0.7007 - val_loss: 0.6002 - val_accuracy: 0.7006\n",
      "Epoch 4/15\n",
      "191/191 [==============================] - 1s 6ms/step - loss: 0.5454 - accuracy: 0.7918 - val_loss: 0.5529 - val_accuracy: 0.7846\n",
      "Epoch 5/15\n",
      "191/191 [==============================] - 1s 7ms/step - loss: 0.4846 - accuracy: 0.8312 - val_loss: 0.5185 - val_accuracy: 0.7919\n",
      "Epoch 6/15\n",
      "191/191 [==============================] - 1s 5ms/step - loss: 0.4354 - accuracy: 0.8433 - val_loss: 0.5027 - val_accuracy: 0.7807\n",
      "Epoch 7/15\n",
      "191/191 [==============================] - 1s 5ms/step - loss: 0.3959 - accuracy: 0.8608 - val_loss: 0.4848 - val_accuracy: 0.8017\n",
      "Epoch 8/15\n",
      "191/191 [==============================] - 1s 5ms/step - loss: 0.3619 - accuracy: 0.8714 - val_loss: 0.4689 - val_accuracy: 0.8004\n",
      "Epoch 9/15\n",
      "191/191 [==============================] - 1s 5ms/step - loss: 0.3332 - accuracy: 0.8842 - val_loss: 0.4616 - val_accuracy: 0.8056\n",
      "Epoch 10/15\n",
      "191/191 [==============================] - 1s 5ms/step - loss: 0.3089 - accuracy: 0.8916 - val_loss: 0.4591 - val_accuracy: 0.8076\n",
      "Epoch 11/15\n",
      "191/191 [==============================] - 1s 5ms/step - loss: 0.2851 - accuracy: 0.8998 - val_loss: 0.4548 - val_accuracy: 0.8109\n",
      "Epoch 12/15\n",
      "191/191 [==============================] - 1s 5ms/step - loss: 0.2650 - accuracy: 0.9066 - val_loss: 0.4606 - val_accuracy: 0.8083\n",
      "Epoch 13/15\n",
      "191/191 [==============================] - 1s 5ms/step - loss: 0.2458 - accuracy: 0.9153 - val_loss: 0.4548 - val_accuracy: 0.8056\n",
      "Epoch 14/15\n",
      "191/191 [==============================] - 1s 5ms/step - loss: 0.2286 - accuracy: 0.9232 - val_loss: 0.4548 - val_accuracy: 0.8030\n",
      "Epoch 15/15\n",
      "191/191 [==============================] - 1s 6ms/step - loss: 0.2116 - accuracy: 0.9310 - val_loss: 0.4561 - val_accuracy: 0.8083\n"
     ]
    }
   ],
   "source": [
    "model.compile(\n",
    "    optimizer='adam',\n",
    "    loss='binary_crossentropy',\n",
    "    metrics='accuracy'\n",
    ")\n",
    "history = model.fit(\n",
    "    x=trn_tweets,\n",
    "    y=trn_labels,\n",
    "    epochs=15,\n",
    "    validation_data=(val_tweets, val_labels)\n",
    ")"
   ]
  },
  {
   "cell_type": "code",
   "execution_count": 14,
   "id": "e980119b",
   "metadata": {
    "execution": {
     "iopub.execute_input": "2022-09-27T01:46:02.733939Z",
     "iopub.status.busy": "2022-09-27T01:46:02.733610Z",
     "iopub.status.idle": "2022-09-27T01:46:02.906713Z",
     "shell.execute_reply": "2022-09-27T01:46:02.905537Z"
    },
    "papermill": {
     "duration": 0.195627,
     "end_time": "2022-09-27T01:46:02.909001",
     "exception": false,
     "start_time": "2022-09-27T01:46:02.713374",
     "status": "completed"
    },
    "tags": []
   },
   "outputs": [
    {
     "name": "stdout",
     "output_type": "stream",
     "text": [
      "48/48 [==============================] - 0s 3ms/step - loss: 0.4561 - accuracy: 0.8083\n"
     ]
    },
    {
     "data": {
      "text/plain": [
       "[0.4560646712779999, 0.8082731366157532]"
      ]
     },
     "execution_count": 14,
     "metadata": {},
     "output_type": "execute_result"
    }
   ],
   "source": [
    "model.evaluate(val_tweets, val_labels)"
   ]
  },
  {
   "cell_type": "code",
   "execution_count": 15,
   "id": "a1f37522",
   "metadata": {
    "execution": {
     "iopub.execute_input": "2022-09-27T01:46:02.950628Z",
     "iopub.status.busy": "2022-09-27T01:46:02.950009Z",
     "iopub.status.idle": "2022-09-27T01:46:03.172885Z",
     "shell.execute_reply": "2022-09-27T01:46:03.171535Z"
    },
    "papermill": {
     "duration": 0.246004,
     "end_time": "2022-09-27T01:46:03.175298",
     "exception": false,
     "start_time": "2022-09-27T01:46:02.929294",
     "status": "completed"
    },
    "tags": []
   },
   "outputs": [
    {
     "name": "stdout",
     "output_type": "stream",
     "text": [
      "[0. 0. 0. 0. 0. 0. 0. 0. 0. 1.]\n"
     ]
    },
    {
     "data": {
      "text/plain": [
       "0.8082731451083388"
      ]
     },
     "execution_count": 15,
     "metadata": {},
     "output_type": "execute_result"
    }
   ],
   "source": [
    "predictions = model.predict(val_tweets)\n",
    "predictions = np.round(predictions).flatten()\n",
    "print(predictions[:10])\n",
    "accuracy_score(y_true=val_labels, y_pred=predictions)"
   ]
  },
  {
   "cell_type": "code",
   "execution_count": 16,
   "id": "6994447f",
   "metadata": {
    "execution": {
     "iopub.execute_input": "2022-09-27T01:46:03.216886Z",
     "iopub.status.busy": "2022-09-27T01:46:03.216113Z",
     "iopub.status.idle": "2022-09-27T01:46:03.222505Z",
     "shell.execute_reply": "2022-09-27T01:46:03.221270Z"
    },
    "papermill": {
     "duration": 0.029828,
     "end_time": "2022-09-27T01:46:03.225487",
     "exception": false,
     "start_time": "2022-09-27T01:46:03.195659",
     "status": "completed"
    },
    "tags": []
   },
   "outputs": [
    {
     "data": {
      "text/plain": [
       "dict_keys(['loss', 'accuracy', 'val_loss', 'val_accuracy'])"
      ]
     },
     "execution_count": 16,
     "metadata": {},
     "output_type": "execute_result"
    }
   ],
   "source": [
    "history_dict = history.history\n",
    "history_dict.keys()"
   ]
  },
  {
   "cell_type": "code",
   "execution_count": 17,
   "id": "a9bb58a9",
   "metadata": {
    "execution": {
     "iopub.execute_input": "2022-09-27T01:46:03.265843Z",
     "iopub.status.busy": "2022-09-27T01:46:03.265533Z",
     "iopub.status.idle": "2022-09-27T01:46:03.501330Z",
     "shell.execute_reply": "2022-09-27T01:46:03.500437Z"
    },
    "papermill": {
     "duration": 0.258422,
     "end_time": "2022-09-27T01:46:03.503470",
     "exception": false,
     "start_time": "2022-09-27T01:46:03.245048",
     "status": "completed"
    },
    "tags": []
   },
   "outputs": [
    {
     "data": {
      "image/png": "[encoded data removed]",
      "text/plain": [
       "<Figure size 432x288 with 1 Axes>"
      ]
     },
     "metadata": {
      "needs_background": "light"
     },
     "output_type": "display_data"
    }
   ],
   "source": [
    "acc = history_dict['accuracy']\n",
    "val_acc = history_dict['val_accuracy']\n",
    "loss = history_dict['loss']\n",
    "val_loss = history_dict['val_loss']\n",
    "\n",
    "epochs = range(1, len(acc) + 1)\n",
    "\n",
    "plt.plot(epochs, loss, 'bo', label='Training loss')\n",
    "plt.plot(epochs, val_loss, 'b', label='Validation loss')\n",
    "plt.title('Training and validation loss')\n",
    "plt.xlabel('Epochs')\n",
    "plt.ylabel('Loss')\n",
    "plt.legend()\n",
    "\n",
    "plt.show()"
   ]
  },
  {
   "cell_type": "code",
   "execution_count": 18,
   "id": "666a5312",
   "metadata": {
    "execution": {
     "iopub.execute_input": "2022-09-27T01:46:03.544685Z",
     "iopub.status.busy": "2022-09-27T01:46:03.544369Z",
     "iopub.status.idle": "2022-09-27T01:46:03.943118Z",
     "shell.execute_reply": "2022-09-27T01:46:03.942077Z"
    },
    "papermill": {
     "duration": 0.421897,
     "end_time": "2022-09-27T01:46:03.945403",
     "exception": false,
     "start_time": "2022-09-27T01:46:03.523506",
     "status": "completed"
    },
    "tags": []
   },
   "outputs": [
    {
     "name": "stdout",
     "output_type": "stream",
     "text": [
      "Model: \"GRU_Model\"\n",
      "_________________________________________________________________\n",
      "Layer (type)                 Output Shape              Param #   \n",
      "=================================================================\n",
      "input_2 (InputLayer)         [(None, 1)]               0         \n",
      "_________________________________________________________________\n",
      "text_vectorization (TextVect (None, 150)               0         \n",
      "_________________________________________________________________\n",
      "mbedding_1 (Embedding)       (None, 150, 128)          1920000   \n",
      "_________________________________________________________________\n",
      "gru (GRU)                    (None, 150, 64)           37248     \n",
      "_________________________________________________________________\n",
      "gru_1 (GRU)                  (None, 64)                24960     \n",
      "_________________________________________________________________\n",
      "dense_1 (Dense)              (None, 1)                 65        \n",
      "=================================================================\n",
      "Total params: 1,982,273\n",
      "Trainable params: 1,982,273\n",
      "Non-trainable params: 0\n",
      "_________________________________________________________________\n"
     ]
    }
   ],
   "source": [
    "Is = layers.Input(shape = (1,), dtype = tf.string)\n",
    "L1 = vectorize_layer(Is)\n",
    "L2 = embedding_layer(L1)\n",
    "L3 = layers.GRU(64,return_sequences=True)(L2)\n",
    "L4 = layers.GRU(64)(L3)\n",
    "Os = layers.Dense(1, activation = 'sigmoid')(L4)\n",
    "\n",
    "model_2 = tf.keras.Model(Is, Os, name = 'GRU_Model')\n",
    "model_2.summary()"
   ]
  },
  {
   "cell_type": "code",
   "execution_count": 19,
   "id": "1aabf62e",
   "metadata": {
    "execution": {
     "iopub.execute_input": "2022-09-27T01:46:03.987503Z",
     "iopub.status.busy": "2022-09-27T01:46:03.986717Z",
     "iopub.status.idle": "2022-09-27T01:47:28.472306Z",
     "shell.execute_reply": "2022-09-27T01:47:28.471178Z"
    },
    "papermill": {
     "duration": 84.509121,
     "end_time": "2022-09-27T01:47:28.474945",
     "exception": false,
     "start_time": "2022-09-27T01:46:03.965824",
     "status": "completed"
    },
    "tags": []
   },
   "outputs": [
    {
     "name": "stdout",
     "output_type": "stream",
     "text": [
      "Epoch 1/20\n"
     ]
    },
    {
     "name": "stderr",
     "output_type": "stream",
     "text": [
      "2022-09-27 01:46:07.289613: I tensorflow/stream_executor/cuda/cuda_dnn.cc:369] Loaded cuDNN version 8005\n"
     ]
    },
    {
     "name": "stdout",
     "output_type": "stream",
     "text": [
      "191/191 [==============================] - 7s 18ms/step - loss: 0.6841 - accuracy: 0.5688 - val_loss: 0.6851 - val_accuracy: 0.5739\n",
      "Epoch 2/20\n",
      "191/191 [==============================] - 3s 16ms/step - loss: 0.6843 - accuracy: 0.5695 - val_loss: 0.6827 - val_accuracy: 0.5739\n",
      "Epoch 3/20\n",
      "191/191 [==============================] - 3s 15ms/step - loss: 0.6840 - accuracy: 0.5695 - val_loss: 0.6822 - val_accuracy: 0.5739\n",
      "Epoch 4/20\n",
      "191/191 [==============================] - 3s 15ms/step - loss: 0.6841 - accuracy: 0.5695 - val_loss: 0.6822 - val_accuracy: 0.5739\n",
      "Epoch 5/20\n",
      "191/191 [==============================] - 3s 15ms/step - loss: 0.6842 - accuracy: 0.5695 - val_loss: 0.6824 - val_accuracy: 0.5739\n",
      "Epoch 6/20\n",
      "191/191 [==============================] - 4s 19ms/step - loss: 0.6838 - accuracy: 0.5695 - val_loss: 0.6826 - val_accuracy: 0.5739\n",
      "Epoch 7/20\n",
      "191/191 [==============================] - 3s 15ms/step - loss: 0.6839 - accuracy: 0.5695 - val_loss: 0.6827 - val_accuracy: 0.5739\n",
      "Epoch 8/20\n",
      "191/191 [==============================] - 3s 15ms/step - loss: 0.6839 - accuracy: 0.5695 - val_loss: 0.6824 - val_accuracy: 0.5739\n",
      "Epoch 9/20\n",
      "191/191 [==============================] - 3s 16ms/step - loss: 0.6839 - accuracy: 0.5695 - val_loss: 0.6822 - val_accuracy: 0.5739\n",
      "Epoch 10/20\n",
      "191/191 [==============================] - 3s 15ms/step - loss: 0.6839 - accuracy: 0.5695 - val_loss: 0.6824 - val_accuracy: 0.5739\n",
      "Epoch 11/20\n",
      "191/191 [==============================] - 3s 15ms/step - loss: 0.6838 - accuracy: 0.5695 - val_loss: 0.6824 - val_accuracy: 0.5739\n",
      "Epoch 12/20\n",
      "191/191 [==============================] - 3s 15ms/step - loss: 0.6837 - accuracy: 0.5695 - val_loss: 0.6822 - val_accuracy: 0.5739\n",
      "Epoch 13/20\n",
      "191/191 [==============================] - 3s 16ms/step - loss: 0.6838 - accuracy: 0.5695 - val_loss: 0.6822 - val_accuracy: 0.5739\n",
      "Epoch 14/20\n",
      "191/191 [==============================] - 3s 15ms/step - loss: 0.6835 - accuracy: 0.5695 - val_loss: 0.6823 - val_accuracy: 0.5739\n",
      "Epoch 15/20\n",
      "191/191 [==============================] - 3s 15ms/step - loss: 0.6837 - accuracy: 0.5695 - val_loss: 0.6828 - val_accuracy: 0.5739\n",
      "Epoch 16/20\n",
      "191/191 [==============================] - 3s 16ms/step - loss: 0.6835 - accuracy: 0.5695 - val_loss: 0.6830 - val_accuracy: 0.5739\n",
      "Epoch 17/20\n",
      "191/191 [==============================] - 3s 17ms/step - loss: 0.6835 - accuracy: 0.5695 - val_loss: 0.6824 - val_accuracy: 0.5739\n",
      "Epoch 18/20\n",
      "191/191 [==============================] - 3s 15ms/step - loss: 0.6836 - accuracy: 0.5695 - val_loss: 0.6822 - val_accuracy: 0.5739\n",
      "Epoch 19/20\n",
      "191/191 [==============================] - 3s 15ms/step - loss: 0.6838 - accuracy: 0.5695 - val_loss: 0.6822 - val_accuracy: 0.5739\n",
      "Epoch 20/20\n",
      "191/191 [==============================] - 3s 16ms/step - loss: 0.6838 - accuracy: 0.5695 - val_loss: 0.6824 - val_accuracy: 0.5739\n"
     ]
    }
   ],
   "source": [
    "model_2.compile(\n",
    "    optimizer='adam',\n",
    "    loss='binary_crossentropy',\n",
    "    metrics='accuracy'\n",
    ")\n",
    "history_2 = model_2.fit(\n",
    "    x=trn_tweets,\n",
    "    y=trn_labels,\n",
    "    epochs=20,\n",
    "    validation_data=(val_tweets, val_labels)\n",
    ")"
   ]
  },
  {
   "cell_type": "code",
   "execution_count": 20,
   "id": "fee94efd",
   "metadata": {
    "execution": {
     "iopub.execute_input": "2022-09-27T01:47:28.619061Z",
     "iopub.status.busy": "2022-09-27T01:47:28.617301Z",
     "iopub.status.idle": "2022-09-27T01:47:29.017157Z",
     "shell.execute_reply": "2022-09-27T01:47:29.016236Z"
    },
    "papermill": {
     "duration": 0.472938,
     "end_time": "2022-09-27T01:47:29.019285",
     "exception": false,
     "start_time": "2022-09-27T01:47:28.546347",
     "status": "completed"
    },
    "tags": []
   },
   "outputs": [
    {
     "name": "stdout",
     "output_type": "stream",
     "text": [
      "48/48 [==============================] - 0s 7ms/step - loss: 0.6824 - accuracy: 0.5739\n"
     ]
    },
    {
     "data": {
      "text/plain": [
       "[0.6823616623878479, 0.5738673806190491]"
      ]
     },
     "execution_count": 20,
     "metadata": {},
     "output_type": "execute_result"
    }
   ],
   "source": [
    "model_2.evaluate(val_tweets, val_labels)"
   ]
  },
  {
   "cell_type": "code",
   "execution_count": 21,
   "id": "7dde5c2c",
   "metadata": {
    "execution": {
     "iopub.execute_input": "2022-09-27T01:47:29.164623Z",
     "iopub.status.busy": "2022-09-27T01:47:29.163934Z",
     "iopub.status.idle": "2022-09-27T01:47:29.926530Z",
     "shell.execute_reply": "2022-09-27T01:47:29.924726Z"
    },
    "papermill": {
     "duration": 0.837468,
     "end_time": "2022-09-27T01:47:29.929613",
     "exception": false,
     "start_time": "2022-09-27T01:47:29.092145",
     "status": "completed"
    },
    "tags": []
   },
   "outputs": [
    {
     "name": "stdout",
     "output_type": "stream",
     "text": [
      "[0. 0. 0. 0. 0. 0. 0. 0. 0. 0.]\n"
     ]
    },
    {
     "data": {
      "text/plain": [
       "0.5738673670387393"
      ]
     },
     "execution_count": 21,
     "metadata": {},
     "output_type": "execute_result"
    }
   ],
   "source": [
    "predictions = model_2.predict(val_tweets)\n",
    "predictions = np.round(predictions).flatten()\n",
    "print(predictions[:10])\n",
    "accuracy_score(y_true=val_labels, y_pred=predictions)"
   ]
  },
  {
   "cell_type": "code",
   "execution_count": 22,
   "id": "d3c52ac3",
   "metadata": {
    "execution": {
     "iopub.execute_input": "2022-09-27T01:47:30.170586Z",
     "iopub.status.busy": "2022-09-27T01:47:30.170122Z",
     "iopub.status.idle": "2022-09-27T01:47:30.180228Z",
     "shell.execute_reply": "2022-09-27T01:47:30.179306Z"
    },
    "papermill": {
     "duration": 0.173905,
     "end_time": "2022-09-27T01:47:30.182954",
     "exception": false,
     "start_time": "2022-09-27T01:47:30.009049",
     "status": "completed"
    },
    "tags": []
   },
   "outputs": [
    {
     "data": {
      "text/plain": [
       "dict_keys(['loss', 'accuracy', 'val_loss', 'val_accuracy'])"
      ]
     },
     "execution_count": 22,
     "metadata": {},
     "output_type": "execute_result"
    }
   ],
   "source": [
    "history_2_dict = history_2.history\n",
    "history_2_dict.keys()"
   ]
  },
  {
   "cell_type": "code",
   "execution_count": 23,
   "id": "0938ca90",
   "metadata": {
    "execution": {
     "iopub.execute_input": "2022-09-27T01:47:30.399759Z",
     "iopub.status.busy": "2022-09-27T01:47:30.399339Z",
     "iopub.status.idle": "2022-09-27T01:47:30.655148Z",
     "shell.execute_reply": "2022-09-27T01:47:30.654181Z"
    },
    "papermill": {
     "duration": 0.365558,
     "end_time": "2022-09-27T01:47:30.657377",
     "exception": false,
     "start_time": "2022-09-27T01:47:30.291819",
     "status": "completed"
    },
    "tags": []
   },
   "outputs": [
    {
     "data": {
      "image/png": "[encoded data removed]",
      "text/plain": [
       "<Figure size 432x288 with 1 Axes>"
      ]
     },
     "metadata": {
      "needs_background": "light"
     },
     "output_type": "display_data"
    }
   ],
   "source": [
    "acc = history_2_dict['accuracy']\n",
    "val_acc = history_2_dict['val_accuracy']\n",
    "loss = history_2_dict['loss']\n",
    "val_loss = history_2_dict['val_loss']\n",
    "\n",
    "epochs = range(1, len(acc) + 1)\n",
    "\n",
    "plt.plot(epochs, loss, 'bo', label='Training loss')\n",
    "plt.plot(epochs, val_loss, 'b', label='Validation loss')\n",
    "plt.title('Training and validation loss')\n",
    "plt.xlabel('Epochs')\n",
    "plt.ylabel('Loss')\n",
    "plt.legend()\n",
    "\n",
    "plt.show()"
   ]
  },
  {
   "cell_type": "code",
   "execution_count": 24,
   "id": "b3706315",
   "metadata": {
    "execution": {
     "iopub.execute_input": "2022-09-27T01:47:30.803363Z",
     "iopub.status.busy": "2022-09-27T01:47:30.802949Z",
     "iopub.status.idle": "2022-09-27T01:47:31.031702Z",
     "shell.execute_reply": "2022-09-27T01:47:31.030432Z"
    },
    "papermill": {
     "duration": 0.305407,
     "end_time": "2022-09-27T01:47:31.035082",
     "exception": false,
     "start_time": "2022-09-27T01:47:30.729675",
     "status": "completed"
    },
    "tags": []
   },
   "outputs": [
    {
     "name": "stdout",
     "output_type": "stream",
     "text": [
      "[1 1 1 1 1 1 0 0 0 0]\n"
     ]
    }
   ],
   "source": [
    "submission = pd.read_csv('../input/nlp-getting-started/sample_submission.csv')\n",
    "\n",
    "tst_predictions = model.predict(tst_tweets)\n",
    "tst_predictions = np.round(tst_predictions).flatten().astype(int)\n",
    "print(tst_predictions[:10])"
   ]
  },
  {
   "cell_type": "code",
   "execution_count": 25,
   "id": "516ee7d7",
   "metadata": {
    "execution": {
     "iopub.execute_input": "2022-09-27T01:47:31.188348Z",
     "iopub.status.busy": "2022-09-27T01:47:31.187935Z",
     "iopub.status.idle": "2022-09-27T01:47:31.193707Z",
     "shell.execute_reply": "2022-09-27T01:47:31.192632Z"
    },
    "papermill": {
     "duration": 0.084339,
     "end_time": "2022-09-27T01:47:31.196104",
     "exception": false,
     "start_time": "2022-09-27T01:47:31.111765",
     "status": "completed"
    },
    "tags": []
   },
   "outputs": [],
   "source": [
    "submission['target'] = tst_predictions"
   ]
  },
  {
   "cell_type": "code",
   "execution_count": 26,
   "id": "edc37662",
   "metadata": {
    "execution": {
     "iopub.execute_input": "2022-09-27T01:47:31.352702Z",
     "iopub.status.busy": "2022-09-27T01:47:31.351644Z",
     "iopub.status.idle": "2022-09-27T01:47:31.362991Z",
     "shell.execute_reply": "2022-09-27T01:47:31.361968Z"
    },
    "papermill": {
     "duration": 0.091961,
     "end_time": "2022-09-27T01:47:31.365161",
     "exception": false,
     "start_time": "2022-09-27T01:47:31.273200",
     "status": "completed"
    },
    "tags": []
   },
   "outputs": [],
   "source": [
    "submission.to_csv('submission.csv', index=False)"
   ]
  }
 ],
 "metadata": {
  "kernelspec": {
   "display_name": "Python 3",
   "language": "python",
   "name": "python3"
  },
  "language_info": {
   "codemirror_mode": {
    "name": "ipython",
    "version": 3
   },
   "file_extension": ".py",
   "mimetype": "text/x-python",
   "name": "python",
   "nbconvert_exporter": "python",
   "pygments_lexer": "ipython3",
   "version": "3.7.12"
  },
  "papermill": {
   "default_parameters": {},
   "duration": 125.736907,
   "end_time": "2022-09-27T01:47:34.528553",
   "environment_variables": {},
   "exception": null,
   "input_path": "__notebook__.ipynb",
   "output_path": "__notebook__.ipynb",
   "parameters": {},
   "start_time": "2022-09-27T01:45:28.791646",
   "version": "2.3.4"
  }
 },
 "nbformat": 4,
 "nbformat_minor": 5
}
