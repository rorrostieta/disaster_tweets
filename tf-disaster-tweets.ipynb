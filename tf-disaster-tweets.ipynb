{
 "cells": [
  {
   "cell_type": "markdown",
   "id": "64f561c9",
   "metadata": {},
   "source": [
    "# Disaster Tweets with NLP Kaggle Mini-Project\n",
    "\n",
    "Hello, welcome to this project which is my submission for the Kaggle competition [NLP with Disaster Tweets](https://www.kaggle.com/c/nlp-getting-started/overview). IF you want to see this project you can check the my GitHub repo [rorrostieta/disaster_tweets](https://github.com/rorrostieta/disaster_tweets) for more info on the libraries and the code I used to execute this project within the Kaggle kernel. Lets begin!\n",
    "\n",
    "## The Problem\n",
    "For this competition we're given a train and test dataser which contain the following information:\n",
    "* id\n",
    "* keyword\n",
    "* location\n",
    "* text (tweet)\n",
    "* target (disaster)\n",
    "\n",
    "The objective is to identidy if there is a disaster present where people are base on the words they use whether they're spending their time under te burning hot sun or maybe it is an actual emergency such as a forest fire. We will be using about 7.6K text entries which we need to handle approprietly in order to predict if a disaster is happening or not (this can be identified in the target column with a 0 NO disaster or a 1 there IS/WAS a disaster).\n",
    "\n",
    "## Set up and Exploratory Data Analysis\n",
    "I'll be using a couple sklearn libraries to split the data and evaluate the models made with keras with tensorflow backend, both of these with some well known data preprocessing libraries panda, numpy and matplotlib for visualization."
   ]
  },
  {
   "cell_type": "code",
   "execution_count": 1,
   "id": "fe8e2a81",
   "metadata": {
    "execution": {
     "iopub.execute_input": "2022-09-27T23:08:52.757863Z",
     "iopub.status.busy": "2022-09-27T23:08:52.757306Z",
     "iopub.status.idle": "2022-09-27T23:08:59.143419Z",
     "shell.execute_reply": "2022-09-27T23:08:59.142440Z"
    },
    "papermill": {
     "duration": 6.397939,
     "end_time": "2022-09-27T23:08:59.146154",
     "exception": false,
     "start_time": "2022-09-27T23:08:52.748215",
     "status": "completed"
    },
    "tags": []
   },
   "outputs": [],
   "source": [
    "import pandas as pd\n",
    "import numpy as np\n",
    "import matplotlib.pyplot as plt\n",
    "from sklearn.model_selection import train_test_split\n",
    "from sklearn.metrics import accuracy_score\n",
    "\n",
    "import tensorflow as tf\n",
    "from tensorflow.keras import layers\n",
    "from tensorflow.keras.layers import TextVectorization\n",
    "from tensorflow.keras import losses"
   ]
  },
  {
   "cell_type": "markdown",
   "id": "c4096968",
   "metadata": {},
   "source": [
    "### Importing the Data"
   ]
  },
  {
   "cell_type": "code",
   "execution_count": 2,
   "id": "d1fb67ee",
   "metadata": {
    "execution": {
     "iopub.execute_input": "2022-09-27T23:08:59.175898Z",
     "iopub.status.busy": "2022-09-27T23:08:59.173759Z",
     "iopub.status.idle": "2022-09-27T23:08:59.252348Z",
     "shell.execute_reply": "2022-09-27T23:08:59.251372Z"
    },
    "papermill": {
     "duration": 0.08877,
     "end_time": "2022-09-27T23:08:59.254794",
     "exception": false,
     "start_time": "2022-09-27T23:08:59.166024",
     "status": "completed"
    },
    "tags": []
   },
   "outputs": [
    {
     "data": {
      "text/html": [
       "<div>\n",
       "<style scoped>\n",
       "    .dataframe tbody tr th:only-of-type {\n",
       "        vertical-align: middle;\n",
       "    }\n",
       "\n",
       "    .dataframe tbody tr th {\n",
       "        vertical-align: top;\n",
       "    }\n",
       "\n",
       "    .dataframe thead th {\n",
       "        text-align: right;\n",
       "    }\n",
       "</style>\n",
       "<table border=\"1\" class=\"dataframe\">\n",
       "  <thead>\n",
       "    <tr style=\"text-align: right;\">\n",
       "      <th></th>\n",
       "      <th>id</th>\n",
       "      <th>keyword</th>\n",
       "      <th>location</th>\n",
       "      <th>text</th>\n",
       "      <th>target</th>\n",
       "    </tr>\n",
       "  </thead>\n",
       "  <tbody>\n",
       "    <tr>\n",
       "      <th>0</th>\n",
       "      <td>1</td>\n",
       "      <td>NaN</td>\n",
       "      <td>NaN</td>\n",
       "      <td>Our Deeds are the Reason of this #earthquake M...</td>\n",
       "      <td>1</td>\n",
       "    </tr>\n",
       "    <tr>\n",
       "      <th>1</th>\n",
       "      <td>4</td>\n",
       "      <td>NaN</td>\n",
       "      <td>NaN</td>\n",
       "      <td>Forest fire near La Ronge Sask. Canada</td>\n",
       "      <td>1</td>\n",
       "    </tr>\n",
       "    <tr>\n",
       "      <th>2</th>\n",
       "      <td>5</td>\n",
       "      <td>NaN</td>\n",
       "      <td>NaN</td>\n",
       "      <td>All residents asked to 'shelter in place' are ...</td>\n",
       "      <td>1</td>\n",
       "    </tr>\n",
       "    <tr>\n",
       "      <th>3</th>\n",
       "      <td>6</td>\n",
       "      <td>NaN</td>\n",
       "      <td>NaN</td>\n",
       "      <td>13,000 people receive #wildfires evacuation or...</td>\n",
       "      <td>1</td>\n",
       "    </tr>\n",
       "    <tr>\n",
       "      <th>4</th>\n",
       "      <td>7</td>\n",
       "      <td>NaN</td>\n",
       "      <td>NaN</td>\n",
       "      <td>Just got sent this photo from Ruby #Alaska as ...</td>\n",
       "      <td>1</td>\n",
       "    </tr>\n",
       "  </tbody>\n",
       "</table>\n",
       "</div>"
      ],
      "text/plain": [
       "   id keyword location                                               text  \\\n",
       "0   1     NaN      NaN  Our Deeds are the Reason of this #earthquake M...   \n",
       "1   4     NaN      NaN             Forest fire near La Ronge Sask. Canada   \n",
       "2   5     NaN      NaN  All residents asked to 'shelter in place' are ...   \n",
       "3   6     NaN      NaN  13,000 people receive #wildfires evacuation or...   \n",
       "4   7     NaN      NaN  Just got sent this photo from Ruby #Alaska as ...   \n",
       "\n",
       "   target  \n",
       "0       1  \n",
       "1       1  \n",
       "2       1  \n",
       "3       1  \n",
       "4       1  "
      ]
     },
     "execution_count": 2,
     "metadata": {},
     "output_type": "execute_result"
    }
   ],
   "source": [
    "train_data = pd.read_csv('../input/nlp-getting-started/train.csv')\n",
    "test_data = pd.read_csv('../input/nlp-getting-started/test.csv')\n",
    "train_data.head()"
   ]
  },
  {
   "cell_type": "code",
   "execution_count": 3,
   "id": "05184b66",
   "metadata": {
    "execution": {
     "iopub.execute_input": "2022-09-27T23:08:59.269573Z",
     "iopub.status.busy": "2022-09-27T23:08:59.269234Z",
     "iopub.status.idle": "2022-09-27T23:08:59.281341Z",
     "shell.execute_reply": "2022-09-27T23:08:59.280344Z"
    },
    "papermill": {
     "duration": 0.021951,
     "end_time": "2022-09-27T23:08:59.283487",
     "exception": false,
     "start_time": "2022-09-27T23:08:59.261536",
     "status": "completed"
    },
    "tags": []
   },
   "outputs": [
    {
     "data": {
      "text/html": [
       "<div>\n",
       "<style scoped>\n",
       "    .dataframe tbody tr th:only-of-type {\n",
       "        vertical-align: middle;\n",
       "    }\n",
       "\n",
       "    .dataframe tbody tr th {\n",
       "        vertical-align: top;\n",
       "    }\n",
       "\n",
       "    .dataframe thead th {\n",
       "        text-align: right;\n",
       "    }\n",
       "</style>\n",
       "<table border=\"1\" class=\"dataframe\">\n",
       "  <thead>\n",
       "    <tr style=\"text-align: right;\">\n",
       "      <th></th>\n",
       "      <th>id</th>\n",
       "      <th>keyword</th>\n",
       "      <th>location</th>\n",
       "      <th>text</th>\n",
       "    </tr>\n",
       "  </thead>\n",
       "  <tbody>\n",
       "    <tr>\n",
       "      <th>0</th>\n",
       "      <td>0</td>\n",
       "      <td>NaN</td>\n",
       "      <td>NaN</td>\n",
       "      <td>Just happened a terrible car crash</td>\n",
       "    </tr>\n",
       "    <tr>\n",
       "      <th>1</th>\n",
       "      <td>2</td>\n",
       "      <td>NaN</td>\n",
       "      <td>NaN</td>\n",
       "      <td>Heard about #earthquake is different cities, s...</td>\n",
       "    </tr>\n",
       "    <tr>\n",
       "      <th>2</th>\n",
       "      <td>3</td>\n",
       "      <td>NaN</td>\n",
       "      <td>NaN</td>\n",
       "      <td>there is a forest fire at spot pond, geese are...</td>\n",
       "    </tr>\n",
       "    <tr>\n",
       "      <th>3</th>\n",
       "      <td>9</td>\n",
       "      <td>NaN</td>\n",
       "      <td>NaN</td>\n",
       "      <td>Apocalypse lighting. #Spokane #wildfires</td>\n",
       "    </tr>\n",
       "    <tr>\n",
       "      <th>4</th>\n",
       "      <td>11</td>\n",
       "      <td>NaN</td>\n",
       "      <td>NaN</td>\n",
       "      <td>Typhoon Soudelor kills 28 in China and Taiwan</td>\n",
       "    </tr>\n",
       "  </tbody>\n",
       "</table>\n",
       "</div>"
      ],
      "text/plain": [
       "   id keyword location                                               text\n",
       "0   0     NaN      NaN                 Just happened a terrible car crash\n",
       "1   2     NaN      NaN  Heard about #earthquake is different cities, s...\n",
       "2   3     NaN      NaN  there is a forest fire at spot pond, geese are...\n",
       "3   9     NaN      NaN           Apocalypse lighting. #Spokane #wildfires\n",
       "4  11     NaN      NaN      Typhoon Soudelor kills 28 in China and Taiwan"
      ]
     },
     "execution_count": 3,
     "metadata": {},
     "output_type": "execute_result"
    }
   ],
   "source": [
    "test_data.head()"
   ]
  },
  {
   "cell_type": "code",
   "execution_count": 4,
   "id": "2b846b42",
   "metadata": {
    "execution": {
     "iopub.execute_input": "2022-09-27T23:08:59.298186Z",
     "iopub.status.busy": "2022-09-27T23:08:59.297891Z",
     "iopub.status.idle": "2022-09-27T23:08:59.311346Z",
     "shell.execute_reply": "2022-09-27T23:08:59.310438Z"
    },
    "papermill": {
     "duration": 0.023276,
     "end_time": "2022-09-27T23:08:59.313571",
     "exception": false,
     "start_time": "2022-09-27T23:08:59.290295",
     "status": "completed"
    },
    "tags": []
   },
   "outputs": [
    {
     "data": {
      "text/plain": [
       "<bound method DataFrame.info of          id keyword location  \\\n",
       "0         1     NaN      NaN   \n",
       "1         4     NaN      NaN   \n",
       "2         5     NaN      NaN   \n",
       "3         6     NaN      NaN   \n",
       "4         7     NaN      NaN   \n",
       "...     ...     ...      ...   \n",
       "7608  10869     NaN      NaN   \n",
       "7609  10870     NaN      NaN   \n",
       "7610  10871     NaN      NaN   \n",
       "7611  10872     NaN      NaN   \n",
       "7612  10873     NaN      NaN   \n",
       "\n",
       "                                                   text  target  \n",
       "0     Our Deeds are the Reason of this #earthquake M...       1  \n",
       "1                Forest fire near La Ronge Sask. Canada       1  \n",
       "2     All residents asked to 'shelter in place' are ...       1  \n",
       "3     13,000 people receive #wildfires evacuation or...       1  \n",
       "4     Just got sent this photo from Ruby #Alaska as ...       1  \n",
       "...                                                 ...     ...  \n",
       "7608  Two giant cranes holding a bridge collapse int...       1  \n",
       "7609  @aria_ahrary @TheTawniest The out of control w...       1  \n",
       "7610  M1.94 [01:04 UTC]?5km S of Volcano Hawaii. htt...       1  \n",
       "7611  Police investigating after an e-bike collided ...       1  \n",
       "7612  The Latest: More Homes Razed by Northern Calif...       1  \n",
       "\n",
       "[7613 rows x 5 columns]>"
      ]
     },
     "execution_count": 4,
     "metadata": {},
     "output_type": "execute_result"
    }
   ],
   "source": [
    "train_data.info"
   ]
  },
  {
   "cell_type": "markdown",
   "id": "23d9f028",
   "metadata": {},
   "source": [
    "From the first looks we see we have 5 columns where `keyword` and `location` have some missing values we need to look into. Additionally the `text` field has the tweets with their respective hashtags and links which we might need to be careful with.\n",
    "\n",
    "The strategy will be to see how many `keywords` and `locations` we have available. For the `text` side of things lets see the distribution for **number of words** and the **number of characters** these might be useful for our text analysis later."
   ]
  },
  {
   "cell_type": "code",
   "execution_count": 5,
   "id": "9fa1a88a",
   "metadata": {
    "execution": {
     "iopub.execute_input": "2022-09-27T23:08:59.328393Z",
     "iopub.status.busy": "2022-09-27T23:08:59.327996Z",
     "iopub.status.idle": "2022-09-27T23:08:59.339848Z",
     "shell.execute_reply": "2022-09-27T23:08:59.338391Z"
    },
    "papermill": {
     "duration": 0.021655,
     "end_time": "2022-09-27T23:08:59.341939",
     "exception": false,
     "start_time": "2022-09-27T23:08:59.320284",
     "status": "completed"
    },
    "tags": []
   },
   "outputs": [
    {
     "name": "stdout",
     "output_type": "stream",
     "text": [
      "Number of unique keywords: 222\n",
      "Number of unique locations: 3342\n"
     ]
    }
   ],
   "source": [
    "print('Number of unique keywords:',len(train_data['keyword'].unique()))\n",
    "print('Number of unique locations:',len(train_data['location'].unique()))"
   ]
  },
  {
   "cell_type": "code",
   "execution_count": 6,
   "id": "159e55bf",
   "metadata": {
    "execution": {
     "iopub.execute_input": "2022-09-27T23:08:59.356872Z",
     "iopub.status.busy": "2022-09-27T23:08:59.356585Z",
     "iopub.status.idle": "2022-09-27T23:08:59.690274Z",
     "shell.execute_reply": "2022-09-27T23:08:59.689345Z"
    },
    "papermill": {
     "duration": 0.343616,
     "end_time": "2022-09-27T23:08:59.692262",
     "exception": false,
     "start_time": "2022-09-27T23:08:59.348646",
     "status": "completed"
    },
    "tags": []
   },
   "outputs": [
    {
     "data": {
      "text/plain": [
       "array([[<AxesSubplot:title={'center':'keyword'}>,\n",
       "        <AxesSubplot:title={'center':'location'}>]], dtype=object)"
      ]
     },
     "execution_count": 6,
     "metadata": {},
     "output_type": "execute_result"
    },
    {
     "data": {
      "image/png": "[encoded data removed]",
      "text/plain": [
       "<Figure size 432x288 with 2 Axes>"
      ]
     },
     "metadata": {
      "needs_background": "light"
     },
     "output_type": "display_data"
    }
   ],
   "source": [
    "train_data[['keyword', 'location']].notna().astype(int).hist(bins=2)"
   ]
  },
  {
   "cell_type": "code",
   "execution_count": 7,
   "id": "4ff3d326",
   "metadata": {
    "execution": {
     "iopub.execute_input": "2022-09-27T23:08:59.708596Z",
     "iopub.status.busy": "2022-09-27T23:08:59.708282Z",
     "iopub.status.idle": "2022-09-27T23:09:00.115311Z",
     "shell.execute_reply": "2022-09-27T23:09:00.114340Z"
    },
    "papermill": {
     "duration": 0.417111,
     "end_time": "2022-09-27T23:09:00.117575",
     "exception": false,
     "start_time": "2022-09-27T23:08:59.700464",
     "status": "completed"
    },
    "tags": []
   },
   "outputs": [
    {
     "data": {
      "image/png": "[encoded data removed]",
      "text/plain": [
       "<Figure size 432x288 with 1 Axes>"
      ]
     },
     "metadata": {
      "needs_background": "light"
     },
     "output_type": "display_data"
    },
    {
     "data": {
      "image/png": "[encoded data removed]",
      "text/plain": [
       "<Figure size 432x288 with 1 Axes>"
      ]
     },
     "metadata": {
      "needs_background": "light"
     },
     "output_type": "display_data"
    }
   ],
   "source": [
    "train_data['text'].str.split().map(len).hist()\n",
    "plt.show()\n",
    "train_data['text'].map(len).hist()\n",
    "plt.show()"
   ]
  },
  {
   "cell_type": "code",
   "execution_count": 8,
   "id": "726443a7",
   "metadata": {
    "execution": {
     "iopub.execute_input": "2022-09-27T23:09:00.133501Z",
     "iopub.status.busy": "2022-09-27T23:09:00.133178Z",
     "iopub.status.idle": "2022-09-27T23:09:00.339957Z",
     "shell.execute_reply": "2022-09-27T23:09:00.339100Z"
    },
    "papermill": {
     "duration": 0.217195,
     "end_time": "2022-09-27T23:09:00.342126",
     "exception": false,
     "start_time": "2022-09-27T23:09:00.124931",
     "status": "completed"
    },
    "tags": []
   },
   "outputs": [
    {
     "data": {
      "text/plain": [
       "<AxesSubplot:>"
      ]
     },
     "execution_count": 8,
     "metadata": {},
     "output_type": "execute_result"
    },
    {
     "data": {
      "image/png": "[encoded data removed]",
      "text/plain": [
       "<Figure size 432x288 with 1 Axes>"
      ]
     },
     "metadata": {
      "needs_background": "light"
     },
     "output_type": "display_data"
    }
   ],
   "source": [
    "train_data['target'].hist()"
   ]
  },
  {
   "cell_type": "markdown",
   "id": "486d213d",
   "metadata": {
    "papermill": {
     "duration": 0.007502,
     "end_time": "2022-09-27T23:09:00.357318",
     "exception": false,
     "start_time": "2022-09-27T23:09:00.349816",
     "status": "completed"
    },
    "tags": []
   },
   "source": [
    "### EDA Results\n",
    "* **Dismiss `keywords` and `location`** this becasue we have only around 200s `keywords` which are integrated into the text this might be redundant information which can create bias but the opposite happends with `location` which we have a lot of values almost half of the sample size which could cause problems.\n",
    "* **`Text` entries have no more than 30 words**, knowing this is important since we might need to understand out data source in this case tweets which are limited in nature allowing us to target certain amount of words.\n",
    "* **Good split of Y values** this should be enough to be able to train and validate the model.\n",
    "\n",
    "## PreProcessing"
   ]
  },
  {
   "cell_type": "code",
   "execution_count": 9,
   "id": "2e8e2683",
   "metadata": {
    "execution": {
     "iopub.execute_input": "2022-09-27T23:09:00.373137Z",
     "iopub.status.busy": "2022-09-27T23:09:00.372865Z",
     "iopub.status.idle": "2022-09-27T23:09:00.379688Z",
     "shell.execute_reply": "2022-09-27T23:09:00.378680Z"
    },
    "papermill": {
     "duration": 0.017444,
     "end_time": "2022-09-27T23:09:00.381957",
     "exception": false,
     "start_time": "2022-09-27T23:09:00.364513",
     "status": "completed"
    },
    "tags": []
   },
   "outputs": [],
   "source": [
    "tweets = train_data['text'].to_numpy()\n",
    "labels = train_data['target'].to_numpy()\n",
    "tst_tweets = test_data['text']\n",
    "trn_tweets, val_tweets, trn_labels, val_labels = train_test_split(tweets, labels, test_size=0.2, random_state=42, shuffle=True)"
   ]
  },
  {
   "cell_type": "code",
   "execution_count": 10,
   "id": "767db71e",
   "metadata": {
    "execution": {
     "iopub.execute_input": "2022-09-27T23:09:00.397449Z",
     "iopub.status.busy": "2022-09-27T23:09:00.397165Z",
     "iopub.status.idle": "2022-09-27T23:09:03.241455Z",
     "shell.execute_reply": "2022-09-27T23:09:03.238562Z"
    },
    "papermill": {
     "duration": 2.855481,
     "end_time": "2022-09-27T23:09:03.244663",
     "exception": false,
     "start_time": "2022-09-27T23:09:00.389182",
     "status": "completed"
    },
    "tags": []
   },
   "outputs": [
    {
     "name": "stderr",
     "output_type": "stream",
     "text": [
      "2022-09-27 23:09:00.490969: I tensorflow/stream_executor/cuda/cuda_gpu_executor.cc:937] successful NUMA node read from SysFS had negative value (-1), but there must be at least one NUMA node, so returning NUMA node zero\n",
      "2022-09-27 23:09:00.592045: I tensorflow/stream_executor/cuda/cuda_gpu_executor.cc:937] successful NUMA node read from SysFS had negative value (-1), but there must be at least one NUMA node, so returning NUMA node zero\n",
      "2022-09-27 23:09:00.592871: I tensorflow/stream_executor/cuda/cuda_gpu_executor.cc:937] successful NUMA node read from SysFS had negative value (-1), but there must be at least one NUMA node, so returning NUMA node zero\n",
      "2022-09-27 23:09:00.594523: I tensorflow/core/platform/cpu_feature_guard.cc:142] This TensorFlow binary is optimized with oneAPI Deep Neural Network Library (oneDNN) to use the following CPU instructions in performance-critical operations:  AVX2 AVX512F FMA\n",
      "To enable them in other operations, rebuild TensorFlow with the appropriate compiler flags.\n",
      "2022-09-27 23:09:00.594870: I tensorflow/stream_executor/cuda/cuda_gpu_executor.cc:937] successful NUMA node read from SysFS had negative value (-1), but there must be at least one NUMA node, so returning NUMA node zero\n",
      "2022-09-27 23:09:00.595585: I tensorflow/stream_executor/cuda/cuda_gpu_executor.cc:937] successful NUMA node read from SysFS had negative value (-1), but there must be at least one NUMA node, so returning NUMA node zero\n",
      "2022-09-27 23:09:00.596223: I tensorflow/stream_executor/cuda/cuda_gpu_executor.cc:937] successful NUMA node read from SysFS had negative value (-1), but there must be at least one NUMA node, so returning NUMA node zero\n",
      "2022-09-27 23:09:02.873944: I tensorflow/stream_executor/cuda/cuda_gpu_executor.cc:937] successful NUMA node read from SysFS had negative value (-1), but there must be at least one NUMA node, so returning NUMA node zero\n",
      "2022-09-27 23:09:02.874812: I tensorflow/stream_executor/cuda/cuda_gpu_executor.cc:937] successful NUMA node read from SysFS had negative value (-1), but there must be at least one NUMA node, so returning NUMA node zero\n",
      "2022-09-27 23:09:02.875480: I tensorflow/stream_executor/cuda/cuda_gpu_executor.cc:937] successful NUMA node read from SysFS had negative value (-1), but there must be at least one NUMA node, so returning NUMA node zero\n",
      "2022-09-27 23:09:02.876055: I tensorflow/core/common_runtime/gpu/gpu_device.cc:1510] Created device /job:localhost/replica:0/task:0/device:GPU:0 with 15401 MB memory:  -> device: 0, name: Tesla P100-PCIE-16GB, pci bus id: 0000:00:04.0, compute capability: 6.0\n"
     ]
    }
   ],
   "source": [
    "max_features = 20000\n",
    "sequence_length = 50\n",
    "\n",
    "vectorize_layer = TextVectorization(\n",
    "    standardize='lower_and_strip_punctuation',\n",
    "    max_tokens=max_features,\n",
    "    output_mode='int',\n",
    "    output_sequence_length=sequence_length)"
   ]
  },
  {
   "cell_type": "code",
   "execution_count": 11,
   "id": "83029ff7",
   "metadata": {
    "execution": {
     "iopub.execute_input": "2022-09-27T23:09:03.266798Z",
     "iopub.status.busy": "2022-09-27T23:09:03.266462Z",
     "iopub.status.idle": "2022-09-27T23:09:03.718340Z",
     "shell.execute_reply": "2022-09-27T23:09:03.717351Z"
    },
    "papermill": {
     "duration": 0.463476,
     "end_time": "2022-09-27T23:09:03.720976",
     "exception": false,
     "start_time": "2022-09-27T23:09:03.257500",
     "status": "completed"
    },
    "tags": []
   },
   "outputs": [
    {
     "name": "stderr",
     "output_type": "stream",
     "text": [
      "2022-09-27 23:09:03.339816: I tensorflow/compiler/mlir/mlir_graph_optimization_pass.cc:185] None of the MLIR Optimization Passes are enabled (registered 2)\n"
     ]
    }
   ],
   "source": [
    "vectorize_layer.adapt(trn_tweets)"
   ]
  },
  {
   "cell_type": "code",
   "execution_count": 12,
   "id": "fc083048",
   "metadata": {
    "execution": {
     "iopub.execute_input": "2022-09-27T23:09:03.738607Z",
     "iopub.status.busy": "2022-09-27T23:09:03.738248Z",
     "iopub.status.idle": "2022-09-27T23:09:03.806437Z",
     "shell.execute_reply": "2022-09-27T23:09:03.804836Z"
    },
    "papermill": {
     "duration": 0.079439,
     "end_time": "2022-09-27T23:09:03.808662",
     "exception": false,
     "start_time": "2022-09-27T23:09:03.729223",
     "status": "completed"
    },
    "tags": []
   },
   "outputs": [
    {
     "name": "stdout",
     "output_type": "stream",
     "text": [
      "Tweet Courageous and honest analysis of need to use Atomic Bomb in 1945. #Hiroshima70 Japanese military refused surrender. https://t.co/VhmtyTptGR\n",
      "Label 1\n",
      "Vectorized Tweet tf.Tensor(\n",
      "[17198     8  4962  2917     6   156     5   438   216   118     4  2377\n",
      "  4973  1177   240  4381  4119 14803     0     0     0     0     0     0\n",
      "     0     0     0     0     0     0     0     0     0     0     0     0\n",
      "     0     0     0     0     0     0     0     0     0     0     0     0\n",
      "     0     0], shape=(50,), dtype=int64)\n"
     ]
    }
   ],
   "source": [
    "first_tweet = trn_tweets[0]\n",
    "first_label = trn_labels[0]\n",
    "print('Tweet', first_tweet)\n",
    "print('Label', first_label)\n",
    "print('Vectorized Tweet', vectorize_layer(trn_tweets[0]))"
   ]
  },
  {
   "cell_type": "code",
   "execution_count": 13,
   "id": "6cf8f2d7",
   "metadata": {
    "execution": {
     "iopub.execute_input": "2022-09-27T23:09:03.826932Z",
     "iopub.status.busy": "2022-09-27T23:09:03.826499Z",
     "iopub.status.idle": "2022-09-27T23:09:03.997864Z",
     "shell.execute_reply": "2022-09-27T23:09:03.995894Z"
    },
    "papermill": {
     "duration": 0.183624,
     "end_time": "2022-09-27T23:09:04.000972",
     "exception": false,
     "start_time": "2022-09-27T23:09:03.817348",
     "status": "completed"
    },
    "tags": []
   },
   "outputs": [
    {
     "name": "stdout",
     "output_type": "stream",
     "text": [
      "Word #1 --> [UNK]\n",
      "Word #8 --> and\n",
      "Word #4962 --> honest\n",
      "Total words in training vocabulary: 19422\n"
     ]
    }
   ],
   "source": [
    "print('Word #1 -->', vectorize_layer.get_vocabulary()[1])\n",
    "print('Word #8 -->', vectorize_layer.get_vocabulary()[8])\n",
    "print('Word #4962 -->', vectorize_layer.get_vocabulary()[4962])\n",
    "print('Total words in training vocabulary:', len(vectorize_layer.get_vocabulary()))"
   ]
  },
  {
   "cell_type": "code",
   "execution_count": 14,
   "id": "0a2a3002",
   "metadata": {
    "execution": {
     "iopub.execute_input": "2022-09-27T23:09:04.018528Z",
     "iopub.status.busy": "2022-09-27T23:09:04.018203Z",
     "iopub.status.idle": "2022-09-27T23:09:04.025630Z",
     "shell.execute_reply": "2022-09-27T23:09:04.024477Z"
    },
    "papermill": {
     "duration": 0.020505,
     "end_time": "2022-09-27T23:09:04.029923",
     "exception": false,
     "start_time": "2022-09-27T23:09:04.009418",
     "status": "completed"
    },
    "tags": []
   },
   "outputs": [],
   "source": [
    "embedding_layer = layers.Embedding(\n",
    "    input_dim = max_features,\n",
    "    output_dim=128,\n",
    "    embeddings_initializer='uniform',\n",
    "    input_length=sequence_length,\n",
    "    name='mbedding_1')"
   ]
  },
  {
   "cell_type": "code",
   "execution_count": 15,
   "id": "a00ebca9",
   "metadata": {
    "execution": {
     "iopub.execute_input": "2022-09-27T23:09:04.046985Z",
     "iopub.status.busy": "2022-09-27T23:09:04.046662Z",
     "iopub.status.idle": "2022-09-27T23:09:04.110249Z",
     "shell.execute_reply": "2022-09-27T23:09:04.109349Z"
    },
    "papermill": {
     "duration": 0.074475,
     "end_time": "2022-09-27T23:09:04.112296",
     "exception": false,
     "start_time": "2022-09-27T23:09:04.037821",
     "status": "completed"
    },
    "tags": []
   },
   "outputs": [
    {
     "name": "stdout",
     "output_type": "stream",
     "text": [
      "Model: \"Dense_Model\"\n",
      "_________________________________________________________________\n",
      "Layer (type)                 Output Shape              Param #   \n",
      "=================================================================\n",
      "input_1 (InputLayer)         [(None, 1)]               0         \n",
      "_________________________________________________________________\n",
      "text_vectorization (TextVect (None, 50)                0         \n",
      "_________________________________________________________________\n",
      "mbedding_1 (Embedding)       (None, 50, 128)           2560000   \n",
      "_________________________________________________________________\n",
      "global_average_pooling1d (Gl (None, 128)               0         \n",
      "_________________________________________________________________\n",
      "dense (Dense)                (None, 1)                 129       \n",
      "=================================================================\n",
      "Total params: 2,560,129\n",
      "Trainable params: 2,560,129\n",
      "Non-trainable params: 0\n",
      "_________________________________________________________________\n"
     ]
    }
   ],
   "source": [
    "Is = layers.Input(shape = (1,), dtype = tf.string)\n",
    "L1 = vectorize_layer(Is)\n",
    "L2 = embedding_layer(L1)\n",
    "L3 = layers.GlobalAveragePooling1D()(L2)\n",
    "Os = layers.Dense(1, activation = 'sigmoid')(L3)\n",
    "\n",
    "model = tf.keras.Model(Is, Os, name = 'Dense_Model')\n",
    "model.summary()"
   ]
  },
  {
   "cell_type": "code",
   "execution_count": 16,
   "id": "1e4893b1",
   "metadata": {
    "execution": {
     "iopub.execute_input": "2022-09-27T23:09:04.130484Z",
     "iopub.status.busy": "2022-09-27T23:09:04.129655Z",
     "iopub.status.idle": "2022-09-27T23:09:19.264820Z",
     "shell.execute_reply": "2022-09-27T23:09:19.263800Z"
    },
    "papermill": {
     "duration": 15.147649,
     "end_time": "2022-09-27T23:09:19.267981",
     "exception": false,
     "start_time": "2022-09-27T23:09:04.120332",
     "status": "completed"
    },
    "tags": []
   },
   "outputs": [
    {
     "name": "stdout",
     "output_type": "stream",
     "text": [
      "Epoch 1/15\n",
      "191/191 [==============================] - 3s 5ms/step - loss: 0.6661 - accuracy: 0.5852 - val_loss: 0.6382 - val_accuracy: 0.6422\n",
      "Epoch 2/15\n",
      "191/191 [==============================] - 1s 4ms/step - loss: 0.5761 - accuracy: 0.7458 - val_loss: 0.5504 - val_accuracy: 0.7636\n",
      "Epoch 3/15\n",
      "191/191 [==============================] - 1s 5ms/step - loss: 0.4607 - accuracy: 0.8389 - val_loss: 0.4922 - val_accuracy: 0.7978\n",
      "Epoch 4/15\n",
      "191/191 [==============================] - 1s 5ms/step - loss: 0.3745 - accuracy: 0.8690 - val_loss: 0.4656 - val_accuracy: 0.8076\n",
      "Epoch 5/15\n",
      "191/191 [==============================] - 1s 5ms/step - loss: 0.3116 - accuracy: 0.8933 - val_loss: 0.4550 - val_accuracy: 0.8063\n",
      "Epoch 6/15\n",
      "191/191 [==============================] - 1s 4ms/step - loss: 0.2594 - accuracy: 0.9117 - val_loss: 0.4506 - val_accuracy: 0.8070\n",
      "Epoch 7/15\n",
      "191/191 [==============================] - 1s 4ms/step - loss: 0.2186 - accuracy: 0.9314 - val_loss: 0.4582 - val_accuracy: 0.7965\n",
      "Epoch 8/15\n",
      "191/191 [==============================] - 1s 5ms/step - loss: 0.1852 - accuracy: 0.9438 - val_loss: 0.4612 - val_accuracy: 0.8109\n",
      "Epoch 9/15\n",
      "191/191 [==============================] - 1s 5ms/step - loss: 0.1570 - accuracy: 0.9553 - val_loss: 0.4677 - val_accuracy: 0.8089\n",
      "Epoch 10/15\n",
      "191/191 [==============================] - 1s 4ms/step - loss: 0.1358 - accuracy: 0.9634 - val_loss: 0.4780 - val_accuracy: 0.7991\n",
      "Epoch 11/15\n",
      "191/191 [==============================] - 1s 5ms/step - loss: 0.1159 - accuracy: 0.9685 - val_loss: 0.4862 - val_accuracy: 0.7991\n",
      "Epoch 12/15\n",
      "191/191 [==============================] - 1s 6ms/step - loss: 0.0992 - accuracy: 0.9755 - val_loss: 0.5016 - val_accuracy: 0.7984\n",
      "Epoch 13/15\n",
      "191/191 [==============================] - 1s 5ms/step - loss: 0.0864 - accuracy: 0.9790 - val_loss: 0.5113 - val_accuracy: 0.7945\n",
      "Epoch 14/15\n",
      "191/191 [==============================] - 1s 4ms/step - loss: 0.0752 - accuracy: 0.9833 - val_loss: 0.5233 - val_accuracy: 0.7945\n",
      "Epoch 15/15\n",
      "191/191 [==============================] - 1s 5ms/step - loss: 0.0659 - accuracy: 0.9847 - val_loss: 0.5364 - val_accuracy: 0.7919\n"
     ]
    }
   ],
   "source": [
    "model.compile(\n",
    "    optimizer='adam',\n",
    "    loss='binary_crossentropy',\n",
    "    metrics='accuracy'\n",
    ")\n",
    "history = model.fit(\n",
    "    x=trn_tweets,\n",
    "    y=trn_labels,\n",
    "    epochs=15,\n",
    "    validation_data=(val_tweets, val_labels)\n",
    ")"
   ]
  },
  {
   "cell_type": "code",
   "execution_count": 17,
   "id": "df1edb56",
   "metadata": {
    "execution": {
     "iopub.execute_input": "2022-09-27T23:09:19.342253Z",
     "iopub.status.busy": "2022-09-27T23:09:19.341829Z",
     "iopub.status.idle": "2022-09-27T23:09:19.631994Z",
     "shell.execute_reply": "2022-09-27T23:09:19.630996Z"
    },
    "papermill": {
     "duration": 0.326823,
     "end_time": "2022-09-27T23:09:19.634472",
     "exception": false,
     "start_time": "2022-09-27T23:09:19.307649",
     "status": "completed"
    },
    "tags": []
   },
   "outputs": [
    {
     "name": "stdout",
     "output_type": "stream",
     "text": [
      "48/48 [==============================] - 0s 5ms/step - loss: 0.5364 - accuracy: 0.7919\n"
     ]
    },
    {
     "data": {
      "text/plain": [
       "[0.5364333987236023, 0.7918581962585449]"
      ]
     },
     "execution_count": 17,
     "metadata": {},
     "output_type": "execute_result"
    }
   ],
   "source": [
    "model.evaluate(val_tweets, val_labels)"
   ]
  },
  {
   "cell_type": "code",
   "execution_count": 18,
   "id": "25b1a797",
   "metadata": {
    "execution": {
     "iopub.execute_input": "2022-09-27T23:09:19.707026Z",
     "iopub.status.busy": "2022-09-27T23:09:19.706633Z",
     "iopub.status.idle": "2022-09-27T23:09:20.035776Z",
     "shell.execute_reply": "2022-09-27T23:09:20.034121Z"
    },
    "papermill": {
     "duration": 0.368881,
     "end_time": "2022-09-27T23:09:20.038786",
     "exception": false,
     "start_time": "2022-09-27T23:09:19.669905",
     "status": "completed"
    },
    "tags": []
   },
   "outputs": [
    {
     "name": "stdout",
     "output_type": "stream",
     "text": [
      "[0. 0. 0. 0. 0. 0. 0. 0. 0. 1.]\n"
     ]
    },
    {
     "data": {
      "text/plain": [
       "0.7918581746552856"
      ]
     },
     "execution_count": 18,
     "metadata": {},
     "output_type": "execute_result"
    }
   ],
   "source": [
    "predictions = model.predict(val_tweets)\n",
    "predictions = np.round(predictions).flatten()\n",
    "print(predictions[:10])\n",
    "accuracy_score(y_true=val_labels, y_pred=predictions)"
   ]
  },
  {
   "cell_type": "code",
   "execution_count": 19,
   "id": "f9e916c1",
   "metadata": {
    "execution": {
     "iopub.execute_input": "2022-09-27T23:09:20.106998Z",
     "iopub.status.busy": "2022-09-27T23:09:20.106555Z",
     "iopub.status.idle": "2022-09-27T23:09:20.113181Z",
     "shell.execute_reply": "2022-09-27T23:09:20.112342Z"
    },
    "papermill": {
     "duration": 0.045368,
     "end_time": "2022-09-27T23:09:20.118591",
     "exception": false,
     "start_time": "2022-09-27T23:09:20.073223",
     "status": "completed"
    },
    "tags": []
   },
   "outputs": [
    {
     "data": {
      "text/plain": [
       "dict_keys(['loss', 'accuracy', 'val_loss', 'val_accuracy'])"
      ]
     },
     "execution_count": 19,
     "metadata": {},
     "output_type": "execute_result"
    }
   ],
   "source": [
    "history_dict = history.history\n",
    "history_dict.keys()"
   ]
  },
  {
   "cell_type": "code",
   "execution_count": 20,
   "id": "e7c3fcd6",
   "metadata": {
    "execution": {
     "iopub.execute_input": "2022-09-27T23:09:20.183852Z",
     "iopub.status.busy": "2022-09-27T23:09:20.183354Z",
     "iopub.status.idle": "2022-09-27T23:09:20.418265Z",
     "shell.execute_reply": "2022-09-27T23:09:20.417388Z"
    },
    "papermill": {
     "duration": 0.270288,
     "end_time": "2022-09-27T23:09:20.420472",
     "exception": false,
     "start_time": "2022-09-27T23:09:20.150184",
     "status": "completed"
    },
    "tags": []
   },
   "outputs": [
    {
     "data": {
      "image/png": "[encoded data removed]",
      "text/plain": [
       "<Figure size 432x288 with 1 Axes>"
      ]
     },
     "metadata": {
      "needs_background": "light"
     },
     "output_type": "display_data"
    }
   ],
   "source": [
    "acc = history_dict['accuracy']\n",
    "val_acc = history_dict['val_accuracy']\n",
    "loss = history_dict['loss']\n",
    "val_loss = history_dict['val_loss']\n",
    "\n",
    "epochs = range(1, len(acc) + 1)\n",
    "\n",
    "plt.plot(epochs, loss, 'bo', label='Training loss')\n",
    "plt.plot(epochs, val_loss, 'b', label='Validation loss')\n",
    "plt.title('Training and validation loss')\n",
    "plt.xlabel('Epochs')\n",
    "plt.ylabel('Loss')\n",
    "plt.legend()\n",
    "\n",
    "plt.show()"
   ]
  },
  {
   "cell_type": "code",
   "execution_count": 21,
   "id": "950e6060",
   "metadata": {
    "execution": {
     "iopub.execute_input": "2022-09-27T23:09:20.464985Z",
     "iopub.status.busy": "2022-09-27T23:09:20.464138Z",
     "iopub.status.idle": "2022-09-27T23:09:20.852712Z",
     "shell.execute_reply": "2022-09-27T23:09:20.851391Z"
    },
    "papermill": {
     "duration": 0.41331,
     "end_time": "2022-09-27T23:09:20.855012",
     "exception": false,
     "start_time": "2022-09-27T23:09:20.441702",
     "status": "completed"
    },
    "tags": []
   },
   "outputs": [
    {
     "name": "stdout",
     "output_type": "stream",
     "text": [
      "Model: \"GRU_Model\"\n",
      "_________________________________________________________________\n",
      "Layer (type)                 Output Shape              Param #   \n",
      "=================================================================\n",
      "input_2 (InputLayer)         [(None, 1)]               0         \n",
      "_________________________________________________________________\n",
      "text_vectorization (TextVect (None, 50)                0         \n",
      "_________________________________________________________________\n",
      "mbedding_1 (Embedding)       (None, 50, 128)           2560000   \n",
      "_________________________________________________________________\n",
      "gru (GRU)                    (None, 50, 64)            37248     \n",
      "_________________________________________________________________\n",
      "gru_1 (GRU)                  (None, 64)                24960     \n",
      "_________________________________________________________________\n",
      "dense_1 (Dense)              (None, 1)                 65        \n",
      "=================================================================\n",
      "Total params: 2,622,273\n",
      "Trainable params: 2,622,273\n",
      "Non-trainable params: 0\n",
      "_________________________________________________________________\n"
     ]
    }
   ],
   "source": [
    "Is = layers.Input(shape = (1,), dtype = tf.string)\n",
    "L1 = vectorize_layer(Is)\n",
    "L2 = embedding_layer(L1)\n",
    "L3 = layers.GRU(64,return_sequences=True)(L2)\n",
    "L4 = layers.GRU(64)(L3)\n",
    "Os = layers.Dense(1, activation = 'sigmoid')(L4)\n",
    "\n",
    "model_2 = tf.keras.Model(Is, Os, name = 'GRU_Model')\n",
    "model_2.summary()"
   ]
  },
  {
   "cell_type": "code",
   "execution_count": 22,
   "id": "a6a43dbb",
   "metadata": {
    "execution": {
     "iopub.execute_input": "2022-09-27T23:09:20.899472Z",
     "iopub.status.busy": "2022-09-27T23:09:20.899097Z",
     "iopub.status.idle": "2022-09-27T23:10:00.579967Z",
     "shell.execute_reply": "2022-09-27T23:10:00.578434Z"
    },
    "papermill": {
     "duration": 39.706316,
     "end_time": "2022-09-27T23:10:00.583104",
     "exception": false,
     "start_time": "2022-09-27T23:09:20.876788",
     "status": "completed"
    },
    "tags": []
   },
   "outputs": [
    {
     "name": "stdout",
     "output_type": "stream",
     "text": [
      "Epoch 1/20\n"
     ]
    },
    {
     "name": "stderr",
     "output_type": "stream",
     "text": [
      "2022-09-27 23:09:24.341992: I tensorflow/stream_executor/cuda/cuda_dnn.cc:369] Loaded cuDNN version 8005\n"
     ]
    },
    {
     "name": "stdout",
     "output_type": "stream",
     "text": [
      "191/191 [==============================] - 6s 12ms/step - loss: 0.6845 - accuracy: 0.5695 - val_loss: 0.6822 - val_accuracy: 0.5739\n",
      "Epoch 2/20\n",
      "191/191 [==============================] - 2s 10ms/step - loss: 0.6844 - accuracy: 0.5695 - val_loss: 0.6836 - val_accuracy: 0.5739\n",
      "Epoch 3/20\n",
      "191/191 [==============================] - 2s 9ms/step - loss: 0.6843 - accuracy: 0.5695 - val_loss: 0.6823 - val_accuracy: 0.5739\n",
      "Epoch 4/20\n",
      "191/191 [==============================] - 2s 9ms/step - loss: 0.5531 - accuracy: 0.6911 - val_loss: 0.6609 - val_accuracy: 0.7485\n",
      "Epoch 5/20\n",
      "191/191 [==============================] - 2s 9ms/step - loss: 0.1563 - accuracy: 0.9488 - val_loss: 0.6123 - val_accuracy: 0.7617\n",
      "Epoch 6/20\n",
      "191/191 [==============================] - 2s 9ms/step - loss: 0.0618 - accuracy: 0.9810 - val_loss: 0.8173 - val_accuracy: 0.7846\n",
      "Epoch 7/20\n",
      "191/191 [==============================] - 2s 9ms/step - loss: 0.0259 - accuracy: 0.9906 - val_loss: 0.9599 - val_accuracy: 0.7715\n",
      "Epoch 8/20\n",
      "191/191 [==============================] - 2s 10ms/step - loss: 0.0164 - accuracy: 0.9954 - val_loss: 1.0266 - val_accuracy: 0.7682\n",
      "Epoch 9/20\n",
      "191/191 [==============================] - 2s 9ms/step - loss: 0.0147 - accuracy: 0.9954 - val_loss: 1.0792 - val_accuracy: 0.7603\n",
      "Epoch 10/20\n",
      "191/191 [==============================] - 2s 9ms/step - loss: 0.0111 - accuracy: 0.9966 - val_loss: 1.0618 - val_accuracy: 0.7669\n",
      "Epoch 11/20\n",
      "191/191 [==============================] - 2s 9ms/step - loss: 0.0099 - accuracy: 0.9957 - val_loss: 1.1774 - val_accuracy: 0.7827\n",
      "Epoch 12/20\n",
      "191/191 [==============================] - 2s 9ms/step - loss: 0.0077 - accuracy: 0.9956 - val_loss: 1.1965 - val_accuracy: 0.7728\n",
      "Epoch 13/20\n",
      "191/191 [==============================] - 2s 9ms/step - loss: 0.0072 - accuracy: 0.9966 - val_loss: 1.2825 - val_accuracy: 0.7748\n",
      "Epoch 14/20\n",
      "191/191 [==============================] - 2s 10ms/step - loss: 0.0063 - accuracy: 0.9969 - val_loss: 1.5704 - val_accuracy: 0.7518\n",
      "Epoch 15/20\n",
      "191/191 [==============================] - 2s 11ms/step - loss: 0.0082 - accuracy: 0.9966 - val_loss: 1.3762 - val_accuracy: 0.7577\n",
      "Epoch 16/20\n",
      "191/191 [==============================] - 2s 9ms/step - loss: 0.0072 - accuracy: 0.9967 - val_loss: 1.4427 - val_accuracy: 0.7761\n",
      "Epoch 17/20\n",
      "191/191 [==============================] - 2s 9ms/step - loss: 0.0084 - accuracy: 0.9969 - val_loss: 1.2987 - val_accuracy: 0.7689\n",
      "Epoch 18/20\n",
      "191/191 [==============================] - 2s 9ms/step - loss: 0.0073 - accuracy: 0.9961 - val_loss: 1.2548 - val_accuracy: 0.7781\n",
      "Epoch 19/20\n",
      "191/191 [==============================] - 2s 9ms/step - loss: 0.0065 - accuracy: 0.9966 - val_loss: 1.3652 - val_accuracy: 0.7728\n",
      "Epoch 20/20\n",
      "191/191 [==============================] - 2s 10ms/step - loss: 0.0061 - accuracy: 0.9969 - val_loss: 1.3880 - val_accuracy: 0.7682\n"
     ]
    }
   ],
   "source": [
    "model_2.compile(\n",
    "    optimizer='adam',\n",
    "    loss='binary_crossentropy',\n",
    "    metrics='accuracy'\n",
    ")\n",
    "history_2 = model_2.fit(\n",
    "    x=trn_tweets,\n",
    "    y=trn_labels,\n",
    "    epochs=20,\n",
    "    validation_data=(val_tweets, val_labels)\n",
    ")"
   ]
  },
  {
   "cell_type": "code",
   "execution_count": 23,
   "id": "31b034d9",
   "metadata": {
    "execution": {
     "iopub.execute_input": "2022-09-27T23:10:00.730991Z",
     "iopub.status.busy": "2022-09-27T23:10:00.730632Z",
     "iopub.status.idle": "2022-09-27T23:10:00.978723Z",
     "shell.execute_reply": "2022-09-27T23:10:00.977863Z"
    },
    "papermill": {
     "duration": 0.304684,
     "end_time": "2022-09-27T23:10:00.980757",
     "exception": false,
     "start_time": "2022-09-27T23:10:00.676073",
     "status": "completed"
    },
    "tags": []
   },
   "outputs": [
    {
     "name": "stdout",
     "output_type": "stream",
     "text": [
      "48/48 [==============================] - 0s 4ms/step - loss: 1.3880 - accuracy: 0.7682\n"
     ]
    },
    {
     "data": {
      "text/plain": [
       "[1.387964129447937, 0.7682206034660339]"
      ]
     },
     "execution_count": 23,
     "metadata": {},
     "output_type": "execute_result"
    }
   ],
   "source": [
    "model_2.evaluate(val_tweets, val_labels)"
   ]
  },
  {
   "cell_type": "code",
   "execution_count": 24,
   "id": "a738af32",
   "metadata": {
    "execution": {
     "iopub.execute_input": "2022-09-27T23:10:01.086883Z",
     "iopub.status.busy": "2022-09-27T23:10:01.086528Z",
     "iopub.status.idle": "2022-09-27T23:10:01.752265Z",
     "shell.execute_reply": "2022-09-27T23:10:01.750728Z"
    },
    "papermill": {
     "duration": 0.72188,
     "end_time": "2022-09-27T23:10:01.754855",
     "exception": false,
     "start_time": "2022-09-27T23:10:01.032975",
     "status": "completed"
    },
    "tags": []
   },
   "outputs": [
    {
     "name": "stdout",
     "output_type": "stream",
     "text": [
      "[0. 0. 1. 0. 0. 0. 0. 0. 0. 1.]\n"
     ]
    },
    {
     "data": {
      "text/plain": [
       "0.768220617202889"
      ]
     },
     "execution_count": 24,
     "metadata": {},
     "output_type": "execute_result"
    }
   ],
   "source": [
    "predictions = model_2.predict(val_tweets)\n",
    "predictions = np.round(predictions).flatten()\n",
    "print(predictions[:10])\n",
    "accuracy_score(y_true=val_labels, y_pred=predictions)"
   ]
  },
  {
   "cell_type": "code",
   "execution_count": 25,
   "id": "86cd6178",
   "metadata": {
    "execution": {
     "iopub.execute_input": "2022-09-27T23:10:01.859306Z",
     "iopub.status.busy": "2022-09-27T23:10:01.859001Z",
     "iopub.status.idle": "2022-09-27T23:10:01.865137Z",
     "shell.execute_reply": "2022-09-27T23:10:01.864159Z"
    },
    "papermill": {
     "duration": 0.06105,
     "end_time": "2022-09-27T23:10:01.867248",
     "exception": false,
     "start_time": "2022-09-27T23:10:01.806198",
     "status": "completed"
    },
    "tags": []
   },
   "outputs": [
    {
     "data": {
      "text/plain": [
       "dict_keys(['loss', 'accuracy', 'val_loss', 'val_accuracy'])"
      ]
     },
     "execution_count": 25,
     "metadata": {},
     "output_type": "execute_result"
    }
   ],
   "source": [
    "history_2_dict = history_2.history\n",
    "history_2_dict.keys()"
   ]
  },
  {
   "cell_type": "code",
   "execution_count": 26,
   "id": "724cb45d",
   "metadata": {
    "execution": {
     "iopub.execute_input": "2022-09-27T23:10:01.972275Z",
     "iopub.status.busy": "2022-09-27T23:10:01.971369Z",
     "iopub.status.idle": "2022-09-27T23:10:02.199468Z",
     "shell.execute_reply": "2022-09-27T23:10:02.198583Z"
    },
    "papermill": {
     "duration": 0.282462,
     "end_time": "2022-09-27T23:10:02.201829",
     "exception": false,
     "start_time": "2022-09-27T23:10:01.919367",
     "status": "completed"
    },
    "tags": []
   },
   "outputs": [
    {
     "data": {
      "image/png": "[encoded data removed]",
      "text/plain": [
       "<Figure size 432x288 with 1 Axes>"
      ]
     },
     "metadata": {
      "needs_background": "light"
     },
     "output_type": "display_data"
    }
   ],
   "source": [
    "acc = history_2_dict['accuracy']\n",
    "val_acc = history_2_dict['val_accuracy']\n",
    "loss = history_2_dict['loss']\n",
    "val_loss = history_2_dict['val_loss']\n",
    "\n",
    "epochs = range(1, len(acc) + 1)\n",
    "\n",
    "plt.plot(epochs, loss, 'bo', label='Training loss')\n",
    "plt.plot(epochs, val_loss, 'b', label='Validation loss')\n",
    "plt.title('Training and validation loss')\n",
    "plt.xlabel('Epochs')\n",
    "plt.ylabel('Loss')\n",
    "plt.legend()\n",
    "\n",
    "plt.show()"
   ]
  },
  {
   "cell_type": "code",
   "execution_count": 27,
   "id": "eac97078",
   "metadata": {
    "execution": {
     "iopub.execute_input": "2022-09-27T23:10:02.307981Z",
     "iopub.status.busy": "2022-09-27T23:10:02.307127Z",
     "iopub.status.idle": "2022-09-27T23:10:02.521660Z",
     "shell.execute_reply": "2022-09-27T23:10:02.520212Z"
    },
    "papermill": {
     "duration": 0.270351,
     "end_time": "2022-09-27T23:10:02.524422",
     "exception": false,
     "start_time": "2022-09-27T23:10:02.254071",
     "status": "completed"
    },
    "tags": []
   },
   "outputs": [
    {
     "name": "stdout",
     "output_type": "stream",
     "text": [
      "[1 1 1 1 1 1 0 1 0 0]\n"
     ]
    }
   ],
   "source": [
    "submission = pd.read_csv('../input/nlp-getting-started/sample_submission.csv')\n",
    "\n",
    "tst_predictions = model.predict(tst_tweets)\n",
    "tst_predictions = np.round(tst_predictions).flatten().astype(int)\n",
    "print(tst_predictions[:10])"
   ]
  },
  {
   "cell_type": "code",
   "execution_count": 28,
   "id": "f6c9028b",
   "metadata": {
    "execution": {
     "iopub.execute_input": "2022-09-27T23:10:02.630891Z",
     "iopub.status.busy": "2022-09-27T23:10:02.630100Z",
     "iopub.status.idle": "2022-09-27T23:10:02.635048Z",
     "shell.execute_reply": "2022-09-27T23:10:02.634091Z"
    },
    "papermill": {
     "duration": 0.05972,
     "end_time": "2022-09-27T23:10:02.637218",
     "exception": false,
     "start_time": "2022-09-27T23:10:02.577498",
     "status": "completed"
    },
    "tags": []
   },
   "outputs": [],
   "source": [
    "submission['target'] = tst_predictions"
   ]
  },
  {
   "cell_type": "code",
   "execution_count": 29,
   "id": "2915fe04",
   "metadata": {
    "execution": {
     "iopub.execute_input": "2022-09-27T23:10:02.745755Z",
     "iopub.status.busy": "2022-09-27T23:10:02.744910Z",
     "iopub.status.idle": "2022-09-27T23:10:02.754835Z",
     "shell.execute_reply": "2022-09-27T23:10:02.753964Z"
    },
    "papermill": {
     "duration": 0.064925,
     "end_time": "2022-09-27T23:10:02.756924",
     "exception": false,
     "start_time": "2022-09-27T23:10:02.691999",
     "status": "completed"
    },
    "tags": []
   },
   "outputs": [],
   "source": [
    "submission.to_csv('submission.csv', index=False)"
   ]
  }
 ],
 "metadata": {
  "kernelspec": {
   "display_name": "Python 3",
   "language": "python",
   "name": "python3"
  },
  "language_info": {
   "codemirror_mode": {
    "name": "ipython",
    "version": 3
   },
   "file_extension": ".py",
   "mimetype": "text/x-python",
   "name": "python",
   "nbconvert_exporter": "python",
   "pygments_lexer": "ipython3",
   "version": "3.7.12"
  },
  "papermill": {
   "default_parameters": {},
   "duration": 81.373971,
   "end_time": "2022-09-27T23:10:05.908354",
   "environment_variables": {},
   "exception": null,
   "input_path": "__notebook__.ipynb",
   "output_path": "__notebook__.ipynb",
   "parameters": {},
   "start_time": "2022-09-27T23:08:44.534383",
   "version": "2.3.4"
  }
 },
 "nbformat": 4,
 "nbformat_minor": 5
}
