{
 "cells": [
  {
   "cell_type": "code",
   "execution_count": 1,
   "id": "9a3002a8",
   "metadata": {
    "execution": {
     "iopub.execute_input": "2022-09-26T01:41:27.443465Z",
     "iopub.status.busy": "2022-09-26T01:41:27.442976Z",
     "iopub.status.idle": "2022-09-26T01:41:35.025315Z",
     "shell.execute_reply": "2022-09-26T01:41:35.023917Z"
    },
    "papermill": {
     "duration": 7.592932,
     "end_time": "2022-09-26T01:41:35.028476",
     "exception": false,
     "start_time": "2022-09-26T01:41:27.435544",
     "status": "completed"
    },
    "tags": []
   },
   "outputs": [],
   "source": [
    "import pandas as pd\n",
    "from sklearn.model_selection import train_test_split\n",
    "\n",
    "import tensorflow as tf\n",
    "from tensorflow.keras import layers\n",
    "from tensorflow.keras.layers import TextVectorization\n",
    "from tensorflow.keras import losses"
   ]
  },
  {
   "cell_type": "markdown",
   "id": "3cb754aa",
   "metadata": {
    "papermill": {
     "duration": 0.004729,
     "end_time": "2022-09-26T01:41:35.038410",
     "exception": false,
     "start_time": "2022-09-26T01:41:35.033681",
     "status": "completed"
    },
    "tags": []
   },
   "source": [
    "# EDA"
   ]
  },
  {
   "cell_type": "code",
   "execution_count": 2,
   "id": "7e36ad22",
   "metadata": {
    "execution": {
     "iopub.execute_input": "2022-09-26T01:41:35.050769Z",
     "iopub.status.busy": "2022-09-26T01:41:35.050076Z",
     "iopub.status.idle": "2022-09-26T01:41:35.151786Z",
     "shell.execute_reply": "2022-09-26T01:41:35.150553Z"
    },
    "papermill": {
     "duration": 0.111424,
     "end_time": "2022-09-26T01:41:35.154901",
     "exception": false,
     "start_time": "2022-09-26T01:41:35.043477",
     "status": "completed"
    },
    "tags": []
   },
   "outputs": [
    {
     "data": {
      "text/html": [
       "<div>\n",
       "<style scoped>\n",
       "    .dataframe tbody tr th:only-of-type {\n",
       "        vertical-align: middle;\n",
       "    }\n",
       "\n",
       "    .dataframe tbody tr th {\n",
       "        vertical-align: top;\n",
       "    }\n",
       "\n",
       "    .dataframe thead th {\n",
       "        text-align: right;\n",
       "    }\n",
       "</style>\n",
       "<table border=\"1\" class=\"dataframe\">\n",
       "  <thead>\n",
       "    <tr style=\"text-align: right;\">\n",
       "      <th></th>\n",
       "      <th>id</th>\n",
       "      <th>keyword</th>\n",
       "      <th>location</th>\n",
       "      <th>text</th>\n",
       "      <th>target</th>\n",
       "    </tr>\n",
       "  </thead>\n",
       "  <tbody>\n",
       "    <tr>\n",
       "      <th>0</th>\n",
       "      <td>1</td>\n",
       "      <td>NaN</td>\n",
       "      <td>NaN</td>\n",
       "      <td>Our Deeds are the Reason of this #earthquake M...</td>\n",
       "      <td>1</td>\n",
       "    </tr>\n",
       "    <tr>\n",
       "      <th>1</th>\n",
       "      <td>4</td>\n",
       "      <td>NaN</td>\n",
       "      <td>NaN</td>\n",
       "      <td>Forest fire near La Ronge Sask. Canada</td>\n",
       "      <td>1</td>\n",
       "    </tr>\n",
       "    <tr>\n",
       "      <th>2</th>\n",
       "      <td>5</td>\n",
       "      <td>NaN</td>\n",
       "      <td>NaN</td>\n",
       "      <td>All residents asked to 'shelter in place' are ...</td>\n",
       "      <td>1</td>\n",
       "    </tr>\n",
       "    <tr>\n",
       "      <th>3</th>\n",
       "      <td>6</td>\n",
       "      <td>NaN</td>\n",
       "      <td>NaN</td>\n",
       "      <td>13,000 people receive #wildfires evacuation or...</td>\n",
       "      <td>1</td>\n",
       "    </tr>\n",
       "    <tr>\n",
       "      <th>4</th>\n",
       "      <td>7</td>\n",
       "      <td>NaN</td>\n",
       "      <td>NaN</td>\n",
       "      <td>Just got sent this photo from Ruby #Alaska as ...</td>\n",
       "      <td>1</td>\n",
       "    </tr>\n",
       "  </tbody>\n",
       "</table>\n",
       "</div>"
      ],
      "text/plain": [
       "   id keyword location                                               text  \\\n",
       "0   1     NaN      NaN  Our Deeds are the Reason of this #earthquake M...   \n",
       "1   4     NaN      NaN             Forest fire near La Ronge Sask. Canada   \n",
       "2   5     NaN      NaN  All residents asked to 'shelter in place' are ...   \n",
       "3   6     NaN      NaN  13,000 people receive #wildfires evacuation or...   \n",
       "4   7     NaN      NaN  Just got sent this photo from Ruby #Alaska as ...   \n",
       "\n",
       "   target  \n",
       "0       1  \n",
       "1       1  \n",
       "2       1  \n",
       "3       1  \n",
       "4       1  "
      ]
     },
     "execution_count": 2,
     "metadata": {},
     "output_type": "execute_result"
    }
   ],
   "source": [
    "train_data = pd.read_csv('../input/nlp-getting-started/train.csv')\n",
    "test_data = pd.read_csv('../input/nlp-getting-started/test.csv')\n",
    "train_data.head()"
   ]
  },
  {
   "cell_type": "code",
   "execution_count": 3,
   "id": "6bf8a15f",
   "metadata": {
    "execution": {
     "iopub.execute_input": "2022-09-26T01:41:35.166519Z",
     "iopub.status.busy": "2022-09-26T01:41:35.166138Z",
     "iopub.status.idle": "2022-09-26T01:41:35.177919Z",
     "shell.execute_reply": "2022-09-26T01:41:35.176737Z"
    },
    "papermill": {
     "duration": 0.020329,
     "end_time": "2022-09-26T01:41:35.180285",
     "exception": false,
     "start_time": "2022-09-26T01:41:35.159956",
     "status": "completed"
    },
    "tags": []
   },
   "outputs": [
    {
     "data": {
      "text/html": [
       "<div>\n",
       "<style scoped>\n",
       "    .dataframe tbody tr th:only-of-type {\n",
       "        vertical-align: middle;\n",
       "    }\n",
       "\n",
       "    .dataframe tbody tr th {\n",
       "        vertical-align: top;\n",
       "    }\n",
       "\n",
       "    .dataframe thead th {\n",
       "        text-align: right;\n",
       "    }\n",
       "</style>\n",
       "<table border=\"1\" class=\"dataframe\">\n",
       "  <thead>\n",
       "    <tr style=\"text-align: right;\">\n",
       "      <th></th>\n",
       "      <th>id</th>\n",
       "      <th>keyword</th>\n",
       "      <th>location</th>\n",
       "      <th>text</th>\n",
       "    </tr>\n",
       "  </thead>\n",
       "  <tbody>\n",
       "    <tr>\n",
       "      <th>0</th>\n",
       "      <td>0</td>\n",
       "      <td>NaN</td>\n",
       "      <td>NaN</td>\n",
       "      <td>Just happened a terrible car crash</td>\n",
       "    </tr>\n",
       "    <tr>\n",
       "      <th>1</th>\n",
       "      <td>2</td>\n",
       "      <td>NaN</td>\n",
       "      <td>NaN</td>\n",
       "      <td>Heard about #earthquake is different cities, s...</td>\n",
       "    </tr>\n",
       "    <tr>\n",
       "      <th>2</th>\n",
       "      <td>3</td>\n",
       "      <td>NaN</td>\n",
       "      <td>NaN</td>\n",
       "      <td>there is a forest fire at spot pond, geese are...</td>\n",
       "    </tr>\n",
       "    <tr>\n",
       "      <th>3</th>\n",
       "      <td>9</td>\n",
       "      <td>NaN</td>\n",
       "      <td>NaN</td>\n",
       "      <td>Apocalypse lighting. #Spokane #wildfires</td>\n",
       "    </tr>\n",
       "    <tr>\n",
       "      <th>4</th>\n",
       "      <td>11</td>\n",
       "      <td>NaN</td>\n",
       "      <td>NaN</td>\n",
       "      <td>Typhoon Soudelor kills 28 in China and Taiwan</td>\n",
       "    </tr>\n",
       "  </tbody>\n",
       "</table>\n",
       "</div>"
      ],
      "text/plain": [
       "   id keyword location                                               text\n",
       "0   0     NaN      NaN                 Just happened a terrible car crash\n",
       "1   2     NaN      NaN  Heard about #earthquake is different cities, s...\n",
       "2   3     NaN      NaN  there is a forest fire at spot pond, geese are...\n",
       "3   9     NaN      NaN           Apocalypse lighting. #Spokane #wildfires\n",
       "4  11     NaN      NaN      Typhoon Soudelor kills 28 in China and Taiwan"
      ]
     },
     "execution_count": 3,
     "metadata": {},
     "output_type": "execute_result"
    }
   ],
   "source": [
    "test_data.head()"
   ]
  },
  {
   "cell_type": "code",
   "execution_count": 4,
   "id": "d6b97422",
   "metadata": {
    "execution": {
     "iopub.execute_input": "2022-09-26T01:41:35.193127Z",
     "iopub.status.busy": "2022-09-26T01:41:35.192653Z",
     "iopub.status.idle": "2022-09-26T01:41:35.208974Z",
     "shell.execute_reply": "2022-09-26T01:41:35.207598Z"
    },
    "papermill": {
     "duration": 0.025854,
     "end_time": "2022-09-26T01:41:35.211565",
     "exception": false,
     "start_time": "2022-09-26T01:41:35.185711",
     "status": "completed"
    },
    "tags": []
   },
   "outputs": [
    {
     "data": {
      "text/plain": [
       "<bound method DataFrame.info of          id keyword location  \\\n",
       "0         1     NaN      NaN   \n",
       "1         4     NaN      NaN   \n",
       "2         5     NaN      NaN   \n",
       "3         6     NaN      NaN   \n",
       "4         7     NaN      NaN   \n",
       "...     ...     ...      ...   \n",
       "7608  10869     NaN      NaN   \n",
       "7609  10870     NaN      NaN   \n",
       "7610  10871     NaN      NaN   \n",
       "7611  10872     NaN      NaN   \n",
       "7612  10873     NaN      NaN   \n",
       "\n",
       "                                                   text  target  \n",
       "0     Our Deeds are the Reason of this #earthquake M...       1  \n",
       "1                Forest fire near La Ronge Sask. Canada       1  \n",
       "2     All residents asked to 'shelter in place' are ...       1  \n",
       "3     13,000 people receive #wildfires evacuation or...       1  \n",
       "4     Just got sent this photo from Ruby #Alaska as ...       1  \n",
       "...                                                 ...     ...  \n",
       "7608  Two giant cranes holding a bridge collapse int...       1  \n",
       "7609  @aria_ahrary @TheTawniest The out of control w...       1  \n",
       "7610  M1.94 [01:04 UTC]?5km S of Volcano Hawaii. htt...       1  \n",
       "7611  Police investigating after an e-bike collided ...       1  \n",
       "7612  The Latest: More Homes Razed by Northern Calif...       1  \n",
       "\n",
       "[7613 rows x 5 columns]>"
      ]
     },
     "execution_count": 4,
     "metadata": {},
     "output_type": "execute_result"
    }
   ],
   "source": [
    "train_data.info"
   ]
  },
  {
   "cell_type": "code",
   "execution_count": 5,
   "id": "85d50fb4",
   "metadata": {
    "execution": {
     "iopub.execute_input": "2022-09-26T01:41:35.224073Z",
     "iopub.status.busy": "2022-09-26T01:41:35.223289Z",
     "iopub.status.idle": "2022-09-26T01:41:35.232741Z",
     "shell.execute_reply": "2022-09-26T01:41:35.231573Z"
    },
    "papermill": {
     "duration": 0.018221,
     "end_time": "2022-09-26T01:41:35.234981",
     "exception": false,
     "start_time": "2022-09-26T01:41:35.216760",
     "status": "completed"
    },
    "tags": []
   },
   "outputs": [
    {
     "data": {
      "text/plain": [
       "id           int64\n",
       "keyword     object\n",
       "location    object\n",
       "text        object\n",
       "target       int64\n",
       "dtype: object"
      ]
     },
     "execution_count": 5,
     "metadata": {},
     "output_type": "execute_result"
    }
   ],
   "source": [
    "train_data.dtypes"
   ]
  },
  {
   "cell_type": "markdown",
   "id": "729029ee",
   "metadata": {
    "papermill": {
     "duration": 0.004868,
     "end_time": "2022-09-26T01:41:35.245149",
     "exception": false,
     "start_time": "2022-09-26T01:41:35.240281",
     "status": "completed"
    },
    "tags": []
   },
   "source": [
    "# PreProcessing"
   ]
  },
  {
   "cell_type": "code",
   "execution_count": 6,
   "id": "b4c7abcb",
   "metadata": {
    "execution": {
     "iopub.execute_input": "2022-09-26T01:41:35.257312Z",
     "iopub.status.busy": "2022-09-26T01:41:35.256776Z",
     "iopub.status.idle": "2022-09-26T01:41:35.268483Z",
     "shell.execute_reply": "2022-09-26T01:41:35.267634Z"
    },
    "papermill": {
     "duration": 0.020457,
     "end_time": "2022-09-26T01:41:35.270676",
     "exception": false,
     "start_time": "2022-09-26T01:41:35.250219",
     "status": "completed"
    },
    "tags": []
   },
   "outputs": [],
   "source": [
    "tweets = train_data['text'].to_numpy()\n",
    "labels = train_data['target'].to_numpy()\n",
    "tst_tweets = test_data['text']\n",
    "trn_tweets, val_tweets, trn_labels, val_labels = train_test_split(tweets, labels, test_size=0.2, random_state=42, shuffle=True)"
   ]
  },
  {
   "cell_type": "code",
   "execution_count": 7,
   "id": "fa122e04",
   "metadata": {
    "execution": {
     "iopub.execute_input": "2022-09-26T01:41:35.283601Z",
     "iopub.status.busy": "2022-09-26T01:41:35.283182Z",
     "iopub.status.idle": "2022-09-26T01:41:35.363430Z",
     "shell.execute_reply": "2022-09-26T01:41:35.362343Z"
    },
    "papermill": {
     "duration": 0.090598,
     "end_time": "2022-09-26T01:41:35.366911",
     "exception": false,
     "start_time": "2022-09-26T01:41:35.276313",
     "status": "completed"
    },
    "tags": []
   },
   "outputs": [
    {
     "name": "stderr",
     "output_type": "stream",
     "text": [
      "2022-09-26 01:41:35.335854: I tensorflow/core/common_runtime/process_util.cc:146] Creating new thread pool with default inter op setting: 2. Tune using inter_op_parallelism_threads for best performance.\n"
     ]
    }
   ],
   "source": [
    "max_features = 20000\n",
    "sequence_length = 200\n",
    "\n",
    "vectorize_layer = TextVectorization(\n",
    "    standardize='lower_and_strip_punctuation',\n",
    "    max_tokens=max_features,\n",
    "    output_mode='int',\n",
    "    output_sequence_length=sequence_length)"
   ]
  },
  {
   "cell_type": "code",
   "execution_count": 8,
   "id": "02ae9f64",
   "metadata": {
    "execution": {
     "iopub.execute_input": "2022-09-26T01:41:35.381581Z",
     "iopub.status.busy": "2022-09-26T01:41:35.380251Z",
     "iopub.status.idle": "2022-09-26T01:41:35.845601Z",
     "shell.execute_reply": "2022-09-26T01:41:35.844489Z"
    },
    "papermill": {
     "duration": 0.475592,
     "end_time": "2022-09-26T01:41:35.848600",
     "exception": false,
     "start_time": "2022-09-26T01:41:35.373008",
     "status": "completed"
    },
    "tags": []
   },
   "outputs": [
    {
     "name": "stderr",
     "output_type": "stream",
     "text": [
      "2022-09-26 01:41:35.467359: I tensorflow/compiler/mlir/mlir_graph_optimization_pass.cc:185] None of the MLIR Optimization Passes are enabled (registered 2)\n"
     ]
    }
   ],
   "source": [
    "vectorize_layer.adapt(trn_tweets)"
   ]
  },
  {
   "cell_type": "code",
   "execution_count": 9,
   "id": "bc63c0f1",
   "metadata": {
    "execution": {
     "iopub.execute_input": "2022-09-26T01:41:35.861931Z",
     "iopub.status.busy": "2022-09-26T01:41:35.861454Z",
     "iopub.status.idle": "2022-09-26T01:41:35.940864Z",
     "shell.execute_reply": "2022-09-26T01:41:35.939155Z"
    },
    "papermill": {
     "duration": 0.089309,
     "end_time": "2022-09-26T01:41:35.943637",
     "exception": false,
     "start_time": "2022-09-26T01:41:35.854328",
     "status": "completed"
    },
    "tags": []
   },
   "outputs": [
    {
     "name": "stdout",
     "output_type": "stream",
     "text": [
      "Tweet Courageous and honest analysis of need to use Atomic Bomb in 1945. #Hiroshima70 Japanese military refused surrender. https://t.co/VhmtyTptGR\n",
      "Label 1\n",
      "Vectorized Tweet tf.Tensor(\n",
      "[17198     8  4962  2917     6   156     5   438   216   118     4  2377\n",
      "  4973  1177   240  4381  4119 14803     0     0     0     0     0     0\n",
      "     0     0     0     0     0     0     0     0     0     0     0     0\n",
      "     0     0     0     0     0     0     0     0     0     0     0     0\n",
      "     0     0     0     0     0     0     0     0     0     0     0     0\n",
      "     0     0     0     0     0     0     0     0     0     0     0     0\n",
      "     0     0     0     0     0     0     0     0     0     0     0     0\n",
      "     0     0     0     0     0     0     0     0     0     0     0     0\n",
      "     0     0     0     0     0     0     0     0     0     0     0     0\n",
      "     0     0     0     0     0     0     0     0     0     0     0     0\n",
      "     0     0     0     0     0     0     0     0     0     0     0     0\n",
      "     0     0     0     0     0     0     0     0     0     0     0     0\n",
      "     0     0     0     0     0     0     0     0     0     0     0     0\n",
      "     0     0     0     0     0     0     0     0     0     0     0     0\n",
      "     0     0     0     0     0     0     0     0     0     0     0     0\n",
      "     0     0     0     0     0     0     0     0     0     0     0     0\n",
      "     0     0     0     0     0     0     0     0], shape=(200,), dtype=int64)\n"
     ]
    }
   ],
   "source": [
    "first_tweet = trn_tweets[0]\n",
    "first_label = trn_labels[0]\n",
    "print('Tweet', first_tweet)\n",
    "print('Label', first_label)\n",
    "print('Vectorized Tweet', vectorize_layer(trn_tweets[0]))"
   ]
  },
  {
   "cell_type": "code",
   "execution_count": 10,
   "id": "c91645f9",
   "metadata": {
    "execution": {
     "iopub.execute_input": "2022-09-26T01:41:35.957085Z",
     "iopub.status.busy": "2022-09-26T01:41:35.956098Z",
     "iopub.status.idle": "2022-09-26T01:41:36.144590Z",
     "shell.execute_reply": "2022-09-26T01:41:36.142825Z"
    },
    "papermill": {
     "duration": 0.197926,
     "end_time": "2022-09-26T01:41:36.147320",
     "exception": false,
     "start_time": "2022-09-26T01:41:35.949394",
     "status": "completed"
    },
    "tags": []
   },
   "outputs": [
    {
     "name": "stdout",
     "output_type": "stream",
     "text": [
      "Word #17198 --> courageous\n",
      "Word #8 --> and\n",
      "Word #4962 --> honest\n",
      "Total words in training vocabulary: 19422\n"
     ]
    }
   ],
   "source": [
    "print('Word #17198 -->', vectorize_layer.get_vocabulary()[17198])\n",
    "print('Word #8 -->', vectorize_layer.get_vocabulary()[8])\n",
    "print('Word #4962 -->', vectorize_layer.get_vocabulary()[4962])\n",
    "print('Total words in training vocabulary:', len(vectorize_layer.get_vocabulary()))"
   ]
  },
  {
   "cell_type": "code",
   "execution_count": 11,
   "id": "faf51871",
   "metadata": {
    "execution": {
     "iopub.execute_input": "2022-09-26T01:41:36.159945Z",
     "iopub.status.busy": "2022-09-26T01:41:36.159521Z",
     "iopub.status.idle": "2022-09-26T01:41:36.167164Z",
     "shell.execute_reply": "2022-09-26T01:41:36.165921Z"
    },
    "papermill": {
     "duration": 0.016719,
     "end_time": "2022-09-26T01:41:36.169591",
     "exception": false,
     "start_time": "2022-09-26T01:41:36.152872",
     "status": "completed"
    },
    "tags": []
   },
   "outputs": [],
   "source": [
    "embedding_layer = layers.Embedding(\n",
    "    input_dim = max_features,\n",
    "    output_dim=128,\n",
    "    embeddings_initializer='uniform',\n",
    "    input_length=sequence_length,\n",
    "    name='mbedding_1')"
   ]
  },
  {
   "cell_type": "code",
   "execution_count": 12,
   "id": "9cefb928",
   "metadata": {
    "execution": {
     "iopub.execute_input": "2022-09-26T01:41:36.182408Z",
     "iopub.status.busy": "2022-09-26T01:41:36.181659Z",
     "iopub.status.idle": "2022-09-26T01:41:36.271184Z",
     "shell.execute_reply": "2022-09-26T01:41:36.269886Z"
    },
    "papermill": {
     "duration": 0.099489,
     "end_time": "2022-09-26T01:41:36.274562",
     "exception": false,
     "start_time": "2022-09-26T01:41:36.175073",
     "status": "completed"
    },
    "tags": []
   },
   "outputs": [
    {
     "name": "stdout",
     "output_type": "stream",
     "text": [
      "Model: \"Dense_Model\"\n",
      "_________________________________________________________________\n",
      "Layer (type)                 Output Shape              Param #   \n",
      "=================================================================\n",
      "input_1 (InputLayer)         [(None, 1)]               0         \n",
      "_________________________________________________________________\n",
      "text_vectorization (TextVect (None, 200)               0         \n",
      "_________________________________________________________________\n",
      "mbedding_1 (Embedding)       (None, 200, 128)          2560000   \n",
      "_________________________________________________________________\n",
      "global_average_pooling1d (Gl (None, 128)               0         \n",
      "_________________________________________________________________\n",
      "dense (Dense)                (None, 1)                 129       \n",
      "=================================================================\n",
      "Total params: 2,560,129\n",
      "Trainable params: 2,560,129\n",
      "Non-trainable params: 0\n",
      "_________________________________________________________________\n"
     ]
    }
   ],
   "source": [
    "Is = layers.Input(shape = (1,), dtype = tf.string)\n",
    "L1 = vectorize_layer(Is)\n",
    "L2 = embedding_layer(L1)\n",
    "L3 = layers.GlobalAveragePooling1D()(L2)\n",
    "Os = layers.Dense(1, activation = 'sigmoid')(L3)\n",
    "\n",
    "model = tf.keras.Model(Is, Os, name = 'Dense_Model')\n",
    "model.summary()"
   ]
  },
  {
   "cell_type": "code",
   "execution_count": 13,
   "id": "8251c10d",
   "metadata": {
    "execution": {
     "iopub.execute_input": "2022-09-26T01:41:36.289171Z",
     "iopub.status.busy": "2022-09-26T01:41:36.288354Z",
     "iopub.status.idle": "2022-09-26T01:43:09.363886Z",
     "shell.execute_reply": "2022-09-26T01:43:09.362647Z"
    },
    "papermill": {
     "duration": 93.085419,
     "end_time": "2022-09-26T01:43:09.366429",
     "exception": false,
     "start_time": "2022-09-26T01:41:36.281010",
     "status": "completed"
    },
    "tags": []
   },
   "outputs": [
    {
     "name": "stdout",
     "output_type": "stream",
     "text": [
      "Epoch 1/30\n",
      "191/191 [==============================] - 4s 17ms/step - loss: 0.6810 - accuracy: 0.5695 - val_loss: 0.6754 - val_accuracy: 0.5739\n",
      "Epoch 2/30\n",
      "191/191 [==============================] - 3s 16ms/step - loss: 0.6679 - accuracy: 0.5719 - val_loss: 0.6599 - val_accuracy: 0.5890\n",
      "Epoch 3/30\n",
      "191/191 [==============================] - 3s 16ms/step - loss: 0.6381 - accuracy: 0.6397 - val_loss: 0.6266 - val_accuracy: 0.6454\n",
      "Epoch 4/30\n",
      "191/191 [==============================] - 3s 16ms/step - loss: 0.5865 - accuracy: 0.7525 - val_loss: 0.5845 - val_accuracy: 0.7748\n",
      "Epoch 5/30\n",
      "191/191 [==============================] - 3s 17ms/step - loss: 0.5269 - accuracy: 0.8174 - val_loss: 0.5490 - val_accuracy: 0.7623\n",
      "Epoch 6/30\n",
      "191/191 [==============================] - 3s 16ms/step - loss: 0.4754 - accuracy: 0.8388 - val_loss: 0.5176 - val_accuracy: 0.7958\n",
      "Epoch 7/30\n",
      "191/191 [==============================] - 3s 15ms/step - loss: 0.4293 - accuracy: 0.8537 - val_loss: 0.4977 - val_accuracy: 0.7984\n",
      "Epoch 8/30\n",
      "191/191 [==============================] - 3s 17ms/step - loss: 0.3911 - accuracy: 0.8686 - val_loss: 0.4824 - val_accuracy: 0.8011\n",
      "Epoch 9/30\n",
      "191/191 [==============================] - 3s 16ms/step - loss: 0.3592 - accuracy: 0.8806 - val_loss: 0.4724 - val_accuracy: 0.7984\n",
      "Epoch 10/30\n",
      "191/191 [==============================] - 3s 16ms/step - loss: 0.3307 - accuracy: 0.8903 - val_loss: 0.4647 - val_accuracy: 0.8070\n",
      "Epoch 11/30\n",
      "191/191 [==============================] - 3s 16ms/step - loss: 0.3049 - accuracy: 0.8987 - val_loss: 0.4590 - val_accuracy: 0.8083\n",
      "Epoch 12/30\n",
      "191/191 [==============================] - 3s 16ms/step - loss: 0.2816 - accuracy: 0.9077 - val_loss: 0.4603 - val_accuracy: 0.8037\n",
      "Epoch 13/30\n",
      "191/191 [==============================] - 3s 16ms/step - loss: 0.2611 - accuracy: 0.9146 - val_loss: 0.4539 - val_accuracy: 0.8109\n",
      "Epoch 14/30\n",
      "191/191 [==============================] - 3s 16ms/step - loss: 0.2414 - accuracy: 0.9200 - val_loss: 0.4533 - val_accuracy: 0.8030\n",
      "Epoch 15/30\n",
      "191/191 [==============================] - 3s 17ms/step - loss: 0.2247 - accuracy: 0.9289 - val_loss: 0.4546 - val_accuracy: 0.8096\n",
      "Epoch 16/30\n",
      "191/191 [==============================] - 3s 16ms/step - loss: 0.2068 - accuracy: 0.9351 - val_loss: 0.4547 - val_accuracy: 0.8050\n",
      "Epoch 17/30\n",
      "191/191 [==============================] - 3s 16ms/step - loss: 0.1933 - accuracy: 0.9409 - val_loss: 0.4565 - val_accuracy: 0.8043\n",
      "Epoch 18/30\n",
      "191/191 [==============================] - 3s 16ms/step - loss: 0.1792 - accuracy: 0.9470 - val_loss: 0.4671 - val_accuracy: 0.7899\n",
      "Epoch 19/30\n",
      "191/191 [==============================] - 3s 16ms/step - loss: 0.1664 - accuracy: 0.9542 - val_loss: 0.4630 - val_accuracy: 0.8083\n",
      "Epoch 20/30\n",
      "191/191 [==============================] - 3s 16ms/step - loss: 0.1558 - accuracy: 0.9555 - val_loss: 0.4655 - val_accuracy: 0.8030\n",
      "Epoch 21/30\n",
      "191/191 [==============================] - 3s 16ms/step - loss: 0.1438 - accuracy: 0.9599 - val_loss: 0.4734 - val_accuracy: 0.7958\n",
      "Epoch 22/30\n",
      "191/191 [==============================] - 3s 16ms/step - loss: 0.1344 - accuracy: 0.9612 - val_loss: 0.4743 - val_accuracy: 0.7997\n",
      "Epoch 23/30\n",
      "191/191 [==============================] - 3s 16ms/step - loss: 0.1259 - accuracy: 0.9670 - val_loss: 0.4792 - val_accuracy: 0.8004\n",
      "Epoch 24/30\n",
      "191/191 [==============================] - 3s 16ms/step - loss: 0.1168 - accuracy: 0.9686 - val_loss: 0.4953 - val_accuracy: 0.8024\n",
      "Epoch 25/30\n",
      "191/191 [==============================] - 3s 16ms/step - loss: 0.1088 - accuracy: 0.9716 - val_loss: 0.4901 - val_accuracy: 0.8024\n",
      "Epoch 26/30\n",
      "191/191 [==============================] - 3s 16ms/step - loss: 0.1025 - accuracy: 0.9734 - val_loss: 0.4984 - val_accuracy: 0.8017\n",
      "Epoch 27/30\n",
      "191/191 [==============================] - 3s 16ms/step - loss: 0.0953 - accuracy: 0.9762 - val_loss: 0.5020 - val_accuracy: 0.7991\n",
      "Epoch 28/30\n",
      "191/191 [==============================] - 3s 16ms/step - loss: 0.0888 - accuracy: 0.9767 - val_loss: 0.5084 - val_accuracy: 0.7991\n",
      "Epoch 29/30\n",
      "191/191 [==============================] - 3s 17ms/step - loss: 0.0837 - accuracy: 0.9783 - val_loss: 0.5168 - val_accuracy: 0.7965\n",
      "Epoch 30/30\n",
      "191/191 [==============================] - 3s 17ms/step - loss: 0.0780 - accuracy: 0.9810 - val_loss: 0.5250 - val_accuracy: 0.7886\n"
     ]
    },
    {
     "data": {
      "text/plain": [
       "<keras.callbacks.History at 0x7fcaa23c10d0>"
      ]
     },
     "execution_count": 13,
     "metadata": {},
     "output_type": "execute_result"
    }
   ],
   "source": [
    "model.compile(\n",
    "    optimizer='adam',\n",
    "    loss='binary_crossentropy',\n",
    "    metrics='accuracy'\n",
    ")\n",
    "model.fit(\n",
    "    x=trn_tweets,\n",
    "    y=trn_labels,\n",
    "    epochs=30,\n",
    "    validation_data=(val_tweets, val_labels)\n",
    ")"
   ]
  },
  {
   "cell_type": "code",
   "execution_count": 14,
   "id": "716a89af",
   "metadata": {
    "execution": {
     "iopub.execute_input": "2022-09-26T01:43:09.565569Z",
     "iopub.status.busy": "2022-09-26T01:43:09.564771Z",
     "iopub.status.idle": "2022-09-26T01:43:09.730894Z",
     "shell.execute_reply": "2022-09-26T01:43:09.729762Z"
    },
    "papermill": {
     "duration": 0.267152,
     "end_time": "2022-09-26T01:43:09.733434",
     "exception": false,
     "start_time": "2022-09-26T01:43:09.466282",
     "status": "completed"
    },
    "tags": []
   },
   "outputs": [
    {
     "name": "stdout",
     "output_type": "stream",
     "text": [
      "48/48 [==============================] - 0s 2ms/step - loss: 0.5250 - accuracy: 0.7886\n"
     ]
    },
    {
     "data": {
      "text/plain": [
       "[0.5250132083892822, 0.7885751724243164]"
      ]
     },
     "execution_count": 14,
     "metadata": {},
     "output_type": "execute_result"
    }
   ],
   "source": [
    "model.evaluate(val_tweets, val_labels)"
   ]
  },
  {
   "cell_type": "code",
   "execution_count": 15,
   "id": "02eff261",
   "metadata": {
    "execution": {
     "iopub.execute_input": "2022-09-26T01:43:09.933231Z",
     "iopub.status.busy": "2022-09-26T01:43:09.932431Z",
     "iopub.status.idle": "2022-09-26T01:43:10.204329Z",
     "shell.execute_reply": "2022-09-26T01:43:10.202982Z"
    },
    "papermill": {
     "duration": 0.371398,
     "end_time": "2022-09-26T01:43:10.206801",
     "exception": false,
     "start_time": "2022-09-26T01:43:09.835403",
     "status": "completed"
    },
    "tags": []
   },
   "outputs": [
    {
     "name": "stdout",
     "output_type": "stream",
     "text": [
      "[1.]\n",
      "[1.1050737e-05]\n"
     ]
    }
   ],
   "source": [
    "predictions = model.predict(val_tweets)\n",
    "print(max(predictions))\n",
    "print(min(predictions))"
   ]
  }
 ],
 "metadata": {
  "kernelspec": {
   "display_name": "Python 3",
   "language": "python",
   "name": "python3"
  },
  "language_info": {
   "codemirror_mode": {
    "name": "ipython",
    "version": 3
   },
   "file_extension": ".py",
   "mimetype": "text/x-python",
   "name": "python",
   "nbconvert_exporter": "python",
   "pygments_lexer": "ipython3",
   "version": "3.7.12"
  },
  "papermill": {
   "default_parameters": {},
   "duration": 116.149155,
   "end_time": "2022-09-26T01:43:13.382341",
   "environment_variables": {},
   "exception": null,
   "input_path": "__notebook__.ipynb",
   "output_path": "__notebook__.ipynb",
   "parameters": {},
   "start_time": "2022-09-26T01:41:17.233186",
   "version": "2.3.4"
  }
 },
 "nbformat": 4,
 "nbformat_minor": 5
}
