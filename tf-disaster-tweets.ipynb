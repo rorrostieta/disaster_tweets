{
 "cells": [
  {
   "cell_type": "code",
   "execution_count": 1,
   "id": "db6f8d5e",
   "metadata": {
    "execution": {
     "iopub.execute_input": "2022-09-27T01:40:31.860990Z",
     "iopub.status.busy": "2022-09-27T01:40:31.860467Z",
     "iopub.status.idle": "2022-09-27T01:40:38.095340Z",
     "shell.execute_reply": "2022-09-27T01:40:38.094364Z"
    },
    "papermill": {
     "duration": 6.246058,
     "end_time": "2022-09-27T01:40:38.098010",
     "exception": false,
     "start_time": "2022-09-27T01:40:31.851952",
     "status": "completed"
    },
    "tags": []
   },
   "outputs": [],
   "source": [
    "import pandas as pd\n",
    "import numpy as np\n",
    "import matplotlib.pyplot as plt\n",
    "from sklearn.model_selection import train_test_split\n",
    "from sklearn.metrics import accuracy_score\n",
    "\n",
    "import tensorflow as tf\n",
    "from tensorflow.keras import layers\n",
    "from tensorflow.keras.layers import TextVectorization\n",
    "from tensorflow.keras import losses"
   ]
  },
  {
   "cell_type": "markdown",
   "id": "fb95863f",
   "metadata": {
    "papermill": {
     "duration": 0.005641,
     "end_time": "2022-09-27T01:40:38.109673",
     "exception": false,
     "start_time": "2022-09-27T01:40:38.104032",
     "status": "completed"
    },
    "tags": []
   },
   "source": [
    "# EDA"
   ]
  },
  {
   "cell_type": "code",
   "execution_count": 2,
   "id": "295a4c3b",
   "metadata": {
    "execution": {
     "iopub.execute_input": "2022-09-27T01:40:38.122564Z",
     "iopub.status.busy": "2022-09-27T01:40:38.121984Z",
     "iopub.status.idle": "2022-09-27T01:40:38.217479Z",
     "shell.execute_reply": "2022-09-27T01:40:38.216502Z"
    },
    "papermill": {
     "duration": 0.105164,
     "end_time": "2022-09-27T01:40:38.220423",
     "exception": false,
     "start_time": "2022-09-27T01:40:38.115259",
     "status": "completed"
    },
    "tags": []
   },
   "outputs": [
    {
     "data": {
      "text/html": [
       "<div>\n",
       "<style scoped>\n",
       "    .dataframe tbody tr th:only-of-type {\n",
       "        vertical-align: middle;\n",
       "    }\n",
       "\n",
       "    .dataframe tbody tr th {\n",
       "        vertical-align: top;\n",
       "    }\n",
       "\n",
       "    .dataframe thead th {\n",
       "        text-align: right;\n",
       "    }\n",
       "</style>\n",
       "<table border=\"1\" class=\"dataframe\">\n",
       "  <thead>\n",
       "    <tr style=\"text-align: right;\">\n",
       "      <th></th>\n",
       "      <th>id</th>\n",
       "      <th>keyword</th>\n",
       "      <th>location</th>\n",
       "      <th>text</th>\n",
       "      <th>target</th>\n",
       "    </tr>\n",
       "  </thead>\n",
       "  <tbody>\n",
       "    <tr>\n",
       "      <th>0</th>\n",
       "      <td>1</td>\n",
       "      <td>NaN</td>\n",
       "      <td>NaN</td>\n",
       "      <td>Our Deeds are the Reason of this #earthquake M...</td>\n",
       "      <td>1</td>\n",
       "    </tr>\n",
       "    <tr>\n",
       "      <th>1</th>\n",
       "      <td>4</td>\n",
       "      <td>NaN</td>\n",
       "      <td>NaN</td>\n",
       "      <td>Forest fire near La Ronge Sask. Canada</td>\n",
       "      <td>1</td>\n",
       "    </tr>\n",
       "    <tr>\n",
       "      <th>2</th>\n",
       "      <td>5</td>\n",
       "      <td>NaN</td>\n",
       "      <td>NaN</td>\n",
       "      <td>All residents asked to 'shelter in place' are ...</td>\n",
       "      <td>1</td>\n",
       "    </tr>\n",
       "    <tr>\n",
       "      <th>3</th>\n",
       "      <td>6</td>\n",
       "      <td>NaN</td>\n",
       "      <td>NaN</td>\n",
       "      <td>13,000 people receive #wildfires evacuation or...</td>\n",
       "      <td>1</td>\n",
       "    </tr>\n",
       "    <tr>\n",
       "      <th>4</th>\n",
       "      <td>7</td>\n",
       "      <td>NaN</td>\n",
       "      <td>NaN</td>\n",
       "      <td>Just got sent this photo from Ruby #Alaska as ...</td>\n",
       "      <td>1</td>\n",
       "    </tr>\n",
       "  </tbody>\n",
       "</table>\n",
       "</div>"
      ],
      "text/plain": [
       "   id keyword location                                               text  \\\n",
       "0   1     NaN      NaN  Our Deeds are the Reason of this #earthquake M...   \n",
       "1   4     NaN      NaN             Forest fire near La Ronge Sask. Canada   \n",
       "2   5     NaN      NaN  All residents asked to 'shelter in place' are ...   \n",
       "3   6     NaN      NaN  13,000 people receive #wildfires evacuation or...   \n",
       "4   7     NaN      NaN  Just got sent this photo from Ruby #Alaska as ...   \n",
       "\n",
       "   target  \n",
       "0       1  \n",
       "1       1  \n",
       "2       1  \n",
       "3       1  \n",
       "4       1  "
      ]
     },
     "execution_count": 2,
     "metadata": {},
     "output_type": "execute_result"
    }
   ],
   "source": [
    "train_data = pd.read_csv('../input/nlp-getting-started/train.csv')\n",
    "test_data = pd.read_csv('../input/nlp-getting-started/test.csv')\n",
    "train_data.head()"
   ]
  },
  {
   "cell_type": "code",
   "execution_count": 3,
   "id": "d2263235",
   "metadata": {
    "execution": {
     "iopub.execute_input": "2022-09-27T01:40:38.235183Z",
     "iopub.status.busy": "2022-09-27T01:40:38.233552Z",
     "iopub.status.idle": "2022-09-27T01:40:38.245986Z",
     "shell.execute_reply": "2022-09-27T01:40:38.245131Z"
    },
    "papermill": {
     "duration": 0.021494,
     "end_time": "2022-09-27T01:40:38.248052",
     "exception": false,
     "start_time": "2022-09-27T01:40:38.226558",
     "status": "completed"
    },
    "tags": []
   },
   "outputs": [
    {
     "data": {
      "text/html": [
       "<div>\n",
       "<style scoped>\n",
       "    .dataframe tbody tr th:only-of-type {\n",
       "        vertical-align: middle;\n",
       "    }\n",
       "\n",
       "    .dataframe tbody tr th {\n",
       "        vertical-align: top;\n",
       "    }\n",
       "\n",
       "    .dataframe thead th {\n",
       "        text-align: right;\n",
       "    }\n",
       "</style>\n",
       "<table border=\"1\" class=\"dataframe\">\n",
       "  <thead>\n",
       "    <tr style=\"text-align: right;\">\n",
       "      <th></th>\n",
       "      <th>id</th>\n",
       "      <th>keyword</th>\n",
       "      <th>location</th>\n",
       "      <th>text</th>\n",
       "    </tr>\n",
       "  </thead>\n",
       "  <tbody>\n",
       "    <tr>\n",
       "      <th>0</th>\n",
       "      <td>0</td>\n",
       "      <td>NaN</td>\n",
       "      <td>NaN</td>\n",
       "      <td>Just happened a terrible car crash</td>\n",
       "    </tr>\n",
       "    <tr>\n",
       "      <th>1</th>\n",
       "      <td>2</td>\n",
       "      <td>NaN</td>\n",
       "      <td>NaN</td>\n",
       "      <td>Heard about #earthquake is different cities, s...</td>\n",
       "    </tr>\n",
       "    <tr>\n",
       "      <th>2</th>\n",
       "      <td>3</td>\n",
       "      <td>NaN</td>\n",
       "      <td>NaN</td>\n",
       "      <td>there is a forest fire at spot pond, geese are...</td>\n",
       "    </tr>\n",
       "    <tr>\n",
       "      <th>3</th>\n",
       "      <td>9</td>\n",
       "      <td>NaN</td>\n",
       "      <td>NaN</td>\n",
       "      <td>Apocalypse lighting. #Spokane #wildfires</td>\n",
       "    </tr>\n",
       "    <tr>\n",
       "      <th>4</th>\n",
       "      <td>11</td>\n",
       "      <td>NaN</td>\n",
       "      <td>NaN</td>\n",
       "      <td>Typhoon Soudelor kills 28 in China and Taiwan</td>\n",
       "    </tr>\n",
       "  </tbody>\n",
       "</table>\n",
       "</div>"
      ],
      "text/plain": [
       "   id keyword location                                               text\n",
       "0   0     NaN      NaN                 Just happened a terrible car crash\n",
       "1   2     NaN      NaN  Heard about #earthquake is different cities, s...\n",
       "2   3     NaN      NaN  there is a forest fire at spot pond, geese are...\n",
       "3   9     NaN      NaN           Apocalypse lighting. #Spokane #wildfires\n",
       "4  11     NaN      NaN      Typhoon Soudelor kills 28 in China and Taiwan"
      ]
     },
     "execution_count": 3,
     "metadata": {},
     "output_type": "execute_result"
    }
   ],
   "source": [
    "test_data.head()"
   ]
  },
  {
   "cell_type": "code",
   "execution_count": 4,
   "id": "7de32a55",
   "metadata": {
    "execution": {
     "iopub.execute_input": "2022-09-27T01:40:38.261984Z",
     "iopub.status.busy": "2022-09-27T01:40:38.261089Z",
     "iopub.status.idle": "2022-09-27T01:40:38.272763Z",
     "shell.execute_reply": "2022-09-27T01:40:38.271766Z"
    },
    "papermill": {
     "duration": 0.02048,
     "end_time": "2022-09-27T01:40:38.274685",
     "exception": false,
     "start_time": "2022-09-27T01:40:38.254205",
     "status": "completed"
    },
    "tags": []
   },
   "outputs": [
    {
     "data": {
      "text/plain": [
       "<bound method DataFrame.info of          id keyword location  \\\n",
       "0         1     NaN      NaN   \n",
       "1         4     NaN      NaN   \n",
       "2         5     NaN      NaN   \n",
       "3         6     NaN      NaN   \n",
       "4         7     NaN      NaN   \n",
       "...     ...     ...      ...   \n",
       "7608  10869     NaN      NaN   \n",
       "7609  10870     NaN      NaN   \n",
       "7610  10871     NaN      NaN   \n",
       "7611  10872     NaN      NaN   \n",
       "7612  10873     NaN      NaN   \n",
       "\n",
       "                                                   text  target  \n",
       "0     Our Deeds are the Reason of this #earthquake M...       1  \n",
       "1                Forest fire near La Ronge Sask. Canada       1  \n",
       "2     All residents asked to 'shelter in place' are ...       1  \n",
       "3     13,000 people receive #wildfires evacuation or...       1  \n",
       "4     Just got sent this photo from Ruby #Alaska as ...       1  \n",
       "...                                                 ...     ...  \n",
       "7608  Two giant cranes holding a bridge collapse int...       1  \n",
       "7609  @aria_ahrary @TheTawniest The out of control w...       1  \n",
       "7610  M1.94 [01:04 UTC]?5km S of Volcano Hawaii. htt...       1  \n",
       "7611  Police investigating after an e-bike collided ...       1  \n",
       "7612  The Latest: More Homes Razed by Northern Calif...       1  \n",
       "\n",
       "[7613 rows x 5 columns]>"
      ]
     },
     "execution_count": 4,
     "metadata": {},
     "output_type": "execute_result"
    }
   ],
   "source": [
    "train_data.info"
   ]
  },
  {
   "cell_type": "code",
   "execution_count": 5,
   "id": "0cc7ef0e",
   "metadata": {
    "execution": {
     "iopub.execute_input": "2022-09-27T01:40:38.289262Z",
     "iopub.status.busy": "2022-09-27T01:40:38.288237Z",
     "iopub.status.idle": "2022-09-27T01:40:38.295704Z",
     "shell.execute_reply": "2022-09-27T01:40:38.294757Z"
    },
    "papermill": {
     "duration": 0.016605,
     "end_time": "2022-09-27T01:40:38.297665",
     "exception": false,
     "start_time": "2022-09-27T01:40:38.281060",
     "status": "completed"
    },
    "tags": []
   },
   "outputs": [
    {
     "data": {
      "text/plain": [
       "id           int64\n",
       "keyword     object\n",
       "location    object\n",
       "text        object\n",
       "target       int64\n",
       "dtype: object"
      ]
     },
     "execution_count": 5,
     "metadata": {},
     "output_type": "execute_result"
    }
   ],
   "source": [
    "train_data.dtypes"
   ]
  },
  {
   "cell_type": "markdown",
   "id": "ed22f56b",
   "metadata": {
    "papermill": {
     "duration": 0.006027,
     "end_time": "2022-09-27T01:40:38.309803",
     "exception": false,
     "start_time": "2022-09-27T01:40:38.303776",
     "status": "completed"
    },
    "tags": []
   },
   "source": [
    "# PreProcessing"
   ]
  },
  {
   "cell_type": "code",
   "execution_count": 6,
   "id": "0a24968e",
   "metadata": {
    "execution": {
     "iopub.execute_input": "2022-09-27T01:40:38.323393Z",
     "iopub.status.busy": "2022-09-27T01:40:38.323005Z",
     "iopub.status.idle": "2022-09-27T01:40:38.332767Z",
     "shell.execute_reply": "2022-09-27T01:40:38.331921Z"
    },
    "papermill": {
     "duration": 0.018837,
     "end_time": "2022-09-27T01:40:38.334772",
     "exception": false,
     "start_time": "2022-09-27T01:40:38.315935",
     "status": "completed"
    },
    "tags": []
   },
   "outputs": [],
   "source": [
    "tweets = train_data['text'].to_numpy()\n",
    "labels = train_data['target'].to_numpy()\n",
    "tst_tweets = test_data['text']\n",
    "trn_tweets, val_tweets, trn_labels, val_labels = train_test_split(tweets, labels, test_size=0.2, random_state=42, shuffle=True)"
   ]
  },
  {
   "cell_type": "code",
   "execution_count": 7,
   "id": "3e251256",
   "metadata": {
    "execution": {
     "iopub.execute_input": "2022-09-27T01:40:38.349454Z",
     "iopub.status.busy": "2022-09-27T01:40:38.349100Z",
     "iopub.status.idle": "2022-09-27T01:40:41.185384Z",
     "shell.execute_reply": "2022-09-27T01:40:41.184411Z"
    },
    "papermill": {
     "duration": 2.846633,
     "end_time": "2022-09-27T01:40:41.188506",
     "exception": false,
     "start_time": "2022-09-27T01:40:38.341873",
     "status": "completed"
    },
    "tags": []
   },
   "outputs": [
    {
     "name": "stderr",
     "output_type": "stream",
     "text": [
      "2022-09-27 01:40:38.439283: I tensorflow/stream_executor/cuda/cuda_gpu_executor.cc:937] successful NUMA node read from SysFS had negative value (-1), but there must be at least one NUMA node, so returning NUMA node zero\n",
      "2022-09-27 01:40:38.538440: I tensorflow/stream_executor/cuda/cuda_gpu_executor.cc:937] successful NUMA node read from SysFS had negative value (-1), but there must be at least one NUMA node, so returning NUMA node zero\n",
      "2022-09-27 01:40:38.539321: I tensorflow/stream_executor/cuda/cuda_gpu_executor.cc:937] successful NUMA node read from SysFS had negative value (-1), but there must be at least one NUMA node, so returning NUMA node zero\n",
      "2022-09-27 01:40:38.540553: I tensorflow/core/platform/cpu_feature_guard.cc:142] This TensorFlow binary is optimized with oneAPI Deep Neural Network Library (oneDNN) to use the following CPU instructions in performance-critical operations:  AVX2 AVX512F FMA\n",
      "To enable them in other operations, rebuild TensorFlow with the appropriate compiler flags.\n",
      "2022-09-27 01:40:38.547221: I tensorflow/stream_executor/cuda/cuda_gpu_executor.cc:937] successful NUMA node read from SysFS had negative value (-1), but there must be at least one NUMA node, so returning NUMA node zero\n",
      "2022-09-27 01:40:38.547948: I tensorflow/stream_executor/cuda/cuda_gpu_executor.cc:937] successful NUMA node read from SysFS had negative value (-1), but there must be at least one NUMA node, so returning NUMA node zero\n",
      "2022-09-27 01:40:38.548645: I tensorflow/stream_executor/cuda/cuda_gpu_executor.cc:937] successful NUMA node read from SysFS had negative value (-1), but there must be at least one NUMA node, so returning NUMA node zero\n",
      "2022-09-27 01:40:40.821463: I tensorflow/stream_executor/cuda/cuda_gpu_executor.cc:937] successful NUMA node read from SysFS had negative value (-1), but there must be at least one NUMA node, so returning NUMA node zero\n",
      "2022-09-27 01:40:40.822279: I tensorflow/stream_executor/cuda/cuda_gpu_executor.cc:937] successful NUMA node read from SysFS had negative value (-1), but there must be at least one NUMA node, so returning NUMA node zero\n",
      "2022-09-27 01:40:40.822992: I tensorflow/stream_executor/cuda/cuda_gpu_executor.cc:937] successful NUMA node read from SysFS had negative value (-1), but there must be at least one NUMA node, so returning NUMA node zero\n",
      "2022-09-27 01:40:40.823584: I tensorflow/core/common_runtime/gpu/gpu_device.cc:1510] Created device /job:localhost/replica:0/task:0/device:GPU:0 with 15401 MB memory:  -> device: 0, name: Tesla P100-PCIE-16GB, pci bus id: 0000:00:04.0, compute capability: 6.0\n"
     ]
    }
   ],
   "source": [
    "max_features = 15000\n",
    "sequence_length = 150\n",
    "\n",
    "vectorize_layer = TextVectorization(\n",
    "    standardize='lower_and_strip_punctuation',\n",
    "    max_tokens=max_features,\n",
    "    output_mode='int',\n",
    "    output_sequence_length=sequence_length)"
   ]
  },
  {
   "cell_type": "code",
   "execution_count": 8,
   "id": "9810c516",
   "metadata": {
    "execution": {
     "iopub.execute_input": "2022-09-27T01:40:41.202311Z",
     "iopub.status.busy": "2022-09-27T01:40:41.201969Z",
     "iopub.status.idle": "2022-09-27T01:40:41.728983Z",
     "shell.execute_reply": "2022-09-27T01:40:41.727956Z"
    },
    "papermill": {
     "duration": 0.537026,
     "end_time": "2022-09-27T01:40:41.731820",
     "exception": false,
     "start_time": "2022-09-27T01:40:41.194794",
     "status": "completed"
    },
    "tags": []
   },
   "outputs": [
    {
     "name": "stderr",
     "output_type": "stream",
     "text": [
      "2022-09-27 01:40:41.271866: I tensorflow/compiler/mlir/mlir_graph_optimization_pass.cc:185] None of the MLIR Optimization Passes are enabled (registered 2)\n"
     ]
    }
   ],
   "source": [
    "vectorize_layer.adapt(trn_tweets)"
   ]
  },
  {
   "cell_type": "code",
   "execution_count": 9,
   "id": "f3378b3e",
   "metadata": {
    "execution": {
     "iopub.execute_input": "2022-09-27T01:40:41.752627Z",
     "iopub.status.busy": "2022-09-27T01:40:41.751793Z",
     "iopub.status.idle": "2022-09-27T01:40:41.834389Z",
     "shell.execute_reply": "2022-09-27T01:40:41.833221Z"
    },
    "papermill": {
     "duration": 0.095514,
     "end_time": "2022-09-27T01:40:41.837036",
     "exception": false,
     "start_time": "2022-09-27T01:40:41.741522",
     "status": "completed"
    },
    "tags": []
   },
   "outputs": [
    {
     "name": "stdout",
     "output_type": "stream",
     "text": [
      "Tweet Courageous and honest analysis of need to use Atomic Bomb in 1945. #Hiroshima70 Japanese military refused surrender. https://t.co/VhmtyTptGR\n",
      "Label 1\n",
      "Vectorized Tweet tf.Tensor(\n",
      "[    1     8  4962  2917     6   156     5   438   216   118     4  2377\n",
      "  4973  1177   240  4381  4119 14803     0     0     0     0     0     0\n",
      "     0     0     0     0     0     0     0     0     0     0     0     0\n",
      "     0     0     0     0     0     0     0     0     0     0     0     0\n",
      "     0     0     0     0     0     0     0     0     0     0     0     0\n",
      "     0     0     0     0     0     0     0     0     0     0     0     0\n",
      "     0     0     0     0     0     0     0     0     0     0     0     0\n",
      "     0     0     0     0     0     0     0     0     0     0     0     0\n",
      "     0     0     0     0     0     0     0     0     0     0     0     0\n",
      "     0     0     0     0     0     0     0     0     0     0     0     0\n",
      "     0     0     0     0     0     0     0     0     0     0     0     0\n",
      "     0     0     0     0     0     0     0     0     0     0     0     0\n",
      "     0     0     0     0     0     0], shape=(150,), dtype=int64)\n"
     ]
    }
   ],
   "source": [
    "first_tweet = trn_tweets[0]\n",
    "first_label = trn_labels[0]\n",
    "print('Tweet', first_tweet)\n",
    "print('Label', first_label)\n",
    "print('Vectorized Tweet', vectorize_layer(trn_tweets[0]))"
   ]
  },
  {
   "cell_type": "code",
   "execution_count": 10,
   "id": "05ae9660",
   "metadata": {
    "execution": {
     "iopub.execute_input": "2022-09-27T01:40:41.857301Z",
     "iopub.status.busy": "2022-09-27T01:40:41.856913Z",
     "iopub.status.idle": "2022-09-27T01:40:42.043368Z",
     "shell.execute_reply": "2022-09-27T01:40:42.042211Z"
    },
    "papermill": {
     "duration": 0.198874,
     "end_time": "2022-09-27T01:40:42.045568",
     "exception": false,
     "start_time": "2022-09-27T01:40:41.846694",
     "status": "completed"
    },
    "tags": []
   },
   "outputs": [
    {
     "name": "stdout",
     "output_type": "stream",
     "text": [
      "Word #1 --> [UNK]\n",
      "Word #8 --> and\n",
      "Word #4962 --> honest\n",
      "Total words in training vocabulary: 15000\n"
     ]
    }
   ],
   "source": [
    "print('Word #1 -->', vectorize_layer.get_vocabulary()[1])\n",
    "print('Word #8 -->', vectorize_layer.get_vocabulary()[8])\n",
    "print('Word #4962 -->', vectorize_layer.get_vocabulary()[4962])\n",
    "print('Total words in training vocabulary:', len(vectorize_layer.get_vocabulary()))"
   ]
  },
  {
   "cell_type": "code",
   "execution_count": 11,
   "id": "df7921f1",
   "metadata": {
    "execution": {
     "iopub.execute_input": "2022-09-27T01:40:42.066340Z",
     "iopub.status.busy": "2022-09-27T01:40:42.065428Z",
     "iopub.status.idle": "2022-09-27T01:40:42.078335Z",
     "shell.execute_reply": "2022-09-27T01:40:42.077183Z"
    },
    "papermill": {
     "duration": 0.026022,
     "end_time": "2022-09-27T01:40:42.081121",
     "exception": false,
     "start_time": "2022-09-27T01:40:42.055099",
     "status": "completed"
    },
    "tags": []
   },
   "outputs": [],
   "source": [
    "embedding_layer = layers.Embedding(\n",
    "    input_dim = max_features,\n",
    "    output_dim=128,\n",
    "    embeddings_initializer='uniform',\n",
    "    input_length=sequence_length,\n",
    "    name='mbedding_1')"
   ]
  },
  {
   "cell_type": "code",
   "execution_count": 12,
   "id": "8d5ab90c",
   "metadata": {
    "execution": {
     "iopub.execute_input": "2022-09-27T01:40:42.105309Z",
     "iopub.status.busy": "2022-09-27T01:40:42.104782Z",
     "iopub.status.idle": "2022-09-27T01:40:42.194184Z",
     "shell.execute_reply": "2022-09-27T01:40:42.192376Z"
    },
    "papermill": {
     "duration": 0.106312,
     "end_time": "2022-09-27T01:40:42.198533",
     "exception": false,
     "start_time": "2022-09-27T01:40:42.092221",
     "status": "completed"
    },
    "tags": []
   },
   "outputs": [
    {
     "name": "stdout",
     "output_type": "stream",
     "text": [
      "Model: \"Dense_Model\"\n",
      "_________________________________________________________________\n",
      "Layer (type)                 Output Shape              Param #   \n",
      "=================================================================\n",
      "input_1 (InputLayer)         [(None, 1)]               0         \n",
      "_________________________________________________________________\n",
      "text_vectorization (TextVect (None, 150)               0         \n",
      "_________________________________________________________________\n",
      "mbedding_1 (Embedding)       (None, 150, 128)          1920000   \n",
      "_________________________________________________________________\n",
      "global_average_pooling1d (Gl (None, 128)               0         \n",
      "_________________________________________________________________\n",
      "dense (Dense)                (None, 1)                 129       \n",
      "=================================================================\n",
      "Total params: 1,920,129\n",
      "Trainable params: 1,920,129\n",
      "Non-trainable params: 0\n",
      "_________________________________________________________________\n"
     ]
    }
   ],
   "source": [
    "Is = layers.Input(shape = (1,), dtype = tf.string)\n",
    "L1 = vectorize_layer(Is)\n",
    "L2 = embedding_layer(L1)\n",
    "L3 = layers.GlobalAveragePooling1D()(L2)\n",
    "Os = layers.Dense(1, activation = 'sigmoid')(L3)\n",
    "\n",
    "model = tf.keras.Model(Is, Os, name = 'Dense_Model')\n",
    "model.summary()"
   ]
  },
  {
   "cell_type": "code",
   "execution_count": 13,
   "id": "d22702dc",
   "metadata": {
    "execution": {
     "iopub.execute_input": "2022-09-27T01:40:42.221284Z",
     "iopub.status.busy": "2022-09-27T01:40:42.220864Z",
     "iopub.status.idle": "2022-09-27T01:40:59.125089Z",
     "shell.execute_reply": "2022-09-27T01:40:59.124094Z"
    },
    "papermill": {
     "duration": 16.917558,
     "end_time": "2022-09-27T01:40:59.127470",
     "exception": false,
     "start_time": "2022-09-27T01:40:42.209912",
     "status": "completed"
    },
    "tags": []
   },
   "outputs": [
    {
     "name": "stdout",
     "output_type": "stream",
     "text": [
      "Epoch 1/15\n",
      "191/191 [==============================] - 3s 6ms/step - loss: 0.6803 - accuracy: 0.5681 - val_loss: 0.6741 - val_accuracy: 0.5739\n",
      "Epoch 2/15\n",
      "191/191 [==============================] - 1s 7ms/step - loss: 0.6599 - accuracy: 0.5839 - val_loss: 0.6463 - val_accuracy: 0.6251\n",
      "Epoch 3/15\n",
      "191/191 [==============================] - 1s 5ms/step - loss: 0.6115 - accuracy: 0.7026 - val_loss: 0.6004 - val_accuracy: 0.6993\n",
      "Epoch 4/15\n",
      "191/191 [==============================] - 1s 5ms/step - loss: 0.5459 - accuracy: 0.7947 - val_loss: 0.5534 - val_accuracy: 0.7853\n",
      "Epoch 5/15\n",
      "191/191 [==============================] - 1s 5ms/step - loss: 0.4843 - accuracy: 0.8294 - val_loss: 0.5205 - val_accuracy: 0.7820\n",
      "Epoch 6/15\n",
      "191/191 [==============================] - 1s 5ms/step - loss: 0.4373 - accuracy: 0.8424 - val_loss: 0.5051 - val_accuracy: 0.7840\n",
      "Epoch 7/15\n",
      "191/191 [==============================] - 1s 5ms/step - loss: 0.3973 - accuracy: 0.8596 - val_loss: 0.4839 - val_accuracy: 0.7997\n",
      "Epoch 8/15\n",
      "191/191 [==============================] - 1s 5ms/step - loss: 0.3622 - accuracy: 0.8742 - val_loss: 0.4696 - val_accuracy: 0.8017\n",
      "Epoch 9/15\n",
      "191/191 [==============================] - 1s 5ms/step - loss: 0.3333 - accuracy: 0.8821 - val_loss: 0.4626 - val_accuracy: 0.8056\n",
      "Epoch 10/15\n",
      "191/191 [==============================] - 1s 5ms/step - loss: 0.3072 - accuracy: 0.8934 - val_loss: 0.4577 - val_accuracy: 0.8109\n",
      "Epoch 11/15\n",
      "191/191 [==============================] - 1s 5ms/step - loss: 0.2844 - accuracy: 0.9008 - val_loss: 0.4599 - val_accuracy: 0.7945\n",
      "Epoch 12/15\n",
      "191/191 [==============================] - 1s 5ms/step - loss: 0.2639 - accuracy: 0.9080 - val_loss: 0.4529 - val_accuracy: 0.8102\n",
      "Epoch 13/15\n",
      "191/191 [==============================] - 1s 6ms/step - loss: 0.2444 - accuracy: 0.9154 - val_loss: 0.4555 - val_accuracy: 0.8089\n",
      "Epoch 14/15\n",
      "191/191 [==============================] - 1s 5ms/step - loss: 0.2271 - accuracy: 0.9269 - val_loss: 0.4627 - val_accuracy: 0.7958\n",
      "Epoch 15/15\n",
      "191/191 [==============================] - 1s 5ms/step - loss: 0.2121 - accuracy: 0.9307 - val_loss: 0.4563 - val_accuracy: 0.8043\n"
     ]
    }
   ],
   "source": [
    "model.compile(\n",
    "    optimizer='adam',\n",
    "    loss='binary_crossentropy',\n",
    "    metrics='accuracy'\n",
    ")\n",
    "history = model.fit(\n",
    "    x=trn_tweets,\n",
    "    y=trn_labels,\n",
    "    epochs=15,\n",
    "    validation_data=(val_tweets, val_labels)\n",
    ")"
   ]
  },
  {
   "cell_type": "code",
   "execution_count": 14,
   "id": "678c5086",
   "metadata": {
    "execution": {
     "iopub.execute_input": "2022-09-27T01:40:59.171146Z",
     "iopub.status.busy": "2022-09-27T01:40:59.170243Z",
     "iopub.status.idle": "2022-09-27T01:40:59.341085Z",
     "shell.execute_reply": "2022-09-27T01:40:59.340094Z"
    },
    "papermill": {
     "duration": 0.194924,
     "end_time": "2022-09-27T01:40:59.343435",
     "exception": false,
     "start_time": "2022-09-27T01:40:59.148511",
     "status": "completed"
    },
    "tags": []
   },
   "outputs": [
    {
     "name": "stdout",
     "output_type": "stream",
     "text": [
      "48/48 [==============================] - 0s 3ms/step - loss: 0.4563 - accuracy: 0.8043\n"
     ]
    },
    {
     "data": {
      "text/plain": [
       "[0.45631638169288635, 0.8043335676193237]"
      ]
     },
     "execution_count": 14,
     "metadata": {},
     "output_type": "execute_result"
    }
   ],
   "source": [
    "model.evaluate(val_tweets, val_labels)"
   ]
  },
  {
   "cell_type": "code",
   "execution_count": 15,
   "id": "d50d80ef",
   "metadata": {
    "execution": {
     "iopub.execute_input": "2022-09-27T01:40:59.386562Z",
     "iopub.status.busy": "2022-09-27T01:40:59.386217Z",
     "iopub.status.idle": "2022-09-27T01:40:59.612773Z",
     "shell.execute_reply": "2022-09-27T01:40:59.611616Z"
    },
    "papermill": {
     "duration": 0.250769,
     "end_time": "2022-09-27T01:40:59.615206",
     "exception": false,
     "start_time": "2022-09-27T01:40:59.364437",
     "status": "completed"
    },
    "tags": []
   },
   "outputs": [
    {
     "name": "stdout",
     "output_type": "stream",
     "text": [
      "[0. 0. 0. 0. 1. 0. 0. 0. 0. 1.]\n"
     ]
    },
    {
     "data": {
      "text/plain": [
       "0.804333552199606"
      ]
     },
     "execution_count": 15,
     "metadata": {},
     "output_type": "execute_result"
    }
   ],
   "source": [
    "predictions = model.predict(val_tweets)\n",
    "predictions = np.round(predictions).flatten()\n",
    "print(predictions[:10])\n",
    "accuracy_score(y_true=val_labels, y_pred=predictions)"
   ]
  },
  {
   "cell_type": "code",
   "execution_count": 16,
   "id": "6899c407",
   "metadata": {
    "execution": {
     "iopub.execute_input": "2022-09-27T01:40:59.662169Z",
     "iopub.status.busy": "2022-09-27T01:40:59.661710Z",
     "iopub.status.idle": "2022-09-27T01:40:59.668073Z",
     "shell.execute_reply": "2022-09-27T01:40:59.667166Z"
    },
    "papermill": {
     "duration": 0.03118,
     "end_time": "2022-09-27T01:40:59.669986",
     "exception": false,
     "start_time": "2022-09-27T01:40:59.638806",
     "status": "completed"
    },
    "tags": []
   },
   "outputs": [
    {
     "data": {
      "text/plain": [
       "dict_keys(['loss', 'accuracy', 'val_loss', 'val_accuracy'])"
      ]
     },
     "execution_count": 16,
     "metadata": {},
     "output_type": "execute_result"
    }
   ],
   "source": [
    "history_dict = history.history\n",
    "history_dict.keys()"
   ]
  },
  {
   "cell_type": "code",
   "execution_count": 17,
   "id": "288abc8c",
   "metadata": {
    "execution": {
     "iopub.execute_input": "2022-09-27T01:40:59.714213Z",
     "iopub.status.busy": "2022-09-27T01:40:59.712448Z",
     "iopub.status.idle": "2022-09-27T01:40:59.951189Z",
     "shell.execute_reply": "2022-09-27T01:40:59.950100Z"
    },
    "papermill": {
     "duration": 0.26275,
     "end_time": "2022-09-27T01:40:59.953392",
     "exception": false,
     "start_time": "2022-09-27T01:40:59.690642",
     "status": "completed"
    },
    "tags": []
   },
   "outputs": [
    {
     "data": {
      "image/png": "[encoded data removed]",
      "text/plain": [
       "<Figure size 432x288 with 1 Axes>"
      ]
     },
     "metadata": {
      "needs_background": "light"
     },
     "output_type": "display_data"
    }
   ],
   "source": [
    "acc = history_dict['accuracy']\n",
    "val_acc = history_dict['val_accuracy']\n",
    "loss = history_dict['loss']\n",
    "val_loss = history_dict['val_loss']\n",
    "\n",
    "epochs = range(1, len(acc) + 1)\n",
    "\n",
    "plt.plot(epochs, loss, 'bo', label='Training loss')\n",
    "plt.plot(epochs, val_loss, 'b', label='Validation loss')\n",
    "plt.title('Training and validation loss')\n",
    "plt.xlabel('Epochs')\n",
    "plt.ylabel('Loss')\n",
    "plt.legend()\n",
    "\n",
    "plt.show()"
   ]
  },
  {
   "cell_type": "code",
   "execution_count": 18,
   "id": "bc213dfa",
   "metadata": {
    "execution": {
     "iopub.execute_input": "2022-09-27T01:40:59.998230Z",
     "iopub.status.busy": "2022-09-27T01:40:59.997124Z",
     "iopub.status.idle": "2022-09-27T01:41:00.406401Z",
     "shell.execute_reply": "2022-09-27T01:41:00.404373Z"
    },
    "papermill": {
     "duration": 0.434659,
     "end_time": "2022-09-27T01:41:00.409244",
     "exception": false,
     "start_time": "2022-09-27T01:40:59.974585",
     "status": "completed"
    },
    "tags": []
   },
   "outputs": [
    {
     "name": "stdout",
     "output_type": "stream",
     "text": [
      "Model: \"GRU_Model\"\n",
      "_________________________________________________________________\n",
      "Layer (type)                 Output Shape              Param #   \n",
      "=================================================================\n",
      "input_2 (InputLayer)         [(None, 1)]               0         \n",
      "_________________________________________________________________\n",
      "text_vectorization (TextVect (None, 150)               0         \n",
      "_________________________________________________________________\n",
      "mbedding_1 (Embedding)       (None, 150, 128)          1920000   \n",
      "_________________________________________________________________\n",
      "gru (GRU)                    (None, 150, 64)           37248     \n",
      "_________________________________________________________________\n",
      "gru_1 (GRU)                  (None, 64)                24960     \n",
      "_________________________________________________________________\n",
      "dense_1 (Dense)              (None, 1)                 65        \n",
      "=================================================================\n",
      "Total params: 1,982,273\n",
      "Trainable params: 1,982,273\n",
      "Non-trainable params: 0\n",
      "_________________________________________________________________\n"
     ]
    }
   ],
   "source": [
    "Is = layers.Input(shape = (1,), dtype = tf.string)\n",
    "L1 = vectorize_layer(Is)\n",
    "L2 = embedding_layer(L1)\n",
    "L3 = layers.GRU(64,return_sequences=True)(L2)\n",
    "L4 = layers.GRU(64)(L3)\n",
    "Os = layers.Dense(1, activation = 'sigmoid')(L4)\n",
    "\n",
    "model_2 = tf.keras.Model(Is, Os, name = 'GRU_Model')\n",
    "model_2.summary()"
   ]
  },
  {
   "cell_type": "code",
   "execution_count": 19,
   "id": "4ee13415",
   "metadata": {
    "execution": {
     "iopub.execute_input": "2022-09-27T01:41:00.454056Z",
     "iopub.status.busy": "2022-09-27T01:41:00.453708Z",
     "iopub.status.idle": "2022-09-27T01:42:25.044110Z",
     "shell.execute_reply": "2022-09-27T01:42:25.043129Z"
    },
    "papermill": {
     "duration": 84.61623,
     "end_time": "2022-09-27T01:42:25.047484",
     "exception": false,
     "start_time": "2022-09-27T01:41:00.431254",
     "status": "completed"
    },
    "tags": []
   },
   "outputs": [
    {
     "name": "stdout",
     "output_type": "stream",
     "text": [
      "Epoch 1/20\n"
     ]
    },
    {
     "name": "stderr",
     "output_type": "stream",
     "text": [
      "2022-09-27 01:41:03.921613: I tensorflow/stream_executor/cuda/cuda_dnn.cc:369] Loaded cuDNN version 8005\n"
     ]
    },
    {
     "name": "stdout",
     "output_type": "stream",
     "text": [
      "191/191 [==============================] - 8s 20ms/step - loss: 0.6857 - accuracy: 0.5695 - val_loss: 0.6826 - val_accuracy: 0.5739\n",
      "Epoch 2/20\n",
      "191/191 [==============================] - 3s 16ms/step - loss: 0.6846 - accuracy: 0.5695 - val_loss: 0.6823 - val_accuracy: 0.5739\n",
      "Epoch 3/20\n",
      "191/191 [==============================] - 3s 17ms/step - loss: 0.6840 - accuracy: 0.5695 - val_loss: 0.6830 - val_accuracy: 0.5739\n",
      "Epoch 4/20\n",
      "191/191 [==============================] - 3s 16ms/step - loss: 0.6840 - accuracy: 0.5695 - val_loss: 0.6823 - val_accuracy: 0.5739\n",
      "Epoch 5/20\n",
      "191/191 [==============================] - 3s 17ms/step - loss: 0.6839 - accuracy: 0.5695 - val_loss: 0.6823 - val_accuracy: 0.5739\n",
      "Epoch 6/20\n",
      "191/191 [==============================] - 3s 16ms/step - loss: 0.6841 - accuracy: 0.5695 - val_loss: 0.6829 - val_accuracy: 0.5739\n",
      "Epoch 7/20\n",
      "191/191 [==============================] - 3s 16ms/step - loss: 0.6838 - accuracy: 0.5695 - val_loss: 0.6822 - val_accuracy: 0.5739\n",
      "Epoch 8/20\n",
      "191/191 [==============================] - 3s 16ms/step - loss: 0.6837 - accuracy: 0.5695 - val_loss: 0.6823 - val_accuracy: 0.5739\n",
      "Epoch 9/20\n",
      "191/191 [==============================] - 3s 17ms/step - loss: 0.6837 - accuracy: 0.5695 - val_loss: 0.6824 - val_accuracy: 0.5739\n",
      "Epoch 10/20\n",
      "191/191 [==============================] - 3s 16ms/step - loss: 0.6836 - accuracy: 0.5695 - val_loss: 0.6830 - val_accuracy: 0.5739\n",
      "Epoch 11/20\n",
      "191/191 [==============================] - 3s 16ms/step - loss: 0.6840 - accuracy: 0.5695 - val_loss: 0.6822 - val_accuracy: 0.5739\n",
      "Epoch 12/20\n",
      "191/191 [==============================] - 3s 17ms/step - loss: 0.6839 - accuracy: 0.5695 - val_loss: 0.6824 - val_accuracy: 0.5739\n",
      "Epoch 13/20\n",
      "191/191 [==============================] - 3s 16ms/step - loss: 0.6839 - accuracy: 0.5695 - val_loss: 0.6828 - val_accuracy: 0.5739\n",
      "Epoch 14/20\n",
      "191/191 [==============================] - 3s 17ms/step - loss: 0.6839 - accuracy: 0.5695 - val_loss: 0.6825 - val_accuracy: 0.5739\n",
      "Epoch 15/20\n",
      "191/191 [==============================] - 3s 16ms/step - loss: 0.6837 - accuracy: 0.5695 - val_loss: 0.6822 - val_accuracy: 0.5739\n",
      "Epoch 16/20\n",
      "191/191 [==============================] - 3s 17ms/step - loss: 0.6839 - accuracy: 0.5695 - val_loss: 0.6823 - val_accuracy: 0.5739\n",
      "Epoch 17/20\n",
      "191/191 [==============================] - 3s 16ms/step - loss: 0.6839 - accuracy: 0.5695 - val_loss: 0.6823 - val_accuracy: 0.5739\n",
      "Epoch 18/20\n",
      "191/191 [==============================] - 3s 16ms/step - loss: 0.6838 - accuracy: 0.5695 - val_loss: 0.6822 - val_accuracy: 0.5739\n",
      "Epoch 19/20\n",
      "191/191 [==============================] - 3s 17ms/step - loss: 0.6836 - accuracy: 0.5695 - val_loss: 0.6828 - val_accuracy: 0.5739\n",
      "Epoch 20/20\n",
      "191/191 [==============================] - 3s 16ms/step - loss: 0.6838 - accuracy: 0.5695 - val_loss: 0.6822 - val_accuracy: 0.5739\n"
     ]
    }
   ],
   "source": [
    "model_2.compile(\n",
    "    optimizer='adam',\n",
    "    loss='binary_crossentropy',\n",
    "    metrics='accuracy'\n",
    ")\n",
    "history_2 = model_2.fit(\n",
    "    x=trn_tweets,\n",
    "    y=trn_labels,\n",
    "    epochs=20,\n",
    "    validation_data=(val_tweets, val_labels)\n",
    ")"
   ]
  },
  {
   "cell_type": "code",
   "execution_count": 20,
   "id": "2f14bf58",
   "metadata": {
    "execution": {
     "iopub.execute_input": "2022-09-27T01:42:25.193338Z",
     "iopub.status.busy": "2022-09-27T01:42:25.192974Z",
     "iopub.status.idle": "2022-09-27T01:42:25.589091Z",
     "shell.execute_reply": "2022-09-27T01:42:25.588210Z"
    },
    "papermill": {
     "duration": 0.471486,
     "end_time": "2022-09-27T01:42:25.591173",
     "exception": false,
     "start_time": "2022-09-27T01:42:25.119687",
     "status": "completed"
    },
    "tags": []
   },
   "outputs": [
    {
     "name": "stdout",
     "output_type": "stream",
     "text": [
      "48/48 [==============================] - 0s 7ms/step - loss: 0.6822 - accuracy: 0.5739\n"
     ]
    },
    {
     "data": {
      "text/plain": [
       "[0.6822473406791687, 0.5738673806190491]"
      ]
     },
     "execution_count": 20,
     "metadata": {},
     "output_type": "execute_result"
    }
   ],
   "source": [
    "model_2.evaluate(val_tweets, val_labels)"
   ]
  },
  {
   "cell_type": "code",
   "execution_count": 21,
   "id": "031eca10",
   "metadata": {
    "execution": {
     "iopub.execute_input": "2022-09-27T01:42:25.742653Z",
     "iopub.status.busy": "2022-09-27T01:42:25.741943Z",
     "iopub.status.idle": "2022-09-27T01:42:26.509899Z",
     "shell.execute_reply": "2022-09-27T01:42:26.508847Z"
    },
    "papermill": {
     "duration": 0.84681,
     "end_time": "2022-09-27T01:42:26.511943",
     "exception": false,
     "start_time": "2022-09-27T01:42:25.665133",
     "status": "completed"
    },
    "tags": []
   },
   "outputs": [
    {
     "name": "stdout",
     "output_type": "stream",
     "text": [
      "[0. 0. 0. 0. 0. 0. 0. 0. 0. 0.]\n"
     ]
    },
    {
     "data": {
      "text/plain": [
       "0.5738673670387393"
      ]
     },
     "execution_count": 21,
     "metadata": {},
     "output_type": "execute_result"
    }
   ],
   "source": [
    "predictions = model_2.predict(val_tweets)\n",
    "predictions = np.round(predictions).flatten()\n",
    "print(predictions[:10])\n",
    "accuracy_score(y_true=val_labels, y_pred=predictions)"
   ]
  },
  {
   "cell_type": "code",
   "execution_count": 22,
   "id": "b870e8b6",
   "metadata": {
    "execution": {
     "iopub.execute_input": "2022-09-27T01:42:26.659859Z",
     "iopub.status.busy": "2022-09-27T01:42:26.658911Z",
     "iopub.status.idle": "2022-09-27T01:42:26.666065Z",
     "shell.execute_reply": "2022-09-27T01:42:26.665016Z"
    },
    "papermill": {
     "duration": 0.083444,
     "end_time": "2022-09-27T01:42:26.668213",
     "exception": false,
     "start_time": "2022-09-27T01:42:26.584769",
     "status": "completed"
    },
    "tags": []
   },
   "outputs": [
    {
     "data": {
      "text/plain": [
       "dict_keys(['loss', 'accuracy', 'val_loss', 'val_accuracy'])"
      ]
     },
     "execution_count": 22,
     "metadata": {},
     "output_type": "execute_result"
    }
   ],
   "source": [
    "history_2_dict = history_2.history\n",
    "history_2_dict.keys()"
   ]
  },
  {
   "cell_type": "code",
   "execution_count": 23,
   "id": "b0433654",
   "metadata": {
    "execution": {
     "iopub.execute_input": "2022-09-27T01:42:26.815446Z",
     "iopub.status.busy": "2022-09-27T01:42:26.814524Z",
     "iopub.status.idle": "2022-09-27T01:42:27.037142Z",
     "shell.execute_reply": "2022-09-27T01:42:27.036112Z"
    },
    "papermill": {
     "duration": 0.299176,
     "end_time": "2022-09-27T01:42:27.039625",
     "exception": false,
     "start_time": "2022-09-27T01:42:26.740449",
     "status": "completed"
    },
    "tags": []
   },
   "outputs": [
    {
     "data": {
      "image/png": "[encoded data removed]",
      "text/plain": [
       "<Figure size 432x288 with 1 Axes>"
      ]
     },
     "metadata": {
      "needs_background": "light"
     },
     "output_type": "display_data"
    }
   ],
   "source": [
    "acc = history_2_dict['accuracy']\n",
    "val_acc = history_2_dict['val_accuracy']\n",
    "loss = history_2_dict['loss']\n",
    "val_loss = history_2_dict['val_loss']\n",
    "\n",
    "epochs = range(1, len(acc) + 1)\n",
    "\n",
    "plt.plot(epochs, loss, 'bo', label='Training loss')\n",
    "plt.plot(epochs, val_loss, 'b', label='Validation loss')\n",
    "plt.title('Training and validation loss')\n",
    "plt.xlabel('Epochs')\n",
    "plt.ylabel('Loss')\n",
    "plt.legend()\n",
    "\n",
    "plt.show()"
   ]
  },
  {
   "cell_type": "code",
   "execution_count": 24,
   "id": "499b8598",
   "metadata": {
    "execution": {
     "iopub.execute_input": "2022-09-27T01:42:27.187629Z",
     "iopub.status.busy": "2022-09-27T01:42:27.186962Z",
     "iopub.status.idle": "2022-09-27T01:42:27.388560Z",
     "shell.execute_reply": "2022-09-27T01:42:27.387459Z"
    },
    "papermill": {
     "duration": 0.27869,
     "end_time": "2022-09-27T01:42:27.390973",
     "exception": false,
     "start_time": "2022-09-27T01:42:27.112283",
     "status": "completed"
    },
    "tags": []
   },
   "outputs": [
    {
     "name": "stdout",
     "output_type": "stream",
     "text": [
      "[1 1 1 1 1 1 0 0 0 0]\n"
     ]
    }
   ],
   "source": [
    "submission = pd.read_csv('../input/nlp-getting-started/sample_submission.csv')\n",
    "\n",
    "tst_predictions = model.predict(tst_tweets)\n",
    "tst_predictions = np.round(tst_predictions).flatten().astype(int)\n",
    "print(tst_predictions[:10])"
   ]
  },
  {
   "cell_type": "code",
   "execution_count": 25,
   "id": "1abbb391",
   "metadata": {
    "execution": {
     "iopub.execute_input": "2022-09-27T01:42:27.542886Z",
     "iopub.status.busy": "2022-09-27T01:42:27.542537Z",
     "iopub.status.idle": "2022-09-27T01:42:27.548008Z",
     "shell.execute_reply": "2022-09-27T01:42:27.546917Z"
    },
    "papermill": {
     "duration": 0.082915,
     "end_time": "2022-09-27T01:42:27.550298",
     "exception": false,
     "start_time": "2022-09-27T01:42:27.467383",
     "status": "completed"
    },
    "tags": []
   },
   "outputs": [],
   "source": [
    "submission['target'] = tst_predictions"
   ]
  },
  {
   "cell_type": "code",
   "execution_count": 26,
   "id": "87dbe860",
   "metadata": {
    "execution": {
     "iopub.execute_input": "2022-09-27T01:42:27.699723Z",
     "iopub.status.busy": "2022-09-27T01:42:27.698835Z",
     "iopub.status.idle": "2022-09-27T01:42:27.709858Z",
     "shell.execute_reply": "2022-09-27T01:42:27.708989Z"
    },
    "papermill": {
     "duration": 0.087903,
     "end_time": "2022-09-27T01:42:27.712101",
     "exception": false,
     "start_time": "2022-09-27T01:42:27.624198",
     "status": "completed"
    },
    "tags": []
   },
   "outputs": [],
   "source": [
    "submission.to_csv('submission.csv')"
   ]
  }
 ],
 "metadata": {
  "kernelspec": {
   "display_name": "Python 3",
   "language": "python",
   "name": "python3"
  },
  "language_info": {
   "codemirror_mode": {
    "name": "ipython",
    "version": 3
   },
   "file_extension": ".py",
   "mimetype": "text/x-python",
   "name": "python",
   "nbconvert_exporter": "python",
   "pygments_lexer": "ipython3",
   "version": "3.7.12"
  },
  "papermill": {
   "default_parameters": {},
   "duration": 127.464933,
   "end_time": "2022-09-27T01:42:31.371309",
   "environment_variables": {},
   "exception": null,
   "input_path": "__notebook__.ipynb",
   "output_path": "__notebook__.ipynb",
   "parameters": {},
   "start_time": "2022-09-27T01:40:23.906376",
   "version": "2.3.4"
  }
 },
 "nbformat": 4,
 "nbformat_minor": 5
}
