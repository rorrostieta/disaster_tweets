{
 "cells": [
  {
   "cell_type": "markdown",
   "id": "903706b0",
   "metadata": {
    "papermill": {
     "duration": 0.009043,
     "end_time": "2022-09-28T00:27:47.541718",
     "exception": false,
     "start_time": "2022-09-28T00:27:47.532675",
     "status": "completed"
    },
    "tags": []
   },
   "source": [
    "# Disaster Tweets with NLP Kaggle Mini-Project\n",
    "\n",
    "Hello, welcome to this project which is my submission for the Kaggle competition [NLP with Disaster Tweets](https://www.kaggle.com/c/nlp-getting-started/overview). IF you want to see this project you can check the my GitHub repo [rorrostieta/disaster_tweets](https://github.com/rorrostieta/disaster_tweets) for more info on the libraries and the code I used to execute this project within the Kaggle kernel. Lets begin!\n",
    "\n",
    "## The Problem\n",
    "For this competition we're given a train and test dataser which contain the following information:\n",
    "* id\n",
    "* keyword\n",
    "* location\n",
    "* text (tweet)\n",
    "* target (disaster)\n",
    "\n",
    "The objective is to identidy if there is a disaster present where people are base on the words they use whether they're spending their time under te burning hot sun or maybe it is an actual emergency such as a forest fire. We will be using about 7.6K text entries which we need to handle approprietly in order to predict if a disaster is happening or not (this can be identified in the target column with a 0 NO disaster or a 1 there IS/WAS a disaster).\n",
    "\n",
    "## Set up and Exploratory Data Analysis\n",
    "I'll be using a couple sklearn libraries to split the data and evaluate the models made with keras with tensorflow backend, both of these with some well known data preprocessing libraries panda, numpy and matplotlib for visualization."
   ]
  },
  {
   "cell_type": "code",
   "execution_count": 1,
   "id": "921138bc",
   "metadata": {
    "execution": {
     "iopub.execute_input": "2022-09-28T00:27:47.560416Z",
     "iopub.status.busy": "2022-09-28T00:27:47.559160Z",
     "iopub.status.idle": "2022-09-28T00:27:53.839410Z",
     "shell.execute_reply": "2022-09-28T00:27:53.838270Z"
    },
    "papermill": {
     "duration": 6.292348,
     "end_time": "2022-09-28T00:27:53.842194",
     "exception": false,
     "start_time": "2022-09-28T00:27:47.549846",
     "status": "completed"
    },
    "tags": []
   },
   "outputs": [],
   "source": [
    "import pandas as pd\n",
    "import numpy as np\n",
    "import matplotlib.pyplot as plt\n",
    "from sklearn.model_selection import train_test_split\n",
    "from sklearn.metrics import accuracy_score\n",
    "\n",
    "import tensorflow as tf\n",
    "from tensorflow.keras import layers\n",
    "from tensorflow.keras.layers import TextVectorization\n",
    "from tensorflow.keras import losses"
   ]
  },
  {
   "cell_type": "markdown",
   "id": "1867279a",
   "metadata": {
    "papermill": {
     "duration": 0.007697,
     "end_time": "2022-09-28T00:27:53.857716",
     "exception": false,
     "start_time": "2022-09-28T00:27:53.850019",
     "status": "completed"
    },
    "tags": []
   },
   "source": [
    "### Importing the Data"
   ]
  },
  {
   "cell_type": "code",
   "execution_count": 2,
   "id": "1f0c2ba9",
   "metadata": {
    "execution": {
     "iopub.execute_input": "2022-09-28T00:27:53.875051Z",
     "iopub.status.busy": "2022-09-28T00:27:53.874099Z",
     "iopub.status.idle": "2022-09-28T00:27:53.955194Z",
     "shell.execute_reply": "2022-09-28T00:27:53.954185Z"
    },
    "papermill": {
     "duration": 0.09263,
     "end_time": "2022-09-28T00:27:53.957929",
     "exception": false,
     "start_time": "2022-09-28T00:27:53.865299",
     "status": "completed"
    },
    "tags": []
   },
   "outputs": [
    {
     "data": {
      "text/html": [
       "<div>\n",
       "<style scoped>\n",
       "    .dataframe tbody tr th:only-of-type {\n",
       "        vertical-align: middle;\n",
       "    }\n",
       "\n",
       "    .dataframe tbody tr th {\n",
       "        vertical-align: top;\n",
       "    }\n",
       "\n",
       "    .dataframe thead th {\n",
       "        text-align: right;\n",
       "    }\n",
       "</style>\n",
       "<table border=\"1\" class=\"dataframe\">\n",
       "  <thead>\n",
       "    <tr style=\"text-align: right;\">\n",
       "      <th></th>\n",
       "      <th>id</th>\n",
       "      <th>keyword</th>\n",
       "      <th>location</th>\n",
       "      <th>text</th>\n",
       "      <th>target</th>\n",
       "    </tr>\n",
       "  </thead>\n",
       "  <tbody>\n",
       "    <tr>\n",
       "      <th>0</th>\n",
       "      <td>1</td>\n",
       "      <td>NaN</td>\n",
       "      <td>NaN</td>\n",
       "      <td>Our Deeds are the Reason of this #earthquake M...</td>\n",
       "      <td>1</td>\n",
       "    </tr>\n",
       "    <tr>\n",
       "      <th>1</th>\n",
       "      <td>4</td>\n",
       "      <td>NaN</td>\n",
       "      <td>NaN</td>\n",
       "      <td>Forest fire near La Ronge Sask. Canada</td>\n",
       "      <td>1</td>\n",
       "    </tr>\n",
       "    <tr>\n",
       "      <th>2</th>\n",
       "      <td>5</td>\n",
       "      <td>NaN</td>\n",
       "      <td>NaN</td>\n",
       "      <td>All residents asked to 'shelter in place' are ...</td>\n",
       "      <td>1</td>\n",
       "    </tr>\n",
       "    <tr>\n",
       "      <th>3</th>\n",
       "      <td>6</td>\n",
       "      <td>NaN</td>\n",
       "      <td>NaN</td>\n",
       "      <td>13,000 people receive #wildfires evacuation or...</td>\n",
       "      <td>1</td>\n",
       "    </tr>\n",
       "    <tr>\n",
       "      <th>4</th>\n",
       "      <td>7</td>\n",
       "      <td>NaN</td>\n",
       "      <td>NaN</td>\n",
       "      <td>Just got sent this photo from Ruby #Alaska as ...</td>\n",
       "      <td>1</td>\n",
       "    </tr>\n",
       "  </tbody>\n",
       "</table>\n",
       "</div>"
      ],
      "text/plain": [
       "   id keyword location                                               text  \\\n",
       "0   1     NaN      NaN  Our Deeds are the Reason of this #earthquake M...   \n",
       "1   4     NaN      NaN             Forest fire near La Ronge Sask. Canada   \n",
       "2   5     NaN      NaN  All residents asked to 'shelter in place' are ...   \n",
       "3   6     NaN      NaN  13,000 people receive #wildfires evacuation or...   \n",
       "4   7     NaN      NaN  Just got sent this photo from Ruby #Alaska as ...   \n",
       "\n",
       "   target  \n",
       "0       1  \n",
       "1       1  \n",
       "2       1  \n",
       "3       1  \n",
       "4       1  "
      ]
     },
     "execution_count": 2,
     "metadata": {},
     "output_type": "execute_result"
    }
   ],
   "source": [
    "train_data = pd.read_csv('../input/nlp-getting-started/train.csv')\n",
    "test_data = pd.read_csv('../input/nlp-getting-started/test.csv')\n",
    "train_data.head()"
   ]
  },
  {
   "cell_type": "code",
   "execution_count": 3,
   "id": "accd8d3a",
   "metadata": {
    "execution": {
     "iopub.execute_input": "2022-09-28T00:27:53.976652Z",
     "iopub.status.busy": "2022-09-28T00:27:53.975705Z",
     "iopub.status.idle": "2022-09-28T00:27:53.986810Z",
     "shell.execute_reply": "2022-09-28T00:27:53.985758Z"
    },
    "papermill": {
     "duration": 0.022506,
     "end_time": "2022-09-28T00:27:53.988993",
     "exception": false,
     "start_time": "2022-09-28T00:27:53.966487",
     "status": "completed"
    },
    "tags": []
   },
   "outputs": [
    {
     "data": {
      "text/html": [
       "<div>\n",
       "<style scoped>\n",
       "    .dataframe tbody tr th:only-of-type {\n",
       "        vertical-align: middle;\n",
       "    }\n",
       "\n",
       "    .dataframe tbody tr th {\n",
       "        vertical-align: top;\n",
       "    }\n",
       "\n",
       "    .dataframe thead th {\n",
       "        text-align: right;\n",
       "    }\n",
       "</style>\n",
       "<table border=\"1\" class=\"dataframe\">\n",
       "  <thead>\n",
       "    <tr style=\"text-align: right;\">\n",
       "      <th></th>\n",
       "      <th>id</th>\n",
       "      <th>keyword</th>\n",
       "      <th>location</th>\n",
       "      <th>text</th>\n",
       "    </tr>\n",
       "  </thead>\n",
       "  <tbody>\n",
       "    <tr>\n",
       "      <th>0</th>\n",
       "      <td>0</td>\n",
       "      <td>NaN</td>\n",
       "      <td>NaN</td>\n",
       "      <td>Just happened a terrible car crash</td>\n",
       "    </tr>\n",
       "    <tr>\n",
       "      <th>1</th>\n",
       "      <td>2</td>\n",
       "      <td>NaN</td>\n",
       "      <td>NaN</td>\n",
       "      <td>Heard about #earthquake is different cities, s...</td>\n",
       "    </tr>\n",
       "    <tr>\n",
       "      <th>2</th>\n",
       "      <td>3</td>\n",
       "      <td>NaN</td>\n",
       "      <td>NaN</td>\n",
       "      <td>there is a forest fire at spot pond, geese are...</td>\n",
       "    </tr>\n",
       "    <tr>\n",
       "      <th>3</th>\n",
       "      <td>9</td>\n",
       "      <td>NaN</td>\n",
       "      <td>NaN</td>\n",
       "      <td>Apocalypse lighting. #Spokane #wildfires</td>\n",
       "    </tr>\n",
       "    <tr>\n",
       "      <th>4</th>\n",
       "      <td>11</td>\n",
       "      <td>NaN</td>\n",
       "      <td>NaN</td>\n",
       "      <td>Typhoon Soudelor kills 28 in China and Taiwan</td>\n",
       "    </tr>\n",
       "  </tbody>\n",
       "</table>\n",
       "</div>"
      ],
      "text/plain": [
       "   id keyword location                                               text\n",
       "0   0     NaN      NaN                 Just happened a terrible car crash\n",
       "1   2     NaN      NaN  Heard about #earthquake is different cities, s...\n",
       "2   3     NaN      NaN  there is a forest fire at spot pond, geese are...\n",
       "3   9     NaN      NaN           Apocalypse lighting. #Spokane #wildfires\n",
       "4  11     NaN      NaN      Typhoon Soudelor kills 28 in China and Taiwan"
      ]
     },
     "execution_count": 3,
     "metadata": {},
     "output_type": "execute_result"
    }
   ],
   "source": [
    "test_data.head()"
   ]
  },
  {
   "cell_type": "code",
   "execution_count": 4,
   "id": "20ca8302",
   "metadata": {
    "execution": {
     "iopub.execute_input": "2022-09-28T00:27:54.008741Z",
     "iopub.status.busy": "2022-09-28T00:27:54.007823Z",
     "iopub.status.idle": "2022-09-28T00:27:54.020173Z",
     "shell.execute_reply": "2022-09-28T00:27:54.019146Z"
    },
    "papermill": {
     "duration": 0.023484,
     "end_time": "2022-09-28T00:27:54.022238",
     "exception": false,
     "start_time": "2022-09-28T00:27:53.998754",
     "status": "completed"
    },
    "tags": []
   },
   "outputs": [
    {
     "data": {
      "text/plain": [
       "<bound method DataFrame.info of          id keyword location  \\\n",
       "0         1     NaN      NaN   \n",
       "1         4     NaN      NaN   \n",
       "2         5     NaN      NaN   \n",
       "3         6     NaN      NaN   \n",
       "4         7     NaN      NaN   \n",
       "...     ...     ...      ...   \n",
       "7608  10869     NaN      NaN   \n",
       "7609  10870     NaN      NaN   \n",
       "7610  10871     NaN      NaN   \n",
       "7611  10872     NaN      NaN   \n",
       "7612  10873     NaN      NaN   \n",
       "\n",
       "                                                   text  target  \n",
       "0     Our Deeds are the Reason of this #earthquake M...       1  \n",
       "1                Forest fire near La Ronge Sask. Canada       1  \n",
       "2     All residents asked to 'shelter in place' are ...       1  \n",
       "3     13,000 people receive #wildfires evacuation or...       1  \n",
       "4     Just got sent this photo from Ruby #Alaska as ...       1  \n",
       "...                                                 ...     ...  \n",
       "7608  Two giant cranes holding a bridge collapse int...       1  \n",
       "7609  @aria_ahrary @TheTawniest The out of control w...       1  \n",
       "7610  M1.94 [01:04 UTC]?5km S of Volcano Hawaii. htt...       1  \n",
       "7611  Police investigating after an e-bike collided ...       1  \n",
       "7612  The Latest: More Homes Razed by Northern Calif...       1  \n",
       "\n",
       "[7613 rows x 5 columns]>"
      ]
     },
     "execution_count": 4,
     "metadata": {},
     "output_type": "execute_result"
    }
   ],
   "source": [
    "train_data.info"
   ]
  },
  {
   "cell_type": "markdown",
   "id": "76669f5c",
   "metadata": {
    "papermill": {
     "duration": 0.007928,
     "end_time": "2022-09-28T00:27:54.037815",
     "exception": false,
     "start_time": "2022-09-28T00:27:54.029887",
     "status": "completed"
    },
    "tags": []
   },
   "source": [
    "From the first looks we see we have 5 columns where `keyword` and `location` have some missing values we need to look into. Additionally the `text` field has the tweets with their respective hashtags and links which we might need to be careful with.\n",
    "\n",
    "The strategy will be to see how many `keywords` and `locations` we have available. For the `text` side of things lets see the distribution for **number of words** and the **number of characters** these might be useful for our text analysis later."
   ]
  },
  {
   "cell_type": "code",
   "execution_count": 5,
   "id": "4b14ba35",
   "metadata": {
    "execution": {
     "iopub.execute_input": "2022-09-28T00:27:54.056263Z",
     "iopub.status.busy": "2022-09-28T00:27:54.055565Z",
     "iopub.status.idle": "2022-09-28T00:27:54.068990Z",
     "shell.execute_reply": "2022-09-28T00:27:54.067381Z"
    },
    "papermill": {
     "duration": 0.025657,
     "end_time": "2022-09-28T00:27:54.071701",
     "exception": false,
     "start_time": "2022-09-28T00:27:54.046044",
     "status": "completed"
    },
    "tags": []
   },
   "outputs": [
    {
     "name": "stdout",
     "output_type": "stream",
     "text": [
      "Number of unique keywords: 222\n",
      "Number of unique locations: 3342\n"
     ]
    }
   ],
   "source": [
    "print('Number of unique keywords:',len(train_data['keyword'].unique()))\n",
    "print('Number of unique locations:',len(train_data['location'].unique()))"
   ]
  },
  {
   "cell_type": "code",
   "execution_count": 6,
   "id": "e0889e1e",
   "metadata": {
    "execution": {
     "iopub.execute_input": "2022-09-28T00:27:54.089858Z",
     "iopub.status.busy": "2022-09-28T00:27:54.088933Z",
     "iopub.status.idle": "2022-09-28T00:27:54.450462Z",
     "shell.execute_reply": "2022-09-28T00:27:54.449679Z"
    },
    "papermill": {
     "duration": 0.372498,
     "end_time": "2022-09-28T00:27:54.452646",
     "exception": false,
     "start_time": "2022-09-28T00:27:54.080148",
     "status": "completed"
    },
    "tags": []
   },
   "outputs": [
    {
     "data": {
      "text/plain": [
       "array([[<AxesSubplot:title={'center':'keyword'}>,\n",
       "        <AxesSubplot:title={'center':'location'}>]], dtype=object)"
      ]
     },
     "execution_count": 6,
     "metadata": {},
     "output_type": "execute_result"
    },
    {
     "data": {
      "image/png": "[encoded data removed]",
      "text/plain": [
       "<Figure size 432x288 with 2 Axes>"
      ]
     },
     "metadata": {
      "needs_background": "light"
     },
     "output_type": "display_data"
    }
   ],
   "source": [
    "train_data[['keyword', 'location']].notna().astype(int).hist(bins=2)"
   ]
  },
  {
   "cell_type": "code",
   "execution_count": 7,
   "id": "21cc1668",
   "metadata": {
    "execution": {
     "iopub.execute_input": "2022-09-28T00:27:54.472314Z",
     "iopub.status.busy": "2022-09-28T00:27:54.471946Z",
     "iopub.status.idle": "2022-09-28T00:27:54.912188Z",
     "shell.execute_reply": "2022-09-28T00:27:54.911116Z"
    },
    "papermill": {
     "duration": 0.452484,
     "end_time": "2022-09-28T00:27:54.914211",
     "exception": false,
     "start_time": "2022-09-28T00:27:54.461727",
     "status": "completed"
    },
    "tags": []
   },
   "outputs": [
    {
     "data": {
      "image/png": "[encoded data removed]",
      "text/plain": [
       "<Figure size 432x288 with 1 Axes>"
      ]
     },
     "metadata": {
      "needs_background": "light"
     },
     "output_type": "display_data"
    },
    {
     "data": {
      "image/png": "[encoded data removed]",
      "text/plain": [
       "<Figure size 432x288 with 1 Axes>"
      ]
     },
     "metadata": {
      "needs_background": "light"
     },
     "output_type": "display_data"
    }
   ],
   "source": [
    "train_data['text'].str.split().map(len).hist()\n",
    "plt.show()\n",
    "train_data['text'].map(len).hist()\n",
    "plt.show()"
   ]
  },
  {
   "cell_type": "code",
   "execution_count": 8,
   "id": "5ecc103d",
   "metadata": {
    "execution": {
     "iopub.execute_input": "2022-09-28T00:27:54.934717Z",
     "iopub.status.busy": "2022-09-28T00:27:54.933695Z",
     "iopub.status.idle": "2022-09-28T00:27:55.152192Z",
     "shell.execute_reply": "2022-09-28T00:27:55.151112Z"
    },
    "papermill": {
     "duration": 0.231306,
     "end_time": "2022-09-28T00:27:55.154525",
     "exception": false,
     "start_time": "2022-09-28T00:27:54.923219",
     "status": "completed"
    },
    "tags": []
   },
   "outputs": [
    {
     "data": {
      "text/plain": [
       "<AxesSubplot:>"
      ]
     },
     "execution_count": 8,
     "metadata": {},
     "output_type": "execute_result"
    },
    {
     "data": {
      "image/png": "[encoded data removed]",
      "text/plain": [
       "<Figure size 432x288 with 1 Axes>"
      ]
     },
     "metadata": {
      "needs_background": "light"
     },
     "output_type": "display_data"
    }
   ],
   "source": [
    "train_data['target'].hist()"
   ]
  },
  {
   "cell_type": "markdown",
   "id": "6640c10e",
   "metadata": {
    "papermill": {
     "duration": 0.008851,
     "end_time": "2022-09-28T00:27:55.172352",
     "exception": false,
     "start_time": "2022-09-28T00:27:55.163501",
     "status": "completed"
    },
    "tags": []
   },
   "source": [
    "### EDA Results\n",
    "* **Dismiss `keywords` and `location`** this becasue we have only around 200s `keywords` which are integrated into the text this might be redundant information which can create bias but the opposite happends with `location` which we have a lot of values almost half of the sample size which could cause problems.\n",
    "* **`Text` entries have no more than 30 words**, knowing this is important since we might need to understand out data source in this case tweets which are limited in nature allowing us to target certain amount of words.\n",
    "* **Good split of Y values** this should be enough to be able to train and validate the model.\n",
    "\n",
    "## Model Architecture\n",
    "For this problem I'll be using the tensoflow tool `TextVectorization` which will allow me to transform the text inputs into tensors. Each tensor will be constructed according to the number of words in the input, each word will be given an \"ID\" which will be stored in the vocabulary that the `TextVectorization` tool will store in order to be able to assign the same value if a word is repeated in a future entry.\n",
    "\n",
    "After this preprocessing step and converting all of our data into tensors I'll be testing two types of models, a simple dense model with a single perceptron and a RNN one using GRU to compare both of them and select which one might be much more useful for this project.\n",
    "\n",
    "### Preprocessing\n",
    "First I'll be using sklearn's `train_test_split` function to create my sets for the training and validation."
   ]
  },
  {
   "cell_type": "code",
   "execution_count": 9,
   "id": "303c8077",
   "metadata": {
    "execution": {
     "iopub.execute_input": "2022-09-28T00:27:55.192713Z",
     "iopub.status.busy": "2022-09-28T00:27:55.191758Z",
     "iopub.status.idle": "2022-09-28T00:27:55.199337Z",
     "shell.execute_reply": "2022-09-28T00:27:55.198364Z"
    },
    "papermill": {
     "duration": 0.01998,
     "end_time": "2022-09-28T00:27:55.201512",
     "exception": false,
     "start_time": "2022-09-28T00:27:55.181532",
     "status": "completed"
    },
    "tags": []
   },
   "outputs": [],
   "source": [
    "tweets = train_data['text'].to_numpy()\n",
    "labels = train_data['target'].to_numpy()\n",
    "tst_tweets = test_data['text']\n",
    "trn_tweets, val_tweets, trn_labels, val_labels = train_test_split(tweets, labels, test_size=0.2, random_state=42, shuffle=True)"
   ]
  },
  {
   "cell_type": "markdown",
   "id": "80f067fc",
   "metadata": {
    "papermill": {
     "duration": 0.008836,
     "end_time": "2022-09-28T00:27:55.220132",
     "exception": false,
     "start_time": "2022-09-28T00:27:55.211296",
     "status": "completed"
    },
    "tags": []
   },
   "source": [
    "Here I'm going to create a `TextVectorization` layer, in this case within the layer I'll be able to pass certain input which will be transformed into the tensor to feed the NN. Within this layer I have two hyperparameters, the `sequence_length` (number of words) and the `max_features` (vocabulary), these can be ajusted accordingly to really capture the dataset I'll be using.\n",
    "\n",
    "* If my `max_features` is too low it might right having a couple unknown entries within my tensors whereast if it is too big we might not need that many features in the model.\n",
    "* If `sequence_length` is changed we might not be able to retrieve the whole length of the sentence and if it is too long I might have a bad reading of a short entry.\n",
    "* The `TextVectorization` layer has some tool to help us clean up the text, in this case the `standardize` parameter can be helpful to remove hashtags, links, and symbols from the tweets making this task trivial.\n",
    "\n",
    "After I have set up my layer I adapt my training inputs for it to create the vocabulary."
   ]
  },
  {
   "cell_type": "code",
   "execution_count": 10,
   "id": "1b9ad072",
   "metadata": {
    "execution": {
     "iopub.execute_input": "2022-09-28T00:27:55.241380Z",
     "iopub.status.busy": "2022-09-28T00:27:55.239633Z",
     "iopub.status.idle": "2022-09-28T00:27:58.566926Z",
     "shell.execute_reply": "2022-09-28T00:27:58.565978Z"
    },
    "papermill": {
     "duration": 3.34054,
     "end_time": "2022-09-28T00:27:58.569732",
     "exception": false,
     "start_time": "2022-09-28T00:27:55.229192",
     "status": "completed"
    },
    "tags": []
   },
   "outputs": [
    {
     "name": "stderr",
     "output_type": "stream",
     "text": [
      "2022-09-28 00:27:55.336385: I tensorflow/stream_executor/cuda/cuda_gpu_executor.cc:937] successful NUMA node read from SysFS had negative value (-1), but there must be at least one NUMA node, so returning NUMA node zero\n",
      "2022-09-28 00:27:55.441622: I tensorflow/stream_executor/cuda/cuda_gpu_executor.cc:937] successful NUMA node read from SysFS had negative value (-1), but there must be at least one NUMA node, so returning NUMA node zero\n",
      "2022-09-28 00:27:55.442492: I tensorflow/stream_executor/cuda/cuda_gpu_executor.cc:937] successful NUMA node read from SysFS had negative value (-1), but there must be at least one NUMA node, so returning NUMA node zero\n",
      "2022-09-28 00:27:55.443783: I tensorflow/core/platform/cpu_feature_guard.cc:142] This TensorFlow binary is optimized with oneAPI Deep Neural Network Library (oneDNN) to use the following CPU instructions in performance-critical operations:  AVX2 AVX512F FMA\n",
      "To enable them in other operations, rebuild TensorFlow with the appropriate compiler flags.\n",
      "2022-09-28 00:27:55.444137: I tensorflow/stream_executor/cuda/cuda_gpu_executor.cc:937] successful NUMA node read from SysFS had negative value (-1), but there must be at least one NUMA node, so returning NUMA node zero\n",
      "2022-09-28 00:27:55.444894: I tensorflow/stream_executor/cuda/cuda_gpu_executor.cc:937] successful NUMA node read from SysFS had negative value (-1), but there must be at least one NUMA node, so returning NUMA node zero\n",
      "2022-09-28 00:27:55.445630: I tensorflow/stream_executor/cuda/cuda_gpu_executor.cc:937] successful NUMA node read from SysFS had negative value (-1), but there must be at least one NUMA node, so returning NUMA node zero\n",
      "2022-09-28 00:27:58.095574: I tensorflow/stream_executor/cuda/cuda_gpu_executor.cc:937] successful NUMA node read from SysFS had negative value (-1), but there must be at least one NUMA node, so returning NUMA node zero\n",
      "2022-09-28 00:27:58.096394: I tensorflow/stream_executor/cuda/cuda_gpu_executor.cc:937] successful NUMA node read from SysFS had negative value (-1), but there must be at least one NUMA node, so returning NUMA node zero\n",
      "2022-09-28 00:27:58.097079: I tensorflow/stream_executor/cuda/cuda_gpu_executor.cc:937] successful NUMA node read from SysFS had negative value (-1), but there must be at least one NUMA node, so returning NUMA node zero\n",
      "2022-09-28 00:27:58.097747: I tensorflow/core/common_runtime/gpu/gpu_device.cc:1510] Created device /job:localhost/replica:0/task:0/device:GPU:0 with 15401 MB memory:  -> device: 0, name: Tesla P100-PCIE-16GB, pci bus id: 0000:00:04.0, compute capability: 6.0\n"
     ]
    }
   ],
   "source": [
    "max_features = 20000\n",
    "sequence_length = 50\n",
    "\n",
    "vectorize_layer = TextVectorization(\n",
    "    standardize='lower_and_strip_punctuation',\n",
    "    max_tokens=max_features,\n",
    "    output_mode='int',\n",
    "    output_sequence_length=sequence_length)"
   ]
  },
  {
   "cell_type": "code",
   "execution_count": 11,
   "id": "2c0292ae",
   "metadata": {
    "execution": {
     "iopub.execute_input": "2022-09-28T00:27:58.602055Z",
     "iopub.status.busy": "2022-09-28T00:27:58.601586Z",
     "iopub.status.idle": "2022-09-28T00:27:59.524471Z",
     "shell.execute_reply": "2022-09-28T00:27:59.523198Z"
    },
    "papermill": {
     "duration": 0.940448,
     "end_time": "2022-09-28T00:27:59.527132",
     "exception": false,
     "start_time": "2022-09-28T00:27:58.586684",
     "status": "completed"
    },
    "tags": []
   },
   "outputs": [
    {
     "name": "stderr",
     "output_type": "stream",
     "text": [
      "2022-09-28 00:27:58.705745: I tensorflow/compiler/mlir/mlir_graph_optimization_pass.cc:185] None of the MLIR Optimization Passes are enabled (registered 2)\n"
     ]
    }
   ],
   "source": [
    "vectorize_layer.adapt(trn_tweets)"
   ]
  },
  {
   "cell_type": "markdown",
   "id": "effa9f66",
   "metadata": {
    "papermill": {
     "duration": 0.009618,
     "end_time": "2022-09-28T00:27:59.546332",
     "exception": false,
     "start_time": "2022-09-28T00:27:59.536714",
     "status": "completed"
    },
    "tags": []
   },
   "source": [
    "#### Example Tweet"
   ]
  },
  {
   "cell_type": "code",
   "execution_count": 12,
   "id": "4c5118cf",
   "metadata": {
    "execution": {
     "iopub.execute_input": "2022-09-28T00:27:59.567051Z",
     "iopub.status.busy": "2022-09-28T00:27:59.565539Z",
     "iopub.status.idle": "2022-09-28T00:27:59.637687Z",
     "shell.execute_reply": "2022-09-28T00:27:59.636533Z"
    },
    "papermill": {
     "duration": 0.084215,
     "end_time": "2022-09-28T00:27:59.639647",
     "exception": false,
     "start_time": "2022-09-28T00:27:59.555432",
     "status": "completed"
    },
    "tags": []
   },
   "outputs": [
    {
     "name": "stdout",
     "output_type": "stream",
     "text": [
      "Tweet Courageous and honest analysis of need to use Atomic Bomb in 1945. #Hiroshima70 Japanese military refused surrender. https://t.co/VhmtyTptGR\n",
      "Label 1\n",
      "Vectorized Tweet tf.Tensor(\n",
      "[17198     8  4962  2917     6   156     5   438   216   118     4  2377\n",
      "  4973  1177   240  4381  4119 14803     0     0     0     0     0     0\n",
      "     0     0     0     0     0     0     0     0     0     0     0     0\n",
      "     0     0     0     0     0     0     0     0     0     0     0     0\n",
      "     0     0], shape=(50,), dtype=int64)\n"
     ]
    }
   ],
   "source": [
    "first_tweet = trn_tweets[0]\n",
    "first_label = trn_labels[0]\n",
    "print('Tweet', first_tweet)\n",
    "print('Label', first_label)\n",
    "print('Vectorized Tweet', vectorize_layer(trn_tweets[0]))"
   ]
  },
  {
   "cell_type": "code",
   "execution_count": 13,
   "id": "9056971f",
   "metadata": {
    "execution": {
     "iopub.execute_input": "2022-09-28T00:27:59.658826Z",
     "iopub.status.busy": "2022-09-28T00:27:59.658299Z",
     "iopub.status.idle": "2022-09-28T00:27:59.902841Z",
     "shell.execute_reply": "2022-09-28T00:27:59.901164Z"
    },
    "papermill": {
     "duration": 0.257825,
     "end_time": "2022-09-28T00:27:59.906196",
     "exception": false,
     "start_time": "2022-09-28T00:27:59.648371",
     "status": "completed"
    },
    "tags": []
   },
   "outputs": [
    {
     "name": "stdout",
     "output_type": "stream",
     "text": [
      "Word #17198 --> courageous\n",
      "Word #8 --> and\n",
      "Word #4962 --> honest\n",
      "Total words in training vocabulary: 19422\n"
     ]
    }
   ],
   "source": [
    "print('Word #17198 -->', vectorize_layer.get_vocabulary()[17198])\n",
    "print('Word #8 -->', vectorize_layer.get_vocabulary()[8])\n",
    "print('Word #4962 -->', vectorize_layer.get_vocabulary()[4962])\n",
    "print('Total words in training vocabulary:', len(vectorize_layer.get_vocabulary()))"
   ]
  },
  {
   "cell_type": "markdown",
   "id": "6aa5a655",
   "metadata": {
    "papermill": {
     "duration": 0.018256,
     "end_time": "2022-09-28T00:27:59.946670",
     "exception": false,
     "start_time": "2022-09-28T00:27:59.928414",
     "status": "completed"
    },
    "tags": []
   },
   "source": [
    "### The Models\n",
    "\n",
    "Once we knowthat my text vectorization layer is working correctly I'll create the model. First I'll add an additional embedding layer which should help in expressing the large amount different words we have into a low-dimension space."
   ]
  },
  {
   "cell_type": "code",
   "execution_count": 14,
   "id": "7360f7d4",
   "metadata": {
    "execution": {
     "iopub.execute_input": "2022-09-28T00:27:59.980918Z",
     "iopub.status.busy": "2022-09-28T00:27:59.980402Z",
     "iopub.status.idle": "2022-09-28T00:27:59.991468Z",
     "shell.execute_reply": "2022-09-28T00:27:59.990209Z"
    },
    "papermill": {
     "duration": 0.029739,
     "end_time": "2022-09-28T00:27:59.994180",
     "exception": false,
     "start_time": "2022-09-28T00:27:59.964441",
     "status": "completed"
    },
    "tags": []
   },
   "outputs": [],
   "source": [
    "embedding_layer = layers.Embedding(\n",
    "    input_dim = max_features,\n",
    "    output_dim=64,\n",
    "    embeddings_initializer='uniform',\n",
    "    input_length=sequence_length,\n",
    "    name='mbedding_1')"
   ]
  },
  {
   "cell_type": "markdown",
   "id": "6bd7bec7",
   "metadata": {
    "papermill": {
     "duration": 0.014674,
     "end_time": "2022-09-28T00:28:00.023807",
     "exception": false,
     "start_time": "2022-09-28T00:28:00.009133",
     "status": "completed"
    },
    "tags": []
   },
   "source": [
    "#### Model 1 (Single Dense Layer)\n",
    "This is a simple dense layer which I'll use to see if a lot more is necesary comparing it to the other GRU method I'll be using. To construct the model I have to create and input layer which is where the tweets will be fed for them to pass through all the other layers in the order below structured.\n",
    "\n",
    "After the model passed through we compile and fit the model with their respective hyperparameters to see the performance and how is the loss and accuracy of the model."
   ]
  },
  {
   "cell_type": "code",
   "execution_count": 15,
   "id": "dbdec77b",
   "metadata": {
    "execution": {
     "iopub.execute_input": "2022-09-28T00:28:00.054721Z",
     "iopub.status.busy": "2022-09-28T00:28:00.054380Z",
     "iopub.status.idle": "2022-09-28T00:28:00.135301Z",
     "shell.execute_reply": "2022-09-28T00:28:00.134288Z"
    },
    "papermill": {
     "duration": 0.098893,
     "end_time": "2022-09-28T00:28:00.137804",
     "exception": false,
     "start_time": "2022-09-28T00:28:00.038911",
     "status": "completed"
    },
    "tags": []
   },
   "outputs": [
    {
     "name": "stdout",
     "output_type": "stream",
     "text": [
      "Model: \"Dense_Model\"\n",
      "_________________________________________________________________\n",
      "Layer (type)                 Output Shape              Param #   \n",
      "=================================================================\n",
      "input_1 (InputLayer)         [(None, 1)]               0         \n",
      "_________________________________________________________________\n",
      "text_vectorization (TextVect (None, 50)                0         \n",
      "_________________________________________________________________\n",
      "mbedding_1 (Embedding)       (None, 50, 64)            1280000   \n",
      "_________________________________________________________________\n",
      "global_average_pooling1d (Gl (None, 64)                0         \n",
      "_________________________________________________________________\n",
      "dense (Dense)                (None, 1)                 65        \n",
      "=================================================================\n",
      "Total params: 1,280,065\n",
      "Trainable params: 1,280,065\n",
      "Non-trainable params: 0\n",
      "_________________________________________________________________\n"
     ]
    }
   ],
   "source": [
    "Is = layers.Input(shape = (1,), dtype = tf.string)\n",
    "L1 = vectorize_layer(Is)\n",
    "L2 = embedding_layer(L1)\n",
    "L3 = layers.GlobalAveragePooling1D()(L2)\n",
    "Os = layers.Dense(1, activation = 'sigmoid')(L3)\n",
    "\n",
    "model = tf.keras.Model(Is, Os, name = 'Dense_Model')\n",
    "model.summary()"
   ]
  },
  {
   "cell_type": "code",
   "execution_count": 16,
   "id": "453ef927",
   "metadata": {
    "execution": {
     "iopub.execute_input": "2022-09-28T00:28:00.166759Z",
     "iopub.status.busy": "2022-09-28T00:28:00.166428Z",
     "iopub.status.idle": "2022-09-28T00:28:10.487900Z",
     "shell.execute_reply": "2022-09-28T00:28:10.486931Z"
    },
    "papermill": {
     "duration": 10.337885,
     "end_time": "2022-09-28T00:28:10.489988",
     "exception": false,
     "start_time": "2022-09-28T00:28:00.152103",
     "status": "completed"
    },
    "tags": []
   },
   "outputs": [
    {
     "name": "stdout",
     "output_type": "stream",
     "text": [
      "Epoch 1/10\n",
      "191/191 [==============================] - 3s 5ms/step - loss: 0.6726 - accuracy: 0.5700 - val_loss: 0.6544 - val_accuracy: 0.5896\n",
      "Epoch 2/10\n",
      "191/191 [==============================] - 1s 4ms/step - loss: 0.6140 - accuracy: 0.6816 - val_loss: 0.5895 - val_accuracy: 0.7321\n",
      "Epoch 3/10\n",
      "191/191 [==============================] - 1s 4ms/step - loss: 0.5203 - accuracy: 0.8087 - val_loss: 0.5275 - val_accuracy: 0.7951\n",
      "Epoch 4/10\n",
      "191/191 [==============================] - 1s 4ms/step - loss: 0.4374 - accuracy: 0.8483 - val_loss: 0.4949 - val_accuracy: 0.7951\n",
      "Epoch 5/10\n",
      "191/191 [==============================] - 1s 4ms/step - loss: 0.3753 - accuracy: 0.8713 - val_loss: 0.4697 - val_accuracy: 0.8043\n",
      "Epoch 6/10\n",
      "191/191 [==============================] - 1s 5ms/step - loss: 0.3249 - accuracy: 0.8887 - val_loss: 0.4581 - val_accuracy: 0.8109\n",
      "Epoch 7/10\n",
      "191/191 [==============================] - 1s 4ms/step - loss: 0.2840 - accuracy: 0.9056 - val_loss: 0.4626 - val_accuracy: 0.7978\n",
      "Epoch 8/10\n",
      "191/191 [==============================] - 1s 4ms/step - loss: 0.2488 - accuracy: 0.9166 - val_loss: 0.4522 - val_accuracy: 0.8017\n",
      "Epoch 9/10\n",
      "191/191 [==============================] - 1s 5ms/step - loss: 0.2181 - accuracy: 0.9348 - val_loss: 0.4501 - val_accuracy: 0.8102\n",
      "Epoch 10/10\n",
      "191/191 [==============================] - 1s 5ms/step - loss: 0.1931 - accuracy: 0.9420 - val_loss: 0.4543 - val_accuracy: 0.8050\n"
     ]
    }
   ],
   "source": [
    "model.compile(\n",
    "    optimizer='adam',\n",
    "    loss='binary_crossentropy',\n",
    "    metrics='accuracy'\n",
    ")\n",
    "history = model.fit(\n",
    "    x=trn_tweets,\n",
    "    y=trn_labels,\n",
    "    epochs=10,\n",
    "    validation_data=(val_tweets, val_labels)\n",
    ")"
   ]
  },
  {
   "cell_type": "code",
   "execution_count": 17,
   "id": "c4da91ec",
   "metadata": {
    "execution": {
     "iopub.execute_input": "2022-09-28T00:28:10.529652Z",
     "iopub.status.busy": "2022-09-28T00:28:10.528978Z",
     "iopub.status.idle": "2022-09-28T00:28:10.723087Z",
     "shell.execute_reply": "2022-09-28T00:28:10.718438Z"
    },
    "papermill": {
     "duration": 0.217461,
     "end_time": "2022-09-28T00:28:10.727185",
     "exception": false,
     "start_time": "2022-09-28T00:28:10.509724",
     "status": "completed"
    },
    "tags": []
   },
   "outputs": [
    {
     "name": "stdout",
     "output_type": "stream",
     "text": [
      "48/48 [==============================] - 0s 3ms/step - loss: 0.4543 - accuracy: 0.8050\n"
     ]
    },
    {
     "data": {
      "text/plain": [
       "[0.45426109433174133, 0.8049901723861694]"
      ]
     },
     "execution_count": 17,
     "metadata": {},
     "output_type": "execute_result"
    }
   ],
   "source": [
    "model.evaluate(val_tweets, val_labels)"
   ]
  },
  {
   "cell_type": "code",
   "execution_count": 18,
   "id": "92be854d",
   "metadata": {
    "execution": {
     "iopub.execute_input": "2022-09-28T00:28:10.812571Z",
     "iopub.status.busy": "2022-09-28T00:28:10.811785Z",
     "iopub.status.idle": "2022-09-28T00:28:11.146414Z",
     "shell.execute_reply": "2022-09-28T00:28:11.144883Z"
    },
    "papermill": {
     "duration": 0.380553,
     "end_time": "2022-09-28T00:28:11.149496",
     "exception": false,
     "start_time": "2022-09-28T00:28:10.768943",
     "status": "completed"
    },
    "tags": []
   },
   "outputs": [
    {
     "name": "stdout",
     "output_type": "stream",
     "text": [
      "[0. 0. 1. 0. 0. 0. 0. 0. 0. 1.]\n"
     ]
    },
    {
     "data": {
      "text/plain": [
       "0.8049901510177282"
      ]
     },
     "execution_count": 18,
     "metadata": {},
     "output_type": "execute_result"
    }
   ],
   "source": [
    "predictions = model.predict(val_tweets)\n",
    "predictions = np.round(predictions).flatten()\n",
    "print(predictions[:10])\n",
    "accuracy_score(y_true=val_labels, y_pred=predictions)"
   ]
  },
  {
   "cell_type": "code",
   "execution_count": 19,
   "id": "d47c8737",
   "metadata": {
    "execution": {
     "iopub.execute_input": "2022-09-28T00:28:11.207956Z",
     "iopub.status.busy": "2022-09-28T00:28:11.207579Z",
     "iopub.status.idle": "2022-09-28T00:28:11.217692Z",
     "shell.execute_reply": "2022-09-28T00:28:11.216745Z"
    },
    "papermill": {
     "duration": 0.041243,
     "end_time": "2022-09-28T00:28:11.220060",
     "exception": false,
     "start_time": "2022-09-28T00:28:11.178817",
     "status": "completed"
    },
    "tags": []
   },
   "outputs": [
    {
     "data": {
      "text/plain": [
       "dict_keys(['loss', 'accuracy', 'val_loss', 'val_accuracy'])"
      ]
     },
     "execution_count": 19,
     "metadata": {},
     "output_type": "execute_result"
    }
   ],
   "source": [
    "history_dict = history.history\n",
    "history_dict.keys()"
   ]
  },
  {
   "cell_type": "code",
   "execution_count": 20,
   "id": "4266bc65",
   "metadata": {
    "execution": {
     "iopub.execute_input": "2022-09-28T00:28:11.273414Z",
     "iopub.status.busy": "2022-09-28T00:28:11.273058Z",
     "iopub.status.idle": "2022-09-28T00:28:11.504132Z",
     "shell.execute_reply": "2022-09-28T00:28:11.503181Z"
    },
    "papermill": {
     "duration": 0.260698,
     "end_time": "2022-09-28T00:28:11.506512",
     "exception": false,
     "start_time": "2022-09-28T00:28:11.245814",
     "status": "completed"
    },
    "tags": []
   },
   "outputs": [
    {
     "data": {
      "image/png": "[encoded data removed]",
      "text/plain": [
       "<Figure size 432x288 with 1 Axes>"
      ]
     },
     "metadata": {
      "needs_background": "light"
     },
     "output_type": "display_data"
    }
   ],
   "source": [
    "acc = history_dict['accuracy']\n",
    "val_acc = history_dict['val_accuracy']\n",
    "loss = history_dict['loss']\n",
    "val_loss = history_dict['val_loss']\n",
    "\n",
    "epochs = range(1, len(acc) + 1)\n",
    "\n",
    "plt.plot(epochs, loss, 'bo', label='Training loss')\n",
    "plt.plot(epochs, val_loss, 'b', label='Validation loss')\n",
    "plt.title('Training and validation loss')\n",
    "plt.xlabel('Epochs')\n",
    "plt.ylabel('Loss')\n",
    "plt.legend()\n",
    "\n",
    "plt.show()"
   ]
  },
  {
   "cell_type": "code",
   "execution_count": 21,
   "id": "76c495a3",
   "metadata": {
    "execution": {
     "iopub.execute_input": "2022-09-28T00:28:11.547280Z",
     "iopub.status.busy": "2022-09-28T00:28:11.546401Z",
     "iopub.status.idle": "2022-09-28T00:28:11.773181Z",
     "shell.execute_reply": "2022-09-28T00:28:11.772227Z"
    },
    "papermill": {
     "duration": 0.248824,
     "end_time": "2022-09-28T00:28:11.775400",
     "exception": false,
     "start_time": "2022-09-28T00:28:11.526576",
     "status": "completed"
    },
    "tags": []
   },
   "outputs": [
    {
     "data": {
      "image/png": "[encoded data removed]",
      "text/plain": [
       "<Figure size 432x288 with 1 Axes>"
      ]
     },
     "metadata": {
      "needs_background": "light"
     },
     "output_type": "display_data"
    }
   ],
   "source": [
    "plt.plot(epochs, acc, 'bo', label='Training acc')\n",
    "plt.plot(epochs, val_acc, 'b', label='Validation acc')\n",
    "plt.title('Training and Accuracy')\n",
    "plt.xlabel('Epochs')\n",
    "plt.ylabel('Accuracy')\n",
    "plt.legend()\n",
    "\n",
    "plt.show()"
   ]
  },
  {
   "cell_type": "markdown",
   "id": "449b9c81",
   "metadata": {
    "papermill": {
     "duration": 0.018696,
     "end_time": "2022-09-28T00:28:11.812974",
     "exception": false,
     "start_time": "2022-09-28T00:28:11.794278",
     "status": "completed"
    },
    "tags": []
   },
   "source": [
    "#### Model 2 (GRU)\n",
    "\n",
    "For this layer"
   ]
  },
  {
   "cell_type": "code",
   "execution_count": 22,
   "id": "19a54d31",
   "metadata": {
    "execution": {
     "iopub.execute_input": "2022-09-28T00:28:11.851697Z",
     "iopub.status.busy": "2022-09-28T00:28:11.851053Z",
     "iopub.status.idle": "2022-09-28T00:28:12.254440Z",
     "shell.execute_reply": "2022-09-28T00:28:12.252671Z"
    },
    "papermill": {
     "duration": 0.425726,
     "end_time": "2022-09-28T00:28:12.257212",
     "exception": false,
     "start_time": "2022-09-28T00:28:11.831486",
     "status": "completed"
    },
    "tags": []
   },
   "outputs": [
    {
     "name": "stdout",
     "output_type": "stream",
     "text": [
      "Model: \"GRU_Model\"\n",
      "_________________________________________________________________\n",
      "Layer (type)                 Output Shape              Param #   \n",
      "=================================================================\n",
      "input_2 (InputLayer)         [(None, 1)]               0         \n",
      "_________________________________________________________________\n",
      "text_vectorization (TextVect (None, 50)                0         \n",
      "_________________________________________________________________\n",
      "mbedding_1 (Embedding)       (None, 50, 64)            1280000   \n",
      "_________________________________________________________________\n",
      "gru (GRU)                    (None, 50, 32)            9408      \n",
      "_________________________________________________________________\n",
      "gru_1 (GRU)                  (None, 32)                6336      \n",
      "_________________________________________________________________\n",
      "dense_1 (Dense)              (None, 1)                 33        \n",
      "=================================================================\n",
      "Total params: 1,295,777\n",
      "Trainable params: 1,295,777\n",
      "Non-trainable params: 0\n",
      "_________________________________________________________________\n"
     ]
    }
   ],
   "source": [
    "Is = layers.Input(shape = (1,), dtype = tf.string)\n",
    "L1 = vectorize_layer(Is)\n",
    "L2 = embedding_layer(L1)\n",
    "L3 = layers.GRU(32,return_sequences=True)(L2)\n",
    "L4 = layers.GRU(32)(L3)\n",
    "Os = layers.Dense(1, activation = 'sigmoid')(L4)\n",
    "\n",
    "model_2 = tf.keras.Model(Is, Os, name = 'GRU_Model')\n",
    "model_2.summary()"
   ]
  },
  {
   "cell_type": "code",
   "execution_count": 23,
   "id": "8dff7354",
   "metadata": {
    "execution": {
     "iopub.execute_input": "2022-09-28T00:28:12.296613Z",
     "iopub.status.busy": "2022-09-28T00:28:12.296305Z",
     "iopub.status.idle": "2022-09-28T00:28:34.557649Z",
     "shell.execute_reply": "2022-09-28T00:28:34.556724Z"
    },
    "papermill": {
     "duration": 22.283328,
     "end_time": "2022-09-28T00:28:34.559849",
     "exception": false,
     "start_time": "2022-09-28T00:28:12.276521",
     "status": "completed"
    },
    "tags": []
   },
   "outputs": [
    {
     "name": "stdout",
     "output_type": "stream",
     "text": [
      "Epoch 1/10\n"
     ]
    },
    {
     "name": "stderr",
     "output_type": "stream",
     "text": [
      "2022-09-28 00:28:15.795351: I tensorflow/stream_executor/cuda/cuda_dnn.cc:369] Loaded cuDNN version 8005\n"
     ]
    },
    {
     "name": "stdout",
     "output_type": "stream",
     "text": [
      "191/191 [==============================] - 6s 12ms/step - loss: 0.6842 - accuracy: 0.5695 - val_loss: 0.6826 - val_accuracy: 0.5739\n",
      "Epoch 2/10\n",
      "191/191 [==============================] - 2s 8ms/step - loss: 0.6838 - accuracy: 0.5695 - val_loss: 0.6823 - val_accuracy: 0.5739\n",
      "Epoch 3/10\n",
      "191/191 [==============================] - 2s 9ms/step - loss: 0.6838 - accuracy: 0.5695 - val_loss: 0.6826 - val_accuracy: 0.5739\n",
      "Epoch 4/10\n",
      "191/191 [==============================] - 2s 11ms/step - loss: 0.6843 - accuracy: 0.5695 - val_loss: 0.6835 - val_accuracy: 0.5739\n",
      "Epoch 5/10\n",
      "191/191 [==============================] - 2s 9ms/step - loss: 0.6836 - accuracy: 0.5695 - val_loss: 0.6828 - val_accuracy: 0.5739\n",
      "Epoch 6/10\n",
      "191/191 [==============================] - 2s 9ms/step - loss: 0.2704 - accuracy: 0.8708 - val_loss: 0.6920 - val_accuracy: 0.7912\n",
      "Epoch 7/10\n",
      "191/191 [==============================] - 2s 8ms/step - loss: 0.0802 - accuracy: 0.9727 - val_loss: 0.7602 - val_accuracy: 0.7800\n",
      "Epoch 8/10\n",
      "191/191 [==============================] - 2s 11ms/step - loss: 0.0374 - accuracy: 0.9862 - val_loss: 0.9065 - val_accuracy: 0.7794\n",
      "Epoch 9/10\n",
      "191/191 [==============================] - 2s 9ms/step - loss: 0.0187 - accuracy: 0.9920 - val_loss: 1.1441 - val_accuracy: 0.7754\n",
      "Epoch 10/10\n",
      "191/191 [==============================] - 2s 10ms/step - loss: 0.0104 - accuracy: 0.9954 - val_loss: 1.3212 - val_accuracy: 0.7807\n"
     ]
    }
   ],
   "source": [
    "model_2.compile(\n",
    "    optimizer='adam',\n",
    "    loss='binary_crossentropy',\n",
    "    metrics='accuracy'\n",
    ")\n",
    "history_2 = model_2.fit(\n",
    "    x=trn_tweets,\n",
    "    y=trn_labels,\n",
    "    epochs=10,\n",
    "    validation_data=(val_tweets, val_labels)\n",
    ")"
   ]
  },
  {
   "cell_type": "code",
   "execution_count": 24,
   "id": "704abceb",
   "metadata": {
    "execution": {
     "iopub.execute_input": "2022-09-28T00:28:34.630122Z",
     "iopub.status.busy": "2022-09-28T00:28:34.629713Z",
     "iopub.status.idle": "2022-09-28T00:28:34.879134Z",
     "shell.execute_reply": "2022-09-28T00:28:34.878185Z"
    },
    "papermill": {
     "duration": 0.286974,
     "end_time": "2022-09-28T00:28:34.881186",
     "exception": false,
     "start_time": "2022-09-28T00:28:34.594212",
     "status": "completed"
    },
    "tags": []
   },
   "outputs": [
    {
     "name": "stdout",
     "output_type": "stream",
     "text": [
      "48/48 [==============================] - 0s 4ms/step - loss: 1.3212 - accuracy: 0.7807\n"
     ]
    },
    {
     "data": {
      "text/plain": [
       "[1.3211534023284912, 0.7806959748268127]"
      ]
     },
     "execution_count": 24,
     "metadata": {},
     "output_type": "execute_result"
    }
   ],
   "source": [
    "model_2.evaluate(val_tweets, val_labels)"
   ]
  },
  {
   "cell_type": "code",
   "execution_count": 25,
   "id": "1b238fb5",
   "metadata": {
    "execution": {
     "iopub.execute_input": "2022-09-28T00:28:34.953263Z",
     "iopub.status.busy": "2022-09-28T00:28:34.952314Z",
     "iopub.status.idle": "2022-09-28T00:28:35.662128Z",
     "shell.execute_reply": "2022-09-28T00:28:35.660841Z"
    },
    "papermill": {
     "duration": 0.74857,
     "end_time": "2022-09-28T00:28:35.664577",
     "exception": false,
     "start_time": "2022-09-28T00:28:34.916007",
     "status": "completed"
    },
    "tags": []
   },
   "outputs": [
    {
     "name": "stdout",
     "output_type": "stream",
     "text": [
      "[0. 0. 1. 0. 0. 0. 0. 0. 0. 1.]\n"
     ]
    },
    {
     "data": {
      "text/plain": [
       "0.7806959947472094"
      ]
     },
     "execution_count": 25,
     "metadata": {},
     "output_type": "execute_result"
    }
   ],
   "source": [
    "predictions = model_2.predict(val_tweets)\n",
    "predictions = np.round(predictions).flatten()\n",
    "print(predictions[:10])\n",
    "accuracy_score(y_true=val_labels, y_pred=predictions)"
   ]
  },
  {
   "cell_type": "code",
   "execution_count": 26,
   "id": "f735e639",
   "metadata": {
    "execution": {
     "iopub.execute_input": "2022-09-28T00:28:35.739145Z",
     "iopub.status.busy": "2022-09-28T00:28:35.738819Z",
     "iopub.status.idle": "2022-09-28T00:28:35.745148Z",
     "shell.execute_reply": "2022-09-28T00:28:35.744194Z"
    },
    "papermill": {
     "duration": 0.046249,
     "end_time": "2022-09-28T00:28:35.747288",
     "exception": false,
     "start_time": "2022-09-28T00:28:35.701039",
     "status": "completed"
    },
    "tags": []
   },
   "outputs": [
    {
     "data": {
      "text/plain": [
       "dict_keys(['loss', 'accuracy', 'val_loss', 'val_accuracy'])"
      ]
     },
     "execution_count": 26,
     "metadata": {},
     "output_type": "execute_result"
    }
   ],
   "source": [
    "history_2_dict = history_2.history\n",
    "history_2_dict.keys()"
   ]
  },
  {
   "cell_type": "code",
   "execution_count": 27,
   "id": "c3809d31",
   "metadata": {
    "execution": {
     "iopub.execute_input": "2022-09-28T00:28:35.819141Z",
     "iopub.status.busy": "2022-09-28T00:28:35.818813Z",
     "iopub.status.idle": "2022-09-28T00:28:36.039287Z",
     "shell.execute_reply": "2022-09-28T00:28:36.038189Z"
    },
    "papermill": {
     "duration": 0.260151,
     "end_time": "2022-09-28T00:28:36.041991",
     "exception": false,
     "start_time": "2022-09-28T00:28:35.781840",
     "status": "completed"
    },
    "tags": []
   },
   "outputs": [
    {
     "data": {
      "image/png": "[encoded data removed]",
      "text/plain": [
       "<Figure size 432x288 with 1 Axes>"
      ]
     },
     "metadata": {
      "needs_background": "light"
     },
     "output_type": "display_data"
    }
   ],
   "source": [
    "acc = history_2_dict['accuracy']\n",
    "val_acc = history_2_dict['val_accuracy']\n",
    "loss = history_2_dict['loss']\n",
    "val_loss = history_2_dict['val_loss']\n",
    "\n",
    "epochs = range(1, len(acc) + 1)\n",
    "\n",
    "plt.plot(epochs, loss, 'bo', label='Training loss')\n",
    "plt.plot(epochs, val_loss, 'b', label='Validation loss')\n",
    "plt.title('Training and validation loss')\n",
    "plt.xlabel('Epochs')\n",
    "plt.ylabel('Loss')\n",
    "plt.legend()\n",
    "\n",
    "plt.show()"
   ]
  },
  {
   "cell_type": "code",
   "execution_count": 28,
   "id": "5aff071f",
   "metadata": {
    "execution": {
     "iopub.execute_input": "2022-09-28T00:28:36.116288Z",
     "iopub.status.busy": "2022-09-28T00:28:36.115948Z",
     "iopub.status.idle": "2022-09-28T00:28:36.320756Z",
     "shell.execute_reply": "2022-09-28T00:28:36.319759Z"
    },
    "papermill": {
     "duration": 0.243069,
     "end_time": "2022-09-28T00:28:36.322905",
     "exception": false,
     "start_time": "2022-09-28T00:28:36.079836",
     "status": "completed"
    },
    "tags": []
   },
   "outputs": [
    {
     "data": {
      "image/png": "[encoded data removed]",
      "text/plain": [
       "<Figure size 432x288 with 1 Axes>"
      ]
     },
     "metadata": {
      "needs_background": "light"
     },
     "output_type": "display_data"
    }
   ],
   "source": [
    "plt.plot(epochs, acc, 'bo', label='Training acc')\n",
    "plt.plot(epochs, val_acc, 'b', label='Validation acc')\n",
    "plt.title('Training and Accuracy')\n",
    "plt.xlabel('Epochs')\n",
    "plt.ylabel('Accuracy')\n",
    "plt.legend()\n",
    "\n",
    "plt.show()"
   ]
  },
  {
   "cell_type": "code",
   "execution_count": 29,
   "id": "37ec05b0",
   "metadata": {
    "execution": {
     "iopub.execute_input": "2022-09-28T00:28:36.394218Z",
     "iopub.status.busy": "2022-09-28T00:28:36.393363Z",
     "iopub.status.idle": "2022-09-28T00:28:36.610269Z",
     "shell.execute_reply": "2022-09-28T00:28:36.608062Z"
    },
    "papermill": {
     "duration": 0.254962,
     "end_time": "2022-09-28T00:28:36.612975",
     "exception": false,
     "start_time": "2022-09-28T00:28:36.358013",
     "status": "completed"
    },
    "tags": []
   },
   "outputs": [
    {
     "name": "stdout",
     "output_type": "stream",
     "text": [
      "[1 1 1 0 1 1 0 0 0 0]\n"
     ]
    }
   ],
   "source": [
    "submission = pd.read_csv('../input/nlp-getting-started/sample_submission.csv')\n",
    "\n",
    "tst_predictions = model.predict(tst_tweets)\n",
    "tst_predictions = np.round(tst_predictions).flatten().astype(int)\n",
    "print(tst_predictions[:10])"
   ]
  },
  {
   "cell_type": "code",
   "execution_count": 30,
   "id": "e6ff90df",
   "metadata": {
    "execution": {
     "iopub.execute_input": "2022-09-28T00:28:36.696871Z",
     "iopub.status.busy": "2022-09-28T00:28:36.695913Z",
     "iopub.status.idle": "2022-09-28T00:28:36.701960Z",
     "shell.execute_reply": "2022-09-28T00:28:36.701089Z"
    },
    "papermill": {
     "duration": 0.054146,
     "end_time": "2022-09-28T00:28:36.704073",
     "exception": false,
     "start_time": "2022-09-28T00:28:36.649927",
     "status": "completed"
    },
    "tags": []
   },
   "outputs": [],
   "source": [
    "submission['target'] = tst_predictions"
   ]
  },
  {
   "cell_type": "code",
   "execution_count": 31,
   "id": "68b78630",
   "metadata": {
    "execution": {
     "iopub.execute_input": "2022-09-28T00:28:36.819965Z",
     "iopub.status.busy": "2022-09-28T00:28:36.819584Z",
     "iopub.status.idle": "2022-09-28T00:28:36.830792Z",
     "shell.execute_reply": "2022-09-28T00:28:36.829625Z"
    },
    "papermill": {
     "duration": 0.054317,
     "end_time": "2022-09-28T00:28:36.833412",
     "exception": false,
     "start_time": "2022-09-28T00:28:36.779095",
     "status": "completed"
    },
    "tags": []
   },
   "outputs": [],
   "source": [
    "submission.to_csv('submission.csv', index=False)"
   ]
  }
 ],
 "metadata": {
  "kernelspec": {
   "display_name": "Python 3",
   "language": "python",
   "name": "python3"
  },
  "language_info": {
   "codemirror_mode": {
    "name": "ipython",
    "version": 3
   },
   "file_extension": ".py",
   "mimetype": "text/x-python",
   "name": "python",
   "nbconvert_exporter": "python",
   "pygments_lexer": "ipython3",
   "version": "3.7.12"
  },
  "papermill": {
   "default_parameters": {},
   "duration": 60.411531,
   "end_time": "2022-09-28T00:28:39.733868",
   "environment_variables": {},
   "exception": null,
   "input_path": "__notebook__.ipynb",
   "output_path": "__notebook__.ipynb",
   "parameters": {},
   "start_time": "2022-09-28T00:27:39.322337",
   "version": "2.3.4"
  }
 },
 "nbformat": 4,
 "nbformat_minor": 5
}
