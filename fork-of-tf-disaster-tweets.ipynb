{
 "cells": [
  {
   "cell_type": "markdown",
   "id": "a3b20160",
   "metadata": {
    "papermill": {
     "duration": 0.011579,
     "end_time": "2022-09-28T00:05:16.707028",
     "exception": false,
     "start_time": "2022-09-28T00:05:16.695449",
     "status": "completed"
    },
    "tags": []
   },
   "source": [
    "# Disaster Tweets with NLP Kaggle Mini-Project\n",
    "\n",
    "Hello, welcome to this project which is my submission for the Kaggle competition [NLP with Disaster Tweets](https://www.kaggle.com/c/nlp-getting-started/overview). IF you want to see this project you can check the my GitHub repo [rorrostieta/disaster_tweets](https://github.com/rorrostieta/disaster_tweets) for more info on the libraries and the code I used to execute this project within the Kaggle kernel. Lets begin!\n",
    "\n",
    "## The Problem\n",
    "For this competition we're given a train and test dataser which contain the following information:\n",
    "* id\n",
    "* keyword\n",
    "* location\n",
    "* text (tweet)\n",
    "* target (disaster)\n",
    "\n",
    "The objective is to identidy if there is a disaster present where people are base on the words they use whether they're spending their time under te burning hot sun or maybe it is an actual emergency such as a forest fire. We will be using about 7.6K text entries which we need to handle approprietly in order to predict if a disaster is happening or not (this can be identified in the target column with a 0 NO disaster or a 1 there IS/WAS a disaster).\n",
    "\n",
    "## Set up and Exploratory Data Analysis\n",
    "I'll be using a couple sklearn libraries to split the data and evaluate the models made with keras with tensorflow backend, both of these with some well known data preprocessing libraries panda, numpy and matplotlib for visualization."
   ]
  },
  {
   "cell_type": "code",
   "execution_count": 1,
   "id": "f131f490",
   "metadata": {
    "execution": {
     "iopub.execute_input": "2022-09-28T00:05:16.731148Z",
     "iopub.status.busy": "2022-09-28T00:05:16.730607Z",
     "iopub.status.idle": "2022-09-28T00:05:22.870213Z",
     "shell.execute_reply": "2022-09-28T00:05:22.869187Z"
    },
    "papermill": {
     "duration": 6.15529,
     "end_time": "2022-09-28T00:05:22.872819",
     "exception": false,
     "start_time": "2022-09-28T00:05:16.717529",
     "status": "completed"
    },
    "tags": []
   },
   "outputs": [],
   "source": [
    "import pandas as pd\n",
    "import numpy as np\n",
    "import matplotlib.pyplot as plt\n",
    "from sklearn.model_selection import train_test_split\n",
    "from sklearn.metrics import accuracy_score\n",
    "\n",
    "import tensorflow as tf\n",
    "from tensorflow.keras import layers\n",
    "from tensorflow.keras.layers import TextVectorization\n",
    "from tensorflow.keras import losses"
   ]
  },
  {
   "cell_type": "markdown",
   "id": "1e0c4190",
   "metadata": {
    "papermill": {
     "duration": 0.006168,
     "end_time": "2022-09-28T00:05:22.885835",
     "exception": false,
     "start_time": "2022-09-28T00:05:22.879667",
     "status": "completed"
    },
    "tags": []
   },
   "source": [
    "### Importing the Data"
   ]
  },
  {
   "cell_type": "code",
   "execution_count": 2,
   "id": "897c71c5",
   "metadata": {
    "execution": {
     "iopub.execute_input": "2022-09-28T00:05:22.900618Z",
     "iopub.status.busy": "2022-09-28T00:05:22.899694Z",
     "iopub.status.idle": "2022-09-28T00:05:22.976130Z",
     "shell.execute_reply": "2022-09-28T00:05:22.975255Z"
    },
    "papermill": {
     "duration": 0.086007,
     "end_time": "2022-09-28T00:05:22.978267",
     "exception": false,
     "start_time": "2022-09-28T00:05:22.892260",
     "status": "completed"
    },
    "tags": []
   },
   "outputs": [
    {
     "data": {
      "text/html": [
       "<div>\n",
       "<style scoped>\n",
       "    .dataframe tbody tr th:only-of-type {\n",
       "        vertical-align: middle;\n",
       "    }\n",
       "\n",
       "    .dataframe tbody tr th {\n",
       "        vertical-align: top;\n",
       "    }\n",
       "\n",
       "    .dataframe thead th {\n",
       "        text-align: right;\n",
       "    }\n",
       "</style>\n",
       "<table border=\"1\" class=\"dataframe\">\n",
       "  <thead>\n",
       "    <tr style=\"text-align: right;\">\n",
       "      <th></th>\n",
       "      <th>id</th>\n",
       "      <th>keyword</th>\n",
       "      <th>location</th>\n",
       "      <th>text</th>\n",
       "      <th>target</th>\n",
       "    </tr>\n",
       "  </thead>\n",
       "  <tbody>\n",
       "    <tr>\n",
       "      <th>0</th>\n",
       "      <td>1</td>\n",
       "      <td>NaN</td>\n",
       "      <td>NaN</td>\n",
       "      <td>Our Deeds are the Reason of this #earthquake M...</td>\n",
       "      <td>1</td>\n",
       "    </tr>\n",
       "    <tr>\n",
       "      <th>1</th>\n",
       "      <td>4</td>\n",
       "      <td>NaN</td>\n",
       "      <td>NaN</td>\n",
       "      <td>Forest fire near La Ronge Sask. Canada</td>\n",
       "      <td>1</td>\n",
       "    </tr>\n",
       "    <tr>\n",
       "      <th>2</th>\n",
       "      <td>5</td>\n",
       "      <td>NaN</td>\n",
       "      <td>NaN</td>\n",
       "      <td>All residents asked to 'shelter in place' are ...</td>\n",
       "      <td>1</td>\n",
       "    </tr>\n",
       "    <tr>\n",
       "      <th>3</th>\n",
       "      <td>6</td>\n",
       "      <td>NaN</td>\n",
       "      <td>NaN</td>\n",
       "      <td>13,000 people receive #wildfires evacuation or...</td>\n",
       "      <td>1</td>\n",
       "    </tr>\n",
       "    <tr>\n",
       "      <th>4</th>\n",
       "      <td>7</td>\n",
       "      <td>NaN</td>\n",
       "      <td>NaN</td>\n",
       "      <td>Just got sent this photo from Ruby #Alaska as ...</td>\n",
       "      <td>1</td>\n",
       "    </tr>\n",
       "  </tbody>\n",
       "</table>\n",
       "</div>"
      ],
      "text/plain": [
       "   id keyword location                                               text  \\\n",
       "0   1     NaN      NaN  Our Deeds are the Reason of this #earthquake M...   \n",
       "1   4     NaN      NaN             Forest fire near La Ronge Sask. Canada   \n",
       "2   5     NaN      NaN  All residents asked to 'shelter in place' are ...   \n",
       "3   6     NaN      NaN  13,000 people receive #wildfires evacuation or...   \n",
       "4   7     NaN      NaN  Just got sent this photo from Ruby #Alaska as ...   \n",
       "\n",
       "   target  \n",
       "0       1  \n",
       "1       1  \n",
       "2       1  \n",
       "3       1  \n",
       "4       1  "
      ]
     },
     "execution_count": 2,
     "metadata": {},
     "output_type": "execute_result"
    }
   ],
   "source": [
    "train_data = pd.read_csv('../input/nlp-getting-started/train.csv')\n",
    "test_data = pd.read_csv('../input/nlp-getting-started/test.csv')\n",
    "train_data.head()"
   ]
  },
  {
   "cell_type": "code",
   "execution_count": 3,
   "id": "ac0f186a",
   "metadata": {
    "execution": {
     "iopub.execute_input": "2022-09-28T00:05:22.993807Z",
     "iopub.status.busy": "2022-09-28T00:05:22.992375Z",
     "iopub.status.idle": "2022-09-28T00:05:23.004378Z",
     "shell.execute_reply": "2022-09-28T00:05:23.003548Z"
    },
    "papermill": {
     "duration": 0.021689,
     "end_time": "2022-09-28T00:05:23.006490",
     "exception": false,
     "start_time": "2022-09-28T00:05:22.984801",
     "status": "completed"
    },
    "tags": []
   },
   "outputs": [
    {
     "data": {
      "text/html": [
       "<div>\n",
       "<style scoped>\n",
       "    .dataframe tbody tr th:only-of-type {\n",
       "        vertical-align: middle;\n",
       "    }\n",
       "\n",
       "    .dataframe tbody tr th {\n",
       "        vertical-align: top;\n",
       "    }\n",
       "\n",
       "    .dataframe thead th {\n",
       "        text-align: right;\n",
       "    }\n",
       "</style>\n",
       "<table border=\"1\" class=\"dataframe\">\n",
       "  <thead>\n",
       "    <tr style=\"text-align: right;\">\n",
       "      <th></th>\n",
       "      <th>id</th>\n",
       "      <th>keyword</th>\n",
       "      <th>location</th>\n",
       "      <th>text</th>\n",
       "    </tr>\n",
       "  </thead>\n",
       "  <tbody>\n",
       "    <tr>\n",
       "      <th>0</th>\n",
       "      <td>0</td>\n",
       "      <td>NaN</td>\n",
       "      <td>NaN</td>\n",
       "      <td>Just happened a terrible car crash</td>\n",
       "    </tr>\n",
       "    <tr>\n",
       "      <th>1</th>\n",
       "      <td>2</td>\n",
       "      <td>NaN</td>\n",
       "      <td>NaN</td>\n",
       "      <td>Heard about #earthquake is different cities, s...</td>\n",
       "    </tr>\n",
       "    <tr>\n",
       "      <th>2</th>\n",
       "      <td>3</td>\n",
       "      <td>NaN</td>\n",
       "      <td>NaN</td>\n",
       "      <td>there is a forest fire at spot pond, geese are...</td>\n",
       "    </tr>\n",
       "    <tr>\n",
       "      <th>3</th>\n",
       "      <td>9</td>\n",
       "      <td>NaN</td>\n",
       "      <td>NaN</td>\n",
       "      <td>Apocalypse lighting. #Spokane #wildfires</td>\n",
       "    </tr>\n",
       "    <tr>\n",
       "      <th>4</th>\n",
       "      <td>11</td>\n",
       "      <td>NaN</td>\n",
       "      <td>NaN</td>\n",
       "      <td>Typhoon Soudelor kills 28 in China and Taiwan</td>\n",
       "    </tr>\n",
       "  </tbody>\n",
       "</table>\n",
       "</div>"
      ],
      "text/plain": [
       "   id keyword location                                               text\n",
       "0   0     NaN      NaN                 Just happened a terrible car crash\n",
       "1   2     NaN      NaN  Heard about #earthquake is different cities, s...\n",
       "2   3     NaN      NaN  there is a forest fire at spot pond, geese are...\n",
       "3   9     NaN      NaN           Apocalypse lighting. #Spokane #wildfires\n",
       "4  11     NaN      NaN      Typhoon Soudelor kills 28 in China and Taiwan"
      ]
     },
     "execution_count": 3,
     "metadata": {},
     "output_type": "execute_result"
    }
   ],
   "source": [
    "test_data.head()"
   ]
  },
  {
   "cell_type": "code",
   "execution_count": 4,
   "id": "b86a2074",
   "metadata": {
    "execution": {
     "iopub.execute_input": "2022-09-28T00:05:23.023351Z",
     "iopub.status.busy": "2022-09-28T00:05:23.022483Z",
     "iopub.status.idle": "2022-09-28T00:05:23.033932Z",
     "shell.execute_reply": "2022-09-28T00:05:23.032958Z"
    },
    "papermill": {
     "duration": 0.022622,
     "end_time": "2022-09-28T00:05:23.035856",
     "exception": false,
     "start_time": "2022-09-28T00:05:23.013234",
     "status": "completed"
    },
    "tags": []
   },
   "outputs": [
    {
     "data": {
      "text/plain": [
       "<bound method DataFrame.info of          id keyword location  \\\n",
       "0         1     NaN      NaN   \n",
       "1         4     NaN      NaN   \n",
       "2         5     NaN      NaN   \n",
       "3         6     NaN      NaN   \n",
       "4         7     NaN      NaN   \n",
       "...     ...     ...      ...   \n",
       "7608  10869     NaN      NaN   \n",
       "7609  10870     NaN      NaN   \n",
       "7610  10871     NaN      NaN   \n",
       "7611  10872     NaN      NaN   \n",
       "7612  10873     NaN      NaN   \n",
       "\n",
       "                                                   text  target  \n",
       "0     Our Deeds are the Reason of this #earthquake M...       1  \n",
       "1                Forest fire near La Ronge Sask. Canada       1  \n",
       "2     All residents asked to 'shelter in place' are ...       1  \n",
       "3     13,000 people receive #wildfires evacuation or...       1  \n",
       "4     Just got sent this photo from Ruby #Alaska as ...       1  \n",
       "...                                                 ...     ...  \n",
       "7608  Two giant cranes holding a bridge collapse int...       1  \n",
       "7609  @aria_ahrary @TheTawniest The out of control w...       1  \n",
       "7610  M1.94 [01:04 UTC]?5km S of Volcano Hawaii. htt...       1  \n",
       "7611  Police investigating after an e-bike collided ...       1  \n",
       "7612  The Latest: More Homes Razed by Northern Calif...       1  \n",
       "\n",
       "[7613 rows x 5 columns]>"
      ]
     },
     "execution_count": 4,
     "metadata": {},
     "output_type": "execute_result"
    }
   ],
   "source": [
    "train_data.info"
   ]
  },
  {
   "cell_type": "markdown",
   "id": "ed60038a",
   "metadata": {
    "papermill": {
     "duration": 0.006857,
     "end_time": "2022-09-28T00:05:23.049599",
     "exception": false,
     "start_time": "2022-09-28T00:05:23.042742",
     "status": "completed"
    },
    "tags": []
   },
   "source": [
    "From the first looks we see we have 5 columns where `keyword` and `location` have some missing values we need to look into. Additionally the `text` field has the tweets with their respective hashtags and links which we might need to be careful with.\n",
    "\n",
    "The strategy will be to see how many `keywords` and `locations` we have available. For the `text` side of things lets see the distribution for **number of words** and the **number of characters** these might be useful for our text analysis later."
   ]
  },
  {
   "cell_type": "code",
   "execution_count": 5,
   "id": "c161a02b",
   "metadata": {
    "execution": {
     "iopub.execute_input": "2022-09-28T00:05:23.065453Z",
     "iopub.status.busy": "2022-09-28T00:05:23.064059Z",
     "iopub.status.idle": "2022-09-28T00:05:23.074598Z",
     "shell.execute_reply": "2022-09-28T00:05:23.073289Z"
    },
    "papermill": {
     "duration": 0.020323,
     "end_time": "2022-09-28T00:05:23.076605",
     "exception": false,
     "start_time": "2022-09-28T00:05:23.056282",
     "status": "completed"
    },
    "tags": []
   },
   "outputs": [
    {
     "name": "stdout",
     "output_type": "stream",
     "text": [
      "Number of unique keywords: 222\n",
      "Number of unique locations: 3342\n"
     ]
    }
   ],
   "source": [
    "print('Number of unique keywords:',len(train_data['keyword'].unique()))\n",
    "print('Number of unique locations:',len(train_data['location'].unique()))"
   ]
  },
  {
   "cell_type": "code",
   "execution_count": 6,
   "id": "10c43ae5",
   "metadata": {
    "execution": {
     "iopub.execute_input": "2022-09-28T00:05:23.092163Z",
     "iopub.status.busy": "2022-09-28T00:05:23.091881Z",
     "iopub.status.idle": "2022-09-28T00:05:23.434214Z",
     "shell.execute_reply": "2022-09-28T00:05:23.433286Z"
    },
    "papermill": {
     "duration": 0.352785,
     "end_time": "2022-09-28T00:05:23.436463",
     "exception": false,
     "start_time": "2022-09-28T00:05:23.083678",
     "status": "completed"
    },
    "tags": []
   },
   "outputs": [
    {
     "data": {
      "text/plain": [
       "array([[<AxesSubplot:title={'center':'keyword'}>,\n",
       "        <AxesSubplot:title={'center':'location'}>]], dtype=object)"
      ]
     },
     "execution_count": 6,
     "metadata": {},
     "output_type": "execute_result"
    },
    {
     "data": {
      "image/png": "[encoded data removed]",
      "text/plain": [
       "<Figure size 432x288 with 2 Axes>"
      ]
     },
     "metadata": {
      "needs_background": "light"
     },
     "output_type": "display_data"
    }
   ],
   "source": [
    "train_data[['keyword', 'location']].notna().astype(int).hist(bins=2)"
   ]
  },
  {
   "cell_type": "code",
   "execution_count": 7,
   "id": "b022c470",
   "metadata": {
    "execution": {
     "iopub.execute_input": "2022-09-28T00:05:23.453199Z",
     "iopub.status.busy": "2022-09-28T00:05:23.452305Z",
     "iopub.status.idle": "2022-09-28T00:05:23.867642Z",
     "shell.execute_reply": "2022-09-28T00:05:23.866396Z"
    },
    "papermill": {
     "duration": 0.426018,
     "end_time": "2022-09-28T00:05:23.869977",
     "exception": false,
     "start_time": "2022-09-28T00:05:23.443959",
     "status": "completed"
    },
    "tags": []
   },
   "outputs": [
    {
     "data": {
      "image/png": "[encoded data removed]",
      "text/plain": [
       "<Figure size 432x288 with 1 Axes>"
      ]
     },
     "metadata": {
      "needs_background": "light"
     },
     "output_type": "display_data"
    },
    {
     "data": {
      "image/png": "[encoded data removed]",
      "text/plain": [
       "<Figure size 432x288 with 1 Axes>"
      ]
     },
     "metadata": {
      "needs_background": "light"
     },
     "output_type": "display_data"
    }
   ],
   "source": [
    "train_data['text'].str.split().map(len).hist()\n",
    "plt.show()\n",
    "train_data['text'].map(len).hist()\n",
    "plt.show()"
   ]
  },
  {
   "cell_type": "code",
   "execution_count": 8,
   "id": "d5ce47b9",
   "metadata": {
    "execution": {
     "iopub.execute_input": "2022-09-28T00:05:23.886724Z",
     "iopub.status.busy": "2022-09-28T00:05:23.886407Z",
     "iopub.status.idle": "2022-09-28T00:05:24.096002Z",
     "shell.execute_reply": "2022-09-28T00:05:24.095146Z"
    },
    "papermill": {
     "duration": 0.220236,
     "end_time": "2022-09-28T00:05:24.098157",
     "exception": false,
     "start_time": "2022-09-28T00:05:23.877921",
     "status": "completed"
    },
    "tags": []
   },
   "outputs": [
    {
     "data": {
      "text/plain": [
       "<AxesSubplot:>"
      ]
     },
     "execution_count": 8,
     "metadata": {},
     "output_type": "execute_result"
    },
    {
     "data": {
      "image/png": "[encoded data removed]",
      "text/plain": [
       "<Figure size 432x288 with 1 Axes>"
      ]
     },
     "metadata": {
      "needs_background": "light"
     },
     "output_type": "display_data"
    }
   ],
   "source": [
    "train_data['target'].hist()"
   ]
  },
  {
   "cell_type": "markdown",
   "id": "dc983510",
   "metadata": {
    "papermill": {
     "duration": 0.007705,
     "end_time": "2022-09-28T00:05:24.113626",
     "exception": false,
     "start_time": "2022-09-28T00:05:24.105921",
     "status": "completed"
    },
    "tags": []
   },
   "source": [
    "### EDA Results\n",
    "* **Dismiss `keywords` and `location`** this becasue we have only around 200s `keywords` which are integrated into the text this might be redundant information which can create bias but the opposite happends with `location` which we have a lot of values almost half of the sample size which could cause problems.\n",
    "* **`Text` entries have no more than 30 words**, knowing this is important since we might need to understand out data source in this case tweets which are limited in nature allowing us to target certain amount of words.\n",
    "* **Good split of Y values** this should be enough to be able to train and validate the model.\n",
    "\n",
    "## Model Architecture\n",
    "For this problem I'll be using the tensoflow tool `TextVectorization` which will allow me to transform the text inputs into tensors. Each tensor will be constructed according to the number of words in the input, each word will be given an \"ID\" which will be stored in the vocabulary that the `TextVectorization` tool will store in order to be able to assign the same value if a word is repeated in a future entry.\n",
    "\n",
    "After this preprocessing step and converting all of our data into tensors I'll be testing two types of models, a simple dense model with a single perceptron and a RNN one using GRU to compare both of them and select which one might be much more useful for this project.\n",
    "\n",
    "### Preprocessing\n",
    "First I'll be using sklearn's `train_test_split` function to create my sets for the training and validation."
   ]
  },
  {
   "cell_type": "code",
   "execution_count": 9,
   "id": "06425f66",
   "metadata": {
    "execution": {
     "iopub.execute_input": "2022-09-28T00:05:24.130577Z",
     "iopub.status.busy": "2022-09-28T00:05:24.130291Z",
     "iopub.status.idle": "2022-09-28T00:05:24.137460Z",
     "shell.execute_reply": "2022-09-28T00:05:24.136481Z"
    },
    "papermill": {
     "duration": 0.017943,
     "end_time": "2022-09-28T00:05:24.139541",
     "exception": false,
     "start_time": "2022-09-28T00:05:24.121598",
     "status": "completed"
    },
    "tags": []
   },
   "outputs": [],
   "source": [
    "tweets = train_data['text'].to_numpy()\n",
    "labels = train_data['target'].to_numpy()\n",
    "tst_tweets = test_data['text']\n",
    "trn_tweets, val_tweets, trn_labels, val_labels = train_test_split(tweets, labels, test_size=0.2, random_state=42, shuffle=True)"
   ]
  },
  {
   "cell_type": "markdown",
   "id": "2047c348",
   "metadata": {
    "papermill": {
     "duration": 0.007516,
     "end_time": "2022-09-28T00:05:24.154736",
     "exception": false,
     "start_time": "2022-09-28T00:05:24.147220",
     "status": "completed"
    },
    "tags": []
   },
   "source": [
    "Here I'm going to create a `TextVectorization` layer, in this case within the layer I'll be able to pass certain input which will be transformed into the tensor to feed the NN. Within this layer I have two hyperparameters, the `sequence_length` (number of words) and the `max_features` (vocabulary), these can be ajusted accordingly to really capture the dataset I'll be using.\n",
    "\n",
    "* If my `max_features` is too low it might right having a couple unknown entries within my tensors whereast if it is too big we might not need that many features in the model.\n",
    "* If `sequence_length` is changed we might not be able to retrieve the whole length of the sentence and if it is too long I might have a bad reading of a short entry.\n",
    "\n",
    "After I have set up my layer I adapt my training inputs for it to create the vocabulary."
   ]
  },
  {
   "cell_type": "code",
   "execution_count": 10,
   "id": "400b25d9",
   "metadata": {
    "execution": {
     "iopub.execute_input": "2022-09-28T00:05:24.171488Z",
     "iopub.status.busy": "2022-09-28T00:05:24.171210Z",
     "iopub.status.idle": "2022-09-28T00:05:26.924986Z",
     "shell.execute_reply": "2022-09-28T00:05:26.923919Z"
    },
    "papermill": {
     "duration": 2.765478,
     "end_time": "2022-09-28T00:05:26.928062",
     "exception": false,
     "start_time": "2022-09-28T00:05:24.162584",
     "status": "completed"
    },
    "tags": []
   },
   "outputs": [
    {
     "name": "stderr",
     "output_type": "stream",
     "text": [
      "2022-09-28 00:05:24.265602: I tensorflow/stream_executor/cuda/cuda_gpu_executor.cc:937] successful NUMA node read from SysFS had negative value (-1), but there must be at least one NUMA node, so returning NUMA node zero\n",
      "2022-09-28 00:05:24.356666: I tensorflow/stream_executor/cuda/cuda_gpu_executor.cc:937] successful NUMA node read from SysFS had negative value (-1), but there must be at least one NUMA node, so returning NUMA node zero\n",
      "2022-09-28 00:05:24.357606: I tensorflow/stream_executor/cuda/cuda_gpu_executor.cc:937] successful NUMA node read from SysFS had negative value (-1), but there must be at least one NUMA node, so returning NUMA node zero\n",
      "2022-09-28 00:05:24.359595: I tensorflow/core/platform/cpu_feature_guard.cc:142] This TensorFlow binary is optimized with oneAPI Deep Neural Network Library (oneDNN) to use the following CPU instructions in performance-critical operations:  AVX2 AVX512F FMA\n",
      "To enable them in other operations, rebuild TensorFlow with the appropriate compiler flags.\n",
      "2022-09-28 00:05:24.359985: I tensorflow/stream_executor/cuda/cuda_gpu_executor.cc:937] successful NUMA node read from SysFS had negative value (-1), but there must be at least one NUMA node, so returning NUMA node zero\n",
      "2022-09-28 00:05:24.360911: I tensorflow/stream_executor/cuda/cuda_gpu_executor.cc:937] successful NUMA node read from SysFS had negative value (-1), but there must be at least one NUMA node, so returning NUMA node zero\n",
      "2022-09-28 00:05:24.361780: I tensorflow/stream_executor/cuda/cuda_gpu_executor.cc:937] successful NUMA node read from SysFS had negative value (-1), but there must be at least one NUMA node, so returning NUMA node zero\n",
      "2022-09-28 00:05:26.552655: I tensorflow/stream_executor/cuda/cuda_gpu_executor.cc:937] successful NUMA node read from SysFS had negative value (-1), but there must be at least one NUMA node, so returning NUMA node zero\n",
      "2022-09-28 00:05:26.553557: I tensorflow/stream_executor/cuda/cuda_gpu_executor.cc:937] successful NUMA node read from SysFS had negative value (-1), but there must be at least one NUMA node, so returning NUMA node zero\n",
      "2022-09-28 00:05:26.554254: I tensorflow/stream_executor/cuda/cuda_gpu_executor.cc:937] successful NUMA node read from SysFS had negative value (-1), but there must be at least one NUMA node, so returning NUMA node zero\n",
      "2022-09-28 00:05:26.554871: I tensorflow/core/common_runtime/gpu/gpu_device.cc:1510] Created device /job:localhost/replica:0/task:0/device:GPU:0 with 15401 MB memory:  -> device: 0, name: Tesla P100-PCIE-16GB, pci bus id: 0000:00:04.0, compute capability: 6.0\n"
     ]
    }
   ],
   "source": [
    "max_features = 20000\n",
    "sequence_length = 50\n",
    "\n",
    "vectorize_layer = TextVectorization(\n",
    "    standardize='lower_and_strip_punctuation',\n",
    "    max_tokens=max_features,\n",
    "    output_mode='int',\n",
    "    output_sequence_length=sequence_length)"
   ]
  },
  {
   "cell_type": "code",
   "execution_count": 11,
   "id": "01b720f2",
   "metadata": {
    "execution": {
     "iopub.execute_input": "2022-09-28T00:05:26.952571Z",
     "iopub.status.busy": "2022-09-28T00:05:26.952258Z",
     "iopub.status.idle": "2022-09-28T00:05:27.444467Z",
     "shell.execute_reply": "2022-09-28T00:05:27.443235Z"
    },
    "papermill": {
     "duration": 0.510202,
     "end_time": "2022-09-28T00:05:27.447313",
     "exception": false,
     "start_time": "2022-09-28T00:05:26.937111",
     "status": "completed"
    },
    "tags": []
   },
   "outputs": [
    {
     "name": "stderr",
     "output_type": "stream",
     "text": [
      "2022-09-28 00:05:27.018667: I tensorflow/compiler/mlir/mlir_graph_optimization_pass.cc:185] None of the MLIR Optimization Passes are enabled (registered 2)\n"
     ]
    }
   ],
   "source": [
    "vectorize_layer.adapt(trn_tweets)"
   ]
  },
  {
   "cell_type": "markdown",
   "id": "7712a7c3",
   "metadata": {
    "papermill": {
     "duration": 0.008041,
     "end_time": "2022-09-28T00:05:27.463866",
     "exception": false,
     "start_time": "2022-09-28T00:05:27.455825",
     "status": "completed"
    },
    "tags": []
   },
   "source": [
    "#### Example Tweet"
   ]
  },
  {
   "cell_type": "code",
   "execution_count": 12,
   "id": "de9a8ab4",
   "metadata": {
    "execution": {
     "iopub.execute_input": "2022-09-28T00:05:27.481762Z",
     "iopub.status.busy": "2022-09-28T00:05:27.481445Z",
     "iopub.status.idle": "2022-09-28T00:05:27.543438Z",
     "shell.execute_reply": "2022-09-28T00:05:27.542144Z"
    },
    "papermill": {
     "duration": 0.074003,
     "end_time": "2022-09-28T00:05:27.546188",
     "exception": false,
     "start_time": "2022-09-28T00:05:27.472185",
     "status": "completed"
    },
    "tags": []
   },
   "outputs": [
    {
     "name": "stdout",
     "output_type": "stream",
     "text": [
      "Tweet Courageous and honest analysis of need to use Atomic Bomb in 1945. #Hiroshima70 Japanese military refused surrender. https://t.co/VhmtyTptGR\n",
      "Label 1\n",
      "Vectorized Tweet tf.Tensor(\n",
      "[17198     8  4962  2917     6   156     5   438   216   118     4  2377\n",
      "  4973  1177   240  4381  4119 14803     0     0     0     0     0     0\n",
      "     0     0     0     0     0     0     0     0     0     0     0     0\n",
      "     0     0     0     0     0     0     0     0     0     0     0     0\n",
      "     0     0], shape=(50,), dtype=int64)\n"
     ]
    }
   ],
   "source": [
    "first_tweet = trn_tweets[0]\n",
    "first_label = trn_labels[0]\n",
    "print('Tweet', first_tweet)\n",
    "print('Label', first_label)\n",
    "print('Vectorized Tweet', vectorize_layer(trn_tweets[0]))"
   ]
  },
  {
   "cell_type": "code",
   "execution_count": 13,
   "id": "d25d8f04",
   "metadata": {
    "execution": {
     "iopub.execute_input": "2022-09-28T00:05:27.565134Z",
     "iopub.status.busy": "2022-09-28T00:05:27.564833Z",
     "iopub.status.idle": "2022-09-28T00:05:27.731244Z",
     "shell.execute_reply": "2022-09-28T00:05:27.729658Z"
    },
    "papermill": {
     "duration": 0.17864,
     "end_time": "2022-09-28T00:05:27.734010",
     "exception": false,
     "start_time": "2022-09-28T00:05:27.555370",
     "status": "completed"
    },
    "tags": []
   },
   "outputs": [
    {
     "name": "stdout",
     "output_type": "stream",
     "text": [
      "Word #17198 --> courageous\n",
      "Word #8 --> and\n",
      "Word #4962 --> honest\n",
      "Total words in training vocabulary: 19422\n"
     ]
    }
   ],
   "source": [
    "print('Word #17198 -->', vectorize_layer.get_vocabulary()[17198])\n",
    "print('Word #8 -->', vectorize_layer.get_vocabulary()[8])\n",
    "print('Word #4962 -->', vectorize_layer.get_vocabulary()[4962])\n",
    "print('Total words in training vocabulary:', len(vectorize_layer.get_vocabulary()))"
   ]
  },
  {
   "cell_type": "code",
   "execution_count": 14,
   "id": "7bbb189c",
   "metadata": {
    "execution": {
     "iopub.execute_input": "2022-09-28T00:05:27.753033Z",
     "iopub.status.busy": "2022-09-28T00:05:27.752704Z",
     "iopub.status.idle": "2022-09-28T00:05:27.759517Z",
     "shell.execute_reply": "2022-09-28T00:05:27.758433Z"
    },
    "papermill": {
     "duration": 0.01851,
     "end_time": "2022-09-28T00:05:27.761659",
     "exception": false,
     "start_time": "2022-09-28T00:05:27.743149",
     "status": "completed"
    },
    "tags": []
   },
   "outputs": [],
   "source": [
    "embedding_layer = layers.Embedding(\n",
    "    input_dim = max_features,\n",
    "    output_dim=128,\n",
    "    embeddings_initializer='uniform',\n",
    "    input_length=sequence_length,\n",
    "    name='mbedding_1')"
   ]
  },
  {
   "cell_type": "code",
   "execution_count": 15,
   "id": "d87bdb93",
   "metadata": {
    "execution": {
     "iopub.execute_input": "2022-09-28T00:05:27.779426Z",
     "iopub.status.busy": "2022-09-28T00:05:27.779164Z",
     "iopub.status.idle": "2022-09-28T00:05:27.843801Z",
     "shell.execute_reply": "2022-09-28T00:05:27.841543Z"
    },
    "papermill": {
     "duration": 0.076985,
     "end_time": "2022-09-28T00:05:27.847044",
     "exception": false,
     "start_time": "2022-09-28T00:05:27.770059",
     "status": "completed"
    },
    "tags": []
   },
   "outputs": [
    {
     "name": "stdout",
     "output_type": "stream",
     "text": [
      "Model: \"Dense_Model\"\n",
      "_________________________________________________________________\n",
      "Layer (type)                 Output Shape              Param #   \n",
      "=================================================================\n",
      "input_1 (InputLayer)         [(None, 1)]               0         \n",
      "_________________________________________________________________\n",
      "text_vectorization (TextVect (None, 50)                0         \n",
      "_________________________________________________________________\n",
      "mbedding_1 (Embedding)       (None, 50, 128)           2560000   \n",
      "_________________________________________________________________\n",
      "global_average_pooling1d (Gl (None, 128)               0         \n",
      "_________________________________________________________________\n",
      "dense (Dense)                (None, 1)                 129       \n",
      "=================================================================\n",
      "Total params: 2,560,129\n",
      "Trainable params: 2,560,129\n",
      "Non-trainable params: 0\n",
      "_________________________________________________________________\n"
     ]
    }
   ],
   "source": [
    "Is = layers.Input(shape = (1,), dtype = tf.string)\n",
    "L1 = vectorize_layer(Is)\n",
    "L2 = embedding_layer(L1)\n",
    "L3 = layers.GlobalAveragePooling1D()(L2)\n",
    "Os = layers.Dense(1, activation = 'sigmoid')(L3)\n",
    "\n",
    "model = tf.keras.Model(Is, Os, name = 'Dense_Model')\n",
    "model.summary()"
   ]
  },
  {
   "cell_type": "code",
   "execution_count": 16,
   "id": "0344a07f",
   "metadata": {
    "execution": {
     "iopub.execute_input": "2022-09-28T00:05:27.866863Z",
     "iopub.status.busy": "2022-09-28T00:05:27.866587Z",
     "iopub.status.idle": "2022-09-28T00:05:43.043018Z",
     "shell.execute_reply": "2022-09-28T00:05:43.042256Z"
    },
    "papermill": {
     "duration": 15.187676,
     "end_time": "2022-09-28T00:05:43.045064",
     "exception": false,
     "start_time": "2022-09-28T00:05:27.857388",
     "status": "completed"
    },
    "tags": []
   },
   "outputs": [
    {
     "name": "stdout",
     "output_type": "stream",
     "text": [
      "Epoch 1/15\n",
      "191/191 [==============================] - 3s 7ms/step - loss: 0.6660 - accuracy: 0.5826 - val_loss: 0.6376 - val_accuracy: 0.6599\n",
      "Epoch 2/15\n",
      "191/191 [==============================] - 1s 4ms/step - loss: 0.5742 - accuracy: 0.7468 - val_loss: 0.5498 - val_accuracy: 0.7932\n",
      "Epoch 3/15\n",
      "191/191 [==============================] - 1s 4ms/step - loss: 0.4586 - accuracy: 0.8389 - val_loss: 0.4934 - val_accuracy: 0.7978\n",
      "Epoch 4/15\n",
      "191/191 [==============================] - 1s 5ms/step - loss: 0.3741 - accuracy: 0.8701 - val_loss: 0.4658 - val_accuracy: 0.8070\n",
      "Epoch 5/15\n",
      "191/191 [==============================] - 1s 4ms/step - loss: 0.3106 - accuracy: 0.8934 - val_loss: 0.4567 - val_accuracy: 0.8070\n",
      "Epoch 6/15\n",
      "191/191 [==============================] - 1s 4ms/step - loss: 0.2596 - accuracy: 0.9133 - val_loss: 0.4526 - val_accuracy: 0.8017\n",
      "Epoch 7/15\n",
      "191/191 [==============================] - 1s 5ms/step - loss: 0.2184 - accuracy: 0.9302 - val_loss: 0.4521 - val_accuracy: 0.8050\n",
      "Epoch 8/15\n",
      "191/191 [==============================] - 1s 5ms/step - loss: 0.1853 - accuracy: 0.9458 - val_loss: 0.4610 - val_accuracy: 0.7997\n",
      "Epoch 9/15\n",
      "191/191 [==============================] - 1s 4ms/step - loss: 0.1572 - accuracy: 0.9568 - val_loss: 0.4670 - val_accuracy: 0.7984\n",
      "Epoch 10/15\n",
      "191/191 [==============================] - 1s 5ms/step - loss: 0.1345 - accuracy: 0.9632 - val_loss: 0.4773 - val_accuracy: 0.7997\n",
      "Epoch 11/15\n",
      "191/191 [==============================] - 1s 5ms/step - loss: 0.1151 - accuracy: 0.9700 - val_loss: 0.4862 - val_accuracy: 0.8024\n",
      "Epoch 12/15\n",
      "191/191 [==============================] - 1s 5ms/step - loss: 0.0997 - accuracy: 0.9755 - val_loss: 0.4975 - val_accuracy: 0.7997\n",
      "Epoch 13/15\n",
      "191/191 [==============================] - 1s 6ms/step - loss: 0.0861 - accuracy: 0.9798 - val_loss: 0.5156 - val_accuracy: 0.7899\n",
      "Epoch 14/15\n",
      "191/191 [==============================] - 1s 4ms/step - loss: 0.0755 - accuracy: 0.9823 - val_loss: 0.5228 - val_accuracy: 0.7958\n",
      "Epoch 15/15\n",
      "191/191 [==============================] - 1s 4ms/step - loss: 0.0656 - accuracy: 0.9854 - val_loss: 0.5353 - val_accuracy: 0.7932\n"
     ]
    }
   ],
   "source": [
    "model.compile(\n",
    "    optimizer='adam',\n",
    "    loss='binary_crossentropy',\n",
    "    metrics='accuracy'\n",
    ")\n",
    "history = model.fit(\n",
    "    x=trn_tweets,\n",
    "    y=trn_labels,\n",
    "    epochs=15,\n",
    "    validation_data=(val_tweets, val_labels)\n",
    ")"
   ]
  },
  {
   "cell_type": "code",
   "execution_count": 17,
   "id": "5d6b59a3",
   "metadata": {
    "execution": {
     "iopub.execute_input": "2022-09-28T00:05:43.090243Z",
     "iopub.status.busy": "2022-09-28T00:05:43.089350Z",
     "iopub.status.idle": "2022-09-28T00:05:43.257695Z",
     "shell.execute_reply": "2022-09-28T00:05:43.256806Z"
    },
    "papermill": {
     "duration": 0.192776,
     "end_time": "2022-09-28T00:05:43.259883",
     "exception": false,
     "start_time": "2022-09-28T00:05:43.067107",
     "status": "completed"
    },
    "tags": []
   },
   "outputs": [
    {
     "name": "stdout",
     "output_type": "stream",
     "text": [
      "48/48 [==============================] - 0s 3ms/step - loss: 0.5353 - accuracy: 0.7932\n"
     ]
    },
    {
     "data": {
      "text/plain": [
       "[0.5352851152420044, 0.7931713461875916]"
      ]
     },
     "execution_count": 17,
     "metadata": {},
     "output_type": "execute_result"
    }
   ],
   "source": [
    "model.evaluate(val_tweets, val_labels)"
   ]
  },
  {
   "cell_type": "code",
   "execution_count": 18,
   "id": "90873c09",
   "metadata": {
    "execution": {
     "iopub.execute_input": "2022-09-28T00:05:43.303970Z",
     "iopub.status.busy": "2022-09-28T00:05:43.303152Z",
     "iopub.status.idle": "2022-09-28T00:05:43.574880Z",
     "shell.execute_reply": "2022-09-28T00:05:43.572948Z"
    },
    "papermill": {
     "duration": 0.296528,
     "end_time": "2022-09-28T00:05:43.577748",
     "exception": false,
     "start_time": "2022-09-28T00:05:43.281220",
     "status": "completed"
    },
    "tags": []
   },
   "outputs": [
    {
     "name": "stdout",
     "output_type": "stream",
     "text": [
      "[0. 0. 0. 0. 0. 0. 0. 0. 0. 1.]\n"
     ]
    },
    {
     "data": {
      "text/plain": [
       "0.7931713722915299"
      ]
     },
     "execution_count": 18,
     "metadata": {},
     "output_type": "execute_result"
    }
   ],
   "source": [
    "predictions = model.predict(val_tweets)\n",
    "predictions = np.round(predictions).flatten()\n",
    "print(predictions[:10])\n",
    "accuracy_score(y_true=val_labels, y_pred=predictions)"
   ]
  },
  {
   "cell_type": "code",
   "execution_count": 19,
   "id": "4a6f4fa9",
   "metadata": {
    "execution": {
     "iopub.execute_input": "2022-09-28T00:05:43.622463Z",
     "iopub.status.busy": "2022-09-28T00:05:43.622173Z",
     "iopub.status.idle": "2022-09-28T00:05:43.627841Z",
     "shell.execute_reply": "2022-09-28T00:05:43.626930Z"
    },
    "papermill": {
     "duration": 0.029953,
     "end_time": "2022-09-28T00:05:43.629999",
     "exception": false,
     "start_time": "2022-09-28T00:05:43.600046",
     "status": "completed"
    },
    "tags": []
   },
   "outputs": [
    {
     "data": {
      "text/plain": [
       "dict_keys(['loss', 'accuracy', 'val_loss', 'val_accuracy'])"
      ]
     },
     "execution_count": 19,
     "metadata": {},
     "output_type": "execute_result"
    }
   ],
   "source": [
    "history_dict = history.history\n",
    "history_dict.keys()"
   ]
  },
  {
   "cell_type": "code",
   "execution_count": 20,
   "id": "aec44cb6",
   "metadata": {
    "execution": {
     "iopub.execute_input": "2022-09-28T00:05:43.674125Z",
     "iopub.status.busy": "2022-09-28T00:05:43.673177Z",
     "iopub.status.idle": "2022-09-28T00:05:43.879829Z",
     "shell.execute_reply": "2022-09-28T00:05:43.878791Z"
    },
    "papermill": {
     "duration": 0.230968,
     "end_time": "2022-09-28T00:05:43.881983",
     "exception": false,
     "start_time": "2022-09-28T00:05:43.651015",
     "status": "completed"
    },
    "tags": []
   },
   "outputs": [
    {
     "data": {
      "image/png": "[encoded data removed]",
      "text/plain": [
       "<Figure size 432x288 with 1 Axes>"
      ]
     },
     "metadata": {
      "needs_background": "light"
     },
     "output_type": "display_data"
    }
   ],
   "source": [
    "acc = history_dict['accuracy']\n",
    "val_acc = history_dict['val_accuracy']\n",
    "loss = history_dict['loss']\n",
    "val_loss = history_dict['val_loss']\n",
    "\n",
    "epochs = range(1, len(acc) + 1)\n",
    "\n",
    "plt.plot(epochs, loss, 'bo', label='Training loss')\n",
    "plt.plot(epochs, val_loss, 'b', label='Validation loss')\n",
    "plt.title('Training and validation loss')\n",
    "plt.xlabel('Epochs')\n",
    "plt.ylabel('Loss')\n",
    "plt.legend()\n",
    "\n",
    "plt.show()"
   ]
  },
  {
   "cell_type": "code",
   "execution_count": 21,
   "id": "53a5433b",
   "metadata": {
    "execution": {
     "iopub.execute_input": "2022-09-28T00:05:43.926866Z",
     "iopub.status.busy": "2022-09-28T00:05:43.926576Z",
     "iopub.status.idle": "2022-09-28T00:05:44.325058Z",
     "shell.execute_reply": "2022-09-28T00:05:44.324070Z"
    },
    "papermill": {
     "duration": 0.423534,
     "end_time": "2022-09-28T00:05:44.327556",
     "exception": false,
     "start_time": "2022-09-28T00:05:43.904022",
     "status": "completed"
    },
    "tags": []
   },
   "outputs": [
    {
     "name": "stdout",
     "output_type": "stream",
     "text": [
      "Model: \"GRU_Model\"\n",
      "_________________________________________________________________\n",
      "Layer (type)                 Output Shape              Param #   \n",
      "=================================================================\n",
      "input_2 (InputLayer)         [(None, 1)]               0         \n",
      "_________________________________________________________________\n",
      "text_vectorization (TextVect (None, 50)                0         \n",
      "_________________________________________________________________\n",
      "mbedding_1 (Embedding)       (None, 50, 128)           2560000   \n",
      "_________________________________________________________________\n",
      "gru (GRU)                    (None, 50, 64)            37248     \n",
      "_________________________________________________________________\n",
      "gru_1 (GRU)                  (None, 64)                24960     \n",
      "_________________________________________________________________\n",
      "dense_1 (Dense)              (None, 1)                 65        \n",
      "=================================================================\n",
      "Total params: 2,622,273\n",
      "Trainable params: 2,622,273\n",
      "Non-trainable params: 0\n",
      "_________________________________________________________________\n"
     ]
    }
   ],
   "source": [
    "Is = layers.Input(shape = (1,), dtype = tf.string)\n",
    "L1 = vectorize_layer(Is)\n",
    "L2 = embedding_layer(L1)\n",
    "L3 = layers.GRU(64,return_sequences=True)(L2)\n",
    "L4 = layers.GRU(64)(L3)\n",
    "Os = layers.Dense(1, activation = 'sigmoid')(L4)\n",
    "\n",
    "model_2 = tf.keras.Model(Is, Os, name = 'GRU_Model')\n",
    "model_2.summary()"
   ]
  },
  {
   "cell_type": "code",
   "execution_count": 22,
   "id": "35171b0d",
   "metadata": {
    "execution": {
     "iopub.execute_input": "2022-09-28T00:05:44.373526Z",
     "iopub.status.busy": "2022-09-28T00:05:44.372713Z",
     "iopub.status.idle": "2022-09-28T00:06:23.436813Z",
     "shell.execute_reply": "2022-09-28T00:06:23.435741Z"
    },
    "papermill": {
     "duration": 39.089367,
     "end_time": "2022-09-28T00:06:23.439080",
     "exception": false,
     "start_time": "2022-09-28T00:05:44.349713",
     "status": "completed"
    },
    "tags": []
   },
   "outputs": [
    {
     "name": "stdout",
     "output_type": "stream",
     "text": [
      "Epoch 1/20\n"
     ]
    },
    {
     "name": "stderr",
     "output_type": "stream",
     "text": [
      "2022-09-28 00:05:47.828147: I tensorflow/stream_executor/cuda/cuda_dnn.cc:369] Loaded cuDNN version 8005\n"
     ]
    },
    {
     "name": "stdout",
     "output_type": "stream",
     "text": [
      "191/191 [==============================] - 6s 14ms/step - loss: 0.6848 - accuracy: 0.5681 - val_loss: 0.6836 - val_accuracy: 0.5739\n",
      "Epoch 2/20\n",
      "191/191 [==============================] - 2s 10ms/step - loss: 0.6842 - accuracy: 0.5695 - val_loss: 0.6824 - val_accuracy: 0.5739\n",
      "Epoch 3/20\n",
      "191/191 [==============================] - 2s 9ms/step - loss: 0.6841 - accuracy: 0.5695 - val_loss: 0.6822 - val_accuracy: 0.5739\n",
      "Epoch 4/20\n",
      "191/191 [==============================] - 2s 9ms/step - loss: 0.6218 - accuracy: 0.6218 - val_loss: 0.5973 - val_accuracy: 0.7420\n",
      "Epoch 5/20\n",
      "191/191 [==============================] - 2s 9ms/step - loss: 0.1335 - accuracy: 0.9563 - val_loss: 0.6916 - val_accuracy: 0.7630\n",
      "Epoch 6/20\n",
      "191/191 [==============================] - 2s 9ms/step - loss: 0.0413 - accuracy: 0.9878 - val_loss: 0.8627 - val_accuracy: 0.7781\n",
      "Epoch 7/20\n",
      "191/191 [==============================] - 2s 9ms/step - loss: 0.0313 - accuracy: 0.9918 - val_loss: 0.9297 - val_accuracy: 0.7715\n",
      "Epoch 8/20\n",
      "191/191 [==============================] - 2s 9ms/step - loss: 0.0203 - accuracy: 0.9943 - val_loss: 0.9426 - val_accuracy: 0.7708\n",
      "Epoch 9/20\n",
      "191/191 [==============================] - 2s 9ms/step - loss: 0.0167 - accuracy: 0.9961 - val_loss: 1.0575 - val_accuracy: 0.7715\n",
      "Epoch 10/20\n",
      "191/191 [==============================] - 2s 9ms/step - loss: 0.0139 - accuracy: 0.9954 - val_loss: 1.1562 - val_accuracy: 0.7676\n",
      "Epoch 11/20\n",
      "191/191 [==============================] - 2s 9ms/step - loss: 0.0155 - accuracy: 0.9949 - val_loss: 1.1747 - val_accuracy: 0.7406\n",
      "Epoch 12/20\n",
      "191/191 [==============================] - 2s 9ms/step - loss: 0.0108 - accuracy: 0.9966 - val_loss: 1.1744 - val_accuracy: 0.7689\n",
      "Epoch 13/20\n",
      "191/191 [==============================] - 2s 9ms/step - loss: 0.0095 - accuracy: 0.9957 - val_loss: 1.1481 - val_accuracy: 0.7511\n",
      "Epoch 14/20\n",
      "191/191 [==============================] - 2s 9ms/step - loss: 0.0096 - accuracy: 0.9966 - val_loss: 1.1316 - val_accuracy: 0.7630\n",
      "Epoch 15/20\n",
      "191/191 [==============================] - 2s 10ms/step - loss: 0.0091 - accuracy: 0.9961 - val_loss: 1.1713 - val_accuracy: 0.7708\n",
      "Epoch 16/20\n",
      "191/191 [==============================] - 2s 9ms/step - loss: 0.0078 - accuracy: 0.9967 - val_loss: 1.3044 - val_accuracy: 0.7492\n",
      "Epoch 17/20\n",
      "191/191 [==============================] - 2s 9ms/step - loss: 0.0075 - accuracy: 0.9961 - val_loss: 1.3013 - val_accuracy: 0.7590\n",
      "Epoch 18/20\n",
      "191/191 [==============================] - 2s 9ms/step - loss: 0.0073 - accuracy: 0.9957 - val_loss: 1.2592 - val_accuracy: 0.7623\n",
      "Epoch 19/20\n",
      "191/191 [==============================] - 2s 9ms/step - loss: 0.0067 - accuracy: 0.9967 - val_loss: 1.3825 - val_accuracy: 0.7728\n",
      "Epoch 20/20\n",
      "191/191 [==============================] - 2s 10ms/step - loss: 0.0067 - accuracy: 0.9964 - val_loss: 1.3247 - val_accuracy: 0.7636\n"
     ]
    }
   ],
   "source": [
    "model_2.compile(\n",
    "    optimizer='adam',\n",
    "    loss='binary_crossentropy',\n",
    "    metrics='accuracy'\n",
    ")\n",
    "history_2 = model_2.fit(\n",
    "    x=trn_tweets,\n",
    "    y=trn_labels,\n",
    "    epochs=20,\n",
    "    validation_data=(val_tweets, val_labels)\n",
    ")"
   ]
  },
  {
   "cell_type": "code",
   "execution_count": 23,
   "id": "33a6f3c2",
   "metadata": {
    "execution": {
     "iopub.execute_input": "2022-09-28T00:06:23.547093Z",
     "iopub.status.busy": "2022-09-28T00:06:23.546192Z",
     "iopub.status.idle": "2022-09-28T00:06:23.799290Z",
     "shell.execute_reply": "2022-09-28T00:06:23.798393Z"
    },
    "papermill": {
     "duration": 0.308207,
     "end_time": "2022-09-28T00:06:23.801379",
     "exception": false,
     "start_time": "2022-09-28T00:06:23.493172",
     "status": "completed"
    },
    "tags": []
   },
   "outputs": [
    {
     "name": "stdout",
     "output_type": "stream",
     "text": [
      "48/48 [==============================] - 0s 4ms/step - loss: 1.3247 - accuracy: 0.7636\n"
     ]
    },
    {
     "data": {
      "text/plain": [
       "[1.3246612548828125, 0.7636244297027588]"
      ]
     },
     "execution_count": 23,
     "metadata": {},
     "output_type": "execute_result"
    }
   ],
   "source": [
    "model_2.evaluate(val_tweets, val_labels)"
   ]
  },
  {
   "cell_type": "code",
   "execution_count": 24,
   "id": "2c42bc6b",
   "metadata": {
    "execution": {
     "iopub.execute_input": "2022-09-28T00:06:23.909618Z",
     "iopub.status.busy": "2022-09-28T00:06:23.908674Z",
     "iopub.status.idle": "2022-09-28T00:06:24.778864Z",
     "shell.execute_reply": "2022-09-28T00:06:24.777953Z"
    },
    "papermill": {
     "duration": 0.926983,
     "end_time": "2022-09-28T00:06:24.781693",
     "exception": false,
     "start_time": "2022-09-28T00:06:23.854710",
     "status": "completed"
    },
    "tags": []
   },
   "outputs": [
    {
     "name": "stdout",
     "output_type": "stream",
     "text": [
      "[0. 0. 1. 0. 0. 0. 0. 0. 0. 1.]\n"
     ]
    },
    {
     "data": {
      "text/plain": [
       "0.7636244254760342"
      ]
     },
     "execution_count": 24,
     "metadata": {},
     "output_type": "execute_result"
    }
   ],
   "source": [
    "predictions = model_2.predict(val_tweets)\n",
    "predictions = np.round(predictions).flatten()\n",
    "print(predictions[:10])\n",
    "accuracy_score(y_true=val_labels, y_pred=predictions)"
   ]
  },
  {
   "cell_type": "code",
   "execution_count": 25,
   "id": "5753909c",
   "metadata": {
    "execution": {
     "iopub.execute_input": "2022-09-28T00:06:24.945033Z",
     "iopub.status.busy": "2022-09-28T00:06:24.944542Z",
     "iopub.status.idle": "2022-09-28T00:06:24.955265Z",
     "shell.execute_reply": "2022-09-28T00:06:24.953811Z"
    },
    "papermill": {
     "duration": 0.096676,
     "end_time": "2022-09-28T00:06:24.960063",
     "exception": false,
     "start_time": "2022-09-28T00:06:24.863387",
     "status": "completed"
    },
    "tags": []
   },
   "outputs": [
    {
     "data": {
      "text/plain": [
       "dict_keys(['loss', 'accuracy', 'val_loss', 'val_accuracy'])"
      ]
     },
     "execution_count": 25,
     "metadata": {},
     "output_type": "execute_result"
    }
   ],
   "source": [
    "history_2_dict = history_2.history\n",
    "history_2_dict.keys()"
   ]
  },
  {
   "cell_type": "code",
   "execution_count": 26,
   "id": "bf4fd7c2",
   "metadata": {
    "execution": {
     "iopub.execute_input": "2022-09-28T00:06:25.076598Z",
     "iopub.status.busy": "2022-09-28T00:06:25.076235Z",
     "iopub.status.idle": "2022-09-28T00:06:25.296273Z",
     "shell.execute_reply": "2022-09-28T00:06:25.295394Z"
    },
    "papermill": {
     "duration": 0.27729,
     "end_time": "2022-09-28T00:06:25.298363",
     "exception": false,
     "start_time": "2022-09-28T00:06:25.021073",
     "status": "completed"
    },
    "tags": []
   },
   "outputs": [
    {
     "data": {
      "image/png": "[encoded data removed]",
      "text/plain": [
       "<Figure size 432x288 with 1 Axes>"
      ]
     },
     "metadata": {
      "needs_background": "light"
     },
     "output_type": "display_data"
    }
   ],
   "source": [
    "acc = history_2_dict['accuracy']\n",
    "val_acc = history_2_dict['val_accuracy']\n",
    "loss = history_2_dict['loss']\n",
    "val_loss = history_2_dict['val_loss']\n",
    "\n",
    "epochs = range(1, len(acc) + 1)\n",
    "\n",
    "plt.plot(epochs, loss, 'bo', label='Training loss')\n",
    "plt.plot(epochs, val_loss, 'b', label='Validation loss')\n",
    "plt.title('Training and validation loss')\n",
    "plt.xlabel('Epochs')\n",
    "plt.ylabel('Loss')\n",
    "plt.legend()\n",
    "\n",
    "plt.show()"
   ]
  },
  {
   "cell_type": "code",
   "execution_count": 27,
   "id": "9ec3089d",
   "metadata": {
    "execution": {
     "iopub.execute_input": "2022-09-28T00:06:25.406189Z",
     "iopub.status.busy": "2022-09-28T00:06:25.405860Z",
     "iopub.status.idle": "2022-09-28T00:06:25.614567Z",
     "shell.execute_reply": "2022-09-28T00:06:25.613334Z"
    },
    "papermill": {
     "duration": 0.266286,
     "end_time": "2022-09-28T00:06:25.617161",
     "exception": false,
     "start_time": "2022-09-28T00:06:25.350875",
     "status": "completed"
    },
    "tags": []
   },
   "outputs": [
    {
     "name": "stdout",
     "output_type": "stream",
     "text": [
      "[0 0 1 0 1 0 0 0 0 0]\n"
     ]
    }
   ],
   "source": [
    "submission = pd.read_csv('../input/nlp-getting-started/sample_submission.csv')\n",
    "\n",
    "tst_predictions = model.predict(tst_tweets)\n",
    "tst_predictions = np.round(tst_predictions).flatten().astype(int)\n",
    "print(tst_predictions[:10])"
   ]
  },
  {
   "cell_type": "code",
   "execution_count": 28,
   "id": "58097c12",
   "metadata": {
    "execution": {
     "iopub.execute_input": "2022-09-28T00:06:25.724603Z",
     "iopub.status.busy": "2022-09-28T00:06:25.724293Z",
     "iopub.status.idle": "2022-09-28T00:06:25.729204Z",
     "shell.execute_reply": "2022-09-28T00:06:25.728135Z"
    },
    "papermill": {
     "duration": 0.060659,
     "end_time": "2022-09-28T00:06:25.731439",
     "exception": false,
     "start_time": "2022-09-28T00:06:25.670780",
     "status": "completed"
    },
    "tags": []
   },
   "outputs": [],
   "source": [
    "submission['target'] = tst_predictions"
   ]
  },
  {
   "cell_type": "code",
   "execution_count": 29,
   "id": "d58e095f",
   "metadata": {
    "execution": {
     "iopub.execute_input": "2022-09-28T00:06:25.838202Z",
     "iopub.status.busy": "2022-09-28T00:06:25.837474Z",
     "iopub.status.idle": "2022-09-28T00:06:25.848019Z",
     "shell.execute_reply": "2022-09-28T00:06:25.847172Z"
    },
    "papermill": {
     "duration": 0.066472,
     "end_time": "2022-09-28T00:06:25.850042",
     "exception": false,
     "start_time": "2022-09-28T00:06:25.783570",
     "status": "completed"
    },
    "tags": []
   },
   "outputs": [],
   "source": [
    "submission.to_csv('submission.csv', index=False)"
   ]
  }
 ],
 "metadata": {
  "kernelspec": {
   "display_name": "Python 3",
   "language": "python",
   "name": "python3"
  },
  "language_info": {
   "codemirror_mode": {
    "name": "ipython",
    "version": 3
   },
   "file_extension": ".py",
   "mimetype": "text/x-python",
   "name": "python",
   "nbconvert_exporter": "python",
   "pygments_lexer": "ipython3",
   "version": "3.7.12"
  },
  "papermill": {
   "default_parameters": {},
   "duration": 80.359074,
   "end_time": "2022-09-28T00:06:29.237190",
   "environment_variables": {},
   "exception": null,
   "input_path": "__notebook__.ipynb",
   "output_path": "__notebook__.ipynb",
   "parameters": {},
   "start_time": "2022-09-28T00:05:08.878116",
   "version": "2.3.4"
  }
 },
 "nbformat": 4,
 "nbformat_minor": 5
}
